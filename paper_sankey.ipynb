{
 "cells": [
  {
   "cell_type": "code",
   "execution_count": 1,
   "metadata": {},
   "outputs": [
    {
     "data": {
      "text/plain": [
       "'/lambda_stor/homes/ac.tfeng/git/DrugCell'"
      ]
     },
     "execution_count": 1,
     "metadata": {},
     "output_type": "execute_result"
    }
   ],
   "source": [
    "import plotly.graph_objects as go\n",
    "import urllib, json\n",
    "import os\n",
    "os.getcwd()"
   ]
  },
  {
   "cell_type": "code",
   "execution_count": 2,
   "metadata": {},
   "outputs": [
    {
     "name": "stderr",
     "output_type": "stream",
     "text": [
      "/homes/ac.tfeng/miniconda3/envs/general/lib/python3.9/site-packages/tqdm/auto.py:21: TqdmWarning: IProgress not found. Please update jupyter and ipywidgets. See https://ipywidgets.readthedocs.io/en/stable/user_install.html\n",
      "  from .autonotebook import tqdm as notebook_tqdm\n"
     ]
    }
   ],
   "source": [
    "# import anndata\n",
    "import numpy as np\n",
    "import pandas as pd\n",
    "\n",
    "import torch\n",
    "import torch.nn as nn\n",
    "import torch.nn.functional as F\n",
    "from torch.utils.data import Dataset, DataLoader, random_split\n",
    "from torch.distributions import MultivariateNormal\n",
    "\n",
    "import os\n",
    "# os.environ[\"CUDA_VISIBLE_DEVICES\"]=\"4\"\n",
    "\n",
    "import copy\n",
    "\n",
    "import tqdm\n",
    "\n",
    "from codes.utils.util import *\n",
    "from codes.drugcell_NN import *\n",
    "\n",
    "if torch.cuda.is_available():\n",
    "  DEVICE = 'cuda'\n",
    "else:\n",
    "  DEVICE = 'cpu'"
   ]
  },
  {
   "cell_type": "code",
   "execution_count": 3,
   "metadata": {},
   "outputs": [],
   "source": [
    "import plotly\n",
    "import plotly.express as px\n",
    "import plotly.io as pio\n",
    "\n",
    "from captum.attr import LayerIntegratedGradients\n",
    "from collections import defaultdict\n"
   ]
  },
  {
   "cell_type": "code",
   "execution_count": 4,
   "metadata": {},
   "outputs": [
    {
     "name": "stdout",
     "output_type": "stream",
     "text": [
      "Thu Nov 30 18:56:49 2023       \n",
      "+---------------------------------------------------------------------------------------+\n",
      "| NVIDIA-SMI 535.104.12             Driver Version: 535.104.12   CUDA Version: 12.2     |\n",
      "|-----------------------------------------+----------------------+----------------------+\n",
      "| GPU  Name                 Persistence-M | Bus-Id        Disp.A | Volatile Uncorr. ECC |\n",
      "| Fan  Temp   Perf          Pwr:Usage/Cap |         Memory-Usage | GPU-Util  Compute M. |\n",
      "|                                         |                      |               MIG M. |\n",
      "|=========================================+======================+======================|\n",
      "|   0  Tesla V100-SXM2-32GB           On  | 00000000:1A:00.0 Off |                    0 |\n",
      "| N/A   52C    P0             257W / 300W |  18689MiB / 32768MiB |    100%      Default |\n",
      "|                                         |                      |                  N/A |\n",
      "+-----------------------------------------+----------------------+----------------------+\n",
      "|   1  Tesla V100-SXM2-32GB           On  | 00000000:1B:00.0 Off |                    0 |\n",
      "| N/A   48C    P0             216W / 300W |  28847MiB / 32768MiB |    100%      Default |\n",
      "|                                         |                      |                  N/A |\n",
      "+-----------------------------------------+----------------------+----------------------+\n",
      "|   2  Tesla V100-SXM2-32GB           On  | 00000000:3D:00.0 Off |                    0 |\n",
      "| N/A   57C    P0             274W / 300W |  24551MiB / 32768MiB |    100%      Default |\n",
      "|                                         |                      |                  N/A |\n",
      "+-----------------------------------------+----------------------+----------------------+\n",
      "|   3  Tesla V100-SXM2-32GB           On  | 00000000:3E:00.0 Off |                    0 |\n",
      "| N/A   48C    P0             224W / 300W |  25887MiB / 32768MiB |    100%      Default |\n",
      "|                                         |                      |                  N/A |\n",
      "+-----------------------------------------+----------------------+----------------------+\n",
      "|   4  Tesla V100-SXM2-32GB           On  | 00000000:88:00.0 Off |                    0 |\n",
      "| N/A   50C    P0             289W / 300W |  24893MiB / 32768MiB |    100%      Default |\n",
      "|                                         |                      |                  N/A |\n",
      "+-----------------------------------------+----------------------+----------------------+\n",
      "|   5  Tesla V100-SXM2-32GB           On  | 00000000:89:00.0 Off |                    0 |\n",
      "| N/A   42C    P0              60W / 300W |  23755MiB / 32768MiB |      0%      Default |\n",
      "|                                         |                      |                  N/A |\n",
      "+-----------------------------------------+----------------------+----------------------+\n",
      "|   6  Tesla V100-SXM2-32GB           On  | 00000000:B2:00.0 Off |                    0 |\n",
      "| N/A   35C    P0              56W / 300W |  24857MiB / 32768MiB |      0%      Default |\n",
      "|                                         |                      |                  N/A |\n",
      "+-----------------------------------------+----------------------+----------------------+\n",
      "|   7  Tesla V100-SXM2-32GB           On  | 00000000:B3:00.0 Off |                    0 |\n",
      "| N/A   35C    P0              58W / 300W |  22723MiB / 32768MiB |      0%      Default |\n",
      "|                                         |                      |                  N/A |\n",
      "+-----------------------------------------+----------------------+----------------------+\n",
      "                                                                                         \n",
      "+---------------------------------------------------------------------------------------+\n",
      "| Processes:                                                                            |\n",
      "|  GPU   GI   CI        PID   Type   Process name                            GPU Memory |\n",
      "|        ID   ID                                                             Usage      |\n",
      "|=======================================================================================|\n",
      "|    0   N/A  N/A   1736749      C   ...a3/envs/viral_ppi_llm/bin/python3.7    18686MiB |\n",
      "|    1   N/A  N/A   1736750      C   ...a3/envs/viral_ppi_llm/bin/python3.7    28844MiB |\n",
      "|    2   N/A  N/A   1736752      C   ...a3/envs/viral_ppi_llm/bin/python3.7    24548MiB |\n",
      "|    3   N/A  N/A   1736754      C   ...a3/envs/viral_ppi_llm/bin/python3.7    25884MiB |\n",
      "|    4   N/A  N/A   1736756      C   ...a3/envs/viral_ppi_llm/bin/python3.7    24890MiB |\n",
      "|    5   N/A  N/A   1736758      C   ...a3/envs/viral_ppi_llm/bin/python3.7    23752MiB |\n",
      "|    6   N/A  N/A   1242270      C   .../miniconda3/envs/general/bin/python    24854MiB |\n",
      "|    7   N/A  N/A   1736760      C   ...a3/envs/viral_ppi_llm/bin/python3.7    22720MiB |\n",
      "+---------------------------------------------------------------------------------------+\n"
     ]
    }
   ],
   "source": [
    "!nvidia-smi"
   ]
  },
  {
   "cell_type": "code",
   "execution_count": 5,
   "metadata": {},
   "outputs": [],
   "source": [
    "DEVICE = 'cuda:6'"
   ]
  },
  {
   "cell_type": "markdown",
   "metadata": {},
   "source": [
    "# GO Term"
   ]
  },
  {
   "cell_type": "code",
   "execution_count": 6,
   "metadata": {},
   "outputs": [
    {
     "name": "stdout",
     "output_type": "stream",
     "text": [
      "go-basic.obo: fmt(1.2) rel(2023-11-15) 46,228 Terms; optional_attrs(def)\n"
     ]
    }
   ],
   "source": [
    "import goatools\n",
    "from os.path import exists\n",
    "from goatools.obo_parser import GODag\n",
    "\n",
    "if not exists('go-basic.obo'):\n",
    "    !wget http://geneontology.org/ontology/go-basic.obo\n",
    "go_dag = GODag('go-basic.obo', optional_attrs=['def'])"
   ]
  },
  {
   "cell_type": "code",
   "execution_count": 7,
   "metadata": {},
   "outputs": [
    {
     "data": {
      "text/plain": [
       "'biological_process'"
      ]
     },
     "execution_count": 7,
     "metadata": {},
     "output_type": "execute_result"
    }
   ],
   "source": [
    "go_dag['GO:0008150'].name"
   ]
  },
  {
   "cell_type": "markdown",
   "metadata": {},
   "source": [
    "# TCGA"
   ]
  },
  {
   "cell_type": "markdown",
   "metadata": {},
   "source": [
    "### Data loading"
   ]
  },
  {
   "cell_type": "code",
   "execution_count": 8,
   "metadata": {},
   "outputs": [
    {
     "name": "stdout",
     "output_type": "stream",
     "text": [
      "Total number of cell lines = 1225\n",
      "Total number of drugs = 684\n",
      "There are 3008 genes\n",
      "There are 1 roots: GO:0008150\n",
      "There are 2086 terms\n",
      "There are 1 connected componenets\n"
     ]
    }
   ],
   "source": [
    "training_file = \"data/drugcell_train.txt\"\n",
    "testing_file = \"data/drugcell_test.txt\"\n",
    "val_file = \"data/drugcell_val.txt\"\n",
    "cell2id_file = \"data/cell2ind.txt\"\n",
    "drug2id_file = \"data/drug2ind.txt\"\n",
    "genotype_file = \"data/cell2mutation.txt\"\n",
    "fingerprint_file = \"data/drug2fingerprint.txt\"\n",
    "onto_file = \"data/drugcell_ont.txt\"\n",
    "gene2id_file = \"data/gene2ind.txt\"\n",
    "\n",
    "train_data, feature_dict, cell2id_mapping, drug2id_mapping = prepare_train_data(training_file, \n",
    "                                                                  testing_file, cell2id_file, \n",
    "                                                                  drug2id_file)\n",
    "\n",
    "gene2id_mapping = load_mapping(gene2id_file)\n",
    "\n",
    "# load cell/drug features\n",
    "cell_features = np.genfromtxt(genotype_file, delimiter=',')\n",
    "drug_features = np.genfromtxt(fingerprint_file, delimiter=',')\n",
    "\n",
    "num_cells = len(cell2id_mapping)\n",
    "num_drugs = len(drug2id_mapping)\n",
    "num_genes = len(gene2id_mapping)\n",
    "drug_dim = len(drug_features[0,:])\n",
    "\n",
    "# load ontology\n",
    "dG, root, term_size_map, \\\n",
    "    term_direct_gene_map = load_ontology(onto_file, \n",
    "                                         gene2id_mapping)"
   ]
  },
  {
   "cell_type": "code",
   "execution_count": 9,
   "metadata": {},
   "outputs": [],
   "source": [
    "class RNASeqData(Dataset):\n",
    "    \n",
    "    def __init__(self, X, c=None, y=None, transform=None):\n",
    "        self.X = X\n",
    "        self.y = y\n",
    "        self.c = c\n",
    "        self.transform = transform\n",
    "        \n",
    "    def __len__(self):\n",
    "        return self.X.shape[0]\n",
    "    \n",
    "    def __getitem__(self, index):\n",
    "        sample = self.X[index,:]\n",
    "        \n",
    "        if self.transform is not None:\n",
    "            sample = self.transform(sample)\n",
    "        \n",
    "        if self.y is not None and self.c is None:\n",
    "            return sample, self.y[index]\n",
    "        elif self.y is not None and self.c is not None:\n",
    "            return sample, self.y[index], self.c[index]\n",
    "        elif self.y is None and self.c is not None:\n",
    "            return sample, self.c[index]\n",
    "        else:\n",
    "            return sample"
   ]
  },
  {
   "cell_type": "code",
   "execution_count": 10,
   "metadata": {},
   "outputs": [],
   "source": [
    "## expression and IHC data\n",
    "\n",
    "rna_seq = pd.read_csv('data/tcga/train_tcga_expression_matrix_processed.tsv',sep='\\t',index_col=0)\n",
    "tcga_mad_genes = pd.read_csv('data/tcga/tcga_mad_genes.tsv', sep='\\t')\n",
    "tcga_sample_counts = pd.read_csv('data/tcga/tcga_sample_counts.tsv', sep='\\t')\n",
    "tcga_sample_identifiers = pd.read_csv('data/tcga/tcga_sample_identifiers.tsv', sep='\\t',index_col=0)\n",
    "\n",
    "# rna_seq = rna_seq.loc[:,tcga_mad_genes.gene_id[:3000].apply(str)]\n",
    "rna_seq = rna_seq / rna_seq.std()\n",
    "rna_seq = np.log(rna_seq + 1)"
   ]
  },
  {
   "cell_type": "code",
   "execution_count": 11,
   "metadata": {},
   "outputs": [],
   "source": [
    "tcga_df = rna_seq\n",
    "gene_id_dict = pd.read_csv('data/tcga/gene_dict.csv')\n",
    "\n",
    "new_column = []\n",
    "for col_name in tcga_df.columns:\n",
    "    col_loc = (gene_id_dict.entrezgene_id == int(col_name))\n",
    "    if np.sum(col_loc) == 0:\n",
    "        tcga_df = tcga_df.drop(columns = col_name)\n",
    "    else:\n",
    "        new_column.append(gene_id_dict.hgnc_symbol[gene_id_dict.entrezgene_id == int(col_name)].iloc[0])\n",
    "        \n",
    "\n",
    "tcga_df.columns = new_column"
   ]
  },
  {
   "cell_type": "code",
   "execution_count": 12,
   "metadata": {},
   "outputs": [],
   "source": [
    "tcga_df.columns = new_column"
   ]
  },
  {
   "cell_type": "markdown",
   "metadata": {},
   "source": [
    "#### Create gene2ID for tcga"
   ]
  },
  {
   "cell_type": "code",
   "execution_count": 13,
   "metadata": {},
   "outputs": [],
   "source": [
    "tcga_gene2id = {}\n",
    "for idx, gene in enumerate(tcga_df.columns):\n",
    "    tcga_gene2id[gene] = idx"
   ]
  },
  {
   "cell_type": "markdown",
   "metadata": {},
   "source": [
    "#### Align gene id with tcga"
   ]
  },
  {
   "cell_type": "code",
   "execution_count": 14,
   "metadata": {},
   "outputs": [],
   "source": [
    "gene_intersect_list = list(set(gene2id_mapping.keys()) & set(tcga_df.columns))\n",
    "tcga_tensor = torch.zeros(tcga_df.shape[0], num_genes)\n",
    "\n",
    "for gene in gene_intersect_list:\n",
    "    idx = gene2id_mapping[gene]\n",
    "    tcga_tensor[:,idx] = torch.tensor(tcga_df[gene])"
   ]
  },
  {
   "cell_type": "code",
   "execution_count": 15,
   "metadata": {},
   "outputs": [],
   "source": [
    "cancer_2_idx = {}\n",
    "idx_2_cancer = {}\n",
    "cancer_type_idx = []\n",
    "cancer_type = tcga_sample_identifiers.loc[tcga_df.index, 'cancer_type']\n",
    "\n",
    "i = 0\n",
    "for cancer in cancer_type:\n",
    "    if cancer not in cancer_2_idx:\n",
    "        cancer_2_idx[cancer] = i\n",
    "        idx_2_cancer[i] = cancer\n",
    "        cancer_type_idx.append(i)\n",
    "        \n",
    "        i += 1\n",
    "    else:\n",
    "        cancer_type_idx.append(cancer_2_idx[cancer])\n",
    "\n",
    "y = torch.tensor(cancer_type_idx)"
   ]
  },
  {
   "cell_type": "code",
   "execution_count": 16,
   "metadata": {},
   "outputs": [],
   "source": [
    "torch.manual_seed(0)\n",
    "\n",
    "tcga_dataset = RNASeqData(X = tcga_tensor, y = y)\n",
    "training_set, testing_set = random_split(tcga_dataset, [0.7, 0.3])"
   ]
  },
  {
   "cell_type": "code",
   "execution_count": 17,
   "metadata": {},
   "outputs": [],
   "source": [
    "class dcell_vae(nn.Module):\n",
    "\n",
    "    def __init__(self, term_size_map, term_direct_gene_map, dG, ngene, root, \n",
    "                 num_hiddens_genotype, num_hiddens_final, n_class, inter_loss_penalty = 0.2):\n",
    "\n",
    "        super(dcell_vae, self).__init__()\n",
    "\n",
    "        self.root = root\n",
    "        self.num_hiddens_genotype = num_hiddens_genotype\n",
    "        self.num_hiddens_final = num_hiddens_final\n",
    "        self.n_class = n_class\n",
    "        self.inter_loss_penalty = inter_loss_penalty\n",
    "        self.dG = copy.deepcopy(dG)\n",
    "\n",
    "        # dictionary from terms to genes directly annotated with the term\n",
    "        self.term_direct_gene_map = term_direct_gene_map\n",
    "\n",
    "        self.term_visit_count = {}\n",
    "        self.init_term_visits(term_size_map)\n",
    "        \n",
    "        # calculate the number of values in a state (term): term_size_map is the number of all genes annotated with the term\n",
    "        self.term_dim_map = {}\n",
    "        self.cal_term_dim(term_size_map)\n",
    "\n",
    "        # ngenes, gene_dim are the number of all genes\n",
    "        self.gene_dim = ngene\n",
    "\n",
    "        # add modules for neural networks to process genotypes\n",
    "        self.contruct_direct_gene_layer()\n",
    "        self.construct_NN_graph(self.dG)\n",
    "\n",
    "        # add modules for final layer TODO: modify it into VAE\n",
    "        final_input_size = num_hiddens_genotype # + num_hiddens_drug[-1]\n",
    "        self.add_module('final_linear_layer', nn.Linear(final_input_size, num_hiddens_final * 2))\n",
    "        self.add_module('final_batchnorm_layer', nn.BatchNorm1d(num_hiddens_final * 2))\n",
    "        self.add_module('final_aux_linear_layer', nn.Linear(num_hiddens_final * 2, 1))\n",
    "        self.add_module('final_linear_layer_output', nn.Linear(1, 1))\n",
    "        \n",
    "        self.decoder_affine = nn.Linear(num_hiddens_final, n_class)\n",
    "\n",
    "    def init_term_visits(self, term_size_map):\n",
    "        \n",
    "        for term in term_size_map:\n",
    "            self.term_visit_count[term] = 0\n",
    "    \n",
    "    # calculate the number of values in a state (term)\n",
    "    def cal_term_dim(self, term_size_map):\n",
    "\n",
    "        for term, term_size in term_size_map.items():\n",
    "            num_output = self.num_hiddens_genotype\n",
    "\n",
    "            # log the number of hidden variables per each term\n",
    "            num_output = int(num_output)\n",
    "#            print(\"term\\t%s\\tterm_size\\t%d\\tnum_hiddens\\t%d\" % (term, term_size, num_output))\n",
    "            self.term_dim_map[term] = num_output\n",
    "\n",
    "\n",
    "    # build a layer for forwarding gene that are directly annotated with the term\n",
    "    def contruct_direct_gene_layer(self):\n",
    "\n",
    "        for term, gene_set in self.term_direct_gene_map.items():\n",
    "            if len(gene_set) == 0:\n",
    "                print('There are no directed asscoiated genes for', term)\n",
    "                sys.exit(1)\n",
    "\n",
    "            # if there are some genes directly annotated with the term, add a layer taking in all genes and forwarding out only those genes\n",
    "            self.add_module(term+'_direct_gene_layer', nn.Linear(self.gene_dim, len(gene_set)))\n",
    "\n",
    "    # start from bottom (leaves), and start building a neural network using the given ontology\n",
    "    # adding modules --- the modules are not connected yet\n",
    "    def construct_NN_graph(self, dG):\n",
    "\n",
    "        self.term_layer_list = []   # term_layer_list stores the built neural network\n",
    "        self.term_neighbor_map = {}\n",
    "\n",
    "        # term_neighbor_map records all children of each term\n",
    "        for term in dG.nodes():\n",
    "            self.term_neighbor_map[term] = []\n",
    "            for child in dG.neighbors(term):\n",
    "                self.term_neighbor_map[term].append(child)\n",
    "\n",
    "        while True:\n",
    "            leaves = [n for n in dG.nodes() if dG.out_degree(n) == 0]\n",
    "            #leaves = [n for n,d in dG.out_degree().items() if d==0]\n",
    "            #leaves = [n for n,d in dG.out_degree() if d==0]\n",
    "\n",
    "            if len(leaves) == 0:\n",
    "                break\n",
    "\n",
    "            self.term_layer_list.append(leaves)\n",
    "\n",
    "            for term in leaves:\n",
    "\n",
    "                # input size will be #chilren + #genes directly annotated by the term\n",
    "                input_size = 0\n",
    "\n",
    "                for child in self.term_neighbor_map[term]:\n",
    "                    input_size += self.term_dim_map[child]\n",
    "\n",
    "                if term in self.term_direct_gene_map:\n",
    "                    input_size += len(self.term_direct_gene_map[term])\n",
    "\n",
    "                # term_hidden is the number of the hidden variables in each state\n",
    "                term_hidden = self.term_dim_map[term]\n",
    "\n",
    "                self.add_module(term+'_linear_layer', nn.Linear(input_size, term_hidden))\n",
    "                self.add_module(term+'_batchnorm_layer', nn.BatchNorm1d(term_hidden))\n",
    "                self.add_module(term+'_aux_linear_layer1', nn.Linear(term_hidden, self.n_class))\n",
    "                self.add_module(term+'_aux_linear_layer2', nn.Linear(self.n_class, self.n_class))\n",
    "\n",
    "            dG.remove_nodes_from(leaves)\n",
    "\n",
    "\n",
    "    # definition of encoder\n",
    "    def encoder(self, x):\n",
    "        gene_input = x.narrow(1, 0, self.gene_dim)\n",
    "\n",
    "        # define forward function for genotype dcell #############################################\n",
    "        term_gene_out_map = {}\n",
    "\n",
    "        for term, _ in self.term_direct_gene_map.items():\n",
    "            term_gene_out_map[term] = self._modules[term + '_direct_gene_layer'](gene_input)\n",
    "\n",
    "        term_NN_out_map = {}\n",
    "        aux_out_map = {}\n",
    "\n",
    "        for i, layer in enumerate(self.term_layer_list):\n",
    "\n",
    "            for term in layer:\n",
    "\n",
    "                child_input_list = []\n",
    "\n",
    "                self.term_visit_count[term] += 1\n",
    "                \n",
    "                for child in self.term_neighbor_map[term]:\n",
    "                    child_input_list.append(term_NN_out_map[child])\n",
    "\n",
    "                if term in self.term_direct_gene_map:\n",
    "                    child_input_list.append(term_gene_out_map[term])\n",
    "\n",
    "                child_input = torch.cat(child_input_list,1)\n",
    "\n",
    "                term_NN_out = self._modules[term+'_linear_layer'](child_input)\n",
    "\n",
    "                Tanh_out = torch.tanh(term_NN_out)\n",
    "                term_NN_out_map[term] = self._modules[term+'_batchnorm_layer'](Tanh_out)\n",
    "                aux_layer1_out = torch.tanh(self._modules[term+'_aux_linear_layer1'](term_NN_out_map[term]))\n",
    "                aux_out_map[term] = self._modules[term+'_aux_linear_layer2'](aux_layer1_out)\n",
    "\n",
    "        # connect two neural networks at the top #################################################\n",
    "        final_input = term_NN_out_map[self.root] # torch.cat((term_NN_out_map[self.root], drug_out), 1)\n",
    "\n",
    "        out = self._modules['final_batchnorm_layer'](torch.tanh(self._modules['final_linear_layer'](final_input)))\n",
    "        term_NN_out_map['final'] = out\n",
    "\n",
    "        aux_layer_out = torch.tanh(self._modules['final_aux_linear_layer'](out))\n",
    "        aux_out_map['final'] = self._modules['final_linear_layer_output'](aux_layer_out)\n",
    "\n",
    "        return aux_out_map, term_NN_out_map\n",
    "    \n",
    "    def forward(self, x):\n",
    "        \n",
    "        aux_out_map, term_NN_out_map = self.encoder(x)\n",
    "        \n",
    "        mu = term_NN_out_map['final'][..., :self.num_hiddens_final]\n",
    "        log_var = term_NN_out_map['final'][..., :self.num_hiddens_final]  # T X batch X z_dim\n",
    "        std_dec = log_var.mul(0.5).exp_()\n",
    "        # std_dec = 1\n",
    "        \n",
    "        latent = MultivariateNormal(loc = mu, \n",
    "                                    scale_tril=torch.diag_embed(std_dec))\n",
    "        z = latent.rsample()\n",
    "        \n",
    "        recon_mean = self.decoder_affine(z)\n",
    "        logits = F.softmax(recon_mean, -1)\n",
    "\n",
    "        return logits #, mu, log_var, aux_out_map, term_NN_out_map\n",
    "    \n",
    "    def loss_log_vae(self, logits, y, mu, log_var, beta = 0.001):\n",
    "        # y: true labels\n",
    "        ori_y_shape = y.shape\n",
    "        \n",
    "        class_loss = F.cross_entropy(logits.view(-1, logits.shape[-1]), \n",
    "                                     y.reshape(-1), reduction = 'none').div(np.log(2)).view(*ori_y_shape)\n",
    "        \n",
    "        KLD = -0.5 * torch.sum(1 + log_var - mu.pow(2) - log_var.exp(), \n",
    "                              dim = -1)\n",
    "        \n",
    "        log_loss = class_loss + beta * KLD\n",
    "        log_loss = torch.mean(torch.logsumexp(log_loss, 0))\n",
    "        \n",
    "        return log_loss\n",
    "    \n",
    "    def intermediate_loss(self, aux_out_map, y):\n",
    "        \n",
    "        inter_loss = 0\n",
    "        for name, output in aux_out_map.items():\n",
    "            if name == 'final':\n",
    "                inter_loss += 0\n",
    "            else: # change 0.2 to smaller one for big terms\n",
    "                ori_y_shape = y.shape\n",
    "        \n",
    "                term_loss = F.cross_entropy(output.view(-1, output.shape[-1]), \n",
    "                                             y.reshape(-1), \n",
    "                                             reduction = 'none').div(np.log(2)).view(*ori_y_shape)\n",
    "                inter_loss += term_loss\n",
    "\n",
    "        return inter_loss"
   ]
  },
  {
   "cell_type": "code",
   "execution_count": 18,
   "metadata": {},
   "outputs": [],
   "source": [
    "model = torch.load(\"model_200.pt\", map_location=DEVICE)"
   ]
  },
  {
   "cell_type": "code",
   "execution_count": 19,
   "metadata": {},
   "outputs": [],
   "source": [
    "def prepare_node_edge(model, data, target = 0):\n",
    "    \n",
    "    ## Generate node list\n",
    "    layer_ig_dict = {}\n",
    "    node_label = []\n",
    "    node_col = []\n",
    "    node_level = []\n",
    "    node_x = []\n",
    "    node_y = []\n",
    "    \n",
    "    # Loop through each layer\n",
    "    for idx, leaves in enumerate(model.term_layer_list):\n",
    "        term_list = []\n",
    "        # add leaves in the layer to node list, with color, level and x axis for plot\n",
    "        node_label.extend(leaves)\n",
    "        node_col.extend([px.colors.qualitative.Plotly[idx]] * (len(leaves) + 1))\n",
    "        node_level.extend([idx] * (len(leaves) + 1))\n",
    "        node_x.extend([(idx )/len(model.term_layer_list)] * (len(leaves) + 1))\n",
    "        \n",
    "        # Prepare module list for LayerIG to explain the whole level at once\n",
    "        for idx_leaf, term in enumerate(leaves):\n",
    "            term_list.append(model._modules[term+'_linear_layer'])\n",
    "            node_y.append((idx_leaf)/(len(leaves) + 1))\n",
    "        \n",
    "        layer_ig_dict[idx] = LayerIntegratedGradients(model, term_list)\n",
    "\n",
    "        node_label.append('L' + str(idx) + '_other')\n",
    "        node_y.append((idx_leaf+1)/(len(leaves) + 1))\n",
    "    \n",
    "    node_id_label = {i: l for i, l in enumerate(node_label)}\n",
    "    node_label_id = {l: i for i, l in enumerate(node_label)}\n",
    "    \n",
    "    ## Generate edges\n",
    "    \n",
    "    line_col = np.array(['#eb675e', '#d6d6d6', '#3db1ff'])\n",
    "    \n",
    "    torch.manual_seed(0)\n",
    "    np.random.seed(0)\n",
    "\n",
    "    sankey_source = []\n",
    "    sankey_target = []\n",
    "    sankey_value = []\n",
    "    sankey_color = []\n",
    "    gene_attr_dict = {}\n",
    "\n",
    "    for idx, leaves in enumerate(model.term_layer_list[1:]):\n",
    "        # Explain the layer idx+1\n",
    "        layer_attr_list = layer_ig_dict[idx+1].attribute(data.to(DEVICE), target=target, \n",
    "                                    attribute_to_layer_input=True)\n",
    "        \n",
    "        for idx_term, term in tqdm.tqdm(enumerate(leaves), desc=\"Level\"+str(idx+1)):\n",
    "            # For each leaf at the layer, get its explanation and list of children\n",
    "            child_list_tmp = model.term_neighbor_map[term]\n",
    "            term_attr = layer_attr_list[idx_term].detach().cpu()\n",
    "            loc = 0\n",
    "            \n",
    "            # Loop through the list of children, for each child, find the location of the explanation\n",
    "            # Here, the child is sorted, and the length of vector for the child is defined in model.term_dim_map[child_tmp]\n",
    "            for child_tmp in child_list_tmp:\n",
    "                attr_child = term_attr[:, loc:(loc + model.term_dim_map[child_tmp])]\n",
    "                loc += model.term_dim_map[child_tmp]\n",
    "                \n",
    "                weight_child = attr_child.sum(dim=1).cpu().numpy()\n",
    "                \n",
    "                sankey_source.append(node_label_id[child_tmp])\n",
    "                sankey_target.append(node_label_id[term])\n",
    "                sankey_value.append(weight_child)\n",
    "                sankey_color.append(line_col[(np.sign(weight_child) + 1).astype('int')])\n",
    "\n",
    "            gene_attr_dict[term] = term_attr[:,loc:]\n",
    "\n",
    "    sankey_source = np.array(sankey_source)\n",
    "    sankey_target = np.array(sankey_target)\n",
    "    sankey_value = np.array(sankey_value)\n",
    "    sankey_color = np.array(sankey_color) \n",
    "    \n",
    "    ## Simplify the plot\n",
    "    \n",
    "    # sankey_value_id = np.copy(sankey_value[:,sample_id])\n",
    "    # sankey_source_id = np.copy(sankey_source)\n",
    "    # sankey_target_id = np.copy(sankey_target)\n",
    "    \n",
    "    # level_argsort = []\n",
    "    # for idx, leaves in enumerate(model.term_layer_list[:-1]):\n",
    "    #     tmp_leaves_total_attr = []\n",
    "    #     for term in leaves:\n",
    "    #         tmp_leaves_total_attr.append(np.sum(np.abs(sankey_value_id[sankey_source_id == node_label_id[term]])))\n",
    "    #     level_argsort.append(np.argsort(np.abs(tmp_leaves_total_attr)))  # index from smallest to largest\n",
    "\n",
    "    # for idx, pruned_leaves in enumerate(level_argsort):\n",
    "    #     for pruned_leaf_idx in pruned_leaves[:int((1-percent_keep[idx])*len(pruned_leaves))]:\n",
    "    #         term = model.term_layer_list[idx][pruned_leaf_idx]\n",
    "    #         sankey_source_id[sankey_source_id == node_label_id[term]] = node_label_id['L' + str(idx) + '_other']\n",
    "    #         sankey_target_id[sankey_target_id == node_label_id[term]] = node_label_id['L' + str(idx) + '_other']\n",
    "    \n",
    "    # def list_duplicates(seq):\n",
    "    #     tally = defaultdict(list)\n",
    "    #     for i,item in enumerate(seq):\n",
    "    #         tally[item].append(i)\n",
    "    #     return ((key,locs) for key,locs in tally.items() \n",
    "    #                             if len(locs)>1)\n",
    "\n",
    "    # loc_delete_list = []\n",
    "    # for pair, loc in list_duplicates(zip(sankey_source_id, sankey_target_id)):\n",
    "    #     total_attr = np.sum(sankey_value_id[loc])\n",
    "    #     sankey_value_id[loc] = total_attr\n",
    "    #     loc_delete_list.extend(loc[1:])\n",
    "\n",
    "    # sankey_source_id = np.delete(sankey_source_id, loc_delete_list)\n",
    "    # sankey_target_id = np.delete(sankey_target_id, loc_delete_list)\n",
    "    # sankey_value_id = np.delete(sankey_value_id, loc_delete_list)\n",
    "\n",
    "    # sankey_color = [line_col[int(term_sign + 1)] for term_sign in np.sign(sankey_value_id)]\n",
    "    \n",
    "    return sankey_value, sankey_source, sankey_target,\\\n",
    "        node_label_id, node_label, node_col, node_level"
   ]
  },
  {
   "cell_type": "code",
   "execution_count": 20,
   "metadata": {},
   "outputs": [],
   "source": [
    "def sankey_trimming(sankey_value, sankey_source, sankey_target, \n",
    "                    node_label_id,\n",
    "                    sample_id, \n",
    "                    percent_keep = [0.01, 0.02, 0.02, 0.02, 0.1]):\n",
    "    ## Simplify the plot\n",
    "        \n",
    "    line_col = np.array(['#eb675e', '#d6d6d6', '#3db1ff'])    \n",
    "\n",
    "    sankey_value_id = np.copy(sankey_value[:,sample_id])\n",
    "    sankey_source_id = np.copy(sankey_source)\n",
    "    sankey_target_id = np.copy(sankey_target)\n",
    "    \n",
    "    level_argsort = []\n",
    "    for idx, leaves in enumerate(model.term_layer_list[:-1]):\n",
    "        # For leaves in the layer, go through its edge values\n",
    "        # The iteration starts with the lowest level (finest), and we look at edges start with the leaf\n",
    "        # Then, the edges are ordered based on the absolute values of the edge values.\n",
    "        # sort is from smallest to the largest\n",
    "        tmp_leaves_total_attr = []\n",
    "        for term in leaves:\n",
    "            tmp_leaves_total_attr.append(np.sum(np.abs(sankey_value_id[sankey_source_id == node_label_id[term]])))\n",
    "        level_argsort.append(np.argsort(np.abs(tmp_leaves_total_attr)))  # index from smallest to largest\n",
    "\n",
    "    for idx, pruned_leaves in enumerate(level_argsort):\n",
    "        # Here, we rename the edges with the smallest values to other, level_argsort includes the index of source \n",
    "        # nodes ordered based on the value of edges.\n",
    "        # Both source and target will be renamed to other, then merged in the following steps.\n",
    "        for pruned_leaf_idx in pruned_leaves[:int((1-percent_keep[idx])*len(pruned_leaves))]:\n",
    "            term = model.term_layer_list[idx][pruned_leaf_idx]\n",
    "            sankey_source_id[sankey_source_id == node_label_id[term]] = node_label_id['L' + str(idx) + '_other']\n",
    "            sankey_target_id[sankey_target_id == node_label_id[term]] = node_label_id['L' + str(idx) + '_other']\n",
    "    \n",
    "    def list_duplicates(seq):\n",
    "        # Use this function to list duplicate pairs of source-target\n",
    "        tally = defaultdict(list)\n",
    "        for i,item in enumerate(seq):\n",
    "            tally[item].append(i)\n",
    "        return ((key,locs) for key,locs in tally.items() \n",
    "                                if len(locs)>1)\n",
    "\n",
    "    loc_delete_list = []\n",
    "    for pair, loc in list_duplicates(zip(sankey_source_id, sankey_target_id)):\n",
    "        # For each of the duplicated pair, assign the sum of edge value to all of them based on location, \n",
    "        # then remove all but the first duplicate pair\n",
    "        total_attr = np.sum(sankey_value_id[loc])\n",
    "        sankey_value_id[loc] = total_attr\n",
    "        loc_delete_list.extend(loc[1:])\n",
    "\n",
    "    sankey_source_id = np.delete(sankey_source_id, loc_delete_list)\n",
    "    sankey_target_id = np.delete(sankey_target_id, loc_delete_list)\n",
    "    sankey_value_id = np.delete(sankey_value_id, loc_delete_list)\n",
    "\n",
    "    sankey_color = [line_col[int(term_sign + 1)] for term_sign in np.sign(sankey_value_id)]\n",
    "    \n",
    "    return sankey_value_id, sankey_source_id, sankey_target_id"
   ]
  },
  {
   "cell_type": "code",
   "execution_count": 21,
   "metadata": {},
   "outputs": [],
   "source": [
    "def sankey_backward_trace(sankey_value, sankey_source, sankey_target, \n",
    "                    node_label_id,\n",
    "                    sample_id, \n",
    "                    percent_keep = 0.1,\n",
    "                    min_num = 2):\n",
    "    ## Simplify the plot\n",
    "        \n",
    "    line_col = np.array(['#eb675e', '#d6d6d6', '#3db1ff'])    \n",
    "\n",
    "    sankey_value_id = np.copy(sankey_value[:,sample_id])\n",
    "    sankey_source_id = np.copy(sankey_source)\n",
    "    sankey_target_id = np.copy(sankey_target)\n",
    "    \n",
    "    subset_value_id = []\n",
    "    subset_source_id = []\n",
    "    subset_target_id = [] \n",
    "    back_tracing_level = np.zeros(len(node_label_id)) \n",
    "    \n",
    "    end_node_id = node_label_id['GO:0008150']\n",
    "    \n",
    "    pair_index = np.where(sankey_target_id == end_node_id)[0]\n",
    "    child_list = sankey_source_id[pair_index]\n",
    "    \n",
    "    back_tracing_color = np.array([px.colors.qualitative.Plotly[0]] * len(node_label_id))\n",
    "    \n",
    "    tracing_level = 1\n",
    "    while len(pair_index)>0:\n",
    "        # Assign the back tracing level and color \n",
    "        back_tracing_level[sankey_source_id[pair_index]] = tracing_level\n",
    "        back_tracing_color[sankey_source_id[pair_index]] = px.colors.qualitative.Plotly[tracing_level]\n",
    "        \n",
    "        # From the largest to the smallest. Note that here the index is for the pair_index\n",
    "        argsort_pair_index = np.argsort(-(sankey_value_id[pair_index]))  \n",
    "        selected_pair_index = pair_index[argsort_pair_index[:max(int(percent_keep*len(argsort_pair_index)), min_num)]]\n",
    "        subset_value_id.extend(sankey_value_id[selected_pair_index])\n",
    "        subset_source_id.extend(sankey_source_id[selected_pair_index])\n",
    "        subset_target_id.extend(sankey_target_id[selected_pair_index])\n",
    "        \n",
    "        # Update the pair index, where we use the previous source as the new target\n",
    "        pair_index = []\n",
    "        for tmp_target in sankey_source_id[selected_pair_index]:\n",
    "           pair_index.extend(np.where(sankey_target_id == tmp_target)[0])\n",
    "        pair_index = np.sort(np.unique(pair_index))\n",
    "\n",
    "        # Update tracing level\n",
    "        tracing_level += 1\n",
    "    \n",
    "    # Flip back_tracing_level\n",
    "    back_tracing_level = np.max(back_tracing_level) - back_tracing_level\n",
    "    \n",
    "    return np.array(subset_value_id), np.array(subset_source_id), np.array(subset_target_id), back_tracing_level, back_tracing_color"
   ]
  },
  {
   "cell_type": "code",
   "execution_count": 22,
   "metadata": {},
   "outputs": [],
   "source": [
    "def plot_sankey(sankey_value_id, sankey_source_id, sankey_target_id,\n",
    "                node_label, node_col, node_level, go_dag = None,\n",
    "                filename:str = 'test',\n",
    "                renderers_default = \"vscode\", positive_flow = True, x_loc_by_level = True,\n",
    "                font_size = 15):\n",
    "    \n",
    "    pio.renderers.default = renderers_default\n",
    "    \n",
    "    if positive_flow:\n",
    "        selected_edge_list = sankey_value_id >0\n",
    "        sankey_plot_value_id = np.copy(sankey_value_id[selected_edge_list])\n",
    "    else:\n",
    "        selected_edge_list = sankey_value_id <0\n",
    "        sankey_plot_value_id = -np.copy(sankey_value_id[selected_edge_list])\n",
    "\n",
    "    node_tmp_list = np.concatenate((sankey_source_id[selected_edge_list], \n",
    "                                    sankey_target_id[selected_edge_list]))\n",
    "    sankey_plot_source_id = np.copy(sankey_source_id[selected_edge_list])\n",
    "    sankey_plot_target_id = np.copy(sankey_target_id[selected_edge_list])\n",
    "    \n",
    "    # To make sure the nodes are aligned, we need to re index the nodes, \n",
    "    # where only nodes included in the graph are indexed\n",
    "\n",
    "    level_counter = {idx:0 for idx in range(6)}\n",
    "    sankey_node_label = []\n",
    "    sankey_node_fullname = []\n",
    "    sankey_node_id = []\n",
    "    sankey_node_origin_id = []\n",
    "    sankey_node_col = []\n",
    "    sankey_node_x = []\n",
    "    sankey_node_y = []\n",
    "    sankey_node_level = []\n",
    "    \n",
    "    if go_dag is None:\n",
    "        sankey_node_fullname = None\n",
    "\n",
    "    id_current = 0\n",
    "    for node_index in node_tmp_list:\n",
    "        if node_index not in sankey_node_origin_id: # check if the current node index has been updated \n",
    "            sankey_node_label.append(node_label[node_index])\n",
    "            sankey_node_id.append(id_current)\n",
    "            sankey_node_origin_id.append(node_index)\n",
    "            sankey_node_col.append(node_col[node_index])\n",
    "            sankey_node_level.append(node_level[node_index])\n",
    "            \n",
    "            if go_dag is not None:\n",
    "                if node_label[node_index] in go_dag:\n",
    "                    sankey_node_fullname.append(go_dag[node_label[node_index]].name)\n",
    "                else:\n",
    "                    sankey_node_fullname.append(node_label[node_index])\n",
    "            \n",
    "            # For each node index, we reassign the updated index to source and target\n",
    "            sankey_plot_source_id[sankey_source_id[selected_edge_list] == node_index] = id_current\n",
    "            sankey_plot_target_id[sankey_target_id[selected_edge_list] == node_index] = id_current\n",
    "            \n",
    "            level_counter[node_level[node_index]] += 1\n",
    "            sankey_node_x.append(node_level[node_index]/(max(node_level) + 1))\n",
    "            sankey_node_y.append(level_counter[node_level[node_index]])\n",
    "            \n",
    "            id_current += 1\n",
    "\n",
    "    sankey_node_x = np.array(sankey_node_x).astype('float')\n",
    "    sankey_node_y = np.array(sankey_node_y).astype('float')\n",
    "    sankey_node_level = np.array(sankey_node_level).astype('float')\n",
    "    \n",
    "    if go_dag is not None:\n",
    "        node_hover = '%{label}: %{customdata}<extra></extra>' \n",
    "    else:\n",
    "        node_hover = None\n",
    "        \n",
    "    \n",
    "    for level in range(int(np.max(node_level) + 1)):\n",
    "        sankey_node_y[sankey_node_level == level] = sankey_node_y[sankey_node_level == level]/np.max(sankey_node_y[sankey_node_level == level] )\n",
    "    sankey_node_y[-1] = 0.5\n",
    "    \n",
    "    fig = go.Figure(data=[go.Sankey(\n",
    "        arrangement = \"snap\",\n",
    "        node = dict(\n",
    "            pad = 15,\n",
    "            thickness = 20,\n",
    "            # line = dict(color = \"black\", width = 0.5),\n",
    "            label = sankey_node_label, #node_label,\n",
    "            color = sankey_node_col, #node_col,\n",
    "            # groups = node_groups,\n",
    "            x = (sankey_node_x + 0.01) if x_loc_by_level else None,  #(np.array(node_x)+0.0001),\n",
    "            y = sankey_node_y - 0.01, # [0.2] * len(sankey_node_x.tolist())   # ,  #(np.array(node_y)+0.0001)\n",
    "            customdata = sankey_node_fullname,\n",
    "            hovertemplate = node_hover),\n",
    "            link = dict(\n",
    "            source = sankey_plot_source_id, #, # np.array(sankey_source_id), # indices correspond to labels, eg A1, A2, A1, B1, ...\n",
    "            target = sankey_plot_target_id, # sankey_target_id,\n",
    "            value = sankey_plot_value_id,\n",
    "            # color = sankey_color\n",
    "            )\n",
    "        )])\n",
    "\n",
    "    fig.update_layout(font_size=font_size,\n",
    "                      hoverlabel=dict(\n",
    "                          font_size=font_size,\n",
    "                          )\n",
    "                      )\n",
    "    fig.write_html(filename + \".html\")\n",
    "    fig.show()\n",
    "    \n",
    "    return fig"
   ]
  },
  {
   "cell_type": "markdown",
   "metadata": {},
   "source": [
    "## Draw the plot"
   ]
  },
  {
   "cell_type": "code",
   "execution_count": 24,
   "metadata": {},
   "outputs": [],
   "source": [
    "torch.manual_seed(0)\n",
    "\n",
    "train_loader = DataLoader(training_set, batch_size=64, shuffle=True)\n",
    "test_loader = DataLoader(testing_set, batch_size=256, shuffle=False)\n",
    "data, labels = testing_set[0:256]  # 256"
   ]
  },
  {
   "cell_type": "code",
   "execution_count": 25,
   "metadata": {},
   "outputs": [
    {
     "data": {
      "text/plain": [
       "torch.Size([256])"
      ]
     },
     "execution_count": 25,
     "metadata": {},
     "output_type": "execute_result"
    }
   ],
   "source": [
    "labels.shape"
   ]
  },
  {
   "cell_type": "code",
   "execution_count": 25,
   "metadata": {},
   "outputs": [
    {
     "data": {
      "text/plain": [
       "[('ACC', 2),\n",
       " ('BLCA', 14),\n",
       " ('BRCA', 24),\n",
       " ('CESC', 10),\n",
       " ('CHOL', 1),\n",
       " ('COAD', 17),\n",
       " ('DLBC', 1),\n",
       " ('ESCA', 2),\n",
       " ('GBM', 3),\n",
       " ('HNSC', 11),\n",
       " ('KICH', 1),\n",
       " ('KIRC', 13),\n",
       " ('KIRP', 5),\n",
       " ('LAML', 3),\n",
       " ('LGG', 16),\n",
       " ('LIHC', 4),\n",
       " ('LUAD', 19),\n",
       " ('LUSC', 4),\n",
       " ('MESO', 4),\n",
       " ('OV', 6),\n",
       " ('PAAD', 5),\n",
       " ('PCPG', 5),\n",
       " ('PRAD', 11),\n",
       " ('READ', 4),\n",
       " ('SARC', 10),\n",
       " ('SKCM', 11),\n",
       " ('STAD', 9),\n",
       " ('TGCT', 4),\n",
       " ('THCA', 10),\n",
       " ('THYM', 3),\n",
       " ('UCEC', 20),\n",
       " ('UVM', 4)]"
      ]
     },
     "execution_count": 25,
     "metadata": {},
     "output_type": "execute_result"
    }
   ],
   "source": [
    "labels_str = [idx_2_cancer[idx.item()] for idx in labels]\n",
    "(list(zip(*np.unique(labels_str, return_counts=True))))"
   ]
  },
  {
   "cell_type": "code",
   "execution_count": 26,
   "metadata": {},
   "outputs": [
    {
     "name": "stderr",
     "output_type": "stream",
     "text": [
      "/homes/ac.tfeng/miniconda3/envs/general/lib/python3.9/site-packages/captum/attr/_core/layer/layer_integrated_gradients.py:101: UserWarning: Multiple layers provided. Please ensure that each layer is**not** solely dependent on the outputs ofanother layer. Please refer to the documentation for moredetail.\n",
      "  warnings.warn(\n",
      "Level1: 357it [00:00, 5216.11it/s]\n",
      "Level2: 183it [00:00, 3491.95it/s]\n",
      "Level3: 115it [00:00, 2983.55it/s]\n",
      "Level4: 66it [00:00, 2890.15it/s]\n",
      "Level5: 1it [00:00, 73.33it/s]\n"
     ]
    }
   ],
   "source": [
    "sankey_value, sankey_source, sankey_target,\\\n",
    "        node_label_id, node_label, node_col, node_level\\\n",
    "                = prepare_node_edge(model, data, target=labels.to(DEVICE))"
   ]
  },
  {
   "cell_type": "code",
   "execution_count": 82,
   "metadata": {},
   "outputs": [],
   "source": [
    "sankey_value_id, sankey_source_id, sankey_target_id \\\n",
    "    = sankey_trimming(sankey_value, sankey_source, sankey_target, \n",
    "                    node_label_id,\n",
    "                    sample_id = 38, \n",
    "                    percent_keep = [0.02, 0.04, 0.04, 0.06, 0.1])"
   ]
  },
  {
   "cell_type": "code",
   "execution_count": 172,
   "metadata": {},
   "outputs": [],
   "source": [
    "sankey_value_id, sankey_source_id, sankey_target_id, back_tracing_level, back_tracing_color \\\n",
    "    = sankey_backward_trace(sankey_value, sankey_source, sankey_target, \n",
    "                    node_label_id,\n",
    "                    sample_id=12, \n",
    "                    percent_keep = 0.05,min_num=10)"
   ]
  },
  {
   "cell_type": "code",
   "execution_count": 173,
   "metadata": {},
   "outputs": [
    {
     "data": {
      "application/vnd.plotly.v1+json": {
       "config": {
        "plotlyServerURL": "https://plot.ly"
       },
       "data": [
        {
         "arrangement": "snap",
         "link": {
          "source": [
           0,
           1,
           2,
           3,
           4,
           5,
           6,
           7,
           8,
           9,
           10,
           11,
           12,
           13,
           14,
           15,
           16,
           17,
           18,
           19,
           20,
           21,
           22,
           23,
           24,
           25,
           26,
           27,
           28,
           29,
           30,
           31,
           32,
           33,
           34,
           35,
           36,
           37,
           38,
           39,
           39,
           40,
           41,
           42,
           43,
           44,
           45,
           46,
           47,
           48,
           47
          ],
          "target": [
           49,
           49,
           49,
           49,
           49,
           49,
           49,
           49,
           49,
           49,
           49,
           49,
           49,
           49,
           49,
           49,
           49,
           49,
           49,
           1,
           12,
           16,
           1,
           15,
           8,
           4,
           1,
           5,
           16,
           24,
           24,
           20,
           20,
           19,
           19,
           24,
           19,
           20,
           19,
           30,
           29,
           35,
           32,
           32,
           32,
           32,
           29,
           29,
           29,
           40,
           39
          ],
          "value": [
           0.0689336758922307,
           0.051726131509199524,
           0.04037703236359973,
           0.039684840468781936,
           0.03736241000292381,
           0.03609909705975339,
           0.03527979101447077,
           0.0346591618769256,
           0.03428640268873469,
           0.030140281946498135,
           0.02921151394789376,
           0.029070179388997662,
           0.028817758875889034,
           0.02653965223132958,
           0.025048045713403633,
           0.02480622573798558,
           0.024736393074292734,
           0.02297125526631333,
           0.022960202268254844,
           0.046625387609156646,
           0.03909881120409577,
           0.03628554028474883,
           0.02859697850567066,
           0.026110973231127942,
           0.02488673108435863,
           0.02177873259174974,
           0.021597445607650038,
           0.019219622759459674,
           0.018671466616198652,
           0.03497233873034058,
           0.028085477915900884,
           0.013697873702767685,
           0.010857142085373118,
           0.010660443281065263,
           0.010491005134327566,
           0.010107207884531084,
           0.0072859032275843,
           0.00698993006043157,
           0.0056848451669774995,
           0.045650220563040134,
           0.007950394279305975,
           0.005136637890869137,
           0.004326790634103555,
           0.0017226385271865614,
           0.0012469436818617352,
           0.0012401994128139766,
           0.0008851426878854267,
           0.0005577038111454245,
           0.00015950666024058328,
           0.0017643830005013047,
           0.0009148993619324287
          ]
         },
         "node": {
          "color": [
           "#EF553B",
           "#EF553B",
           "#EF553B",
           "#EF553B",
           "#EF553B",
           "#EF553B",
           "#EF553B",
           "#EF553B",
           "#EF553B",
           "#EF553B",
           "#EF553B",
           "#EF553B",
           "#EF553B",
           "#EF553B",
           "#EF553B",
           "#EF553B",
           "#EF553B",
           "#EF553B",
           "#EF553B",
           "#00CC96",
           "#00CC96",
           "#00CC96",
           "#00CC96",
           "#00CC96",
           "#00CC96",
           "#00CC96",
           "#00CC96",
           "#00CC96",
           "#00CC96",
           "#AB63FA",
           "#AB63FA",
           "#AB63FA",
           "#AB63FA",
           "#AB63FA",
           "#AB63FA",
           "#AB63FA",
           "#AB63FA",
           "#AB63FA",
           "#AB63FA",
           "#FFA15A",
           "#FFA15A",
           "#FFA15A",
           "#FFA15A",
           "#FFA15A",
           "#FFA15A",
           "#FFA15A",
           "#19D3F3",
           "#19D3F3",
           "#19D3F3",
           "#636EFA"
          ],
          "label": [
           "GO:0007165",
           "GO:0001817",
           "GO:0051241",
           "GO:0007399",
           "GO:0033554",
           "GO:0010605",
           "GO:1903530",
           "GO:0044093",
           "GO:0010468",
           "GO:0044248",
           "GO:0007586",
           "GO:0051223",
           "GO:0034097",
           "GO:0010941",
           "GO:0048771",
           "GO:0030162",
           "GO:0044249",
           "GO:0043368",
           "GO:0010469",
           "GO:0001819",
           "GO:0071345",
           "GO:0034645",
           "GO:0050710",
           "GO:0045862",
           "GO:0006355",
           "GO:0006974",
           "GO:0042035",
           "GO:0010629",
           "GO:0046474",
           "GO:0006357",
           "GO:0045893",
           "GO:0071354",
           "GO:0019221",
           "GO:0032729",
           "GO:0050715",
           "GO:0051090",
           "GO:0010575",
           "GO:1990830",
           "GO:0032760",
           "GO:0045944",
           "GO:0051091",
           "GO:0033209",
           "GO:0070498",
           "GO:0060333",
           "GO:0038110",
           "GO:0030509",
           "GO:0036003",
           "GO:1902895",
           "GO:0051092",
           "GO:0008150"
          ],
          "pad": 15,
          "thickness": 20,
          "x": [
           0.6766666666666666,
           0.6766666666666666,
           0.6766666666666666,
           0.6766666666666666,
           0.6766666666666666,
           0.6766666666666666,
           0.6766666666666666,
           0.6766666666666666,
           0.6766666666666666,
           0.6766666666666666,
           0.6766666666666666,
           0.6766666666666666,
           0.6766666666666666,
           0.6766666666666666,
           0.6766666666666666,
           0.6766666666666666,
           0.6766666666666666,
           0.6766666666666666,
           0.6766666666666666,
           0.51,
           0.51,
           0.51,
           0.51,
           0.51,
           0.51,
           0.51,
           0.51,
           0.51,
           0.51,
           0.3433333333333333,
           0.3433333333333333,
           0.3433333333333333,
           0.3433333333333333,
           0.3433333333333333,
           0.3433333333333333,
           0.3433333333333333,
           0.3433333333333333,
           0.3433333333333333,
           0.3433333333333333,
           0.17666666666666667,
           0.17666666666666667,
           0.17666666666666667,
           0.17666666666666667,
           0.17666666666666667,
           0.17666666666666667,
           0.17666666666666667,
           0.01,
           0.01,
           0.01,
           0.8433333333333334
          ],
          "y": [
           0.042631578947368416,
           0.09526315789473684,
           0.14789473684210525,
           0.20052631578947366,
           0.2531578947368421,
           0.3057894736842105,
           0.3584210526315789,
           0.41105263157894734,
           0.46368421052631575,
           0.5163157894736842,
           0.5689473684210526,
           0.621578947368421,
           0.6742105263157895,
           0.7268421052631578,
           0.7794736842105263,
           0.8321052631578947,
           0.8847368421052632,
           0.9373684210526315,
           0.99,
           0.09000000000000001,
           0.19,
           0.29,
           0.39,
           0.49,
           0.59,
           0.69,
           0.79,
           0.89,
           0.99,
           0.09000000000000001,
           0.19,
           0.29,
           0.39,
           0.49,
           0.59,
           0.69,
           0.79,
           0.89,
           0.99,
           0.13285714285714284,
           0.2757142857142857,
           0.41857142857142854,
           0.5614285714285714,
           0.7042857142857143,
           0.8471428571428571,
           0.99,
           0.3233333333333333,
           0.6566666666666666,
           0.99,
           0.49
          ]
         },
         "type": "sankey"
        }
       ],
       "layout": {
        "font": {
         "size": 15
        },
        "hoverlabel": {
         "font": {
          "size": 15
         }
        },
        "template": {
         "data": {
          "bar": [
           {
            "error_x": {
             "color": "#2a3f5f"
            },
            "error_y": {
             "color": "#2a3f5f"
            },
            "marker": {
             "line": {
              "color": "#E5ECF6",
              "width": 0.5
             },
             "pattern": {
              "fillmode": "overlay",
              "size": 10,
              "solidity": 0.2
             }
            },
            "type": "bar"
           }
          ],
          "barpolar": [
           {
            "marker": {
             "line": {
              "color": "#E5ECF6",
              "width": 0.5
             },
             "pattern": {
              "fillmode": "overlay",
              "size": 10,
              "solidity": 0.2
             }
            },
            "type": "barpolar"
           }
          ],
          "carpet": [
           {
            "aaxis": {
             "endlinecolor": "#2a3f5f",
             "gridcolor": "white",
             "linecolor": "white",
             "minorgridcolor": "white",
             "startlinecolor": "#2a3f5f"
            },
            "baxis": {
             "endlinecolor": "#2a3f5f",
             "gridcolor": "white",
             "linecolor": "white",
             "minorgridcolor": "white",
             "startlinecolor": "#2a3f5f"
            },
            "type": "carpet"
           }
          ],
          "choropleth": [
           {
            "colorbar": {
             "outlinewidth": 0,
             "ticks": ""
            },
            "type": "choropleth"
           }
          ],
          "contour": [
           {
            "colorbar": {
             "outlinewidth": 0,
             "ticks": ""
            },
            "colorscale": [
             [
              0,
              "#0d0887"
             ],
             [
              0.1111111111111111,
              "#46039f"
             ],
             [
              0.2222222222222222,
              "#7201a8"
             ],
             [
              0.3333333333333333,
              "#9c179e"
             ],
             [
              0.4444444444444444,
              "#bd3786"
             ],
             [
              0.5555555555555556,
              "#d8576b"
             ],
             [
              0.6666666666666666,
              "#ed7953"
             ],
             [
              0.7777777777777778,
              "#fb9f3a"
             ],
             [
              0.8888888888888888,
              "#fdca26"
             ],
             [
              1,
              "#f0f921"
             ]
            ],
            "type": "contour"
           }
          ],
          "contourcarpet": [
           {
            "colorbar": {
             "outlinewidth": 0,
             "ticks": ""
            },
            "type": "contourcarpet"
           }
          ],
          "heatmap": [
           {
            "colorbar": {
             "outlinewidth": 0,
             "ticks": ""
            },
            "colorscale": [
             [
              0,
              "#0d0887"
             ],
             [
              0.1111111111111111,
              "#46039f"
             ],
             [
              0.2222222222222222,
              "#7201a8"
             ],
             [
              0.3333333333333333,
              "#9c179e"
             ],
             [
              0.4444444444444444,
              "#bd3786"
             ],
             [
              0.5555555555555556,
              "#d8576b"
             ],
             [
              0.6666666666666666,
              "#ed7953"
             ],
             [
              0.7777777777777778,
              "#fb9f3a"
             ],
             [
              0.8888888888888888,
              "#fdca26"
             ],
             [
              1,
              "#f0f921"
             ]
            ],
            "type": "heatmap"
           }
          ],
          "heatmapgl": [
           {
            "colorbar": {
             "outlinewidth": 0,
             "ticks": ""
            },
            "colorscale": [
             [
              0,
              "#0d0887"
             ],
             [
              0.1111111111111111,
              "#46039f"
             ],
             [
              0.2222222222222222,
              "#7201a8"
             ],
             [
              0.3333333333333333,
              "#9c179e"
             ],
             [
              0.4444444444444444,
              "#bd3786"
             ],
             [
              0.5555555555555556,
              "#d8576b"
             ],
             [
              0.6666666666666666,
              "#ed7953"
             ],
             [
              0.7777777777777778,
              "#fb9f3a"
             ],
             [
              0.8888888888888888,
              "#fdca26"
             ],
             [
              1,
              "#f0f921"
             ]
            ],
            "type": "heatmapgl"
           }
          ],
          "histogram": [
           {
            "marker": {
             "pattern": {
              "fillmode": "overlay",
              "size": 10,
              "solidity": 0.2
             }
            },
            "type": "histogram"
           }
          ],
          "histogram2d": [
           {
            "colorbar": {
             "outlinewidth": 0,
             "ticks": ""
            },
            "colorscale": [
             [
              0,
              "#0d0887"
             ],
             [
              0.1111111111111111,
              "#46039f"
             ],
             [
              0.2222222222222222,
              "#7201a8"
             ],
             [
              0.3333333333333333,
              "#9c179e"
             ],
             [
              0.4444444444444444,
              "#bd3786"
             ],
             [
              0.5555555555555556,
              "#d8576b"
             ],
             [
              0.6666666666666666,
              "#ed7953"
             ],
             [
              0.7777777777777778,
              "#fb9f3a"
             ],
             [
              0.8888888888888888,
              "#fdca26"
             ],
             [
              1,
              "#f0f921"
             ]
            ],
            "type": "histogram2d"
           }
          ],
          "histogram2dcontour": [
           {
            "colorbar": {
             "outlinewidth": 0,
             "ticks": ""
            },
            "colorscale": [
             [
              0,
              "#0d0887"
             ],
             [
              0.1111111111111111,
              "#46039f"
             ],
             [
              0.2222222222222222,
              "#7201a8"
             ],
             [
              0.3333333333333333,
              "#9c179e"
             ],
             [
              0.4444444444444444,
              "#bd3786"
             ],
             [
              0.5555555555555556,
              "#d8576b"
             ],
             [
              0.6666666666666666,
              "#ed7953"
             ],
             [
              0.7777777777777778,
              "#fb9f3a"
             ],
             [
              0.8888888888888888,
              "#fdca26"
             ],
             [
              1,
              "#f0f921"
             ]
            ],
            "type": "histogram2dcontour"
           }
          ],
          "mesh3d": [
           {
            "colorbar": {
             "outlinewidth": 0,
             "ticks": ""
            },
            "type": "mesh3d"
           }
          ],
          "parcoords": [
           {
            "line": {
             "colorbar": {
              "outlinewidth": 0,
              "ticks": ""
             }
            },
            "type": "parcoords"
           }
          ],
          "pie": [
           {
            "automargin": true,
            "type": "pie"
           }
          ],
          "scatter": [
           {
            "fillpattern": {
             "fillmode": "overlay",
             "size": 10,
             "solidity": 0.2
            },
            "type": "scatter"
           }
          ],
          "scatter3d": [
           {
            "line": {
             "colorbar": {
              "outlinewidth": 0,
              "ticks": ""
             }
            },
            "marker": {
             "colorbar": {
              "outlinewidth": 0,
              "ticks": ""
             }
            },
            "type": "scatter3d"
           }
          ],
          "scattercarpet": [
           {
            "marker": {
             "colorbar": {
              "outlinewidth": 0,
              "ticks": ""
             }
            },
            "type": "scattercarpet"
           }
          ],
          "scattergeo": [
           {
            "marker": {
             "colorbar": {
              "outlinewidth": 0,
              "ticks": ""
             }
            },
            "type": "scattergeo"
           }
          ],
          "scattergl": [
           {
            "marker": {
             "colorbar": {
              "outlinewidth": 0,
              "ticks": ""
             }
            },
            "type": "scattergl"
           }
          ],
          "scattermapbox": [
           {
            "marker": {
             "colorbar": {
              "outlinewidth": 0,
              "ticks": ""
             }
            },
            "type": "scattermapbox"
           }
          ],
          "scatterpolar": [
           {
            "marker": {
             "colorbar": {
              "outlinewidth": 0,
              "ticks": ""
             }
            },
            "type": "scatterpolar"
           }
          ],
          "scatterpolargl": [
           {
            "marker": {
             "colorbar": {
              "outlinewidth": 0,
              "ticks": ""
             }
            },
            "type": "scatterpolargl"
           }
          ],
          "scatterternary": [
           {
            "marker": {
             "colorbar": {
              "outlinewidth": 0,
              "ticks": ""
             }
            },
            "type": "scatterternary"
           }
          ],
          "surface": [
           {
            "colorbar": {
             "outlinewidth": 0,
             "ticks": ""
            },
            "colorscale": [
             [
              0,
              "#0d0887"
             ],
             [
              0.1111111111111111,
              "#46039f"
             ],
             [
              0.2222222222222222,
              "#7201a8"
             ],
             [
              0.3333333333333333,
              "#9c179e"
             ],
             [
              0.4444444444444444,
              "#bd3786"
             ],
             [
              0.5555555555555556,
              "#d8576b"
             ],
             [
              0.6666666666666666,
              "#ed7953"
             ],
             [
              0.7777777777777778,
              "#fb9f3a"
             ],
             [
              0.8888888888888888,
              "#fdca26"
             ],
             [
              1,
              "#f0f921"
             ]
            ],
            "type": "surface"
           }
          ],
          "table": [
           {
            "cells": {
             "fill": {
              "color": "#EBF0F8"
             },
             "line": {
              "color": "white"
             }
            },
            "header": {
             "fill": {
              "color": "#C8D4E3"
             },
             "line": {
              "color": "white"
             }
            },
            "type": "table"
           }
          ]
         },
         "layout": {
          "annotationdefaults": {
           "arrowcolor": "#2a3f5f",
           "arrowhead": 0,
           "arrowwidth": 1
          },
          "autotypenumbers": "strict",
          "coloraxis": {
           "colorbar": {
            "outlinewidth": 0,
            "ticks": ""
           }
          },
          "colorscale": {
           "diverging": [
            [
             0,
             "#8e0152"
            ],
            [
             0.1,
             "#c51b7d"
            ],
            [
             0.2,
             "#de77ae"
            ],
            [
             0.3,
             "#f1b6da"
            ],
            [
             0.4,
             "#fde0ef"
            ],
            [
             0.5,
             "#f7f7f7"
            ],
            [
             0.6,
             "#e6f5d0"
            ],
            [
             0.7,
             "#b8e186"
            ],
            [
             0.8,
             "#7fbc41"
            ],
            [
             0.9,
             "#4d9221"
            ],
            [
             1,
             "#276419"
            ]
           ],
           "sequential": [
            [
             0,
             "#0d0887"
            ],
            [
             0.1111111111111111,
             "#46039f"
            ],
            [
             0.2222222222222222,
             "#7201a8"
            ],
            [
             0.3333333333333333,
             "#9c179e"
            ],
            [
             0.4444444444444444,
             "#bd3786"
            ],
            [
             0.5555555555555556,
             "#d8576b"
            ],
            [
             0.6666666666666666,
             "#ed7953"
            ],
            [
             0.7777777777777778,
             "#fb9f3a"
            ],
            [
             0.8888888888888888,
             "#fdca26"
            ],
            [
             1,
             "#f0f921"
            ]
           ],
           "sequentialminus": [
            [
             0,
             "#0d0887"
            ],
            [
             0.1111111111111111,
             "#46039f"
            ],
            [
             0.2222222222222222,
             "#7201a8"
            ],
            [
             0.3333333333333333,
             "#9c179e"
            ],
            [
             0.4444444444444444,
             "#bd3786"
            ],
            [
             0.5555555555555556,
             "#d8576b"
            ],
            [
             0.6666666666666666,
             "#ed7953"
            ],
            [
             0.7777777777777778,
             "#fb9f3a"
            ],
            [
             0.8888888888888888,
             "#fdca26"
            ],
            [
             1,
             "#f0f921"
            ]
           ]
          },
          "colorway": [
           "#636efa",
           "#EF553B",
           "#00cc96",
           "#ab63fa",
           "#FFA15A",
           "#19d3f3",
           "#FF6692",
           "#B6E880",
           "#FF97FF",
           "#FECB52"
          ],
          "font": {
           "color": "#2a3f5f"
          },
          "geo": {
           "bgcolor": "white",
           "lakecolor": "white",
           "landcolor": "#E5ECF6",
           "showlakes": true,
           "showland": true,
           "subunitcolor": "white"
          },
          "hoverlabel": {
           "align": "left"
          },
          "hovermode": "closest",
          "mapbox": {
           "style": "light"
          },
          "paper_bgcolor": "white",
          "plot_bgcolor": "#E5ECF6",
          "polar": {
           "angularaxis": {
            "gridcolor": "white",
            "linecolor": "white",
            "ticks": ""
           },
           "bgcolor": "#E5ECF6",
           "radialaxis": {
            "gridcolor": "white",
            "linecolor": "white",
            "ticks": ""
           }
          },
          "scene": {
           "xaxis": {
            "backgroundcolor": "#E5ECF6",
            "gridcolor": "white",
            "gridwidth": 2,
            "linecolor": "white",
            "showbackground": true,
            "ticks": "",
            "zerolinecolor": "white"
           },
           "yaxis": {
            "backgroundcolor": "#E5ECF6",
            "gridcolor": "white",
            "gridwidth": 2,
            "linecolor": "white",
            "showbackground": true,
            "ticks": "",
            "zerolinecolor": "white"
           },
           "zaxis": {
            "backgroundcolor": "#E5ECF6",
            "gridcolor": "white",
            "gridwidth": 2,
            "linecolor": "white",
            "showbackground": true,
            "ticks": "",
            "zerolinecolor": "white"
           }
          },
          "shapedefaults": {
           "line": {
            "color": "#2a3f5f"
           }
          },
          "ternary": {
           "aaxis": {
            "gridcolor": "white",
            "linecolor": "white",
            "ticks": ""
           },
           "baxis": {
            "gridcolor": "white",
            "linecolor": "white",
            "ticks": ""
           },
           "bgcolor": "#E5ECF6",
           "caxis": {
            "gridcolor": "white",
            "linecolor": "white",
            "ticks": ""
           }
          },
          "title": {
           "x": 0.05
          },
          "xaxis": {
           "automargin": true,
           "gridcolor": "white",
           "linecolor": "white",
           "ticks": "",
           "title": {
            "standoff": 15
           },
           "zerolinecolor": "white",
           "zerolinewidth": 2
          },
          "yaxis": {
           "automargin": true,
           "gridcolor": "white",
           "linecolor": "white",
           "ticks": "",
           "title": {
            "standoff": 15
           },
           "zerolinecolor": "white",
           "zerolinewidth": 2
          }
         }
        }
       }
      }
     },
     "metadata": {},
     "output_type": "display_data"
    }
   ],
   "source": [
    "tmp = plot_sankey(sankey_value_id, sankey_source_id, sankey_target_id,\n",
    "                node_label, back_tracing_color, back_tracing_level, # node_level, \n",
    "                x_loc_by_level=True)"
   ]
  },
  {
   "cell_type": "code",
   "execution_count": 165,
   "metadata": {},
   "outputs": [
    {
     "data": {
      "text/plain": [
       "(array([], dtype=int64),)"
      ]
     },
     "execution_count": 165,
     "metadata": {},
     "output_type": "execute_result"
    }
   ],
   "source": [
    "np.where(sankey_target == node_label_id['GO:0060333'])"
   ]
  },
  {
   "cell_type": "code",
   "execution_count": 137,
   "metadata": {},
   "outputs": [
    {
     "data": {
      "text/plain": [
       "array([-1.53212093e-04,  9.67462012e-05,  5.76047434e-04,  2.25046678e-03])"
      ]
     },
     "execution_count": 137,
     "metadata": {},
     "output_type": "execute_result"
    }
   ],
   "source": [
    "sankey_value[sankey_target == node_label_id['GO:1903530'],12]"
   ]
  },
  {
   "cell_type": "markdown",
   "metadata": {},
   "source": [
    "### At disease level"
   ]
  },
  {
   "cell_type": "code",
   "execution_count": 25,
   "metadata": {},
   "outputs": [],
   "source": [
    "test_data, test_labels = testing_set[0:]\n",
    "labels_str = [idx_2_cancer[idx.item()] for idx in test_labels]\n",
    "data_ov, labels_ov = testing_set[np.nonzero(np.array(labels_str) == 'OV')[0].tolist()]\n",
    "\n",
    "data_brca, labels_brca = testing_set[np.nonzero(np.array(labels_str) == 'BRCA')[0].tolist()]"
   ]
  },
  {
   "cell_type": "code",
   "execution_count": 26,
   "metadata": {},
   "outputs": [
    {
     "data": {
      "text/plain": [
       "[('ACC', 2),\n",
       " ('BLCA', 12),\n",
       " ('BRCA', 82),\n",
       " ('CESC', 10),\n",
       " ('CHOL', 1),\n",
       " ('COAD', 15),\n",
       " ('DLBC', 1),\n",
       " ('ESCA', 1),\n",
       " ('GBM', 3),\n",
       " ('HNSC', 10),\n",
       " ('KICH', 1),\n",
       " ('KIRC', 10),\n",
       " ('KIRP', 5),\n",
       " ('LAML', 3),\n",
       " ('LGG', 14),\n",
       " ('LIHC', 4),\n",
       " ('LUAD', 16),\n",
       " ('LUSC', 3),\n",
       " ('OV', 89),\n",
       " ('PAAD', 5),\n",
       " ('PCPG', 5),\n",
       " ('PRAD', 8),\n",
       " ('READ', 4),\n",
       " ('SARC', 10),\n",
       " ('SKCM', 9),\n",
       " ('STAD', 7),\n",
       " ('TGCT', 1),\n",
       " ('THCA', 9),\n",
       " ('THYM', 3),\n",
       " ('UCEC', 16),\n",
       " ('UVM', 4)]"
      ]
     },
     "execution_count": 26,
     "metadata": {},
     "output_type": "execute_result"
    }
   ],
   "source": [
    "(inputdata, labels) = testing_set[:220]\n",
    "inputdata = torch.cat((inputdata, data_ov))\n",
    "labels = torch.cat((labels, labels_ov))\n",
    "\n",
    "inputdata = torch.cat((inputdata, data_brca[-60:]))\n",
    "labels = torch.cat((labels, labels_brca[-60:]))\n",
    "\n",
    "labels_str = [idx_2_cancer[idx.item()] for idx in labels]\n",
    "list(zip(*np.unique(labels_str, return_counts=True)))"
   ]
  },
  {
   "cell_type": "code",
   "execution_count": 27,
   "metadata": {},
   "outputs": [],
   "source": [
    "torch.manual_seed(0)\n",
    "logits = model(inputdata.to(DEVICE))"
   ]
  },
  {
   "cell_type": "code",
   "execution_count": 28,
   "metadata": {},
   "outputs": [
    {
     "data": {
      "text/plain": [
       "tensor(0.8678)"
      ]
     },
     "execution_count": 28,
     "metadata": {},
     "output_type": "execute_result"
    }
   ],
   "source": [
    "pred_res = torch.argmax(logits, 1).cpu() == labels\n",
    "torch.sum(pred_res)/len(labels)"
   ]
  },
  {
   "cell_type": "code",
   "execution_count": 29,
   "metadata": {},
   "outputs": [
    {
     "data": {
      "text/plain": [
       "{'BRCA': 0.9268292784690857,\n",
       " 'LUAD': 0.5625,\n",
       " 'DLBC': 0.0,\n",
       " 'UCEC': 0.9375,\n",
       " 'SKCM': 0.8888888955116272,\n",
       " 'PRAD': 1.0,\n",
       " 'HNSC': 1.0,\n",
       " 'KIRP': 0.6000000238418579,\n",
       " 'CESC': 0.0,\n",
       " 'THCA': 1.0,\n",
       " 'KIRC': 1.0,\n",
       " 'STAD': 1.0,\n",
       " 'COAD': 0.800000011920929,\n",
       " 'READ': 0.0,\n",
       " 'LGG': 1.0,\n",
       " 'MESO': nan,\n",
       " 'LAML': 1.0,\n",
       " 'BLCA': 0.8333333134651184,\n",
       " 'OV': 0.9775280952453613,\n",
       " 'LUSC': 1.0,\n",
       " 'ACC': 0.0,\n",
       " 'THYM': 0.6666666865348816,\n",
       " 'ESCA': 1.0,\n",
       " 'PAAD': 1.0,\n",
       " 'LIHC': 1.0,\n",
       " 'SARC': 1.0,\n",
       " 'GBM': 1.0,\n",
       " 'TGCT': 1.0,\n",
       " 'KICH': 0.0,\n",
       " 'PCPG': 1.0,\n",
       " 'UCS': nan,\n",
       " 'UVM': 0.0,\n",
       " 'CHOL': 0.0}"
      ]
     },
     "execution_count": 29,
     "metadata": {},
     "output_type": "execute_result"
    }
   ],
   "source": [
    "accu_per_type = {}\n",
    "\n",
    "for cancer_type in range(33):\n",
    "    accu_per_type[idx_2_cancer[cancer_type]] = (pred_res[labels == cancer_type]).float().mean().item()\n",
    "\n",
    "accu_per_type"
   ]
  },
  {
   "cell_type": "code",
   "execution_count": 30,
   "metadata": {},
   "outputs": [
    {
     "name": "stderr",
     "output_type": "stream",
     "text": [
      "/homes/ac.tfeng/miniconda3/envs/general/lib/python3.9/site-packages/captum/attr/_core/layer/layer_integrated_gradients.py:101: UserWarning: Multiple layers provided. Please ensure that each layer is**not** solely dependent on the outputs ofanother layer. Please refer to the documentation for moredetail.\n",
      "  warnings.warn(\n",
      "Level1: 357it [00:00, 3343.34it/s]\n",
      "Level2: 183it [00:00, 2740.40it/s]\n",
      "Level3: 115it [00:00, 2060.04it/s]\n",
      "Level4: 66it [00:00, 2214.54it/s]\n",
      "Level5: 1it [00:00, 57.71it/s]\n"
     ]
    }
   ],
   "source": [
    "torch.manual_seed(0)\n",
    "\n",
    "sankey_value, sankey_source, sankey_target, \\\n",
    "        node_label_id, node_label, node_col, node_level\\\n",
    "                = prepare_node_edge(model, inputdata, target=labels.to(DEVICE))"
   ]
  },
  {
   "cell_type": "code",
   "execution_count": 30,
   "metadata": {},
   "outputs": [
    {
     "data": {
      "text/plain": [
       "(3167, 89)"
      ]
     },
     "execution_count": 30,
     "metadata": {},
     "output_type": "execute_result"
    }
   ],
   "source": [
    "sankey_value[:, labels == 18].shape"
   ]
  },
  {
   "cell_type": "code",
   "execution_count": 31,
   "metadata": {},
   "outputs": [
    {
     "data": {
      "text/plain": [
       "'GO:0009725'"
      ]
     },
     "execution_count": 31,
     "metadata": {},
     "output_type": "execute_result"
    }
   ],
   "source": [
    "node_label[2068]"
   ]
  },
  {
   "cell_type": "code",
   "execution_count": 32,
   "metadata": {},
   "outputs": [
    {
     "data": {
      "text/plain": [
       "2068"
      ]
     },
     "execution_count": 32,
     "metadata": {},
     "output_type": "execute_result"
    }
   ],
   "source": [
    "sankey_source[2984]"
   ]
  },
  {
   "cell_type": "code",
   "execution_count": 33,
   "metadata": {},
   "outputs": [
    {
     "data": {
      "text/plain": [
       "2090"
      ]
     },
     "execution_count": 33,
     "metadata": {},
     "output_type": "execute_result"
    }
   ],
   "source": [
    "sankey_target[2984]"
   ]
  },
  {
   "cell_type": "code",
   "execution_count": 34,
   "metadata": {},
   "outputs": [
    {
     "data": {
      "text/plain": [
       "'GO:0008150'"
      ]
     },
     "execution_count": 34,
     "metadata": {},
     "output_type": "execute_result"
    }
   ],
   "source": [
    "node_label[2090]"
   ]
  },
  {
   "cell_type": "code",
   "execution_count": 35,
   "metadata": {},
   "outputs": [
    {
     "data": {
      "text/plain": [
       "0.008377317976495435"
      ]
     },
     "execution_count": 35,
     "metadata": {},
     "output_type": "execute_result"
    }
   ],
   "source": [
    "sankey_value[2984,:].mean()"
   ]
  },
  {
   "cell_type": "code",
   "execution_count": 36,
   "metadata": {},
   "outputs": [
    {
     "data": {
      "text/plain": [
       "18"
      ]
     },
     "execution_count": 36,
     "metadata": {},
     "output_type": "execute_result"
    }
   ],
   "source": [
    "cancer_2_idx['OV']"
   ]
  },
  {
   "cell_type": "code",
   "execution_count": 37,
   "metadata": {},
   "outputs": [],
   "source": [
    "sankey_value_id_ov, sankey_source_id_ov, sankey_target_id_ov\\\n",
    "    = sankey_trimming(sankey_value[:, labels == cancer_2_idx['OV']].mean(axis=1, keepdims=True), \n",
    "                      sankey_source, sankey_target, \n",
    "                    node_label_id, \n",
    "                    sample_id = 0, \n",
    "                    percent_keep = [0.04, 0.1, 0.15, 0.3, 0.5])"
   ]
  },
  {
   "cell_type": "code",
   "execution_count": 38,
   "metadata": {},
   "outputs": [
    {
     "data": {
      "application/vnd.plotly.v1+json": {
       "config": {
        "plotlyServerURL": "https://plot.ly"
       },
       "data": [
        {
         "arrangement": "snap",
         "link": {
          "source": [
           0,
           0,
           0,
           0,
           0,
           0,
           0,
           0,
           0,
           0,
           0,
           0,
           0,
           0,
           0,
           0,
           0,
           1,
           1,
           1,
           2,
           1,
           1,
           1,
           2,
           1,
           0,
           1,
           0,
           0,
           3,
           3,
           0,
           4,
           0,
           1,
           1,
           0,
           1,
           5,
           6,
           0,
           6,
           1,
           6,
           4,
           1,
           6,
           7,
           1,
           0,
           6,
           0,
           0,
           1,
           6,
           0,
           1,
           6,
           6,
           8,
           1,
           9,
           1,
           6,
           8,
           6,
           10,
           6,
           11,
           0,
           0,
           12,
           0,
           6,
           0,
           6,
           0,
           6,
           13,
           0,
           13,
           6,
           14,
           1,
           15,
           0,
           6,
           0,
           16,
           16,
           1,
           0,
           6,
           1,
           16,
           17,
           9,
           1,
           16,
           6,
           0,
           18,
           6,
           16,
           1,
           16,
           0,
           16,
           6,
           16,
           7,
           0,
           0,
           1,
           19,
           1,
           0,
           6,
           16,
           1,
           0,
           10,
           1,
           0,
           0,
           6,
           16,
           1,
           16,
           20,
           0,
           0,
           0,
           1,
           16,
           0,
           0,
           0,
           16,
           6,
           21,
           6,
           22,
           0,
           23,
           24,
           16,
           25,
           26,
           27,
           28,
           29,
           30,
           31,
           32,
           1,
           33,
           34,
           35,
           36,
           37,
           38,
           39,
           40,
           41,
           42,
           43,
           44,
           45,
           46,
           47,
           48,
           49,
           50,
           51,
           52,
           53,
           54,
           55,
           56,
           57,
           58,
           59,
           60,
           61,
           62,
           63,
           64,
           65,
           66,
           67,
           68,
           69,
           70,
           71,
           72,
           73,
           74,
           75,
           76,
           77,
           78,
           79,
           80,
           81,
           82,
           83,
           84,
           85,
           86,
           87,
           88,
           89,
           90,
           91,
           92,
           93,
           94,
           95,
           96,
           97,
           98,
           99,
           100,
           101,
           102,
           103,
           104,
           105,
           106,
           107,
           108,
           109,
           110,
           111,
           112,
           113,
           114,
           115,
           116,
           117,
           118,
           119,
           120,
           121,
           122,
           123,
           124,
           125,
           126,
           127,
           128,
           129
          ],
          "target": [
           1,
           22,
           130,
           2,
           17,
           10,
           3,
           4,
           81,
           83,
           94,
           97,
           110,
           131,
           124,
           6,
           24,
           27,
           9,
           11,
           7,
           47,
           49,
           58,
           6,
           69,
           69,
           79,
           132,
           13,
           13,
           6,
           12,
           15,
           15,
           15,
           133,
           112,
           16,
           16,
           25,
           25,
           19,
           19,
           18,
           18,
           18,
           33,
           40,
           134,
           134,
           134,
           41,
           135,
           43,
           53,
           54,
           57,
           59,
           63,
           63,
           63,
           16,
           68,
           71,
           71,
           74,
           74,
           76,
           16,
           136,
           20,
           20,
           82,
           137,
           138,
           89,
           90,
           90,
           21,
           21,
           16,
           104,
           16,
           116,
           116,
           116,
           120,
           26,
           26,
           28,
           29,
           29,
           139,
           139,
           139,
           139,
           31,
           31,
           31,
           31,
           32,
           32,
           32,
           32,
           37,
           37,
           44,
           44,
           46,
           48,
           48,
           48,
           60,
           140,
           141,
           62,
           62,
           64,
           64,
           64,
           64,
           67,
           67,
           67,
           70,
           70,
           77,
           80,
           80,
           26,
           142,
           143,
           85,
           88,
           88,
           88,
           93,
           96,
           96,
           96,
           96,
           144,
           145,
           145,
           145,
           145,
           145,
           145,
           145,
           145,
           145,
           145,
           145,
           145,
           145,
           145,
           145,
           145,
           145,
           145,
           145,
           145,
           145,
           145,
           145,
           145,
           145,
           145,
           145,
           145,
           145,
           145,
           145,
           145,
           145,
           145,
           145,
           145,
           145,
           145,
           145,
           145,
           145,
           145,
           145,
           145,
           145,
           145,
           145,
           145,
           145,
           145,
           145,
           145,
           145,
           145,
           145,
           145,
           145,
           145,
           145,
           145,
           145,
           145,
           145,
           145,
           145,
           145,
           145,
           145,
           145,
           145,
           145,
           145,
           145,
           145,
           145,
           145,
           145,
           145,
           145,
           145,
           145,
           145,
           145,
           145,
           145,
           145,
           145,
           145,
           145,
           145,
           145,
           145,
           145,
           145,
           145,
           145,
           145,
           145,
           145,
           145,
           145,
           145,
           145,
           145,
           145,
           145,
           145,
           145,
           145,
           145,
           145
          ],
          "value": [
           0.03702812564234406,
           0.0013884884040183888,
           0.0012553224258027573,
           0.0003360214637958713,
           0.001287672135979113,
           0.0006193598995892751,
           0.00044105303829190595,
           0.00040336710365864,
           0.002885380038655308,
           0.000369179402945475,
           0.0011318205154045179,
           0.0008389450068448315,
           0.00006506667222297885,
           0.00010921146199089683,
           0.00019288622770675219,
           0.0011556904287793202,
           0.0005058519623668083,
           0.0008973412728477913,
           0.007181394802867195,
           0.0037709832913516367,
           0.003831461735071323,
           0.001788579954510491,
           0.0008748802513111169,
           0.004233872419728973,
           0.0020643233164153673,
           0.000986995094524688,
           0.00044196815982685785,
           0.001120687371233065,
           0.00035954352607348554,
           0.0021618527008275446,
           0.0017125710926006541,
           0.0012147458210303884,
           0.00007649669238143751,
           0.0001561663015635392,
           0.0015999590657885595,
           0.0017247573297943571,
           0.0006664658661997582,
           0.0007193923591650786,
           0.019638191787290808,
           0.0048964885460361565,
           0.001812742242509244,
           0.0001608771037253384,
           0.0008760355407066141,
           0.0013316683653793137,
           0.006283042479946959,
           0.00740249303464695,
           0.004476561758677819,
           0.0005332552010317644,
           0.0031793808912053785,
           0.00010995137490602147,
           0.0008461653946405345,
           0.0008387079144080036,
           0.00008069743821367272,
           0.0011615794554850388,
           0.0024357168985883635,
           0.003315685698580616,
           0.0007618132452708751,
           0.0045060900919326186,
           0.001395303179253469,
           0.0013558384625118902,
           0.005395065288985837,
           0.0012141675046783227,
           0.004068720273116948,
           0.0021913563576415225,
           0.0005243939836749207,
           0.0002469369458970837,
           0.0021264774279645027,
           0.001027328517492123,
           0.0012610671500690282,
           0.00559859423599979,
           0.00005744687465393725,
           0.00018517540151790496,
           0.007203229120413866,
           0.00036332796159257,
           0.00045543226375987996,
           0.0006804165702874226,
           0.0039221433320137345,
           0.0005174455187137539,
           0.0013583807378159444,
           0.007869877610287974,
           0.0004615113962903159,
           0.0030629643275794636,
           0.00039695714822257096,
           0.0011111489642806301,
           0.00140914555214982,
           0.006079128324316569,
           0.0005373473219021344,
           0.0010403390817946608,
           0.014003778555721885,
           0.014417023911721982,
           0.0016259170101384096,
           0.001895455191054602,
           0.0025616634554836556,
           0.0027411491982944967,
           0.008408295876303014,
           0.0006242763675081671,
           0.005547368185300591,
           0.0037605696426668673,
           0.0014602068148237136,
           0.0018188288620313324,
           0.0003783178741771543,
           0.004037882164032907,
           0.01129529026976231,
           0.0050490303167447115,
           0.005161520450962491,
           0.0002803260666606879,
           0.0028565684347636737,
           0.0016571914164113955,
           0.0008941356549875066,
           0.0003862389785231673,
           0.005917119808778352,
           0.0029445821429558154,
           0.0009141848510578321,
           0.0006225538703422618,
           0.0012063762050738879,
           0.0066593333578865615,
           0.0028936811828062146,
           0.002290600647906994,
           0.0008019992308294672,
           0.0048493939139529485,
           0.0006310943841493646,
           0.000028634494384132293,
           0.0029252897890607913,
           0.000221537395859575,
           0.001179780243107274,
           0.0010925030712076909,
           0.002518847433645527,
           0.00638575095289433,
           0.0030942415892606543,
           0.00187363937616324,
           0.003958292559966889,
           0.0017935427062856584,
           0.005697201050500842,
           0.0006512025537521328,
           0.00017303334427468272,
           0.0028173026094751043,
           0.0003836781336861508,
           0.0019844564848058343,
           0.0018005574205055559,
           0.004658400125957215,
           0.0003840742314268774,
           0.010135360559424614,
           0.0010092246736473861,
           0.010706146009293675,
           0.0015620645836431288,
           0.005723075523756752,
           0.005508298947365595,
           0.024179777681454795,
           0.007287027039299358,
           0.015062615354463169,
           0.006513545951576711,
           0.016711604524774964,
           0.01034876630948372,
           0.007506795703891079,
           0.06439443979132381,
           0.02306036505164692,
           0.03765608484848188,
           0.00633368165114787,
           0.006420524101462099,
           0.006236881901965819,
           0.017431328591284084,
           0.033067014237201556,
           0.009192703587731124,
           0.013451976634631114,
           0.015791266536831307,
           0.010870615996752944,
           0.012007736747258293,
           0.012203325440680379,
           0.009041760587577939,
           0.02068658139023472,
           0.013278802479645467,
           0.009194943951677897,
           0.01718262463454998,
           0.023317365789718617,
           0.010400046863561843,
           0.008893132585228745,
           0.009353821839365476,
           0.010517401534315638,
           0.012569376485267767,
           0.007422710949535226,
           0.007737867535193918,
           0.012323226360547092,
           0.005900341539862958,
           0.00983047047074466,
           0.014374464630108672,
           0.009116146958599186,
           0.026853278052054386,
           0.016924603590289217,
           0.041698025631252814,
           0.009433142903191437,
           0.006838445755897933,
           0.040205340717127315,
           0.013810468336118358,
           0.006575519679237886,
           0.01222770946689084,
           0.03028881521027578,
           0.01305206435583764,
           0.008903860813228935,
           0.037465604316239895,
           0.010265749326089323,
           0.008196235354719023,
           0.017786838420614348,
           0.01864714505017159,
           0.005640435632489542,
           0.011050349626751572,
           0.009194366802494981,
           0.013732634024855675,
           0.009197403151083552,
           0.006108741806837568,
           0.01484998301651483,
           0.016172598413037906,
           0.012326234808453965,
           0.027099176244107265,
           0.010974683995837158,
           0.011766422589685905,
           0.009340741126396377,
           0.0051693928446351,
           0.010775606453982529,
           0.0076256943484724815,
           0.009299621606504587,
           0.014688436926379523,
           0.007849757721500414,
           0.007337259991473175,
           0.02059117109839804,
           0.01414446959070118,
           0.0060330498892052255,
           0.00676578460723563,
           0.007096934098631476,
           0.006718441500563498,
           0.0079864960960319,
           0.005295664607550584,
           0.010359494041460549,
           0.013602761571431667,
           0.013159845000150478,
           0.015019082588407461,
           0.006006231495111313,
           0.009113654045439186,
           0.007555164357502008,
           0.0053525456752620895,
           0.00975081290389444,
           0.04019512945222712,
           0.007470460109756187,
           0.009094208240611431,
           0.005390622328166993,
           0.009806245181957706,
           0.005502536751899134,
           0.012259015227403193,
           0.00589498739384508,
           0.016225781011943396,
           0.009765094266177768,
           0.00861706925043501,
           0.007585097453571951,
           0.00634490388328051,
           0.005843078034408865
          ]
         },
         "node": {
          "color": [
           "#636EFA",
           "#EF553B",
           "#EF553B",
           "#EF553B",
           "#EF553B",
           "#00CC96",
           "#00CC96",
           "#00CC96",
           "#636EFA",
           "#00CC96",
           "#EF553B",
           "#00CC96",
           "#00CC96",
           "#00CC96",
           "#636EFA",
           "#00CC96",
           "#AB63FA",
           "#EF553B",
           "#AB63FA",
           "#AB63FA",
           "#AB63FA",
           "#AB63FA",
           "#EF553B",
           "#00CC96",
           "#00CC96",
           "#AB63FA",
           "#FFA15A",
           "#00CC96",
           "#FFA15A",
           "#FFA15A",
           "#FFA15A",
           "#FFA15A",
           "#FFA15A",
           "#AB63FA",
           "#EF553B",
           "#EF553B",
           "#636EFA",
           "#FFA15A",
           "#AB63FA",
           "#EF553B",
           "#AB63FA",
           "#AB63FA",
           "#636EFA",
           "#AB63FA",
           "#FFA15A",
           "#00CC96",
           "#FFA15A",
           "#00CC96",
           "#FFA15A",
           "#00CC96",
           "#636EFA",
           "#636EFA",
           "#636EFA",
           "#AB63FA",
           "#AB63FA",
           "#636EFA",
           "#636EFA",
           "#AB63FA",
           "#00CC96",
           "#AB63FA",
           "#FFA15A",
           "#636EFA",
           "#FFA15A",
           "#AB63FA",
           "#FFA15A",
           "#636EFA",
           "#00CC96",
           "#FFA15A",
           "#AB63FA",
           "#00CC96",
           "#FFA15A",
           "#AB63FA",
           "#636EFA",
           "#636EFA",
           "#AB63FA",
           "#636EFA",
           "#AB63FA",
           "#FFA15A",
           "#AB63FA",
           "#00CC96",
           "#FFA15A",
           "#EF553B",
           "#AB63FA",
           "#EF553B",
           "#636EFA",
           "#FFA15A",
           "#EF553B",
           "#EF553B",
           "#FFA15A",
           "#AB63FA",
           "#AB63FA",
           "#AB63FA",
           "#636EFA",
           "#FFA15A",
           "#EF553B",
           "#636EFA",
           "#FFA15A",
           "#EF553B",
           "#EF553B",
           "#EF553B",
           "#00CC96",
           "#636EFA",
           "#636EFA",
           "#636EFA",
           "#AB63FA",
           "#EF553B",
           "#636EFA",
           "#636EFA",
           "#636EFA",
           "#EF553B",
           "#EF553B",
           "#636EFA",
           "#00CC96",
           "#636EFA",
           "#636EFA",
           "#00CC96",
           "#AB63FA",
           "#636EFA",
           "#EF553B",
           "#636EFA",
           "#AB63FA",
           "#636EFA",
           "#EF553B",
           "#636EFA",
           "#EF553B",
           "#636EFA",
           "#636EFA",
           "#EF553B",
           "#636EFA",
           "#636EFA",
           "#EF553B",
           "#EF553B",
           "#00CC96",
           "#00CC96",
           "#AB63FA",
           "#AB63FA",
           "#AB63FA",
           "#AB63FA",
           "#AB63FA",
           "#FFA15A",
           "#FFA15A",
           "#FFA15A",
           "#FFA15A",
           "#FFA15A",
           "#FFA15A",
           "#19D3F3"
          ],
          "customdata": [
           "L0_other",
           "L1_other",
           "negative regulation of DNA-templated transcription",
           "negative regulation of apoptotic signaling pathway",
           "cytokine-mediated signaling pathway",
           "positive regulation of DNA-templated transcription",
           "L2_other",
           "negative regulation of gene expression",
           "organophosphate biosynthetic process",
           "protein phosphorylation",
           "nucleobase-containing compound biosynthetic process",
           "apoptotic signaling pathway",
           "positive regulation of hydrolase activity",
           "negative regulation of apoptotic process",
           "positive regulation of alpha-beta T cell differentiation",
           "cellular response to cytokine stimulus",
           "L3_other",
           "regulation of actin filament organization",
           "cell surface receptor signaling pathway",
           "neuron development",
           "positive regulation of catalytic activity",
           "regulation of apoptotic process",
           "alpha-amino acid metabolic process",
           "sulfur compound metabolic process",
           "amide metabolic process",
           "response to inorganic substance",
           "L4_other",
           "anatomical structure homeostasis",
           "multi-organism reproductive process",
           "cell development",
           "protein-containing complex organization",
           "protein modification process",
           "signal transduction",
           "import into cell",
           "regulation of membrane potential",
           "developmental growth",
           "cellular process involved in reproduction in multicellular organism",
           "anatomical structure morphogenesis",
           "secretion",
           "cell population proliferation",
           "negative regulation of macromolecule metabolic process",
           "response to nutrient levels",
           "somatic diversification of immunoglobulins",
           "behavior",
           "hemopoiesis",
           "immune effector process",
           "positive regulation of immune response",
           "gene expression",
           "regulation of gene expression",
           "response to biotic stimulus",
           "antigen processing and presentation of peptide antigen via MHC class I",
           "antigen processing and presentation of exogenous antigen",
           "antigen processing and presentation of peptide or polysaccharide antigen via MHC class II",
           "regulation of immune effector process",
           "positive regulation of macromolecule biosynthetic process",
           "regulation of cellular extravasation",
           "positive regulation of cell activation",
           "regulation of response to external stimulus",
           "GO:0043900",
           "negative regulation of cellular biosynthetic process",
           "negative regulation of response to stimulus",
           "GO:0051272",
           "regulation of cell population proliferation",
           "organophosphate metabolic process",
           "phosphate-containing compound metabolic process",
           "proteoglycan metabolic process",
           "GO:0051186",
           "nucleobase-containing compound metabolic process",
           "regulation of nucleobase-containing compound metabolic process",
           "regulation of small molecule metabolic process",
           "GO:2000112",
           "organic substance biosynthetic process",
           "lysosomal transport",
           "fatty acid derivative metabolic process",
           "cellular biosynthetic process",
           "water-soluble vitamin metabolic process",
           "cellular catabolic process",
           "monoatomic ion transport",
           "vesicle-mediated transport",
           "response to topologically incorrect protein",
           "organelle organization",
           "chromosome segregation",
           "multicellular organismal reproductive process",
           "synapse organization",
           "digestion",
           "cell death",
           "detection of stimulus",
           "regulation of circadian rhythm",
           "response to hormone",
           "response to lipid",
           "response to organic cyclic compound",
           "embryo development",
           "flavonoid metabolic process",
           "negative regulation of cell communication",
           "positive regulation of peptidyl-tyrosine phosphorylation",
           "regulation of protein kinase A signaling",
           "GO:0010941",
           "regulation of transmembrane receptor protein serine/threonine kinase signaling pathway",
           "response to alkaloid",
           "viral process",
           "regulation of vesicle-mediated transport",
           "peptidyl-lysine dimethylation",
           "GO:0035637",
           "antigen processing and presentation of exogenous peptide antigen via MHC class II",
           "regulation of proteolysis",
           "regulation of cellular response to growth factor stimulus",
           "collagen catabolic process",
           "localization of cell",
           "positive regulation of vascular endothelial growth factor receptor signaling pathway",
           "regeneration",
           "regulation of protein modification by small protein conjugation or removal",
           "positive regulation of protein autophosphorylation",
           "response to ketone",
           "regulation of actin filament-based process",
           "positive regulation of peptidyl-serine phosphorylation",
           "regulation of binding",
           "response to cytokine",
           "low-density lipoprotein particle clearance",
           "response to ammonium ion",
           "somatic stem cell population maintenance",
           "regulation of hemopoiesis",
           "positive regulation of Notch signaling pathway",
           "cellular response to growth factor stimulus",
           "positive regulation of macrophage activation",
           "regulation of signal transduction by p53 class mediator",
           "regulation of bone resorption",
           "regulation of T cell receptor signaling pathway",
           "regulation of canonical Wnt signaling pathway",
           "cellular response to reactive nitrogen species",
           "regulation of amyloid-beta formation",
           "cellular modified amino acid metabolic process",
           "cellular response to external stimulus",
           "rhythmic process",
           "regulation of anatomical structure size",
           "regulation of hormone levels",
           "regulation of anatomical structure morphogenesis",
           "response to abiotic stimulus",
           "regulation of cellular component biogenesis",
           "response to peptide hormone",
           "regulation of cellular component organization",
           "system process",
           "neuron differentiation",
           "nervous system development",
           "regulation of cell cycle",
           "regulation of monoatomic ion transport",
           "biological_process"
          ],
          "hovertemplate": "%{label}: %{customdata}<extra></extra>",
          "label": [
           "L0_other",
           "L1_other",
           "GO:0045892",
           "GO:2001234",
           "GO:0019221",
           "GO:0045893",
           "L2_other",
           "GO:0010629",
           "GO:0090407",
           "GO:0006468",
           "GO:0034654",
           "GO:0097190",
           "GO:0051345",
           "GO:0043066",
           "GO:0046638",
           "GO:0071345",
           "L3_other",
           "GO:0110053",
           "GO:0007166",
           "GO:0048666",
           "GO:0043085",
           "GO:0042981",
           "GO:1901605",
           "GO:0006790",
           "GO:0043603",
           "GO:0010035",
           "L4_other",
           "GO:0060249",
           "GO:0044703",
           "GO:0048468",
           "GO:0043933",
           "GO:0006464",
           "GO:0007165",
           "GO:0098657",
           "GO:0042391",
           "GO:0048589",
           "GO:0022412",
           "GO:0009653",
           "GO:0046903",
           "GO:0008283",
           "GO:0010605",
           "GO:0031667",
           "GO:0016445",
           "GO:0007610",
           "GO:0030097",
           "GO:0002252",
           "GO:0050778",
           "GO:0010467",
           "GO:0010468",
           "GO:0009607",
           "GO:0002474",
           "GO:0019884",
           "GO:0002504",
           "GO:0002697",
           "GO:0010557",
           "GO:0002691",
           "GO:0050867",
           "GO:0032101",
           "GO:0043900",
           "GO:0031327",
           "GO:0048585",
           "GO:0051272",
           "GO:0042127",
           "GO:0019637",
           "GO:0006796",
           "GO:0006029",
           "GO:0051186",
           "GO:0006139",
           "GO:0019219",
           "GO:0062012",
           "GO:2000112",
           "GO:1901576",
           "GO:0007041",
           "GO:1901568",
           "GO:0044249",
           "GO:0006767",
           "GO:0044248",
           "GO:0006811",
           "GO:0016192",
           "GO:0035966",
           "GO:0006996",
           "GO:0007059",
           "GO:0048609",
           "GO:0050808",
           "GO:0007586",
           "GO:0008219",
           "GO:0051606",
           "GO:0042752",
           "GO:0009725",
           "GO:0033993",
           "GO:0014070",
           "GO:0009790",
           "GO:0009812",
           "GO:0010648",
           "GO:0050731",
           "GO:0010738",
           "GO:0010941",
           "GO:0090092",
           "GO:0043279",
           "GO:0016032",
           "GO:0060627",
           "GO:0018027",
           "GO:0035637",
           "GO:0019886",
           "GO:0030162",
           "GO:0090287",
           "GO:0030574",
           "GO:0051674",
           "GO:0030949",
           "GO:0031099",
           "GO:1903320",
           "GO:0031954",
           "GO:1901654",
           "GO:0032970",
           "GO:0033138",
           "GO:0051098",
           "GO:0034097",
           "GO:0034383",
           "GO:0060359",
           "GO:0035019",
           "GO:1903706",
           "GO:0045747",
           "GO:0071363",
           "GO:0043032",
           "GO:1901796",
           "GO:0045124",
           "GO:0050856",
           "GO:0060828",
           "GO:1902170",
           "GO:1902003",
           "GO:0006575",
           "GO:0071496",
           "GO:0048511",
           "GO:0090066",
           "GO:0010817",
           "GO:0022603",
           "GO:0009628",
           "GO:0044087",
           "GO:0043434",
           "GO:0051128",
           "GO:0003008",
           "GO:0030182",
           "GO:0007399",
           "GO:0051726",
           "GO:0043269",
           "GO:0008150"
          ],
          "pad": 15,
          "thickness": 20,
          "x": [
           0.01,
           0.17666666666666667,
           0.17666666666666667,
           0.17666666666666667,
           0.17666666666666667,
           0.3433333333333333,
           0.3433333333333333,
           0.3433333333333333,
           0.01,
           0.3433333333333333,
           0.17666666666666667,
           0.3433333333333333,
           0.3433333333333333,
           0.3433333333333333,
           0.01,
           0.3433333333333333,
           0.51,
           0.17666666666666667,
           0.51,
           0.51,
           0.51,
           0.51,
           0.17666666666666667,
           0.3433333333333333,
           0.3433333333333333,
           0.51,
           0.6766666666666666,
           0.3433333333333333,
           0.6766666666666666,
           0.6766666666666666,
           0.6766666666666666,
           0.6766666666666666,
           0.6766666666666666,
           0.51,
           0.17666666666666667,
           0.17666666666666667,
           0.01,
           0.6766666666666666,
           0.51,
           0.17666666666666667,
           0.51,
           0.51,
           0.01,
           0.51,
           0.6766666666666666,
           0.3433333333333333,
           0.6766666666666666,
           0.3433333333333333,
           0.6766666666666666,
           0.3433333333333333,
           0.01,
           0.01,
           0.01,
           0.51,
           0.51,
           0.01,
           0.01,
           0.51,
           0.3433333333333333,
           0.51,
           0.6766666666666666,
           0.01,
           0.6766666666666666,
           0.51,
           0.6766666666666666,
           0.01,
           0.3433333333333333,
           0.6766666666666666,
           0.51,
           0.3433333333333333,
           0.6766666666666666,
           0.51,
           0.01,
           0.01,
           0.51,
           0.01,
           0.51,
           0.6766666666666666,
           0.51,
           0.3433333333333333,
           0.6766666666666666,
           0.17666666666666667,
           0.51,
           0.17666666666666667,
           0.01,
           0.6766666666666666,
           0.17666666666666667,
           0.17666666666666667,
           0.6766666666666666,
           0.51,
           0.51,
           0.51,
           0.01,
           0.6766666666666666,
           0.17666666666666667,
           0.01,
           0.6766666666666666,
           0.17666666666666667,
           0.17666666666666667,
           0.17666666666666667,
           0.3433333333333333,
           0.01,
           0.01,
           0.01,
           0.51,
           0.17666666666666667,
           0.01,
           0.01,
           0.01,
           0.17666666666666667,
           0.17666666666666667,
           0.01,
           0.3433333333333333,
           0.01,
           0.01,
           0.3433333333333333,
           0.51,
           0.01,
           0.17666666666666667,
           0.01,
           0.51,
           0.01,
           0.17666666666666667,
           0.01,
           0.17666666666666667,
           0.01,
           0.01,
           0.17666666666666667,
           0.01,
           0.01,
           0.17666666666666667,
           0.17666666666666667,
           0.3433333333333333,
           0.3433333333333333,
           0.51,
           0.51,
           0.51,
           0.51,
           0.51,
           0.6766666666666666,
           0.6766666666666666,
           0.6766666666666666,
           0.6766666666666666,
           0.6766666666666666,
           0.6766666666666666,
           0.8433333333333334
          ],
          "y": [
           0.018571428571428572,
           0.027037037037037033,
           0.06407407407407407,
           0.10111111111111111,
           0.13814814814814813,
           0.033478260869565214,
           0.07695652173913044,
           0.12043478260869565,
           0.04714285714285714,
           0.16391304347826086,
           0.17518518518518517,
           0.20739130434782607,
           0.2508695652173913,
           0.29434782608695653,
           0.07571428571428572,
           0.3378260869565217,
           0.020303030303030302,
           0.2122222222222222,
           0.050606060606060606,
           0.08090909090909092,
           0.11121212121212122,
           0.1415151515151515,
           0.24925925925925924,
           0.38130434782608696,
           0.42478260869565215,
           0.17181818181818181,
           0.027037037037037033,
           0.4682608695652174,
           0.06407407407407407,
           0.10111111111111111,
           0.13814814814814813,
           0.17518518518518517,
           0.2122222222222222,
           0.20212121212121212,
           0.28629629629629627,
           0.3233333333333333,
           0.10428571428571429,
           0.24925925925925924,
           0.23242424242424242,
           0.36037037037037034,
           0.2627272727272727,
           0.29303030303030303,
           0.13285714285714284,
           0.3233333333333333,
           0.28629629629629627,
           0.5117391304347826,
           0.3233333333333333,
           0.5552173913043478,
           0.36037037037037034,
           0.5986956521739131,
           0.16142857142857142,
           0.19,
           0.21857142857142856,
           0.35363636363636364,
           0.3839393939393939,
           0.2471428571428571,
           0.2757142857142857,
           0.41424242424242425,
           0.6421739130434783,
           0.4445454545454545,
           0.3974074074074074,
           0.30428571428571427,
           0.4344444444444444,
           0.47484848484848485,
           0.47148148148148145,
           0.33285714285714285,
           0.6856521739130435,
           0.5085185185185185,
           0.5051515151515151,
           0.7291304347826086,
           0.5455555555555556,
           0.5354545454545454,
           0.36142857142857143,
           0.39,
           0.5657575757575758,
           0.41857142857142854,
           0.5960606060606061,
           0.5825925925925926,
           0.6263636363636363,
           0.7726086956521739,
           0.6196296296296296,
           0.3974074074074074,
           0.6566666666666666,
           0.4344444444444444,
           0.4471428571428571,
           0.6566666666666666,
           0.47148148148148145,
           0.5085185185185185,
           0.6937037037037037,
           0.686969696969697,
           0.7172727272727273,
           0.7475757575757576,
           0.4757142857142857,
           0.7307407407407407,
           0.5455555555555556,
           0.5042857142857142,
           0.7677777777777778,
           0.5825925925925926,
           0.6196296296296296,
           0.6566666666666666,
           0.8160869565217391,
           0.5328571428571428,
           0.5614285714285714,
           0.59,
           0.7778787878787878,
           0.6937037037037037,
           0.6185714285714285,
           0.6471428571428571,
           0.6757142857142857,
           0.7307407407407407,
           0.7677777777777778,
           0.7042857142857143,
           0.8595652173913043,
           0.7328571428571429,
           0.7614285714285715,
           0.9030434782608695,
           0.8081818181818182,
           0.79,
           0.8048148148148148,
           0.8185714285714286,
           0.8384848484848485,
           0.8471428571428571,
           0.8418518518518519,
           0.8757142857142857,
           0.8788888888888888,
           0.9042857142857142,
           0.9328571428571428,
           0.9159259259259259,
           0.9614285714285714,
           0.99,
           0.9529629629629629,
           0.99,
           0.9465217391304348,
           0.99,
           0.8687878787878788,
           0.899090909090909,
           0.9293939393939394,
           0.9596969696969697,
           0.99,
           0.8048148148148148,
           0.8418518518518519,
           0.8788888888888888,
           0.9159259259259259,
           0.9529629629629629,
           0.99,
           0.49
          ]
         },
         "type": "sankey"
        }
       ],
       "layout": {
        "font": {
         "size": 15
        },
        "hoverlabel": {
         "font": {
          "size": 15
         }
        },
        "template": {
         "data": {
          "bar": [
           {
            "error_x": {
             "color": "#2a3f5f"
            },
            "error_y": {
             "color": "#2a3f5f"
            },
            "marker": {
             "line": {
              "color": "#E5ECF6",
              "width": 0.5
             },
             "pattern": {
              "fillmode": "overlay",
              "size": 10,
              "solidity": 0.2
             }
            },
            "type": "bar"
           }
          ],
          "barpolar": [
           {
            "marker": {
             "line": {
              "color": "#E5ECF6",
              "width": 0.5
             },
             "pattern": {
              "fillmode": "overlay",
              "size": 10,
              "solidity": 0.2
             }
            },
            "type": "barpolar"
           }
          ],
          "carpet": [
           {
            "aaxis": {
             "endlinecolor": "#2a3f5f",
             "gridcolor": "white",
             "linecolor": "white",
             "minorgridcolor": "white",
             "startlinecolor": "#2a3f5f"
            },
            "baxis": {
             "endlinecolor": "#2a3f5f",
             "gridcolor": "white",
             "linecolor": "white",
             "minorgridcolor": "white",
             "startlinecolor": "#2a3f5f"
            },
            "type": "carpet"
           }
          ],
          "choropleth": [
           {
            "colorbar": {
             "outlinewidth": 0,
             "ticks": ""
            },
            "type": "choropleth"
           }
          ],
          "contour": [
           {
            "colorbar": {
             "outlinewidth": 0,
             "ticks": ""
            },
            "colorscale": [
             [
              0,
              "#0d0887"
             ],
             [
              0.1111111111111111,
              "#46039f"
             ],
             [
              0.2222222222222222,
              "#7201a8"
             ],
             [
              0.3333333333333333,
              "#9c179e"
             ],
             [
              0.4444444444444444,
              "#bd3786"
             ],
             [
              0.5555555555555556,
              "#d8576b"
             ],
             [
              0.6666666666666666,
              "#ed7953"
             ],
             [
              0.7777777777777778,
              "#fb9f3a"
             ],
             [
              0.8888888888888888,
              "#fdca26"
             ],
             [
              1,
              "#f0f921"
             ]
            ],
            "type": "contour"
           }
          ],
          "contourcarpet": [
           {
            "colorbar": {
             "outlinewidth": 0,
             "ticks": ""
            },
            "type": "contourcarpet"
           }
          ],
          "heatmap": [
           {
            "colorbar": {
             "outlinewidth": 0,
             "ticks": ""
            },
            "colorscale": [
             [
              0,
              "#0d0887"
             ],
             [
              0.1111111111111111,
              "#46039f"
             ],
             [
              0.2222222222222222,
              "#7201a8"
             ],
             [
              0.3333333333333333,
              "#9c179e"
             ],
             [
              0.4444444444444444,
              "#bd3786"
             ],
             [
              0.5555555555555556,
              "#d8576b"
             ],
             [
              0.6666666666666666,
              "#ed7953"
             ],
             [
              0.7777777777777778,
              "#fb9f3a"
             ],
             [
              0.8888888888888888,
              "#fdca26"
             ],
             [
              1,
              "#f0f921"
             ]
            ],
            "type": "heatmap"
           }
          ],
          "heatmapgl": [
           {
            "colorbar": {
             "outlinewidth": 0,
             "ticks": ""
            },
            "colorscale": [
             [
              0,
              "#0d0887"
             ],
             [
              0.1111111111111111,
              "#46039f"
             ],
             [
              0.2222222222222222,
              "#7201a8"
             ],
             [
              0.3333333333333333,
              "#9c179e"
             ],
             [
              0.4444444444444444,
              "#bd3786"
             ],
             [
              0.5555555555555556,
              "#d8576b"
             ],
             [
              0.6666666666666666,
              "#ed7953"
             ],
             [
              0.7777777777777778,
              "#fb9f3a"
             ],
             [
              0.8888888888888888,
              "#fdca26"
             ],
             [
              1,
              "#f0f921"
             ]
            ],
            "type": "heatmapgl"
           }
          ],
          "histogram": [
           {
            "marker": {
             "pattern": {
              "fillmode": "overlay",
              "size": 10,
              "solidity": 0.2
             }
            },
            "type": "histogram"
           }
          ],
          "histogram2d": [
           {
            "colorbar": {
             "outlinewidth": 0,
             "ticks": ""
            },
            "colorscale": [
             [
              0,
              "#0d0887"
             ],
             [
              0.1111111111111111,
              "#46039f"
             ],
             [
              0.2222222222222222,
              "#7201a8"
             ],
             [
              0.3333333333333333,
              "#9c179e"
             ],
             [
              0.4444444444444444,
              "#bd3786"
             ],
             [
              0.5555555555555556,
              "#d8576b"
             ],
             [
              0.6666666666666666,
              "#ed7953"
             ],
             [
              0.7777777777777778,
              "#fb9f3a"
             ],
             [
              0.8888888888888888,
              "#fdca26"
             ],
             [
              1,
              "#f0f921"
             ]
            ],
            "type": "histogram2d"
           }
          ],
          "histogram2dcontour": [
           {
            "colorbar": {
             "outlinewidth": 0,
             "ticks": ""
            },
            "colorscale": [
             [
              0,
              "#0d0887"
             ],
             [
              0.1111111111111111,
              "#46039f"
             ],
             [
              0.2222222222222222,
              "#7201a8"
             ],
             [
              0.3333333333333333,
              "#9c179e"
             ],
             [
              0.4444444444444444,
              "#bd3786"
             ],
             [
              0.5555555555555556,
              "#d8576b"
             ],
             [
              0.6666666666666666,
              "#ed7953"
             ],
             [
              0.7777777777777778,
              "#fb9f3a"
             ],
             [
              0.8888888888888888,
              "#fdca26"
             ],
             [
              1,
              "#f0f921"
             ]
            ],
            "type": "histogram2dcontour"
           }
          ],
          "mesh3d": [
           {
            "colorbar": {
             "outlinewidth": 0,
             "ticks": ""
            },
            "type": "mesh3d"
           }
          ],
          "parcoords": [
           {
            "line": {
             "colorbar": {
              "outlinewidth": 0,
              "ticks": ""
             }
            },
            "type": "parcoords"
           }
          ],
          "pie": [
           {
            "automargin": true,
            "type": "pie"
           }
          ],
          "scatter": [
           {
            "fillpattern": {
             "fillmode": "overlay",
             "size": 10,
             "solidity": 0.2
            },
            "type": "scatter"
           }
          ],
          "scatter3d": [
           {
            "line": {
             "colorbar": {
              "outlinewidth": 0,
              "ticks": ""
             }
            },
            "marker": {
             "colorbar": {
              "outlinewidth": 0,
              "ticks": ""
             }
            },
            "type": "scatter3d"
           }
          ],
          "scattercarpet": [
           {
            "marker": {
             "colorbar": {
              "outlinewidth": 0,
              "ticks": ""
             }
            },
            "type": "scattercarpet"
           }
          ],
          "scattergeo": [
           {
            "marker": {
             "colorbar": {
              "outlinewidth": 0,
              "ticks": ""
             }
            },
            "type": "scattergeo"
           }
          ],
          "scattergl": [
           {
            "marker": {
             "colorbar": {
              "outlinewidth": 0,
              "ticks": ""
             }
            },
            "type": "scattergl"
           }
          ],
          "scattermapbox": [
           {
            "marker": {
             "colorbar": {
              "outlinewidth": 0,
              "ticks": ""
             }
            },
            "type": "scattermapbox"
           }
          ],
          "scatterpolar": [
           {
            "marker": {
             "colorbar": {
              "outlinewidth": 0,
              "ticks": ""
             }
            },
            "type": "scatterpolar"
           }
          ],
          "scatterpolargl": [
           {
            "marker": {
             "colorbar": {
              "outlinewidth": 0,
              "ticks": ""
             }
            },
            "type": "scatterpolargl"
           }
          ],
          "scatterternary": [
           {
            "marker": {
             "colorbar": {
              "outlinewidth": 0,
              "ticks": ""
             }
            },
            "type": "scatterternary"
           }
          ],
          "surface": [
           {
            "colorbar": {
             "outlinewidth": 0,
             "ticks": ""
            },
            "colorscale": [
             [
              0,
              "#0d0887"
             ],
             [
              0.1111111111111111,
              "#46039f"
             ],
             [
              0.2222222222222222,
              "#7201a8"
             ],
             [
              0.3333333333333333,
              "#9c179e"
             ],
             [
              0.4444444444444444,
              "#bd3786"
             ],
             [
              0.5555555555555556,
              "#d8576b"
             ],
             [
              0.6666666666666666,
              "#ed7953"
             ],
             [
              0.7777777777777778,
              "#fb9f3a"
             ],
             [
              0.8888888888888888,
              "#fdca26"
             ],
             [
              1,
              "#f0f921"
             ]
            ],
            "type": "surface"
           }
          ],
          "table": [
           {
            "cells": {
             "fill": {
              "color": "#EBF0F8"
             },
             "line": {
              "color": "white"
             }
            },
            "header": {
             "fill": {
              "color": "#C8D4E3"
             },
             "line": {
              "color": "white"
             }
            },
            "type": "table"
           }
          ]
         },
         "layout": {
          "annotationdefaults": {
           "arrowcolor": "#2a3f5f",
           "arrowhead": 0,
           "arrowwidth": 1
          },
          "autotypenumbers": "strict",
          "coloraxis": {
           "colorbar": {
            "outlinewidth": 0,
            "ticks": ""
           }
          },
          "colorscale": {
           "diverging": [
            [
             0,
             "#8e0152"
            ],
            [
             0.1,
             "#c51b7d"
            ],
            [
             0.2,
             "#de77ae"
            ],
            [
             0.3,
             "#f1b6da"
            ],
            [
             0.4,
             "#fde0ef"
            ],
            [
             0.5,
             "#f7f7f7"
            ],
            [
             0.6,
             "#e6f5d0"
            ],
            [
             0.7,
             "#b8e186"
            ],
            [
             0.8,
             "#7fbc41"
            ],
            [
             0.9,
             "#4d9221"
            ],
            [
             1,
             "#276419"
            ]
           ],
           "sequential": [
            [
             0,
             "#0d0887"
            ],
            [
             0.1111111111111111,
             "#46039f"
            ],
            [
             0.2222222222222222,
             "#7201a8"
            ],
            [
             0.3333333333333333,
             "#9c179e"
            ],
            [
             0.4444444444444444,
             "#bd3786"
            ],
            [
             0.5555555555555556,
             "#d8576b"
            ],
            [
             0.6666666666666666,
             "#ed7953"
            ],
            [
             0.7777777777777778,
             "#fb9f3a"
            ],
            [
             0.8888888888888888,
             "#fdca26"
            ],
            [
             1,
             "#f0f921"
            ]
           ],
           "sequentialminus": [
            [
             0,
             "#0d0887"
            ],
            [
             0.1111111111111111,
             "#46039f"
            ],
            [
             0.2222222222222222,
             "#7201a8"
            ],
            [
             0.3333333333333333,
             "#9c179e"
            ],
            [
             0.4444444444444444,
             "#bd3786"
            ],
            [
             0.5555555555555556,
             "#d8576b"
            ],
            [
             0.6666666666666666,
             "#ed7953"
            ],
            [
             0.7777777777777778,
             "#fb9f3a"
            ],
            [
             0.8888888888888888,
             "#fdca26"
            ],
            [
             1,
             "#f0f921"
            ]
           ]
          },
          "colorway": [
           "#636efa",
           "#EF553B",
           "#00cc96",
           "#ab63fa",
           "#FFA15A",
           "#19d3f3",
           "#FF6692",
           "#B6E880",
           "#FF97FF",
           "#FECB52"
          ],
          "font": {
           "color": "#2a3f5f"
          },
          "geo": {
           "bgcolor": "white",
           "lakecolor": "white",
           "landcolor": "#E5ECF6",
           "showlakes": true,
           "showland": true,
           "subunitcolor": "white"
          },
          "hoverlabel": {
           "align": "left"
          },
          "hovermode": "closest",
          "mapbox": {
           "style": "light"
          },
          "paper_bgcolor": "white",
          "plot_bgcolor": "#E5ECF6",
          "polar": {
           "angularaxis": {
            "gridcolor": "white",
            "linecolor": "white",
            "ticks": ""
           },
           "bgcolor": "#E5ECF6",
           "radialaxis": {
            "gridcolor": "white",
            "linecolor": "white",
            "ticks": ""
           }
          },
          "scene": {
           "xaxis": {
            "backgroundcolor": "#E5ECF6",
            "gridcolor": "white",
            "gridwidth": 2,
            "linecolor": "white",
            "showbackground": true,
            "ticks": "",
            "zerolinecolor": "white"
           },
           "yaxis": {
            "backgroundcolor": "#E5ECF6",
            "gridcolor": "white",
            "gridwidth": 2,
            "linecolor": "white",
            "showbackground": true,
            "ticks": "",
            "zerolinecolor": "white"
           },
           "zaxis": {
            "backgroundcolor": "#E5ECF6",
            "gridcolor": "white",
            "gridwidth": 2,
            "linecolor": "white",
            "showbackground": true,
            "ticks": "",
            "zerolinecolor": "white"
           }
          },
          "shapedefaults": {
           "line": {
            "color": "#2a3f5f"
           }
          },
          "ternary": {
           "aaxis": {
            "gridcolor": "white",
            "linecolor": "white",
            "ticks": ""
           },
           "baxis": {
            "gridcolor": "white",
            "linecolor": "white",
            "ticks": ""
           },
           "bgcolor": "#E5ECF6",
           "caxis": {
            "gridcolor": "white",
            "linecolor": "white",
            "ticks": ""
           }
          },
          "title": {
           "x": 0.05
          },
          "xaxis": {
           "automargin": true,
           "gridcolor": "white",
           "linecolor": "white",
           "ticks": "",
           "title": {
            "standoff": 15
           },
           "zerolinecolor": "white",
           "zerolinewidth": 2
          },
          "yaxis": {
           "automargin": true,
           "gridcolor": "white",
           "linecolor": "white",
           "ticks": "",
           "title": {
            "standoff": 15
           },
           "zerolinecolor": "white",
           "zerolinewidth": 2
          }
         }
        }
       }
      }
     },
     "metadata": {},
     "output_type": "display_data"
    }
   ],
   "source": [
    "ov_sankey = plot_sankey(sankey_value_id_ov, sankey_source_id_ov, sankey_target_id_ov,\n",
    "                node_label, node_col, node_level, positive_flow=True, go_dag=go_dag, filename='Sankey_OV')"
   ]
  },
  {
   "cell_type": "code",
   "execution_count": 53,
   "metadata": {},
   "outputs": [],
   "source": [
    "sankey_value_id_brca, sankey_source_id_brca, sankey_target_id_brca\\\n",
    "    = sankey_trimming(sankey_value[:, labels == cancer_2_idx['BRCA']].mean(axis=1, keepdims=True), \n",
    "                      sankey_source, sankey_target, \n",
    "                    node_label_id, \n",
    "                    sample_id = 0, \n",
    "                    percent_keep = [0.04, 0.1, 0.15, 0.3, 0.5])  # [0.015, 0.05, 0.075, 0.09, 0.17]"
   ]
  },
  {
   "cell_type": "code",
   "execution_count": 54,
   "metadata": {},
   "outputs": [
    {
     "data": {
      "application/vnd.plotly.v1+json": {
       "config": {
        "plotlyServerURL": "https://plot.ly"
       },
       "data": [
        {
         "arrangement": "snap",
         "link": {
          "source": [
           0,
           0,
           0,
           0,
           0,
           0,
           0,
           1,
           1,
           0,
           0,
           0,
           2,
           0,
           0,
           3,
           4,
           0,
           0,
           5,
           0,
           2,
           0,
           6,
           0,
           0,
           7,
           0,
           0,
           7,
           0,
           8,
           9,
           0,
           8,
           10,
           8,
           8,
           11,
           8,
           0,
           12,
           0,
           8,
           0,
           8,
           0,
           0,
           13,
           14,
           8,
           13,
           0,
           8,
           15,
           12,
           8,
           0,
           8,
           0,
           16,
           8,
           0,
           8,
           8,
           0,
           8,
           17,
           8,
           8,
           0,
           18,
           8,
           19,
           8,
           8,
           20,
           0,
           21,
           0,
           8,
           0,
           22,
           23,
           0,
           0,
           24,
           22,
           8,
           0,
           4,
           22,
           0,
           0,
           22,
           22,
           25,
           8,
           22,
           26,
           27,
           28,
           26,
           0,
           22,
           0,
           8,
           29,
           0,
           0,
           30,
           31,
           32,
           8,
           0,
           22,
           33,
           8,
           22,
           8,
           22,
           0,
           8,
           34,
           22,
           12,
           10,
           8,
           22,
           8,
           0,
           0,
           0,
           35,
           36,
           22,
           7,
           0,
           22,
           37,
           0,
           22,
           38,
           22,
           3,
           0,
           39,
           8,
           21,
           0,
           8,
           38,
           8,
           40,
           39,
           0,
           41,
           42,
           43,
           22,
           4,
           38,
           0,
           22,
           22,
           8,
           38,
           44,
           45,
           0,
           29,
           46,
           8,
           47,
           22,
           38,
           48,
           49,
           0,
           38,
           22,
           16,
           38,
           50,
           48,
           51,
           52,
           38,
           22,
           53,
           24,
           0,
           8,
           22,
           38,
           0,
           50,
           38,
           0,
           22,
           38,
           54,
           55,
           8,
           56,
           0,
           54,
           55,
           8,
           8,
           22,
           38,
           22,
           57,
           0,
           47,
           58,
           15,
           59,
           60,
           61,
           8,
           38,
           0,
           0,
           22,
           38,
           0,
           22,
           20,
           32,
           19,
           62,
           22,
           38,
           0,
           63,
           0,
           64,
           65,
           66,
           22,
           38,
           8,
           67,
           68,
           69,
           70,
           71,
           72,
           73,
           74,
           75,
           76,
           77,
           78,
           79,
           80,
           81,
           82,
           83,
           84,
           85,
           86,
           87,
           88,
           89,
           90,
           91,
           92,
           93,
           94,
           95,
           96,
           97,
           98,
           99,
           100,
           101,
           102,
           103,
           104,
           105,
           106,
           107,
           108,
           109,
           110,
           111,
           112,
           113,
           114,
           115,
           116,
           117,
           118,
           119,
           120,
           121,
           122,
           123,
           124,
           125,
           126,
           127,
           128,
           129,
           130,
           131
          ],
          "target": [
           8,
           63,
           9,
           132,
           10,
           23,
           133,
           8,
           70,
           134,
           12,
           13,
           8,
           58,
           18,
           8,
           8,
           78,
           31,
           8,
           16,
           16,
           94,
           8,
           135,
           114,
           8,
           121,
           136,
           137,
           138,
           22,
           22,
           65,
           65,
           22,
           42,
           139,
           22,
           34,
           34,
           34,
           140,
           37,
           37,
           29,
           29,
           26,
           26,
           22,
           141,
           32,
           30,
           30,
           22,
           22,
           49,
           49,
           80,
           80,
           80,
           81,
           81,
           84,
           88,
           88,
           142,
           22,
           96,
           57,
           143,
           120,
           122,
           122,
           124,
           125,
           22,
           144,
           38,
           38,
           38,
           50,
           50,
           39,
           39,
           40,
           40,
           43,
           43,
           145,
           145,
           146,
           147,
           55,
           55,
           45,
           47,
           47,
           47,
           73,
           73,
           73,
           74,
           74,
           75,
           75,
           76,
           76,
           76,
           48,
           48,
           48,
           38,
           79,
           79,
           79,
           38,
           148,
           62,
           87,
           87,
           149,
           98,
           38,
           150,
           150,
           102,
           54,
           107,
           107,
           107,
           60,
           151,
           38,
           38,
           152,
           38,
           111,
           111,
           111,
           123,
           123,
           64,
           64,
           64,
           66,
           66,
           66,
           153,
           153,
           154,
           154,
           64,
           64,
           67,
           67,
           67,
           68,
           68,
           68,
           68,
           68,
           155,
           155,
           69,
           69,
           69,
           69,
           71,
           71,
           72,
           72,
           72,
           72,
           72,
           72,
           64,
           156,
           82,
           82,
           83,
           83,
           83,
           85,
           91,
           91,
           64,
           92,
           92,
           93,
           93,
           95,
           95,
           95,
           97,
           97,
           99,
           100,
           100,
           100,
           103,
           103,
           103,
           103,
           103,
           105,
           105,
           106,
           106,
           108,
           108,
           109,
           110,
           110,
           110,
           64,
           64,
           64,
           64,
           64,
           64,
           113,
           113,
           113,
           115,
           117,
           118,
           118,
           118,
           64,
           64,
           64,
           126,
           130,
           130,
           130,
           157,
           157,
           157,
           157,
           157,
           157,
           157,
           157,
           157,
           157,
           157,
           157,
           157,
           157,
           157,
           157,
           157,
           157,
           157,
           157,
           157,
           157,
           157,
           157,
           157,
           157,
           157,
           157,
           157,
           157,
           157,
           157,
           157,
           157,
           157,
           157,
           157,
           157,
           157,
           157,
           157,
           157,
           157,
           157,
           157,
           157,
           157,
           157,
           157,
           157,
           157,
           157,
           157,
           157,
           157,
           157,
           157,
           157,
           157,
           157,
           157,
           157,
           157,
           157,
           157,
           157,
           157,
           157,
           157,
           157,
           157,
           157,
           157
          ],
          "value": [
           0.06463022128790852,
           0.0033798593381400375,
           0.004402075212111591,
           0.00022704545490440784,
           0.0011129270836088658,
           0.0034401031086739335,
           0.00021194040764992844,
           0.004294870714811134,
           0.001964115523932865,
           0.0026932810161482083,
           0.0035213010729060936,
           0.0001588279387191351,
           0.009511759455005554,
           0.0010050364839105231,
           0.0025145416991900205,
           0.003900961415827112,
           0.00002965688715995153,
           0.004112952035981129,
           0.0007732721281028566,
           0.005264351217648347,
           0.0006818350795686399,
           0.00403548009175156,
           0.0009069217309070738,
           0.0006911000302494571,
           0.000254837078236504,
           0.0015406492688298619,
           0.001563464880172418,
           0.0013712371801519305,
           0.0006092806594485112,
           0.00015550782127969474,
           0.00013890773201997368,
           0.04819155356420812,
           0.012198108775112076,
           0.000006960940767859964,
           0.004129143378783362,
           0.0072732623485692195,
           0.0011809537830735114,
           0.0037801022122754694,
           0.00008209548434954428,
           0.00005113108415350495,
           0.0002372661811948164,
           0.0010215739681920099,
           0.000012277319554100472,
           0.0015540861063046898,
           0.004198753512607378,
           0.003734066574543695,
           0.0043681865716303616,
           0.0023663534105157523,
           0.004398229585763862,
           0.0017468460178641934,
           0.0010584080259620392,
           0.001871733660875834,
           0.005212421294165975,
           0.004651194584822844,
           0.0031215623299451346,
           0.003993845544375703,
           0.0012573531012642794,
           0.000378819429423888,
           0.0034517814284294964,
           0.001225695612430168,
           0.004452330446336347,
           0.0057902816990151275,
           0.0026202883117138424,
           0.0006775452695185218,
           0.0018705638966377113,
           0.0007934466042545683,
           0.0010352812034566507,
           0.0004325087398395087,
           0.0032253104585815615,
           0.0020098995561727393,
           0.0025443217217258497,
           0.004559094866655609,
           0.003753855905172202,
           0.0015080289711379737,
           0.0006618880777365391,
           0.0028076061819687333,
           0.0006800685420558548,
           0.0004311386431085811,
           0.00009934183216403277,
           0.004587963230685889,
           0.013273301611895195,
           0.002706010537239065,
           0.009154163924307877,
           0.01392871242197772,
           0.0015941074030603646,
           0.003391363662398797,
           0.0015976570210072762,
           0.0019336746438313186,
           0.0005920378385477292,
           0.006782734931773221,
           0.00007233590378056748,
           0.0014256617335692502,
           0.00044620032140746586,
           0.0003240076168682606,
           0.004462906854578429,
           0.004713322141271551,
           0.002074933541201706,
           0.0029206629058618335,
           0.0018282892554908588,
           0.008713034552182029,
           0.008800698324461021,
           0.015046855695119384,
           0.005061246268349838,
           0.0023943850278852034,
           0.006804757949040194,
           0.0016685755659745008,
           0.008131163364076372,
           0.008767916658817166,
           0.005291978565559384,
           0.0005058222224373346,
           0.025015350449464135,
           0.00912503859189774,
           0.005559361663863699,
           0.00033345728686957644,
           0.0006323775826399659,
           0.0007395067195373083,
           0.0005788035735183147,
           0.001127564063744811,
           0.008970865173928987,
           0.003009034086689668,
           0.003916723838147014,
           0.0021198075984711425,
           0.0016886876212350228,
           0.009565889772466016,
           0.0016530932594914299,
           0.005842298678984964,
           0.0025940846179394327,
           0.001835727766113316,
           0.00022997021817167292,
           0.0013351112605644868,
           0.0010648777745534482,
           0.0006326380498762191,
           0.00035852842518748623,
           0.00034987876640427097,
           0.0005132438699559257,
           0.0005105353683046555,
           0.003856203635458208,
           0.00008350557604538173,
           0.006305545279471477,
           0.00453588401367879,
           0.0027241302411588706,
           0.0002616401658836463,
           0.004643545960738403,
           0.0010708568393512936,
           0.006716980884065439,
           0.006394327521950896,
           0.0027657208283674564,
           0.0028878741280737464,
           0.007772623116780771,
           0.0031468363628673283,
           0.0018216160673839292,
           0.004096980125129476,
           0.01749243282081397,
           0.008443157206024052,
           0.011856858980069333,
           0.00337337925509286,
           0.0064735648027191145,
           0.01620473061949376,
           0.020264534965697658,
           0.0008170826001260966,
           0.01445036221986432,
           0.008911697087711412,
           0.0014160539395109343,
           0.0035605981333043514,
           0.0029443394839505513,
           0.0027370675267087696,
           0.011333748968727788,
           0.010271577719982977,
           0.014503256431992302,
           0.000039187005242644836,
           0.023378159884542716,
           0.01129380518419746,
           0.00039760393324416354,
           0.004860169360615005,
           0.0026481420746175925,
           0.003982847891721565,
           0.028380875623372374,
           0.017104811826994044,
           0.005387070604717492,
           0.003661475704051199,
           0.002394171055287512,
           0.006380785133114166,
           0.004568042581603811,
           0.01148127863367474,
           0.007583369475280232,
           0.0034471446705639833,
           0.004554664469856866,
           0.0008709941273121104,
           0.008518326680907413,
           0.007335409050488604,
           0.00647690506414246,
           0.0018218298929353082,
           0.0014338013193139051,
           0.000467635498935022,
           0.0007261848564824709,
           0.0017664851998001562,
           0.006229026784021886,
           0.004364917762195069,
           0.0034252582333874786,
           0.0011748239913992632,
           0.005429226479411097,
           0.013365239264767032,
           0.00437092662023952,
           0.0011108202619683116,
           0.008009346200637308,
           0.006903337789837694,
           0.012930886666696872,
           0.014591123535288155,
           0.0009110517015449205,
           0.008318655325894608,
           0.004999225257013896,
           0.0029017494855005464,
           0.004381224830894896,
           0.009285279693014816,
           0.0027472933936829877,
           0.027717925924933193,
           0.0014267596093190027,
           0.004865705258696937,
           0.007939623564552,
           0.012353641729547636,
           0.003913303133789031,
           0.003795114237421635,
           0.008667353551916633,
           0.00142720853339405,
           0.0107852508478073,
           0.001063813738818233,
           0.0019229154105257467,
           0.0030963240893476483,
           0.005491148936858806,
           0.009604345755399481,
           0.0030662494929072927,
           0.005153991167847884,
           0.03252025798367253,
           0.00192166123275654,
           0.0033757861100521354,
           0.004562927129880837,
           0.010805797371535922,
           0.02312075893085266,
           0.03258209483389905,
           0.011635610661541902,
           0.009064447644480875,
           0.06575915893106232,
           0.04959844343093662,
           0.014308178287889826,
           0.014317612080910834,
           0.011391641276948984,
           0.015464024455162517,
           0.01258783840322766,
           0.02151865990988664,
           0.01215516801023883,
           0.0403933288212429,
           0.028262822014429676,
           0.018440890133394578,
           0.01607212217915781,
           0.018024468655252354,
           0.013588422864712523,
           0.015191768604747455,
           0.020198612557706188,
           0.013343407766780092,
           0.009263096232117445,
           0.02417992791620749,
           0.011390499600391332,
           0.028039993223673027,
           0.054088072399930104,
           0.014446238693839717,
           0.008952616467918324,
           0.011263209066705413,
           0.00977828596875048,
           0.01062126947500935,
           0.008599077218698688,
           0.008616246206657924,
           0.013874517990183074,
           0.0115211928515869,
           0.017835369902476354,
           0.018456711126872607,
           0.018757636356476533,
           0.009562991460614846,
           0.011757050812219675,
           0.007623779639337305,
           0.01745971491190444,
           0.015059847277670707,
           0.011076129606898709,
           0.02216170961444029,
           0.015760259280540583,
           0.03141413227208018,
           0.0245891312401819,
           0.022690137239287086,
           0.013139333496818005,
           0.02086178713195327,
           0.008090048489188024,
           0.016127015248921257,
           0.007624169151768043,
           0.01032725576344394,
           0.012469147107577338,
           0.020167761859166387,
           0.008056467999369831,
           0.020848978684226895,
           0.013753729980852732,
           0.011243560334701891,
           0.014254350781993802,
           0.014875430969476232,
           0.012054007750384012,
           0.011209715231796593,
           0.0075062805287224,
           0.008137553856326397,
           0.0073231730687346374,
           0.014558814776415735,
           0.018322394357083646,
           0.00826987770475329
          ]
         },
         "node": {
          "color": [
           "#636EFA",
           "#636EFA",
           "#636EFA",
           "#636EFA",
           "#636EFA",
           "#636EFA",
           "#636EFA",
           "#636EFA",
           "#EF553B",
           "#EF553B",
           "#EF553B",
           "#636EFA",
           "#EF553B",
           "#EF553B",
           "#636EFA",
           "#636EFA",
           "#EF553B",
           "#EF553B",
           "#EF553B",
           "#636EFA",
           "#EF553B",
           "#636EFA",
           "#00CC96",
           "#EF553B",
           "#636EFA",
           "#636EFA",
           "#00CC96",
           "#636EFA",
           "#636EFA",
           "#00CC96",
           "#00CC96",
           "#EF553B",
           "#00CC96",
           "#EF553B",
           "#00CC96",
           "#00CC96",
           "#00CC96",
           "#00CC96",
           "#AB63FA",
           "#AB63FA",
           "#AB63FA",
           "#636EFA",
           "#00CC96",
           "#AB63FA",
           "#636EFA",
           "#AB63FA",
           "#636EFA",
           "#AB63FA",
           "#AB63FA",
           "#00CC96",
           "#AB63FA",
           "#636EFA",
           "#636EFA",
           "#636EFA",
           "#AB63FA",
           "#AB63FA",
           "#636EFA",
           "#00CC96",
           "#EF553B",
           "#636EFA",
           "#AB63FA",
           "#EF553B",
           "#AB63FA",
           "#EF553B",
           "#FFA15A",
           "#00CC96",
           "#FFA15A",
           "#FFA15A",
           "#FFA15A",
           "#FFA15A",
           "#EF553B",
           "#FFA15A",
           "#FFA15A",
           "#AB63FA",
           "#AB63FA",
           "#AB63FA",
           "#AB63FA",
           "#AB63FA",
           "#EF553B",
           "#AB63FA",
           "#00CC96",
           "#00CC96",
           "#FFA15A",
           "#FFA15A",
           "#00CC96",
           "#FFA15A",
           "#AB63FA",
           "#AB63FA",
           "#00CC96",
           "#636EFA",
           "#EF553B",
           "#FFA15A",
           "#FFA15A",
           "#FFA15A",
           "#EF553B",
           "#FFA15A",
           "#00CC96",
           "#FFA15A",
           "#AB63FA",
           "#FFA15A",
           "#FFA15A",
           "#636EFA",
           "#AB63FA",
           "#FFA15A",
           "#636EFA",
           "#FFA15A",
           "#FFA15A",
           "#AB63FA",
           "#FFA15A",
           "#FFA15A",
           "#FFA15A",
           "#AB63FA",
           "#636EFA",
           "#FFA15A",
           "#EF553B",
           "#FFA15A",
           "#636EFA",
           "#FFA15A",
           "#FFA15A",
           "#636EFA",
           "#00CC96",
           "#EF553B",
           "#00CC96",
           "#AB63FA",
           "#00CC96",
           "#00CC96",
           "#FFA15A",
           "#636EFA",
           "#636EFA",
           "#636EFA",
           "#FFA15A",
           "#636EFA",
           "#EF553B",
           "#EF553B",
           "#EF553B",
           "#EF553B",
           "#EF553B",
           "#EF553B",
           "#EF553B",
           "#00CC96",
           "#00CC96",
           "#00CC96",
           "#00CC96",
           "#00CC96",
           "#AB63FA",
           "#AB63FA",
           "#AB63FA",
           "#AB63FA",
           "#AB63FA",
           "#AB63FA",
           "#AB63FA",
           "#AB63FA",
           "#AB63FA",
           "#FFA15A",
           "#FFA15A",
           "#FFA15A",
           "#FFA15A",
           "#19D3F3"
          ],
          "customdata": [
           "L0_other",
           "neurotransmitter secretion",
           "neutrophil degranulation",
           "negative regulation of MAP kinase activity",
           "positive regulation of focal adhesion assembly",
           "nephron tubule morphogenesis",
           "nuclear chromosome segregation",
           "response to cocaine",
           "L1_other",
           "positive regulation of transcription by RNA polymerase II",
           "xenobiotic catabolic process",
           "G protein-coupled serotonin receptor signaling pathway",
           "nucleobase-containing compound biosynthetic process",
           "positive regulation of cytokine production",
           "embryonic heart tube development",
           "neural tube formation",
           "leukocyte activation involved in immune response",
           "regulation of actin filament organization",
           "regulation of exocytosis",
           "negative regulation of protein transport",
           "positive regulation of intracellular protein transport",
           "regulation of cell cycle",
           "L2_other",
           "protein-containing complex assembly",
           "photoreceptor cell development",
           "digestive tract morphogenesis",
           "positive regulation of cytokine production",
           "regulation of interleukin-1 beta production",
           "positive regulation of interferon-beta production",
           "animal organ morphogenesis",
           "negative regulation of intracellular signal transduction",
           "negative regulation of apoptotic signaling pathway",
           "positive regulation of protein secretion",
           "regulation of cell morphogenesis",
           "organic cyclic compound biosynthetic process",
           "positive regulation of hydrolase activity",
           "brain development",
           "embryonic morphogenesis",
           "L3_other",
           "protein-containing complex assembly",
           "neuron development",
           "beta-catenin destruction complex disassembly",
           "regulation of cell growth",
           "regulation of organelle organization",
           "signal transduction involved in cellular response to ammonium ion",
           "intracellular monoatomic ion homeostasis",
           "body morphogenesis",
           "tube morphogenesis",
           "negative regulation of signal transduction",
           "myeloid cell differentiation",
           "regulation of DNA-templated transcription",
           "negative regulation of BMP signaling pathway",
           "adipose tissue development",
           "dopaminergic neuron differentiation",
           "monoatomic ion transmembrane transport",
           "organic anion transport",
           "chloride transmembrane transport",
           "positive regulation of cell cycle",
           "lung development",
           "branching involved in ureteric bud morphogenesis",
           "apoptotic process",
           "response to estradiol",
           "regulation of cell migration",
           "cellular modified amino acid metabolic process",
           "L4_other",
           "sulfur compound metabolic process",
           "cellular component assembly",
           "protein-containing complex organization",
           "regulation of cellular component organization",
           "signal transduction",
           "GO:0001505",
           "intracellular chemical homeostasis",
           "anatomical structure morphogenesis",
           "regulation of cytokine production",
           "positive regulation of multicellular organismal process",
           "secretion",
           "animal organ development",
           "negative regulation of macromolecule metabolic process",
           "regulation of cytokine-mediated signaling pathway",
           "regulation of hormone levels",
           "immune response",
           "immune effector process",
           "positive regulation of immune response",
           "leukocyte activation",
           "gene expression",
           "regulation of gene expression",
           "positive regulation of macromolecule biosynthetic process",
           "regulation of response to external stimulus",
           "GO:0043900",
           "positive regulation of response to biotic stimulus",
           "positive regulation of cellular biosynthetic process",
           "negative regulation of response to stimulus",
           "system process",
           "neuron differentiation",
           "regulation of cell division",
           "carboxylic acid metabolic process",
           "GO:0055114",
           "nucleobase-containing compound metabolic process",
           "regulation of nucleobase-containing compound metabolic process",
           "GO:2000112",
           "organic substance catabolic process",
           "water-soluble vitamin metabolic process",
           "cellular catabolic process",
           "monoatomic ion transport",
           "GO:0051181",
           "transmembrane transport",
           "organic substance transport",
           "vesicle-mediated transport",
           "organelle organization",
           "nervous system development",
           "regulation of cell cycle",
           "embryo development",
           "regulation of sulfur metabolic process",
           "regulation of cellular localization",
           "positive regulation of peptidyl-tyrosine phosphorylation",
           "positive regulation of intracellular signal transduction",
           "regulation of cholesterol storage",
           "GO:0010941",
           "regulation of monoatomic ion transport",
           "vitamin transport",
           "regulation of vesicle-mediated transport",
           "regulation of cellular response to growth factor stimulus",
           "negative regulation of transport",
           "regulation of system process",
           "locomotion",
           "regulation of anatomical structure size",
           "regulation of locomotion",
           "positive regulation of macrophage activation",
           "establishment of RNA localization",
           "regulation of cellular response to insulin stimulus",
           "cellular localization",
           "regulation of smooth muscle cell differentiation",
           "cell projection assembly",
           "regulation of RNA metabolic process",
           "vasculature development",
           "positive regulation of DNA-binding transcription factor activity",
           "cellular response to external stimulus",
           "response to ammonium ion",
           "regulation of signal transduction by p53 class mediator",
           "protein phosphorylation",
           "aromatic compound biosynthetic process",
           "negative regulation of gene expression",
           "GO:2000113",
           "cellular response to peptide hormone stimulus",
           "mitotic cell cycle process",
           "positive regulation of cellular component organization",
           "peptidyl-amino acid modification",
           "cell surface receptor signaling pathway",
           "leukocyte differentiation",
           "phosphorylation",
           "cellular biosynthetic process",
           "positive regulation of catalytic activity",
           "multicellular organismal reproductive process",
           "cell cycle process",
           "multi-organism reproductive process",
           "protein modification process",
           "hemopoiesis",
           "biological_process"
          ],
          "hovertemplate": "%{label}: %{customdata}<extra></extra>",
          "label": [
           "L0_other",
           "GO:0007269",
           "GO:0043312",
           "GO:0043407",
           "GO:0051894",
           "GO:0072078",
           "GO:0098813",
           "GO:0042220",
           "L1_other",
           "GO:0045944",
           "GO:0042737",
           "GO:0098664",
           "GO:0034654",
           "GO:0050715",
           "GO:0035050",
           "GO:0001841",
           "GO:0002366",
           "GO:0110053",
           "GO:0017157",
           "GO:0051224",
           "GO:0090316",
           "GO:0007050",
           "L2_other",
           "GO:0034622",
           "GO:0042461",
           "GO:0048546",
           "GO:0001819",
           "GO:0032651",
           "GO:0032728",
           "GO:0009887",
           "GO:1902532",
           "GO:2001234",
           "GO:0050714",
           "GO:0022604",
           "GO:1901362",
           "GO:0051345",
           "GO:0007420",
           "GO:0048598",
           "L3_other",
           "GO:0065003",
           "GO:0048666",
           "GO:1904886",
           "GO:0001558",
           "GO:0033043",
           "GO:1903831",
           "GO:0006873",
           "GO:0010171",
           "GO:0035239",
           "GO:0009968",
           "GO:0030099",
           "GO:0006355",
           "GO:0030514",
           "GO:0060612",
           "GO:0071542",
           "GO:0034220",
           "GO:0015711",
           "GO:1902476",
           "GO:0045787",
           "GO:0030324",
           "GO:0001658",
           "GO:0006915",
           "GO:0032355",
           "GO:0030334",
           "GO:0006575",
           "L4_other",
           "GO:0006790",
           "GO:0022607",
           "GO:0043933",
           "GO:0051128",
           "GO:0007165",
           "GO:0001505",
           "GO:0055082",
           "GO:0009653",
           "GO:0001817",
           "GO:0051240",
           "GO:0046903",
           "GO:0048513",
           "GO:0010605",
           "GO:0001959",
           "GO:0010817",
           "GO:0006955",
           "GO:0002252",
           "GO:0050778",
           "GO:0045321",
           "GO:0010467",
           "GO:0010468",
           "GO:0010557",
           "GO:0032101",
           "GO:0043900",
           "GO:0002833",
           "GO:0031328",
           "GO:0048585",
           "GO:0003008",
           "GO:0030182",
           "GO:0051302",
           "GO:0019752",
           "GO:0055114",
           "GO:0006139",
           "GO:0019219",
           "GO:2000112",
           "GO:1901575",
           "GO:0006767",
           "GO:0044248",
           "GO:0006811",
           "GO:0051181",
           "GO:0055085",
           "GO:0071702",
           "GO:0016192",
           "GO:0006996",
           "GO:0007399",
           "GO:0051726",
           "GO:0009790",
           "GO:0042762",
           "GO:0060341",
           "GO:0050731",
           "GO:1902533",
           "GO:0010885",
           "GO:0010941",
           "GO:0043269",
           "GO:0051180",
           "GO:0060627",
           "GO:0090287",
           "GO:0051051",
           "GO:0044057",
           "GO:0040011",
           "GO:0090066",
           "GO:0040012",
           "GO:0043032",
           "GO:0051236",
           "GO:1900076",
           "GO:0051641",
           "GO:0051150",
           "GO:0030031",
           "GO:0051252",
           "GO:0001944",
           "GO:0051091",
           "GO:0071496",
           "GO:0060359",
           "GO:1901796",
           "GO:0006468",
           "GO:0019438",
           "GO:0010629",
           "GO:2000113",
           "GO:0071375",
           "GO:1903047",
           "GO:0051130",
           "GO:0018193",
           "GO:0007166",
           "GO:0002521",
           "GO:0016310",
           "GO:0044249",
           "GO:0043085",
           "GO:0048609",
           "GO:0022402",
           "GO:0044703",
           "GO:0006464",
           "GO:0030097",
           "GO:0008150"
          ],
          "pad": 15,
          "thickness": 20,
          "x": [
           0.01,
           0.01,
           0.01,
           0.01,
           0.01,
           0.01,
           0.01,
           0.01,
           0.17666666666666667,
           0.17666666666666667,
           0.17666666666666667,
           0.01,
           0.17666666666666667,
           0.17666666666666667,
           0.01,
           0.01,
           0.17666666666666667,
           0.17666666666666667,
           0.17666666666666667,
           0.01,
           0.17666666666666667,
           0.01,
           0.3433333333333333,
           0.17666666666666667,
           0.01,
           0.01,
           0.3433333333333333,
           0.01,
           0.01,
           0.3433333333333333,
           0.3433333333333333,
           0.17666666666666667,
           0.3433333333333333,
           0.17666666666666667,
           0.3433333333333333,
           0.3433333333333333,
           0.3433333333333333,
           0.3433333333333333,
           0.51,
           0.51,
           0.51,
           0.01,
           0.3433333333333333,
           0.51,
           0.01,
           0.51,
           0.01,
           0.51,
           0.51,
           0.3433333333333333,
           0.51,
           0.01,
           0.01,
           0.01,
           0.51,
           0.51,
           0.01,
           0.3433333333333333,
           0.17666666666666667,
           0.01,
           0.51,
           0.17666666666666667,
           0.51,
           0.17666666666666667,
           0.6766666666666666,
           0.3433333333333333,
           0.6766666666666666,
           0.6766666666666666,
           0.6766666666666666,
           0.6766666666666666,
           0.17666666666666667,
           0.6766666666666666,
           0.6766666666666666,
           0.51,
           0.51,
           0.51,
           0.51,
           0.51,
           0.17666666666666667,
           0.51,
           0.3433333333333333,
           0.3433333333333333,
           0.6766666666666666,
           0.6766666666666666,
           0.3433333333333333,
           0.6766666666666666,
           0.51,
           0.51,
           0.3433333333333333,
           0.01,
           0.17666666666666667,
           0.6766666666666666,
           0.6766666666666666,
           0.6766666666666666,
           0.17666666666666667,
           0.6766666666666666,
           0.3433333333333333,
           0.6766666666666666,
           0.51,
           0.6766666666666666,
           0.6766666666666666,
           0.01,
           0.51,
           0.6766666666666666,
           0.01,
           0.6766666666666666,
           0.6766666666666666,
           0.51,
           0.6766666666666666,
           0.6766666666666666,
           0.6766666666666666,
           0.51,
           0.01,
           0.6766666666666666,
           0.17666666666666667,
           0.6766666666666666,
           0.01,
           0.6766666666666666,
           0.6766666666666666,
           0.01,
           0.3433333333333333,
           0.17666666666666667,
           0.3433333333333333,
           0.51,
           0.3433333333333333,
           0.3433333333333333,
           0.6766666666666666,
           0.01,
           0.01,
           0.01,
           0.6766666666666666,
           0.01,
           0.17666666666666667,
           0.17666666666666667,
           0.17666666666666667,
           0.17666666666666667,
           0.17666666666666667,
           0.17666666666666667,
           0.17666666666666667,
           0.3433333333333333,
           0.3433333333333333,
           0.3433333333333333,
           0.3433333333333333,
           0.3433333333333333,
           0.51,
           0.51,
           0.51,
           0.51,
           0.51,
           0.51,
           0.51,
           0.51,
           0.51,
           0.6766666666666666,
           0.6766666666666666,
           0.6766666666666666,
           0.6766666666666666,
           0.8433333333333334
          ],
          "y": [
           0.018571428571428572,
           0.04714285714285714,
           0.07571428571428572,
           0.10428571428571429,
           0.13285714285714284,
           0.16142857142857142,
           0.19,
           0.21857142857142856,
           0.02571428571428571,
           0.06142857142857142,
           0.09714285714285714,
           0.2471428571428571,
           0.13285714285714284,
           0.16857142857142857,
           0.2757142857142857,
           0.30428571428571427,
           0.20428571428571426,
           0.24,
           0.2757142857142857,
           0.33285714285714285,
           0.31142857142857144,
           0.36142857142857143,
           0.027037037037037033,
           0.34714285714285714,
           0.39,
           0.41857142857142854,
           0.06407407407407407,
           0.4471428571428571,
           0.4757142857142857,
           0.10111111111111111,
           0.13814814814814813,
           0.38285714285714284,
           0.17518518518518517,
           0.41857142857142854,
           0.2122222222222222,
           0.24925925925925924,
           0.28629629629629627,
           0.3233333333333333,
           0.01941176470588235,
           0.0488235294117647,
           0.07823529411764707,
           0.5042857142857142,
           0.36037037037037034,
           0.10764705882352942,
           0.5328571428571428,
           0.13705882352941176,
           0.5614285714285714,
           0.16647058823529412,
           0.19588235294117645,
           0.3974074074074074,
           0.2252941176470588,
           0.59,
           0.6185714285714285,
           0.6471428571428571,
           0.25470588235294117,
           0.28411764705882353,
           0.6757142857142857,
           0.4344444444444444,
           0.4542857142857143,
           0.7042857142857143,
           0.3135294117647059,
           0.49,
           0.34294117647058825,
           0.5257142857142857,
           0.020303030303030302,
           0.47148148148148145,
           0.050606060606060606,
           0.08090909090909092,
           0.11121212121212122,
           0.1415151515151515,
           0.5614285714285714,
           0.17181818181818181,
           0.20212121212121212,
           0.37235294117647055,
           0.4017647058823529,
           0.43117647058823527,
           0.46058823529411763,
           0.49,
           0.5971428571428571,
           0.5194117647058824,
           0.5085185185185185,
           0.5455555555555556,
           0.23242424242424242,
           0.2627272727272727,
           0.5825925925925926,
           0.29303030303030303,
           0.5488235294117647,
           0.5782352941176471,
           0.6196296296296296,
           0.7328571428571429,
           0.6328571428571429,
           0.3233333333333333,
           0.35363636363636364,
           0.3839393939393939,
           0.6685714285714286,
           0.41424242424242425,
           0.6566666666666666,
           0.4445454545454545,
           0.6076470588235294,
           0.47484848484848485,
           0.5051515151515151,
           0.7614285714285715,
           0.6370588235294118,
           0.5354545454545454,
           0.79,
           0.5657575757575758,
           0.5960606060606061,
           0.6664705882352941,
           0.6263636363636363,
           0.6566666666666666,
           0.686969696969697,
           0.6958823529411765,
           0.8185714285714286,
           0.7172727272727273,
           0.7042857142857143,
           0.7475757575757576,
           0.8471428571428571,
           0.7778787878787878,
           0.8081818181818182,
           0.8757142857142857,
           0.6937037037037037,
           0.74,
           0.7307407407407407,
           0.7252941176470589,
           0.7677777777777778,
           0.8048148148148148,
           0.8384848484848485,
           0.9042857142857142,
           0.9328571428571428,
           0.9614285714285714,
           0.8687878787878788,
           0.99,
           0.7757142857142857,
           0.8114285714285714,
           0.8471428571428571,
           0.8828571428571429,
           0.9185714285714286,
           0.9542857142857143,
           0.99,
           0.8418518518518519,
           0.8788888888888888,
           0.9159259259259259,
           0.9529629629629629,
           0.99,
           0.7547058823529411,
           0.7841176470588235,
           0.8135294117647058,
           0.8429411764705882,
           0.8723529411764706,
           0.9017647058823529,
           0.9311764705882353,
           0.9605882352941176,
           0.99,
           0.899090909090909,
           0.9293939393939394,
           0.9596969696969697,
           0.99,
           0.49
          ]
         },
         "type": "sankey"
        }
       ],
       "layout": {
        "font": {
         "size": 15
        },
        "hoverlabel": {
         "font": {
          "size": 15
         }
        },
        "template": {
         "data": {
          "bar": [
           {
            "error_x": {
             "color": "#2a3f5f"
            },
            "error_y": {
             "color": "#2a3f5f"
            },
            "marker": {
             "line": {
              "color": "#E5ECF6",
              "width": 0.5
             },
             "pattern": {
              "fillmode": "overlay",
              "size": 10,
              "solidity": 0.2
             }
            },
            "type": "bar"
           }
          ],
          "barpolar": [
           {
            "marker": {
             "line": {
              "color": "#E5ECF6",
              "width": 0.5
             },
             "pattern": {
              "fillmode": "overlay",
              "size": 10,
              "solidity": 0.2
             }
            },
            "type": "barpolar"
           }
          ],
          "carpet": [
           {
            "aaxis": {
             "endlinecolor": "#2a3f5f",
             "gridcolor": "white",
             "linecolor": "white",
             "minorgridcolor": "white",
             "startlinecolor": "#2a3f5f"
            },
            "baxis": {
             "endlinecolor": "#2a3f5f",
             "gridcolor": "white",
             "linecolor": "white",
             "minorgridcolor": "white",
             "startlinecolor": "#2a3f5f"
            },
            "type": "carpet"
           }
          ],
          "choropleth": [
           {
            "colorbar": {
             "outlinewidth": 0,
             "ticks": ""
            },
            "type": "choropleth"
           }
          ],
          "contour": [
           {
            "colorbar": {
             "outlinewidth": 0,
             "ticks": ""
            },
            "colorscale": [
             [
              0,
              "#0d0887"
             ],
             [
              0.1111111111111111,
              "#46039f"
             ],
             [
              0.2222222222222222,
              "#7201a8"
             ],
             [
              0.3333333333333333,
              "#9c179e"
             ],
             [
              0.4444444444444444,
              "#bd3786"
             ],
             [
              0.5555555555555556,
              "#d8576b"
             ],
             [
              0.6666666666666666,
              "#ed7953"
             ],
             [
              0.7777777777777778,
              "#fb9f3a"
             ],
             [
              0.8888888888888888,
              "#fdca26"
             ],
             [
              1,
              "#f0f921"
             ]
            ],
            "type": "contour"
           }
          ],
          "contourcarpet": [
           {
            "colorbar": {
             "outlinewidth": 0,
             "ticks": ""
            },
            "type": "contourcarpet"
           }
          ],
          "heatmap": [
           {
            "colorbar": {
             "outlinewidth": 0,
             "ticks": ""
            },
            "colorscale": [
             [
              0,
              "#0d0887"
             ],
             [
              0.1111111111111111,
              "#46039f"
             ],
             [
              0.2222222222222222,
              "#7201a8"
             ],
             [
              0.3333333333333333,
              "#9c179e"
             ],
             [
              0.4444444444444444,
              "#bd3786"
             ],
             [
              0.5555555555555556,
              "#d8576b"
             ],
             [
              0.6666666666666666,
              "#ed7953"
             ],
             [
              0.7777777777777778,
              "#fb9f3a"
             ],
             [
              0.8888888888888888,
              "#fdca26"
             ],
             [
              1,
              "#f0f921"
             ]
            ],
            "type": "heatmap"
           }
          ],
          "heatmapgl": [
           {
            "colorbar": {
             "outlinewidth": 0,
             "ticks": ""
            },
            "colorscale": [
             [
              0,
              "#0d0887"
             ],
             [
              0.1111111111111111,
              "#46039f"
             ],
             [
              0.2222222222222222,
              "#7201a8"
             ],
             [
              0.3333333333333333,
              "#9c179e"
             ],
             [
              0.4444444444444444,
              "#bd3786"
             ],
             [
              0.5555555555555556,
              "#d8576b"
             ],
             [
              0.6666666666666666,
              "#ed7953"
             ],
             [
              0.7777777777777778,
              "#fb9f3a"
             ],
             [
              0.8888888888888888,
              "#fdca26"
             ],
             [
              1,
              "#f0f921"
             ]
            ],
            "type": "heatmapgl"
           }
          ],
          "histogram": [
           {
            "marker": {
             "pattern": {
              "fillmode": "overlay",
              "size": 10,
              "solidity": 0.2
             }
            },
            "type": "histogram"
           }
          ],
          "histogram2d": [
           {
            "colorbar": {
             "outlinewidth": 0,
             "ticks": ""
            },
            "colorscale": [
             [
              0,
              "#0d0887"
             ],
             [
              0.1111111111111111,
              "#46039f"
             ],
             [
              0.2222222222222222,
              "#7201a8"
             ],
             [
              0.3333333333333333,
              "#9c179e"
             ],
             [
              0.4444444444444444,
              "#bd3786"
             ],
             [
              0.5555555555555556,
              "#d8576b"
             ],
             [
              0.6666666666666666,
              "#ed7953"
             ],
             [
              0.7777777777777778,
              "#fb9f3a"
             ],
             [
              0.8888888888888888,
              "#fdca26"
             ],
             [
              1,
              "#f0f921"
             ]
            ],
            "type": "histogram2d"
           }
          ],
          "histogram2dcontour": [
           {
            "colorbar": {
             "outlinewidth": 0,
             "ticks": ""
            },
            "colorscale": [
             [
              0,
              "#0d0887"
             ],
             [
              0.1111111111111111,
              "#46039f"
             ],
             [
              0.2222222222222222,
              "#7201a8"
             ],
             [
              0.3333333333333333,
              "#9c179e"
             ],
             [
              0.4444444444444444,
              "#bd3786"
             ],
             [
              0.5555555555555556,
              "#d8576b"
             ],
             [
              0.6666666666666666,
              "#ed7953"
             ],
             [
              0.7777777777777778,
              "#fb9f3a"
             ],
             [
              0.8888888888888888,
              "#fdca26"
             ],
             [
              1,
              "#f0f921"
             ]
            ],
            "type": "histogram2dcontour"
           }
          ],
          "mesh3d": [
           {
            "colorbar": {
             "outlinewidth": 0,
             "ticks": ""
            },
            "type": "mesh3d"
           }
          ],
          "parcoords": [
           {
            "line": {
             "colorbar": {
              "outlinewidth": 0,
              "ticks": ""
             }
            },
            "type": "parcoords"
           }
          ],
          "pie": [
           {
            "automargin": true,
            "type": "pie"
           }
          ],
          "scatter": [
           {
            "fillpattern": {
             "fillmode": "overlay",
             "size": 10,
             "solidity": 0.2
            },
            "type": "scatter"
           }
          ],
          "scatter3d": [
           {
            "line": {
             "colorbar": {
              "outlinewidth": 0,
              "ticks": ""
             }
            },
            "marker": {
             "colorbar": {
              "outlinewidth": 0,
              "ticks": ""
             }
            },
            "type": "scatter3d"
           }
          ],
          "scattercarpet": [
           {
            "marker": {
             "colorbar": {
              "outlinewidth": 0,
              "ticks": ""
             }
            },
            "type": "scattercarpet"
           }
          ],
          "scattergeo": [
           {
            "marker": {
             "colorbar": {
              "outlinewidth": 0,
              "ticks": ""
             }
            },
            "type": "scattergeo"
           }
          ],
          "scattergl": [
           {
            "marker": {
             "colorbar": {
              "outlinewidth": 0,
              "ticks": ""
             }
            },
            "type": "scattergl"
           }
          ],
          "scattermapbox": [
           {
            "marker": {
             "colorbar": {
              "outlinewidth": 0,
              "ticks": ""
             }
            },
            "type": "scattermapbox"
           }
          ],
          "scatterpolar": [
           {
            "marker": {
             "colorbar": {
              "outlinewidth": 0,
              "ticks": ""
             }
            },
            "type": "scatterpolar"
           }
          ],
          "scatterpolargl": [
           {
            "marker": {
             "colorbar": {
              "outlinewidth": 0,
              "ticks": ""
             }
            },
            "type": "scatterpolargl"
           }
          ],
          "scatterternary": [
           {
            "marker": {
             "colorbar": {
              "outlinewidth": 0,
              "ticks": ""
             }
            },
            "type": "scatterternary"
           }
          ],
          "surface": [
           {
            "colorbar": {
             "outlinewidth": 0,
             "ticks": ""
            },
            "colorscale": [
             [
              0,
              "#0d0887"
             ],
             [
              0.1111111111111111,
              "#46039f"
             ],
             [
              0.2222222222222222,
              "#7201a8"
             ],
             [
              0.3333333333333333,
              "#9c179e"
             ],
             [
              0.4444444444444444,
              "#bd3786"
             ],
             [
              0.5555555555555556,
              "#d8576b"
             ],
             [
              0.6666666666666666,
              "#ed7953"
             ],
             [
              0.7777777777777778,
              "#fb9f3a"
             ],
             [
              0.8888888888888888,
              "#fdca26"
             ],
             [
              1,
              "#f0f921"
             ]
            ],
            "type": "surface"
           }
          ],
          "table": [
           {
            "cells": {
             "fill": {
              "color": "#EBF0F8"
             },
             "line": {
              "color": "white"
             }
            },
            "header": {
             "fill": {
              "color": "#C8D4E3"
             },
             "line": {
              "color": "white"
             }
            },
            "type": "table"
           }
          ]
         },
         "layout": {
          "annotationdefaults": {
           "arrowcolor": "#2a3f5f",
           "arrowhead": 0,
           "arrowwidth": 1
          },
          "autotypenumbers": "strict",
          "coloraxis": {
           "colorbar": {
            "outlinewidth": 0,
            "ticks": ""
           }
          },
          "colorscale": {
           "diverging": [
            [
             0,
             "#8e0152"
            ],
            [
             0.1,
             "#c51b7d"
            ],
            [
             0.2,
             "#de77ae"
            ],
            [
             0.3,
             "#f1b6da"
            ],
            [
             0.4,
             "#fde0ef"
            ],
            [
             0.5,
             "#f7f7f7"
            ],
            [
             0.6,
             "#e6f5d0"
            ],
            [
             0.7,
             "#b8e186"
            ],
            [
             0.8,
             "#7fbc41"
            ],
            [
             0.9,
             "#4d9221"
            ],
            [
             1,
             "#276419"
            ]
           ],
           "sequential": [
            [
             0,
             "#0d0887"
            ],
            [
             0.1111111111111111,
             "#46039f"
            ],
            [
             0.2222222222222222,
             "#7201a8"
            ],
            [
             0.3333333333333333,
             "#9c179e"
            ],
            [
             0.4444444444444444,
             "#bd3786"
            ],
            [
             0.5555555555555556,
             "#d8576b"
            ],
            [
             0.6666666666666666,
             "#ed7953"
            ],
            [
             0.7777777777777778,
             "#fb9f3a"
            ],
            [
             0.8888888888888888,
             "#fdca26"
            ],
            [
             1,
             "#f0f921"
            ]
           ],
           "sequentialminus": [
            [
             0,
             "#0d0887"
            ],
            [
             0.1111111111111111,
             "#46039f"
            ],
            [
             0.2222222222222222,
             "#7201a8"
            ],
            [
             0.3333333333333333,
             "#9c179e"
            ],
            [
             0.4444444444444444,
             "#bd3786"
            ],
            [
             0.5555555555555556,
             "#d8576b"
            ],
            [
             0.6666666666666666,
             "#ed7953"
            ],
            [
             0.7777777777777778,
             "#fb9f3a"
            ],
            [
             0.8888888888888888,
             "#fdca26"
            ],
            [
             1,
             "#f0f921"
            ]
           ]
          },
          "colorway": [
           "#636efa",
           "#EF553B",
           "#00cc96",
           "#ab63fa",
           "#FFA15A",
           "#19d3f3",
           "#FF6692",
           "#B6E880",
           "#FF97FF",
           "#FECB52"
          ],
          "font": {
           "color": "#2a3f5f"
          },
          "geo": {
           "bgcolor": "white",
           "lakecolor": "white",
           "landcolor": "#E5ECF6",
           "showlakes": true,
           "showland": true,
           "subunitcolor": "white"
          },
          "hoverlabel": {
           "align": "left"
          },
          "hovermode": "closest",
          "mapbox": {
           "style": "light"
          },
          "paper_bgcolor": "white",
          "plot_bgcolor": "#E5ECF6",
          "polar": {
           "angularaxis": {
            "gridcolor": "white",
            "linecolor": "white",
            "ticks": ""
           },
           "bgcolor": "#E5ECF6",
           "radialaxis": {
            "gridcolor": "white",
            "linecolor": "white",
            "ticks": ""
           }
          },
          "scene": {
           "xaxis": {
            "backgroundcolor": "#E5ECF6",
            "gridcolor": "white",
            "gridwidth": 2,
            "linecolor": "white",
            "showbackground": true,
            "ticks": "",
            "zerolinecolor": "white"
           },
           "yaxis": {
            "backgroundcolor": "#E5ECF6",
            "gridcolor": "white",
            "gridwidth": 2,
            "linecolor": "white",
            "showbackground": true,
            "ticks": "",
            "zerolinecolor": "white"
           },
           "zaxis": {
            "backgroundcolor": "#E5ECF6",
            "gridcolor": "white",
            "gridwidth": 2,
            "linecolor": "white",
            "showbackground": true,
            "ticks": "",
            "zerolinecolor": "white"
           }
          },
          "shapedefaults": {
           "line": {
            "color": "#2a3f5f"
           }
          },
          "ternary": {
           "aaxis": {
            "gridcolor": "white",
            "linecolor": "white",
            "ticks": ""
           },
           "baxis": {
            "gridcolor": "white",
            "linecolor": "white",
            "ticks": ""
           },
           "bgcolor": "#E5ECF6",
           "caxis": {
            "gridcolor": "white",
            "linecolor": "white",
            "ticks": ""
           }
          },
          "title": {
           "x": 0.05
          },
          "xaxis": {
           "automargin": true,
           "gridcolor": "white",
           "linecolor": "white",
           "ticks": "",
           "title": {
            "standoff": 15
           },
           "zerolinecolor": "white",
           "zerolinewidth": 2
          },
          "yaxis": {
           "automargin": true,
           "gridcolor": "white",
           "linecolor": "white",
           "ticks": "",
           "title": {
            "standoff": 15
           },
           "zerolinecolor": "white",
           "zerolinewidth": 2
          }
         }
        }
       }
      }
     },
     "metadata": {},
     "output_type": "display_data"
    }
   ],
   "source": [
    "brca_sankey = plot_sankey(sankey_value_id_brca, sankey_source_id_brca, sankey_target_id_brca,\n",
    "                node_label, node_col, node_level, positive_flow=True, go_dag=go_dag, filename='Sankey_BRCA')"
   ]
  },
  {
   "cell_type": "code",
   "execution_count": 42,
   "metadata": {},
   "outputs": [
    {
     "data": {
      "text/plain": [
       "array(['GO:0007006', 'GO:0008637', 'GO:0006284', ..., 'GO:1901985',\n",
       "       'GO:1902003', 'GO:1902036'], dtype='<U10')"
      ]
     },
     "execution_count": 42,
     "metadata": {},
     "output_type": "execute_result"
    }
   ],
   "source": [
    "np.array(node_label)[sankey_source]"
   ]
  },
  {
   "cell_type": "code",
   "execution_count": 40,
   "metadata": {},
   "outputs": [],
   "source": [
    "def go_name_converter(labellist, go_dag):\n",
    "    fullname_list = []\n",
    "    for node_label_tmp in labellist:\n",
    "        if node_label_tmp in go_dag:\n",
    "            fullname_list.append(go_dag[node_label_tmp].name)\n",
    "        else:\n",
    "            fullname_list.append(node_label_tmp)\n",
    "    \n",
    "    return fullname_list"
   ]
  },
  {
   "cell_type": "code",
   "execution_count": 41,
   "metadata": {},
   "outputs": [],
   "source": [
    "import pandas as pd\n",
    "path_importance = pd.DataFrame({'source': np.array(node_label)[sankey_source],\n",
    "                                'target': np.array(node_label)[sankey_target],\n",
    "                                'imp_score_ov': sankey_value[:, labels == cancer_2_idx['OV']].mean(axis=1, keepdims=False),\n",
    "                                'imp_score_brca': sankey_value[:, labels == cancer_2_idx['BRCA']].mean(axis=1, keepdims=False),\n",
    "                               'source_full_name': go_name_converter(np.array(node_label)[sankey_source], go_dag),\n",
    "                               'target_full_name': go_name_converter(np.array(node_label)[sankey_target], go_dag)})\n",
    "path_importance.to_csv(\"path_importance.csv\")"
   ]
  },
  {
   "cell_type": "markdown",
   "metadata": {},
   "source": [
    "#### Tracing version of the plots"
   ]
  },
  {
   "cell_type": "code",
   "execution_count": 39,
   "metadata": {},
   "outputs": [],
   "source": [
    "sankey_value_tracing_ov, sankey_source_tracing_ov, sankey_target_tracing_ov, back_tracing_level_tracing_ov, back_tracing_color_tracing_ov \\\n",
    "    = sankey_backward_trace(sankey_value[:, labels == cancer_2_idx['OV']].mean(axis=1, keepdims=True), \n",
    "                            sankey_source, sankey_target, \n",
    "                            node_label_id,\n",
    "                            sample_id=0, \n",
    "                            percent_keep = 0.05, min_num=10)"
   ]
  },
  {
   "cell_type": "code",
   "execution_count": 40,
   "metadata": {},
   "outputs": [
    {
     "data": {
      "application/vnd.plotly.v1+json": {
       "config": {
        "plotlyServerURL": "https://plot.ly"
       },
       "data": [
        {
         "arrangement": "snap",
         "link": {
          "source": [
           0,
           1,
           2,
           3,
           4,
           5,
           6,
           7,
           8,
           9,
           10,
           11,
           12,
           13,
           14,
           15,
           16,
           17,
           18,
           19,
           20,
           21,
           22,
           23,
           24,
           25,
           26,
           27,
           28,
           29,
           30,
           26,
           31,
           32,
           33,
           34,
           35,
           36,
           37,
           30,
           35,
           38,
           39,
           40,
           41,
           42,
           43,
           44,
           45,
           46,
           47,
           48,
           49,
           44,
           50,
           51,
           52,
           53
          ],
          "target": [
           54,
           54,
           54,
           54,
           54,
           54,
           54,
           54,
           54,
           54,
           54,
           54,
           54,
           54,
           54,
           54,
           54,
           54,
           54,
           10,
           3,
           17,
           10,
           6,
           1,
           14,
           0,
           16,
           0,
           19,
           26,
           24,
           19,
           25,
           19,
           19,
           26,
           19,
           19,
           26,
           26,
           29,
           33,
           29,
           26,
           29,
           33,
           35,
           33,
           39,
           39,
           39,
           39,
           35,
           39,
           39,
           39,
           39
          ],
          "value": [
           0.06439443979132381,
           0.041698025631252814,
           0.040205340717127315,
           0.04019512945222712,
           0.037465604316239895,
           0.033067014237201556,
           0.03028881521027578,
           0.027099176244107265,
           0.026853278052054386,
           0.023317365789718617,
           0.02306036505164692,
           0.02068658139023472,
           0.02059117109839804,
           0.01864714505017159,
           0.017786838420614348,
           0.017431328591284084,
           0.01718262463454998,
           0.016924603590289217,
           0.016711604524774964,
           0.01129529026976231,
           0.006079128324316569,
           0.005395065288985837,
           0.005161520450962491,
           0.005158191940231272,
           0.0048493939139529485,
           0.004289823499054467,
           0.0037605696426668673,
           0.0033064303166518254,
           0.0032659672858117187,
           0.00740249303464695,
           0.00425379998432087,
           0.004068720273116948,
           0.0032492637074009708,
           0.0030943600688960434,
           0.003033778772545988,
           0.002865628511498673,
           0.002095775029571319,
           0.0019948150133065326,
           0.0018264813946645385,
           0.00425379998432087,
           0.002095775029571319,
           0.0014226293302390162,
           0.0013126834336059765,
           0.001008826270653332,
           0.0008318197889750057,
           0.0004601650360667663,
           0.00040528383886454823,
           0.00029271248369637656,
           0.00023882469620802133,
           0.0010087702799471408,
           0.0006208829164949338,
           0.00046666260043067877,
           0.000314849968485648,
           0.00029271248369637656,
           0.00019693442372227025,
           0.00015462969106728235,
           0.0001448981013747281,
           0.00013614634223573662
          ]
         },
         "node": {
          "color": [
           "#EF553B",
           "#EF553B",
           "#EF553B",
           "#EF553B",
           "#EF553B",
           "#EF553B",
           "#EF553B",
           "#EF553B",
           "#EF553B",
           "#EF553B",
           "#EF553B",
           "#EF553B",
           "#EF553B",
           "#EF553B",
           "#EF553B",
           "#EF553B",
           "#EF553B",
           "#EF553B",
           "#EF553B",
           "#00CC96",
           "#00CC96",
           "#00CC96",
           "#00CC96",
           "#00CC96",
           "#00CC96",
           "#00CC96",
           "#AB63FA",
           "#00CC96",
           "#00CC96",
           "#AB63FA",
           "#FFA15A",
           "#AB63FA",
           "#AB63FA",
           "#AB63FA",
           "#AB63FA",
           "#FFA15A",
           "#AB63FA",
           "#AB63FA",
           "#FFA15A",
           "#FFA15A",
           "#FFA15A",
           "#FFA15A",
           "#FFA15A",
           "#FFA15A",
           "#19D3F3",
           "#FFA15A",
           "#19D3F3",
           "#19D3F3",
           "#19D3F3",
           "#19D3F3",
           "#19D3F3",
           "#19D3F3",
           "#19D3F3",
           "#19D3F3",
           "#636EFA"
          ],
          "customdata": [
           "protein modification process",
           "phosphate-containing compound metabolic process",
           "nucleobase-containing compound metabolic process",
           "response to cytokine",
           "cellular biosynthetic process",
           "anatomical structure morphogenesis",
           "organic substance biosynthetic process",
           "response to hormone",
           "regulation of cell population proliferation",
           "response to biotic stimulus",
           "signal transduction",
           "immune effector process",
           "viral process",
           "vesicle-mediated transport",
           "monoatomic ion transport",
           "cellular process involved in reproduction in multicellular organism",
           "regulation of gene expression",
           "organophosphate metabolic process",
           "multi-organism reproductive process",
           "cell surface receptor signaling pathway",
           "cellular response to cytokine stimulus",
           "organophosphate biosynthetic process",
           "intracellular signal transduction",
           "organonitrogen compound biosynthetic process",
           "phosphorylation",
           "monoatomic cation transport",
           "protein phosphorylation",
           "positive regulation of gene expression",
           "protein acylation",
           "cytokine-mediated signaling pathway",
           "peptidyl-serine phosphorylation",
           "GO:1905114",
           "metal ion transport",
           "enzyme-linked receptor protein signaling pathway",
           "immune response-activating cell surface receptor signaling pathway",
           "protein autophosphorylation",
           "Notch signaling pathway",
           "lipopolysaccharide-mediated signaling pathway",
           "chemokine-mediated signaling pathway",
           "transmembrane receptor protein tyrosine kinase signaling pathway",
           "tumor necrosis factor-mediated signaling pathway",
           "peptidyl-tyrosine phosphorylation",
           "interleukin-1-mediated signaling pathway",
           "BMP signaling pathway",
           "peptidyl-tyrosine autophosphorylation",
           "activin receptor signaling pathway",
           "vascular endothelial growth factor receptor signaling pathway",
           "ephrin receptor signaling pathway",
           "platelet-derived growth factor receptor signaling pathway",
           "neurotrophin TRK receptor signaling pathway",
           "fibroblast growth factor receptor signaling pathway",
           "vascular endothelial growth factor signaling pathway",
           "epidermal growth factor receptor signaling pathway",
           "growth hormone receptor signaling pathway",
           "biological_process"
          ],
          "hovertemplate": "%{label}: %{customdata}<extra></extra>",
          "label": [
           "GO:0006464",
           "GO:0006796",
           "GO:0006139",
           "GO:0034097",
           "GO:0044249",
           "GO:0009653",
           "GO:1901576",
           "GO:0009725",
           "GO:0042127",
           "GO:0009607",
           "GO:0007165",
           "GO:0002252",
           "GO:0016032",
           "GO:0016192",
           "GO:0006811",
           "GO:0022412",
           "GO:0010468",
           "GO:0019637",
           "GO:0044703",
           "GO:0007166",
           "GO:0071345",
           "GO:0090407",
           "GO:0035556",
           "GO:1901566",
           "GO:0016310",
           "GO:0006812",
           "GO:0006468",
           "GO:0010628",
           "GO:0043543",
           "GO:0019221",
           "GO:0018105",
           "GO:1905114",
           "GO:0030001",
           "GO:0007167",
           "GO:0002429",
           "GO:0046777",
           "GO:0007219",
           "GO:0031663",
           "GO:0070098",
           "GO:0007169",
           "GO:0033209",
           "GO:0018108",
           "GO:0070498",
           "GO:0030509",
           "GO:0038083",
           "GO:0032924",
           "GO:0048010",
           "GO:0048013",
           "GO:0048008",
           "GO:0048011",
           "GO:0008543",
           "GO:0038084",
           "GO:0007173",
           "GO:0060396",
           "GO:0008150"
          ],
          "pad": 15,
          "thickness": 20,
          "x": [
           0.6766666666666666,
           0.6766666666666666,
           0.6766666666666666,
           0.6766666666666666,
           0.6766666666666666,
           0.6766666666666666,
           0.6766666666666666,
           0.6766666666666666,
           0.6766666666666666,
           0.6766666666666666,
           0.6766666666666666,
           0.6766666666666666,
           0.6766666666666666,
           0.6766666666666666,
           0.6766666666666666,
           0.6766666666666666,
           0.6766666666666666,
           0.6766666666666666,
           0.6766666666666666,
           0.51,
           0.51,
           0.51,
           0.51,
           0.51,
           0.51,
           0.51,
           0.3433333333333333,
           0.51,
           0.51,
           0.3433333333333333,
           0.17666666666666667,
           0.3433333333333333,
           0.3433333333333333,
           0.3433333333333333,
           0.3433333333333333,
           0.17666666666666667,
           0.3433333333333333,
           0.3433333333333333,
           0.17666666666666667,
           0.17666666666666667,
           0.17666666666666667,
           0.17666666666666667,
           0.17666666666666667,
           0.17666666666666667,
           0.01,
           0.17666666666666667,
           0.01,
           0.01,
           0.01,
           0.01,
           0.01,
           0.01,
           0.01,
           0.01,
           0.8433333333333334
          ],
          "y": [
           0.042631578947368416,
           0.09526315789473684,
           0.14789473684210525,
           0.20052631578947366,
           0.2531578947368421,
           0.3057894736842105,
           0.3584210526315789,
           0.41105263157894734,
           0.46368421052631575,
           0.5163157894736842,
           0.5689473684210526,
           0.621578947368421,
           0.6742105263157895,
           0.7268421052631578,
           0.7794736842105263,
           0.8321052631578947,
           0.8847368421052632,
           0.9373684210526315,
           0.99,
           0.10111111111111111,
           0.2122222222222222,
           0.3233333333333333,
           0.4344444444444444,
           0.5455555555555556,
           0.6566666666666666,
           0.7677777777777778,
           0.115,
           0.8788888888888888,
           0.99,
           0.24,
           0.10111111111111111,
           0.365,
           0.49,
           0.615,
           0.74,
           0.2122222222222222,
           0.865,
           0.99,
           0.3233333333333333,
           0.4344444444444444,
           0.5455555555555556,
           0.6566666666666666,
           0.7677777777777778,
           0.8788888888888888,
           0.10111111111111111,
           0.99,
           0.2122222222222222,
           0.3233333333333333,
           0.4344444444444444,
           0.5455555555555556,
           0.6566666666666666,
           0.7677777777777778,
           0.8788888888888888,
           0.99,
           0.49
          ]
         },
         "type": "sankey"
        }
       ],
       "layout": {
        "font": {
         "size": 15
        },
        "hoverlabel": {
         "font": {
          "size": 15
         }
        },
        "template": {
         "data": {
          "bar": [
           {
            "error_x": {
             "color": "#2a3f5f"
            },
            "error_y": {
             "color": "#2a3f5f"
            },
            "marker": {
             "line": {
              "color": "#E5ECF6",
              "width": 0.5
             },
             "pattern": {
              "fillmode": "overlay",
              "size": 10,
              "solidity": 0.2
             }
            },
            "type": "bar"
           }
          ],
          "barpolar": [
           {
            "marker": {
             "line": {
              "color": "#E5ECF6",
              "width": 0.5
             },
             "pattern": {
              "fillmode": "overlay",
              "size": 10,
              "solidity": 0.2
             }
            },
            "type": "barpolar"
           }
          ],
          "carpet": [
           {
            "aaxis": {
             "endlinecolor": "#2a3f5f",
             "gridcolor": "white",
             "linecolor": "white",
             "minorgridcolor": "white",
             "startlinecolor": "#2a3f5f"
            },
            "baxis": {
             "endlinecolor": "#2a3f5f",
             "gridcolor": "white",
             "linecolor": "white",
             "minorgridcolor": "white",
             "startlinecolor": "#2a3f5f"
            },
            "type": "carpet"
           }
          ],
          "choropleth": [
           {
            "colorbar": {
             "outlinewidth": 0,
             "ticks": ""
            },
            "type": "choropleth"
           }
          ],
          "contour": [
           {
            "colorbar": {
             "outlinewidth": 0,
             "ticks": ""
            },
            "colorscale": [
             [
              0,
              "#0d0887"
             ],
             [
              0.1111111111111111,
              "#46039f"
             ],
             [
              0.2222222222222222,
              "#7201a8"
             ],
             [
              0.3333333333333333,
              "#9c179e"
             ],
             [
              0.4444444444444444,
              "#bd3786"
             ],
             [
              0.5555555555555556,
              "#d8576b"
             ],
             [
              0.6666666666666666,
              "#ed7953"
             ],
             [
              0.7777777777777778,
              "#fb9f3a"
             ],
             [
              0.8888888888888888,
              "#fdca26"
             ],
             [
              1,
              "#f0f921"
             ]
            ],
            "type": "contour"
           }
          ],
          "contourcarpet": [
           {
            "colorbar": {
             "outlinewidth": 0,
             "ticks": ""
            },
            "type": "contourcarpet"
           }
          ],
          "heatmap": [
           {
            "colorbar": {
             "outlinewidth": 0,
             "ticks": ""
            },
            "colorscale": [
             [
              0,
              "#0d0887"
             ],
             [
              0.1111111111111111,
              "#46039f"
             ],
             [
              0.2222222222222222,
              "#7201a8"
             ],
             [
              0.3333333333333333,
              "#9c179e"
             ],
             [
              0.4444444444444444,
              "#bd3786"
             ],
             [
              0.5555555555555556,
              "#d8576b"
             ],
             [
              0.6666666666666666,
              "#ed7953"
             ],
             [
              0.7777777777777778,
              "#fb9f3a"
             ],
             [
              0.8888888888888888,
              "#fdca26"
             ],
             [
              1,
              "#f0f921"
             ]
            ],
            "type": "heatmap"
           }
          ],
          "heatmapgl": [
           {
            "colorbar": {
             "outlinewidth": 0,
             "ticks": ""
            },
            "colorscale": [
             [
              0,
              "#0d0887"
             ],
             [
              0.1111111111111111,
              "#46039f"
             ],
             [
              0.2222222222222222,
              "#7201a8"
             ],
             [
              0.3333333333333333,
              "#9c179e"
             ],
             [
              0.4444444444444444,
              "#bd3786"
             ],
             [
              0.5555555555555556,
              "#d8576b"
             ],
             [
              0.6666666666666666,
              "#ed7953"
             ],
             [
              0.7777777777777778,
              "#fb9f3a"
             ],
             [
              0.8888888888888888,
              "#fdca26"
             ],
             [
              1,
              "#f0f921"
             ]
            ],
            "type": "heatmapgl"
           }
          ],
          "histogram": [
           {
            "marker": {
             "pattern": {
              "fillmode": "overlay",
              "size": 10,
              "solidity": 0.2
             }
            },
            "type": "histogram"
           }
          ],
          "histogram2d": [
           {
            "colorbar": {
             "outlinewidth": 0,
             "ticks": ""
            },
            "colorscale": [
             [
              0,
              "#0d0887"
             ],
             [
              0.1111111111111111,
              "#46039f"
             ],
             [
              0.2222222222222222,
              "#7201a8"
             ],
             [
              0.3333333333333333,
              "#9c179e"
             ],
             [
              0.4444444444444444,
              "#bd3786"
             ],
             [
              0.5555555555555556,
              "#d8576b"
             ],
             [
              0.6666666666666666,
              "#ed7953"
             ],
             [
              0.7777777777777778,
              "#fb9f3a"
             ],
             [
              0.8888888888888888,
              "#fdca26"
             ],
             [
              1,
              "#f0f921"
             ]
            ],
            "type": "histogram2d"
           }
          ],
          "histogram2dcontour": [
           {
            "colorbar": {
             "outlinewidth": 0,
             "ticks": ""
            },
            "colorscale": [
             [
              0,
              "#0d0887"
             ],
             [
              0.1111111111111111,
              "#46039f"
             ],
             [
              0.2222222222222222,
              "#7201a8"
             ],
             [
              0.3333333333333333,
              "#9c179e"
             ],
             [
              0.4444444444444444,
              "#bd3786"
             ],
             [
              0.5555555555555556,
              "#d8576b"
             ],
             [
              0.6666666666666666,
              "#ed7953"
             ],
             [
              0.7777777777777778,
              "#fb9f3a"
             ],
             [
              0.8888888888888888,
              "#fdca26"
             ],
             [
              1,
              "#f0f921"
             ]
            ],
            "type": "histogram2dcontour"
           }
          ],
          "mesh3d": [
           {
            "colorbar": {
             "outlinewidth": 0,
             "ticks": ""
            },
            "type": "mesh3d"
           }
          ],
          "parcoords": [
           {
            "line": {
             "colorbar": {
              "outlinewidth": 0,
              "ticks": ""
             }
            },
            "type": "parcoords"
           }
          ],
          "pie": [
           {
            "automargin": true,
            "type": "pie"
           }
          ],
          "scatter": [
           {
            "fillpattern": {
             "fillmode": "overlay",
             "size": 10,
             "solidity": 0.2
            },
            "type": "scatter"
           }
          ],
          "scatter3d": [
           {
            "line": {
             "colorbar": {
              "outlinewidth": 0,
              "ticks": ""
             }
            },
            "marker": {
             "colorbar": {
              "outlinewidth": 0,
              "ticks": ""
             }
            },
            "type": "scatter3d"
           }
          ],
          "scattercarpet": [
           {
            "marker": {
             "colorbar": {
              "outlinewidth": 0,
              "ticks": ""
             }
            },
            "type": "scattercarpet"
           }
          ],
          "scattergeo": [
           {
            "marker": {
             "colorbar": {
              "outlinewidth": 0,
              "ticks": ""
             }
            },
            "type": "scattergeo"
           }
          ],
          "scattergl": [
           {
            "marker": {
             "colorbar": {
              "outlinewidth": 0,
              "ticks": ""
             }
            },
            "type": "scattergl"
           }
          ],
          "scattermapbox": [
           {
            "marker": {
             "colorbar": {
              "outlinewidth": 0,
              "ticks": ""
             }
            },
            "type": "scattermapbox"
           }
          ],
          "scatterpolar": [
           {
            "marker": {
             "colorbar": {
              "outlinewidth": 0,
              "ticks": ""
             }
            },
            "type": "scatterpolar"
           }
          ],
          "scatterpolargl": [
           {
            "marker": {
             "colorbar": {
              "outlinewidth": 0,
              "ticks": ""
             }
            },
            "type": "scatterpolargl"
           }
          ],
          "scatterternary": [
           {
            "marker": {
             "colorbar": {
              "outlinewidth": 0,
              "ticks": ""
             }
            },
            "type": "scatterternary"
           }
          ],
          "surface": [
           {
            "colorbar": {
             "outlinewidth": 0,
             "ticks": ""
            },
            "colorscale": [
             [
              0,
              "#0d0887"
             ],
             [
              0.1111111111111111,
              "#46039f"
             ],
             [
              0.2222222222222222,
              "#7201a8"
             ],
             [
              0.3333333333333333,
              "#9c179e"
             ],
             [
              0.4444444444444444,
              "#bd3786"
             ],
             [
              0.5555555555555556,
              "#d8576b"
             ],
             [
              0.6666666666666666,
              "#ed7953"
             ],
             [
              0.7777777777777778,
              "#fb9f3a"
             ],
             [
              0.8888888888888888,
              "#fdca26"
             ],
             [
              1,
              "#f0f921"
             ]
            ],
            "type": "surface"
           }
          ],
          "table": [
           {
            "cells": {
             "fill": {
              "color": "#EBF0F8"
             },
             "line": {
              "color": "white"
             }
            },
            "header": {
             "fill": {
              "color": "#C8D4E3"
             },
             "line": {
              "color": "white"
             }
            },
            "type": "table"
           }
          ]
         },
         "layout": {
          "annotationdefaults": {
           "arrowcolor": "#2a3f5f",
           "arrowhead": 0,
           "arrowwidth": 1
          },
          "autotypenumbers": "strict",
          "coloraxis": {
           "colorbar": {
            "outlinewidth": 0,
            "ticks": ""
           }
          },
          "colorscale": {
           "diverging": [
            [
             0,
             "#8e0152"
            ],
            [
             0.1,
             "#c51b7d"
            ],
            [
             0.2,
             "#de77ae"
            ],
            [
             0.3,
             "#f1b6da"
            ],
            [
             0.4,
             "#fde0ef"
            ],
            [
             0.5,
             "#f7f7f7"
            ],
            [
             0.6,
             "#e6f5d0"
            ],
            [
             0.7,
             "#b8e186"
            ],
            [
             0.8,
             "#7fbc41"
            ],
            [
             0.9,
             "#4d9221"
            ],
            [
             1,
             "#276419"
            ]
           ],
           "sequential": [
            [
             0,
             "#0d0887"
            ],
            [
             0.1111111111111111,
             "#46039f"
            ],
            [
             0.2222222222222222,
             "#7201a8"
            ],
            [
             0.3333333333333333,
             "#9c179e"
            ],
            [
             0.4444444444444444,
             "#bd3786"
            ],
            [
             0.5555555555555556,
             "#d8576b"
            ],
            [
             0.6666666666666666,
             "#ed7953"
            ],
            [
             0.7777777777777778,
             "#fb9f3a"
            ],
            [
             0.8888888888888888,
             "#fdca26"
            ],
            [
             1,
             "#f0f921"
            ]
           ],
           "sequentialminus": [
            [
             0,
             "#0d0887"
            ],
            [
             0.1111111111111111,
             "#46039f"
            ],
            [
             0.2222222222222222,
             "#7201a8"
            ],
            [
             0.3333333333333333,
             "#9c179e"
            ],
            [
             0.4444444444444444,
             "#bd3786"
            ],
            [
             0.5555555555555556,
             "#d8576b"
            ],
            [
             0.6666666666666666,
             "#ed7953"
            ],
            [
             0.7777777777777778,
             "#fb9f3a"
            ],
            [
             0.8888888888888888,
             "#fdca26"
            ],
            [
             1,
             "#f0f921"
            ]
           ]
          },
          "colorway": [
           "#636efa",
           "#EF553B",
           "#00cc96",
           "#ab63fa",
           "#FFA15A",
           "#19d3f3",
           "#FF6692",
           "#B6E880",
           "#FF97FF",
           "#FECB52"
          ],
          "font": {
           "color": "#2a3f5f"
          },
          "geo": {
           "bgcolor": "white",
           "lakecolor": "white",
           "landcolor": "#E5ECF6",
           "showlakes": true,
           "showland": true,
           "subunitcolor": "white"
          },
          "hoverlabel": {
           "align": "left"
          },
          "hovermode": "closest",
          "mapbox": {
           "style": "light"
          },
          "paper_bgcolor": "white",
          "plot_bgcolor": "#E5ECF6",
          "polar": {
           "angularaxis": {
            "gridcolor": "white",
            "linecolor": "white",
            "ticks": ""
           },
           "bgcolor": "#E5ECF6",
           "radialaxis": {
            "gridcolor": "white",
            "linecolor": "white",
            "ticks": ""
           }
          },
          "scene": {
           "xaxis": {
            "backgroundcolor": "#E5ECF6",
            "gridcolor": "white",
            "gridwidth": 2,
            "linecolor": "white",
            "showbackground": true,
            "ticks": "",
            "zerolinecolor": "white"
           },
           "yaxis": {
            "backgroundcolor": "#E5ECF6",
            "gridcolor": "white",
            "gridwidth": 2,
            "linecolor": "white",
            "showbackground": true,
            "ticks": "",
            "zerolinecolor": "white"
           },
           "zaxis": {
            "backgroundcolor": "#E5ECF6",
            "gridcolor": "white",
            "gridwidth": 2,
            "linecolor": "white",
            "showbackground": true,
            "ticks": "",
            "zerolinecolor": "white"
           }
          },
          "shapedefaults": {
           "line": {
            "color": "#2a3f5f"
           }
          },
          "ternary": {
           "aaxis": {
            "gridcolor": "white",
            "linecolor": "white",
            "ticks": ""
           },
           "baxis": {
            "gridcolor": "white",
            "linecolor": "white",
            "ticks": ""
           },
           "bgcolor": "#E5ECF6",
           "caxis": {
            "gridcolor": "white",
            "linecolor": "white",
            "ticks": ""
           }
          },
          "title": {
           "x": 0.05
          },
          "xaxis": {
           "automargin": true,
           "gridcolor": "white",
           "linecolor": "white",
           "ticks": "",
           "title": {
            "standoff": 15
           },
           "zerolinecolor": "white",
           "zerolinewidth": 2
          },
          "yaxis": {
           "automargin": true,
           "gridcolor": "white",
           "linecolor": "white",
           "ticks": "",
           "title": {
            "standoff": 15
           },
           "zerolinecolor": "white",
           "zerolinewidth": 2
          }
         }
        }
       }
      }
     },
     "metadata": {},
     "output_type": "display_data"
    }
   ],
   "source": [
    "ov_sankey = plot_sankey(sankey_value_tracing_ov, sankey_source_tracing_ov, sankey_target_tracing_ov,\n",
    "                node_label, back_tracing_color_tracing_ov, back_tracing_level_tracing_ov, positive_flow=True, go_dag=go_dag, \n",
    "                filename='Sankey_Tracing_OV')"
   ]
  },
  {
   "cell_type": "code",
   "execution_count": 41,
   "metadata": {},
   "outputs": [],
   "source": [
    "sankey_value_tracing_brca, sankey_source_tracing_brca, sankey_target_tracing_brca, back_tracing_level_tracing_brca, back_tracing_color_tracing_brca \\\n",
    "    = sankey_backward_trace(sankey_value[:, labels == cancer_2_idx['BRCA']].mean(axis=1, keepdims=True), \n",
    "                            sankey_source, sankey_target, \n",
    "                            node_label_id,\n",
    "                            sample_id=0, \n",
    "                            percent_keep = 0.05, min_num=10)"
   ]
  },
  {
   "cell_type": "code",
   "execution_count": 148,
   "metadata": {},
   "outputs": [
    {
     "data": {
      "application/vnd.plotly.v1+json": {
       "config": {
        "plotlyServerURL": "https://plot.ly"
       },
       "data": [
        {
         "arrangement": "snap",
         "link": {
          "source": [
           0,
           1,
           2,
           3,
           4,
           5,
           6,
           7,
           8,
           9,
           10,
           11,
           12,
           13,
           14,
           15,
           16,
           17,
           18,
           19,
           20,
           21,
           22,
           23,
           24,
           25,
           26,
           27,
           28,
           29,
           30,
           31,
           32,
           33,
           34,
           35,
           36,
           37,
           38,
           39,
           40,
           41,
           42,
           43,
           44,
           45,
           46,
           47,
           48,
           49,
           50,
           48
          ],
          "target": [
           51,
           51,
           51,
           51,
           51,
           51,
           51,
           51,
           51,
           51,
           51,
           51,
           51,
           51,
           51,
           51,
           51,
           51,
           51,
           1,
           9,
           8,
           4,
           1,
           1,
           10,
           16,
           4,
           8,
           26,
           22,
           20,
           24,
           22,
           22,
           24,
           24,
           21,
           25,
           29,
           31,
           31,
           30,
           29,
           29,
           38,
           32,
           30,
           30,
           42,
           40,
           42
          ],
          "value": [
           0.054088072399930104,
           0.0403933288212429,
           0.03141413227208018,
           0.028262822014429676,
           0.028039993223673027,
           0.0245891312401819,
           0.02417992791620749,
           0.022690137239287086,
           0.02216170961444029,
           0.02151865990988664,
           0.02086178713195327,
           0.020848978684226895,
           0.020198612557706188,
           0.020167761859166387,
           0.018757636356476533,
           0.018456711126872607,
           0.018440890133394578,
           0.018322394357083646,
           0.018024468655252354,
           0.015046855695119384,
           0.014503256431992302,
           0.012930886666696872,
           0.01148127863367474,
           0.008800698324461021,
           0.008713034552182029,
           0.007312386042081333,
           0.006804757949040194,
           0.006580279370881939,
           0.006534093117793777,
           0.007394477862180067,
           0.0072633826857286445,
           0.004713322141271551,
           0.004398229585763862,
           0.002961486851995832,
           0.0027353745230618673,
           0.0021953523650767004,
           0.0020938645184485362,
           0.001835727766113316,
           0.0015521190005494119,
           0.007112808207861546,
           0.0041562557546431615,
           0.0013632380647968384,
           0.0012196544665330504,
           0.0006440816915119213,
           0.00046739934477858146,
           0.00045543256777842245,
           0.0001588279387191351,
           0.00014436967199927593,
           0.0000027103198405642397,
           0.0043987501610109414,
           0.003721419758479346,
           0.00000332505110064975
          ]
         },
         "node": {
          "color": [
           "#EF553B",
           "#EF553B",
           "#EF553B",
           "#EF553B",
           "#EF553B",
           "#EF553B",
           "#EF553B",
           "#EF553B",
           "#EF553B",
           "#EF553B",
           "#EF553B",
           "#EF553B",
           "#EF553B",
           "#EF553B",
           "#EF553B",
           "#EF553B",
           "#EF553B",
           "#EF553B",
           "#EF553B",
           "#00CC96",
           "#00CC96",
           "#00CC96",
           "#00CC96",
           "#00CC96",
           "#00CC96",
           "#00CC96",
           "#00CC96",
           "#00CC96",
           "#00CC96",
           "#AB63FA",
           "#AB63FA",
           "#AB63FA",
           "#AB63FA",
           "#AB63FA",
           "#AB63FA",
           "#AB63FA",
           "#AB63FA",
           "#AB63FA",
           "#AB63FA",
           "#FFA15A",
           "#FFA15A",
           "#FFA15A",
           "#FFA15A",
           "#FFA15A",
           "#FFA15A",
           "#FFA15A",
           "#FFA15A",
           "#FFA15A",
           "#19D3F3",
           "#19D3F3",
           "#19D3F3",
           "#636EFA"
          ],
          "customdata": [
           "positive regulation of macromolecule biosynthetic process",
           "regulation of cytokine production",
           "vesicle-mediated transport",
           "positive regulation of multicellular organismal process",
           "regulation of gene expression",
           "organelle organization",
           "leukocyte activation",
           "nervous system development",
           "transmembrane transport",
           "intracellular chemical homeostasis",
           "embryo development",
           "vitamin transport",
           "immune response",
           "GO:0010941",
           "regulation of nucleobase-containing compound metabolic process",
           "nucleobase-containing compound metabolic process",
           "secretion",
           "cellular localization",
           "negative regulation of macromolecule metabolic process",
           "positive regulation of interferon-beta production",
           "intracellular monoatomic ion homeostasis",
           "monoatomic ion transmembrane transport",
           "regulation of DNA-templated transcription",
           "regulation of interleukin-1 beta production",
           "positive regulation of cytokine production",
           "chordate embryonic development",
           "secretion by cell",
           "regulation of mRNA processing",
           "xenobiotic transmembrane transport",
           "regulated exocytosis",
           "regulation of transcription by RNA polymerase II",
           "intracellular calcium ion homeostasis",
           "positive regulation of cytokine production",
           "regulation of DNA-binding transcription factor activity",
           "regulation of DNA-templated transcription initiation",
           "positive regulation of interleukin-17 production",
           "positive regulation of type II interferon production",
           "monoatomic anion transmembrane transport",
           "in utero embryonic development",
           "neutrophil degranulation",
           "positive regulation of cytosolic calcium ion concentration",
           "endoplasmic reticulum calcium ion homeostasis",
           "positive regulation of transcription by RNA polymerase II",
           "mast cell degranulation",
           "platelet degranulation",
           "blastocyst development",
           "positive regulation of interleukin-6 production",
           "BMP signaling pathway",
           "GO:0036003",
           "positive regulation of miRNA transcription",
           "calcium ion transport into cytosol",
           "biological_process"
          ],
          "hovertemplate": "%{label}: %{customdata}<extra></extra>",
          "label": [
           "GO:0010557",
           "GO:0001817",
           "GO:0016192",
           "GO:0051240",
           "GO:0010468",
           "GO:0006996",
           "GO:0045321",
           "GO:0007399",
           "GO:0055085",
           "GO:0055082",
           "GO:0009790",
           "GO:0051180",
           "GO:0006955",
           "GO:0010941",
           "GO:0019219",
           "GO:0006139",
           "GO:0046903",
           "GO:0051641",
           "GO:0010605",
           "GO:0032728",
           "GO:0006873",
           "GO:0034220",
           "GO:0006355",
           "GO:0032651",
           "GO:0001819",
           "GO:0043009",
           "GO:0032940",
           "GO:0050684",
           "GO:0006855",
           "GO:0045055",
           "GO:0006357",
           "GO:0006874",
           "GO:0050715",
           "GO:0051090",
           "GO:2000142",
           "GO:0032740",
           "GO:0032729",
           "GO:0098656",
           "GO:0001701",
           "GO:0043312",
           "GO:0007204",
           "GO:0032469",
           "GO:0045944",
           "GO:0043303",
           "GO:0002576",
           "GO:0001824",
           "GO:2000778",
           "GO:0030509",
           "GO:0036003",
           "GO:1902895",
           "GO:0060402",
           "GO:0008150"
          ],
          "pad": 15,
          "thickness": 20,
          "x": [
           0.6766666666666666,
           0.6766666666666666,
           0.6766666666666666,
           0.6766666666666666,
           0.6766666666666666,
           0.6766666666666666,
           0.6766666666666666,
           0.6766666666666666,
           0.6766666666666666,
           0.6766666666666666,
           0.6766666666666666,
           0.6766666666666666,
           0.6766666666666666,
           0.6766666666666666,
           0.6766666666666666,
           0.6766666666666666,
           0.6766666666666666,
           0.6766666666666666,
           0.6766666666666666,
           0.51,
           0.51,
           0.51,
           0.51,
           0.51,
           0.51,
           0.51,
           0.51,
           0.51,
           0.51,
           0.3433333333333333,
           0.3433333333333333,
           0.3433333333333333,
           0.3433333333333333,
           0.3433333333333333,
           0.3433333333333333,
           0.3433333333333333,
           0.3433333333333333,
           0.3433333333333333,
           0.3433333333333333,
           0.17666666666666667,
           0.17666666666666667,
           0.17666666666666667,
           0.17666666666666667,
           0.17666666666666667,
           0.17666666666666667,
           0.17666666666666667,
           0.17666666666666667,
           0.17666666666666667,
           0.01,
           0.01,
           0.01,
           0.8433333333333334
          ],
          "y": [
           0.042631578947368416,
           0.09526315789473684,
           0.14789473684210525,
           0.20052631578947366,
           0.2531578947368421,
           0.3057894736842105,
           0.3584210526315789,
           0.41105263157894734,
           0.46368421052631575,
           0.5163157894736842,
           0.5689473684210526,
           0.621578947368421,
           0.6742105263157895,
           0.7268421052631578,
           0.7794736842105263,
           0.8321052631578947,
           0.8847368421052632,
           0.9373684210526315,
           0.99,
           0.09000000000000001,
           0.19,
           0.29,
           0.39,
           0.49,
           0.59,
           0.69,
           0.79,
           0.89,
           0.99,
           0.09000000000000001,
           0.19,
           0.29,
           0.39,
           0.49,
           0.59,
           0.69,
           0.79,
           0.89,
           0.99,
           0.10111111111111111,
           0.2122222222222222,
           0.3233333333333333,
           0.4344444444444444,
           0.5455555555555556,
           0.6566666666666666,
           0.7677777777777778,
           0.8788888888888888,
           0.99,
           0.3233333333333333,
           0.6566666666666666,
           0.99,
           0.49
          ]
         },
         "type": "sankey"
        }
       ],
       "layout": {
        "font": {
         "size": 15
        },
        "hoverlabel": {
         "font": {
          "size": 15
         }
        },
        "template": {
         "data": {
          "bar": [
           {
            "error_x": {
             "color": "#2a3f5f"
            },
            "error_y": {
             "color": "#2a3f5f"
            },
            "marker": {
             "line": {
              "color": "#E5ECF6",
              "width": 0.5
             },
             "pattern": {
              "fillmode": "overlay",
              "size": 10,
              "solidity": 0.2
             }
            },
            "type": "bar"
           }
          ],
          "barpolar": [
           {
            "marker": {
             "line": {
              "color": "#E5ECF6",
              "width": 0.5
             },
             "pattern": {
              "fillmode": "overlay",
              "size": 10,
              "solidity": 0.2
             }
            },
            "type": "barpolar"
           }
          ],
          "carpet": [
           {
            "aaxis": {
             "endlinecolor": "#2a3f5f",
             "gridcolor": "white",
             "linecolor": "white",
             "minorgridcolor": "white",
             "startlinecolor": "#2a3f5f"
            },
            "baxis": {
             "endlinecolor": "#2a3f5f",
             "gridcolor": "white",
             "linecolor": "white",
             "minorgridcolor": "white",
             "startlinecolor": "#2a3f5f"
            },
            "type": "carpet"
           }
          ],
          "choropleth": [
           {
            "colorbar": {
             "outlinewidth": 0,
             "ticks": ""
            },
            "type": "choropleth"
           }
          ],
          "contour": [
           {
            "colorbar": {
             "outlinewidth": 0,
             "ticks": ""
            },
            "colorscale": [
             [
              0,
              "#0d0887"
             ],
             [
              0.1111111111111111,
              "#46039f"
             ],
             [
              0.2222222222222222,
              "#7201a8"
             ],
             [
              0.3333333333333333,
              "#9c179e"
             ],
             [
              0.4444444444444444,
              "#bd3786"
             ],
             [
              0.5555555555555556,
              "#d8576b"
             ],
             [
              0.6666666666666666,
              "#ed7953"
             ],
             [
              0.7777777777777778,
              "#fb9f3a"
             ],
             [
              0.8888888888888888,
              "#fdca26"
             ],
             [
              1,
              "#f0f921"
             ]
            ],
            "type": "contour"
           }
          ],
          "contourcarpet": [
           {
            "colorbar": {
             "outlinewidth": 0,
             "ticks": ""
            },
            "type": "contourcarpet"
           }
          ],
          "heatmap": [
           {
            "colorbar": {
             "outlinewidth": 0,
             "ticks": ""
            },
            "colorscale": [
             [
              0,
              "#0d0887"
             ],
             [
              0.1111111111111111,
              "#46039f"
             ],
             [
              0.2222222222222222,
              "#7201a8"
             ],
             [
              0.3333333333333333,
              "#9c179e"
             ],
             [
              0.4444444444444444,
              "#bd3786"
             ],
             [
              0.5555555555555556,
              "#d8576b"
             ],
             [
              0.6666666666666666,
              "#ed7953"
             ],
             [
              0.7777777777777778,
              "#fb9f3a"
             ],
             [
              0.8888888888888888,
              "#fdca26"
             ],
             [
              1,
              "#f0f921"
             ]
            ],
            "type": "heatmap"
           }
          ],
          "heatmapgl": [
           {
            "colorbar": {
             "outlinewidth": 0,
             "ticks": ""
            },
            "colorscale": [
             [
              0,
              "#0d0887"
             ],
             [
              0.1111111111111111,
              "#46039f"
             ],
             [
              0.2222222222222222,
              "#7201a8"
             ],
             [
              0.3333333333333333,
              "#9c179e"
             ],
             [
              0.4444444444444444,
              "#bd3786"
             ],
             [
              0.5555555555555556,
              "#d8576b"
             ],
             [
              0.6666666666666666,
              "#ed7953"
             ],
             [
              0.7777777777777778,
              "#fb9f3a"
             ],
             [
              0.8888888888888888,
              "#fdca26"
             ],
             [
              1,
              "#f0f921"
             ]
            ],
            "type": "heatmapgl"
           }
          ],
          "histogram": [
           {
            "marker": {
             "pattern": {
              "fillmode": "overlay",
              "size": 10,
              "solidity": 0.2
             }
            },
            "type": "histogram"
           }
          ],
          "histogram2d": [
           {
            "colorbar": {
             "outlinewidth": 0,
             "ticks": ""
            },
            "colorscale": [
             [
              0,
              "#0d0887"
             ],
             [
              0.1111111111111111,
              "#46039f"
             ],
             [
              0.2222222222222222,
              "#7201a8"
             ],
             [
              0.3333333333333333,
              "#9c179e"
             ],
             [
              0.4444444444444444,
              "#bd3786"
             ],
             [
              0.5555555555555556,
              "#d8576b"
             ],
             [
              0.6666666666666666,
              "#ed7953"
             ],
             [
              0.7777777777777778,
              "#fb9f3a"
             ],
             [
              0.8888888888888888,
              "#fdca26"
             ],
             [
              1,
              "#f0f921"
             ]
            ],
            "type": "histogram2d"
           }
          ],
          "histogram2dcontour": [
           {
            "colorbar": {
             "outlinewidth": 0,
             "ticks": ""
            },
            "colorscale": [
             [
              0,
              "#0d0887"
             ],
             [
              0.1111111111111111,
              "#46039f"
             ],
             [
              0.2222222222222222,
              "#7201a8"
             ],
             [
              0.3333333333333333,
              "#9c179e"
             ],
             [
              0.4444444444444444,
              "#bd3786"
             ],
             [
              0.5555555555555556,
              "#d8576b"
             ],
             [
              0.6666666666666666,
              "#ed7953"
             ],
             [
              0.7777777777777778,
              "#fb9f3a"
             ],
             [
              0.8888888888888888,
              "#fdca26"
             ],
             [
              1,
              "#f0f921"
             ]
            ],
            "type": "histogram2dcontour"
           }
          ],
          "mesh3d": [
           {
            "colorbar": {
             "outlinewidth": 0,
             "ticks": ""
            },
            "type": "mesh3d"
           }
          ],
          "parcoords": [
           {
            "line": {
             "colorbar": {
              "outlinewidth": 0,
              "ticks": ""
             }
            },
            "type": "parcoords"
           }
          ],
          "pie": [
           {
            "automargin": true,
            "type": "pie"
           }
          ],
          "scatter": [
           {
            "fillpattern": {
             "fillmode": "overlay",
             "size": 10,
             "solidity": 0.2
            },
            "type": "scatter"
           }
          ],
          "scatter3d": [
           {
            "line": {
             "colorbar": {
              "outlinewidth": 0,
              "ticks": ""
             }
            },
            "marker": {
             "colorbar": {
              "outlinewidth": 0,
              "ticks": ""
             }
            },
            "type": "scatter3d"
           }
          ],
          "scattercarpet": [
           {
            "marker": {
             "colorbar": {
              "outlinewidth": 0,
              "ticks": ""
             }
            },
            "type": "scattercarpet"
           }
          ],
          "scattergeo": [
           {
            "marker": {
             "colorbar": {
              "outlinewidth": 0,
              "ticks": ""
             }
            },
            "type": "scattergeo"
           }
          ],
          "scattergl": [
           {
            "marker": {
             "colorbar": {
              "outlinewidth": 0,
              "ticks": ""
             }
            },
            "type": "scattergl"
           }
          ],
          "scattermapbox": [
           {
            "marker": {
             "colorbar": {
              "outlinewidth": 0,
              "ticks": ""
             }
            },
            "type": "scattermapbox"
           }
          ],
          "scatterpolar": [
           {
            "marker": {
             "colorbar": {
              "outlinewidth": 0,
              "ticks": ""
             }
            },
            "type": "scatterpolar"
           }
          ],
          "scatterpolargl": [
           {
            "marker": {
             "colorbar": {
              "outlinewidth": 0,
              "ticks": ""
             }
            },
            "type": "scatterpolargl"
           }
          ],
          "scatterternary": [
           {
            "marker": {
             "colorbar": {
              "outlinewidth": 0,
              "ticks": ""
             }
            },
            "type": "scatterternary"
           }
          ],
          "surface": [
           {
            "colorbar": {
             "outlinewidth": 0,
             "ticks": ""
            },
            "colorscale": [
             [
              0,
              "#0d0887"
             ],
             [
              0.1111111111111111,
              "#46039f"
             ],
             [
              0.2222222222222222,
              "#7201a8"
             ],
             [
              0.3333333333333333,
              "#9c179e"
             ],
             [
              0.4444444444444444,
              "#bd3786"
             ],
             [
              0.5555555555555556,
              "#d8576b"
             ],
             [
              0.6666666666666666,
              "#ed7953"
             ],
             [
              0.7777777777777778,
              "#fb9f3a"
             ],
             [
              0.8888888888888888,
              "#fdca26"
             ],
             [
              1,
              "#f0f921"
             ]
            ],
            "type": "surface"
           }
          ],
          "table": [
           {
            "cells": {
             "fill": {
              "color": "#EBF0F8"
             },
             "line": {
              "color": "white"
             }
            },
            "header": {
             "fill": {
              "color": "#C8D4E3"
             },
             "line": {
              "color": "white"
             }
            },
            "type": "table"
           }
          ]
         },
         "layout": {
          "annotationdefaults": {
           "arrowcolor": "#2a3f5f",
           "arrowhead": 0,
           "arrowwidth": 1
          },
          "autotypenumbers": "strict",
          "coloraxis": {
           "colorbar": {
            "outlinewidth": 0,
            "ticks": ""
           }
          },
          "colorscale": {
           "diverging": [
            [
             0,
             "#8e0152"
            ],
            [
             0.1,
             "#c51b7d"
            ],
            [
             0.2,
             "#de77ae"
            ],
            [
             0.3,
             "#f1b6da"
            ],
            [
             0.4,
             "#fde0ef"
            ],
            [
             0.5,
             "#f7f7f7"
            ],
            [
             0.6,
             "#e6f5d0"
            ],
            [
             0.7,
             "#b8e186"
            ],
            [
             0.8,
             "#7fbc41"
            ],
            [
             0.9,
             "#4d9221"
            ],
            [
             1,
             "#276419"
            ]
           ],
           "sequential": [
            [
             0,
             "#0d0887"
            ],
            [
             0.1111111111111111,
             "#46039f"
            ],
            [
             0.2222222222222222,
             "#7201a8"
            ],
            [
             0.3333333333333333,
             "#9c179e"
            ],
            [
             0.4444444444444444,
             "#bd3786"
            ],
            [
             0.5555555555555556,
             "#d8576b"
            ],
            [
             0.6666666666666666,
             "#ed7953"
            ],
            [
             0.7777777777777778,
             "#fb9f3a"
            ],
            [
             0.8888888888888888,
             "#fdca26"
            ],
            [
             1,
             "#f0f921"
            ]
           ],
           "sequentialminus": [
            [
             0,
             "#0d0887"
            ],
            [
             0.1111111111111111,
             "#46039f"
            ],
            [
             0.2222222222222222,
             "#7201a8"
            ],
            [
             0.3333333333333333,
             "#9c179e"
            ],
            [
             0.4444444444444444,
             "#bd3786"
            ],
            [
             0.5555555555555556,
             "#d8576b"
            ],
            [
             0.6666666666666666,
             "#ed7953"
            ],
            [
             0.7777777777777778,
             "#fb9f3a"
            ],
            [
             0.8888888888888888,
             "#fdca26"
            ],
            [
             1,
             "#f0f921"
            ]
           ]
          },
          "colorway": [
           "#636efa",
           "#EF553B",
           "#00cc96",
           "#ab63fa",
           "#FFA15A",
           "#19d3f3",
           "#FF6692",
           "#B6E880",
           "#FF97FF",
           "#FECB52"
          ],
          "font": {
           "color": "#2a3f5f"
          },
          "geo": {
           "bgcolor": "white",
           "lakecolor": "white",
           "landcolor": "#E5ECF6",
           "showlakes": true,
           "showland": true,
           "subunitcolor": "white"
          },
          "hoverlabel": {
           "align": "left"
          },
          "hovermode": "closest",
          "mapbox": {
           "style": "light"
          },
          "paper_bgcolor": "white",
          "plot_bgcolor": "#E5ECF6",
          "polar": {
           "angularaxis": {
            "gridcolor": "white",
            "linecolor": "white",
            "ticks": ""
           },
           "bgcolor": "#E5ECF6",
           "radialaxis": {
            "gridcolor": "white",
            "linecolor": "white",
            "ticks": ""
           }
          },
          "scene": {
           "xaxis": {
            "backgroundcolor": "#E5ECF6",
            "gridcolor": "white",
            "gridwidth": 2,
            "linecolor": "white",
            "showbackground": true,
            "ticks": "",
            "zerolinecolor": "white"
           },
           "yaxis": {
            "backgroundcolor": "#E5ECF6",
            "gridcolor": "white",
            "gridwidth": 2,
            "linecolor": "white",
            "showbackground": true,
            "ticks": "",
            "zerolinecolor": "white"
           },
           "zaxis": {
            "backgroundcolor": "#E5ECF6",
            "gridcolor": "white",
            "gridwidth": 2,
            "linecolor": "white",
            "showbackground": true,
            "ticks": "",
            "zerolinecolor": "white"
           }
          },
          "shapedefaults": {
           "line": {
            "color": "#2a3f5f"
           }
          },
          "ternary": {
           "aaxis": {
            "gridcolor": "white",
            "linecolor": "white",
            "ticks": ""
           },
           "baxis": {
            "gridcolor": "white",
            "linecolor": "white",
            "ticks": ""
           },
           "bgcolor": "#E5ECF6",
           "caxis": {
            "gridcolor": "white",
            "linecolor": "white",
            "ticks": ""
           }
          },
          "title": {
           "x": 0.05
          },
          "xaxis": {
           "automargin": true,
           "gridcolor": "white",
           "linecolor": "white",
           "ticks": "",
           "title": {
            "standoff": 15
           },
           "zerolinecolor": "white",
           "zerolinewidth": 2
          },
          "yaxis": {
           "automargin": true,
           "gridcolor": "white",
           "linecolor": "white",
           "ticks": "",
           "title": {
            "standoff": 15
           },
           "zerolinecolor": "white",
           "zerolinewidth": 2
          }
         }
        }
       }
      }
     },
     "metadata": {},
     "output_type": "display_data"
    }
   ],
   "source": [
    "brca_sankey = plot_sankey(sankey_value_tracing_brca, sankey_source_tracing_brca, sankey_target_tracing_brca,\n",
    "                node_label, back_tracing_color_tracing_brca, back_tracing_level_tracing_brca, positive_flow=True, go_dag=go_dag, \n",
    "                filename='Sankey_Tracing_BRCA')"
   ]
  },
  {
   "cell_type": "code",
   "execution_count": null,
   "metadata": {},
   "outputs": [],
   "source": []
  },
  {
   "cell_type": "markdown",
   "metadata": {},
   "source": [
    "### For L0 level importance"
   ]
  },
  {
   "cell_type": "code",
   "execution_count": 31,
   "metadata": {},
   "outputs": [],
   "source": [
    "test_data, test_labels = testing_set[0:]\n",
    "labels_str = [idx_2_cancer[idx.item()] for idx in test_labels]\n",
    "data_ov, labels_ov = testing_set[np.nonzero(np.array(labels_str) == 'OV')[0].tolist()]\n",
    "\n",
    "data_brca, labels_brca = testing_set[np.nonzero(np.array(labels_str) == 'BRCA')[0].tolist()]"
   ]
  },
  {
   "cell_type": "code",
   "execution_count": 32,
   "metadata": {},
   "outputs": [],
   "source": [
    "torch.manual_seed(0)\n",
    "\n",
    "(inputdata, labels) = testing_set[:220]\n",
    "inputdata = torch.cat((inputdata, data_ov))\n",
    "labels = torch.cat((labels, labels_ov))\n",
    "\n",
    "inputdata = torch.cat((inputdata, data_brca[-60:]))\n",
    "labels = torch.cat((labels, labels_brca[-60:]))\n",
    "\n",
    "labels_str = [idx_2_cancer[idx.item()] for idx in labels]\n",
    "\n",
    "term_list = []\n",
    "leaves = model.term_layer_list[0]\n",
    "for idx_leaf, term in enumerate(leaves):\n",
    "    term_list.append(model._modules[term+'_linear_layer'])\n",
    "layer0_ig = LayerIntegratedGradients(model, term_list)\n",
    "\n",
    "layer0_attr_list = layer0_ig.attribute(inputdata.to(DEVICE), target=labels.to(DEVICE),\n",
    "                                      attribute_to_layer_input=False)"
   ]
  },
  {
   "cell_type": "code",
   "execution_count": 33,
   "metadata": {},
   "outputs": [],
   "source": [
    "layer0_attr_stack = torch.stack(layer0_attr_list, dim=0)"
   ]
  },
  {
   "cell_type": "code",
   "execution_count": 34,
   "metadata": {},
   "outputs": [
    {
     "data": {
      "text/plain": [
       "torch.Size([1364, 363, 6])"
      ]
     },
     "execution_count": 34,
     "metadata": {},
     "output_type": "execute_result"
    }
   ],
   "source": [
    "layer0_attr_stack.shape\n"
   ]
  },
  {
   "cell_type": "code",
   "execution_count": 35,
   "metadata": {},
   "outputs": [],
   "source": [
    "layer0_attr = layer0_attr_stack.mean(dim=2)"
   ]
  },
  {
   "cell_type": "code",
   "execution_count": 36,
   "metadata": {},
   "outputs": [],
   "source": [
    "layer0_ov_attr = layer0_attr[:, labels == cancer_2_idx['OV']].mean(1)\n",
    "layer0_brca_attr = layer0_attr[:, labels == cancer_2_idx['BRCA']].mean(1)\n"
   ]
  },
  {
   "cell_type": "code",
   "execution_count": 42,
   "metadata": {},
   "outputs": [
    {
     "data": {
      "text/plain": [
       "tensor([-5.1750e-04, -5.0931e-05, -3.3807e-05,  ..., -1.0903e-04,\n",
       "        -1.7710e-04,  1.6560e-04], device='cuda:6', dtype=torch.float64)"
      ]
     },
     "execution_count": 42,
     "metadata": {},
     "output_type": "execute_result"
    }
   ],
   "source": [
    "layer0_ov_attr"
   ]
  },
  {
   "cell_type": "code",
   "execution_count": 44,
   "metadata": {},
   "outputs": [],
   "source": [
    "l0_node_importance = pd.DataFrame({'terms': leaves,\n",
    "              'terms_full_name': go_name_converter(leaves, go_dag),\n",
    "              'imp_ov': layer0_ov_attr.cpu(),\n",
    "              'imp_brca': layer0_brca_attr.cpu()})\n",
    "l0_node_importance.to_csv('L0_node_importance.csv')"
   ]
  },
  {
   "cell_type": "code",
   "execution_count": 108,
   "metadata": {},
   "outputs": [
    {
     "data": {
      "text/plain": [
       "array(['GO:0022037', 'GO:0051145', 'GO:0009651', 'GO:0030104',\n",
       "       'GO:0072078', 'GO:0045745', 'GO:0010906', 'GO:0009812',\n",
       "       'GO:0010885', 'GO:0090312', 'GO:0071243', 'GO:2001056',\n",
       "       'GO:0006413', 'GO:0022617', 'GO:0010453', 'GO:0032330',\n",
       "       'GO:0035108', 'GO:0048705', 'GO:0150063', 'GO:0006595'],\n",
       "      dtype='<U10')"
      ]
     },
     "execution_count": 108,
     "metadata": {},
     "output_type": "execute_result"
    }
   ],
   "source": [
    "np.flip(np.array(leaves)[torch.argsort(layer0_ov_attr.cpu(), descending=True)][:20])"
   ]
  },
  {
   "cell_type": "code",
   "execution_count": 109,
   "metadata": {},
   "outputs": [],
   "source": [
    "def go_name_converter(labellist, go_dag):\n",
    "    fullname_list = []\n",
    "    for node_label_tmp in labellist:\n",
    "        if node_label_tmp in go_dag:\n",
    "            fullname_list.append(go_dag[node_label_tmp].name)\n",
    "        else:\n",
    "            fullname_list.append(node_label_tmp)\n",
    "    \n",
    "    return fullname_list"
   ]
  },
  {
   "cell_type": "code",
   "execution_count": 110,
   "metadata": {},
   "outputs": [
    {
     "data": {
      "application/vnd.plotly.v1+json": {
       "config": {
        "plotlyServerURL": "https://plot.ly"
       },
       "data": [
        {
         "customdata": [
          "metencephalon development",
          "smooth muscle cell differentiation",
          "response to salt stress",
          "GO:0030104",
          "nephron tubule morphogenesis",
          "positive regulation of G protein-coupled receptor signaling pathway",
          "regulation of glucose metabolic process",
          "flavonoid metabolic process",
          "regulation of cholesterol storage",
          "positive regulation of protein deacetylation",
          "cellular response to arsenic-containing substance",
          "positive regulation of cysteine-type endopeptidase activity",
          "translational initiation",
          "extracellular matrix disassembly",
          "regulation of cell fate commitment",
          "regulation of chondrocyte differentiation",
          "limb morphogenesis",
          "skeletal system morphogenesis",
          "visual system development",
          "polyamine metabolic process"
         ],
         "hovertemplate": "%{y}: %{customdata}<extra></extra>",
         "orientation": "h",
         "type": "bar",
         "x": [
          0.0015938529806869709,
          0.0016775802618435936,
          0.0016931827765485497,
          0.0017123891091793218,
          0.001712745865399556,
          0.0017139851912227133,
          0.001789467943737791,
          0.0018352409065159395,
          0.0018676682930212692,
          0.0019981844201332056,
          0.002029666890156823,
          0.0020350279459580194,
          0.002081095029661269,
          0.0021411303588700415,
          0.002203003162219848,
          0.0023114224329827495,
          0.0024672108364075713,
          0.002773338330409816,
          0.002791849786360864,
          0.0029823798862653873
         ],
         "y": [
          "GO:0022037",
          "GO:0051145",
          "GO:0009651",
          "GO:0030104",
          "GO:0072078",
          "GO:0045745",
          "GO:0010906",
          "GO:0009812",
          "GO:0010885",
          "GO:0090312",
          "GO:0071243",
          "GO:2001056",
          "GO:0006413",
          "GO:0022617",
          "GO:0010453",
          "GO:0032330",
          "GO:0035108",
          "GO:0048705",
          "GO:0150063",
          "GO:0006595"
         ]
        }
       ],
       "layout": {
        "template": {
         "data": {
          "bar": [
           {
            "error_x": {
             "color": "#2a3f5f"
            },
            "error_y": {
             "color": "#2a3f5f"
            },
            "marker": {
             "line": {
              "color": "#E5ECF6",
              "width": 0.5
             },
             "pattern": {
              "fillmode": "overlay",
              "size": 10,
              "solidity": 0.2
             }
            },
            "type": "bar"
           }
          ],
          "barpolar": [
           {
            "marker": {
             "line": {
              "color": "#E5ECF6",
              "width": 0.5
             },
             "pattern": {
              "fillmode": "overlay",
              "size": 10,
              "solidity": 0.2
             }
            },
            "type": "barpolar"
           }
          ],
          "carpet": [
           {
            "aaxis": {
             "endlinecolor": "#2a3f5f",
             "gridcolor": "white",
             "linecolor": "white",
             "minorgridcolor": "white",
             "startlinecolor": "#2a3f5f"
            },
            "baxis": {
             "endlinecolor": "#2a3f5f",
             "gridcolor": "white",
             "linecolor": "white",
             "minorgridcolor": "white",
             "startlinecolor": "#2a3f5f"
            },
            "type": "carpet"
           }
          ],
          "choropleth": [
           {
            "colorbar": {
             "outlinewidth": 0,
             "ticks": ""
            },
            "type": "choropleth"
           }
          ],
          "contour": [
           {
            "colorbar": {
             "outlinewidth": 0,
             "ticks": ""
            },
            "colorscale": [
             [
              0,
              "#0d0887"
             ],
             [
              0.1111111111111111,
              "#46039f"
             ],
             [
              0.2222222222222222,
              "#7201a8"
             ],
             [
              0.3333333333333333,
              "#9c179e"
             ],
             [
              0.4444444444444444,
              "#bd3786"
             ],
             [
              0.5555555555555556,
              "#d8576b"
             ],
             [
              0.6666666666666666,
              "#ed7953"
             ],
             [
              0.7777777777777778,
              "#fb9f3a"
             ],
             [
              0.8888888888888888,
              "#fdca26"
             ],
             [
              1,
              "#f0f921"
             ]
            ],
            "type": "contour"
           }
          ],
          "contourcarpet": [
           {
            "colorbar": {
             "outlinewidth": 0,
             "ticks": ""
            },
            "type": "contourcarpet"
           }
          ],
          "heatmap": [
           {
            "colorbar": {
             "outlinewidth": 0,
             "ticks": ""
            },
            "colorscale": [
             [
              0,
              "#0d0887"
             ],
             [
              0.1111111111111111,
              "#46039f"
             ],
             [
              0.2222222222222222,
              "#7201a8"
             ],
             [
              0.3333333333333333,
              "#9c179e"
             ],
             [
              0.4444444444444444,
              "#bd3786"
             ],
             [
              0.5555555555555556,
              "#d8576b"
             ],
             [
              0.6666666666666666,
              "#ed7953"
             ],
             [
              0.7777777777777778,
              "#fb9f3a"
             ],
             [
              0.8888888888888888,
              "#fdca26"
             ],
             [
              1,
              "#f0f921"
             ]
            ],
            "type": "heatmap"
           }
          ],
          "heatmapgl": [
           {
            "colorbar": {
             "outlinewidth": 0,
             "ticks": ""
            },
            "colorscale": [
             [
              0,
              "#0d0887"
             ],
             [
              0.1111111111111111,
              "#46039f"
             ],
             [
              0.2222222222222222,
              "#7201a8"
             ],
             [
              0.3333333333333333,
              "#9c179e"
             ],
             [
              0.4444444444444444,
              "#bd3786"
             ],
             [
              0.5555555555555556,
              "#d8576b"
             ],
             [
              0.6666666666666666,
              "#ed7953"
             ],
             [
              0.7777777777777778,
              "#fb9f3a"
             ],
             [
              0.8888888888888888,
              "#fdca26"
             ],
             [
              1,
              "#f0f921"
             ]
            ],
            "type": "heatmapgl"
           }
          ],
          "histogram": [
           {
            "marker": {
             "pattern": {
              "fillmode": "overlay",
              "size": 10,
              "solidity": 0.2
             }
            },
            "type": "histogram"
           }
          ],
          "histogram2d": [
           {
            "colorbar": {
             "outlinewidth": 0,
             "ticks": ""
            },
            "colorscale": [
             [
              0,
              "#0d0887"
             ],
             [
              0.1111111111111111,
              "#46039f"
             ],
             [
              0.2222222222222222,
              "#7201a8"
             ],
             [
              0.3333333333333333,
              "#9c179e"
             ],
             [
              0.4444444444444444,
              "#bd3786"
             ],
             [
              0.5555555555555556,
              "#d8576b"
             ],
             [
              0.6666666666666666,
              "#ed7953"
             ],
             [
              0.7777777777777778,
              "#fb9f3a"
             ],
             [
              0.8888888888888888,
              "#fdca26"
             ],
             [
              1,
              "#f0f921"
             ]
            ],
            "type": "histogram2d"
           }
          ],
          "histogram2dcontour": [
           {
            "colorbar": {
             "outlinewidth": 0,
             "ticks": ""
            },
            "colorscale": [
             [
              0,
              "#0d0887"
             ],
             [
              0.1111111111111111,
              "#46039f"
             ],
             [
              0.2222222222222222,
              "#7201a8"
             ],
             [
              0.3333333333333333,
              "#9c179e"
             ],
             [
              0.4444444444444444,
              "#bd3786"
             ],
             [
              0.5555555555555556,
              "#d8576b"
             ],
             [
              0.6666666666666666,
              "#ed7953"
             ],
             [
              0.7777777777777778,
              "#fb9f3a"
             ],
             [
              0.8888888888888888,
              "#fdca26"
             ],
             [
              1,
              "#f0f921"
             ]
            ],
            "type": "histogram2dcontour"
           }
          ],
          "mesh3d": [
           {
            "colorbar": {
             "outlinewidth": 0,
             "ticks": ""
            },
            "type": "mesh3d"
           }
          ],
          "parcoords": [
           {
            "line": {
             "colorbar": {
              "outlinewidth": 0,
              "ticks": ""
             }
            },
            "type": "parcoords"
           }
          ],
          "pie": [
           {
            "automargin": true,
            "type": "pie"
           }
          ],
          "scatter": [
           {
            "fillpattern": {
             "fillmode": "overlay",
             "size": 10,
             "solidity": 0.2
            },
            "type": "scatter"
           }
          ],
          "scatter3d": [
           {
            "line": {
             "colorbar": {
              "outlinewidth": 0,
              "ticks": ""
             }
            },
            "marker": {
             "colorbar": {
              "outlinewidth": 0,
              "ticks": ""
             }
            },
            "type": "scatter3d"
           }
          ],
          "scattercarpet": [
           {
            "marker": {
             "colorbar": {
              "outlinewidth": 0,
              "ticks": ""
             }
            },
            "type": "scattercarpet"
           }
          ],
          "scattergeo": [
           {
            "marker": {
             "colorbar": {
              "outlinewidth": 0,
              "ticks": ""
             }
            },
            "type": "scattergeo"
           }
          ],
          "scattergl": [
           {
            "marker": {
             "colorbar": {
              "outlinewidth": 0,
              "ticks": ""
             }
            },
            "type": "scattergl"
           }
          ],
          "scattermapbox": [
           {
            "marker": {
             "colorbar": {
              "outlinewidth": 0,
              "ticks": ""
             }
            },
            "type": "scattermapbox"
           }
          ],
          "scatterpolar": [
           {
            "marker": {
             "colorbar": {
              "outlinewidth": 0,
              "ticks": ""
             }
            },
            "type": "scatterpolar"
           }
          ],
          "scatterpolargl": [
           {
            "marker": {
             "colorbar": {
              "outlinewidth": 0,
              "ticks": ""
             }
            },
            "type": "scatterpolargl"
           }
          ],
          "scatterternary": [
           {
            "marker": {
             "colorbar": {
              "outlinewidth": 0,
              "ticks": ""
             }
            },
            "type": "scatterternary"
           }
          ],
          "surface": [
           {
            "colorbar": {
             "outlinewidth": 0,
             "ticks": ""
            },
            "colorscale": [
             [
              0,
              "#0d0887"
             ],
             [
              0.1111111111111111,
              "#46039f"
             ],
             [
              0.2222222222222222,
              "#7201a8"
             ],
             [
              0.3333333333333333,
              "#9c179e"
             ],
             [
              0.4444444444444444,
              "#bd3786"
             ],
             [
              0.5555555555555556,
              "#d8576b"
             ],
             [
              0.6666666666666666,
              "#ed7953"
             ],
             [
              0.7777777777777778,
              "#fb9f3a"
             ],
             [
              0.8888888888888888,
              "#fdca26"
             ],
             [
              1,
              "#f0f921"
             ]
            ],
            "type": "surface"
           }
          ],
          "table": [
           {
            "cells": {
             "fill": {
              "color": "#EBF0F8"
             },
             "line": {
              "color": "white"
             }
            },
            "header": {
             "fill": {
              "color": "#C8D4E3"
             },
             "line": {
              "color": "white"
             }
            },
            "type": "table"
           }
          ]
         },
         "layout": {
          "annotationdefaults": {
           "arrowcolor": "#2a3f5f",
           "arrowhead": 0,
           "arrowwidth": 1
          },
          "autotypenumbers": "strict",
          "coloraxis": {
           "colorbar": {
            "outlinewidth": 0,
            "ticks": ""
           }
          },
          "colorscale": {
           "diverging": [
            [
             0,
             "#8e0152"
            ],
            [
             0.1,
             "#c51b7d"
            ],
            [
             0.2,
             "#de77ae"
            ],
            [
             0.3,
             "#f1b6da"
            ],
            [
             0.4,
             "#fde0ef"
            ],
            [
             0.5,
             "#f7f7f7"
            ],
            [
             0.6,
             "#e6f5d0"
            ],
            [
             0.7,
             "#b8e186"
            ],
            [
             0.8,
             "#7fbc41"
            ],
            [
             0.9,
             "#4d9221"
            ],
            [
             1,
             "#276419"
            ]
           ],
           "sequential": [
            [
             0,
             "#0d0887"
            ],
            [
             0.1111111111111111,
             "#46039f"
            ],
            [
             0.2222222222222222,
             "#7201a8"
            ],
            [
             0.3333333333333333,
             "#9c179e"
            ],
            [
             0.4444444444444444,
             "#bd3786"
            ],
            [
             0.5555555555555556,
             "#d8576b"
            ],
            [
             0.6666666666666666,
             "#ed7953"
            ],
            [
             0.7777777777777778,
             "#fb9f3a"
            ],
            [
             0.8888888888888888,
             "#fdca26"
            ],
            [
             1,
             "#f0f921"
            ]
           ],
           "sequentialminus": [
            [
             0,
             "#0d0887"
            ],
            [
             0.1111111111111111,
             "#46039f"
            ],
            [
             0.2222222222222222,
             "#7201a8"
            ],
            [
             0.3333333333333333,
             "#9c179e"
            ],
            [
             0.4444444444444444,
             "#bd3786"
            ],
            [
             0.5555555555555556,
             "#d8576b"
            ],
            [
             0.6666666666666666,
             "#ed7953"
            ],
            [
             0.7777777777777778,
             "#fb9f3a"
            ],
            [
             0.8888888888888888,
             "#fdca26"
            ],
            [
             1,
             "#f0f921"
            ]
           ]
          },
          "colorway": [
           "#636efa",
           "#EF553B",
           "#00cc96",
           "#ab63fa",
           "#FFA15A",
           "#19d3f3",
           "#FF6692",
           "#B6E880",
           "#FF97FF",
           "#FECB52"
          ],
          "font": {
           "color": "#2a3f5f"
          },
          "geo": {
           "bgcolor": "white",
           "lakecolor": "white",
           "landcolor": "#E5ECF6",
           "showlakes": true,
           "showland": true,
           "subunitcolor": "white"
          },
          "hoverlabel": {
           "align": "left"
          },
          "hovermode": "closest",
          "mapbox": {
           "style": "light"
          },
          "paper_bgcolor": "white",
          "plot_bgcolor": "#E5ECF6",
          "polar": {
           "angularaxis": {
            "gridcolor": "white",
            "linecolor": "white",
            "ticks": ""
           },
           "bgcolor": "#E5ECF6",
           "radialaxis": {
            "gridcolor": "white",
            "linecolor": "white",
            "ticks": ""
           }
          },
          "scene": {
           "xaxis": {
            "backgroundcolor": "#E5ECF6",
            "gridcolor": "white",
            "gridwidth": 2,
            "linecolor": "white",
            "showbackground": true,
            "ticks": "",
            "zerolinecolor": "white"
           },
           "yaxis": {
            "backgroundcolor": "#E5ECF6",
            "gridcolor": "white",
            "gridwidth": 2,
            "linecolor": "white",
            "showbackground": true,
            "ticks": "",
            "zerolinecolor": "white"
           },
           "zaxis": {
            "backgroundcolor": "#E5ECF6",
            "gridcolor": "white",
            "gridwidth": 2,
            "linecolor": "white",
            "showbackground": true,
            "ticks": "",
            "zerolinecolor": "white"
           }
          },
          "shapedefaults": {
           "line": {
            "color": "#2a3f5f"
           }
          },
          "ternary": {
           "aaxis": {
            "gridcolor": "white",
            "linecolor": "white",
            "ticks": ""
           },
           "baxis": {
            "gridcolor": "white",
            "linecolor": "white",
            "ticks": ""
           },
           "bgcolor": "#E5ECF6",
           "caxis": {
            "gridcolor": "white",
            "linecolor": "white",
            "ticks": ""
           }
          },
          "title": {
           "x": 0.05
          },
          "xaxis": {
           "automargin": true,
           "gridcolor": "white",
           "linecolor": "white",
           "ticks": "",
           "title": {
            "standoff": 15
           },
           "zerolinecolor": "white",
           "zerolinewidth": 2
          },
          "yaxis": {
           "automargin": true,
           "gridcolor": "white",
           "linecolor": "white",
           "ticks": "",
           "title": {
            "standoff": 15
           },
           "zerolinecolor": "white",
           "zerolinewidth": 2
          }
         }
        }
       }
      }
     },
     "metadata": {},
     "output_type": "display_data"
    }
   ],
   "source": [
    "labels_ov = np.flip(np.array(leaves)[torch.argsort(layer0_ov_attr.cpu(), descending=True)][:20])\n",
    "\n",
    "sankey_node_fullname_ov = go_name_converter(labels_ov, go_dag)\n",
    "\n",
    "fig = go.Figure(go.Bar(\n",
    "            x=layer0_ov_attr[torch.argsort(layer0_ov_attr.cpu(), descending=True)][:20].cpu().flip(0),\n",
    "            y=labels_ov,\n",
    "            customdata=sankey_node_fullname_ov,\n",
    "            hovertemplate = \"%{y}: %{customdata}<extra></extra>\",\n",
    "            orientation='h'))\n",
    "\n",
    "fig.write_html(\"OV_barplot_level0.html\")\n",
    "fig.show()"
   ]
  },
  {
   "cell_type": "code",
   "execution_count": 111,
   "metadata": {},
   "outputs": [
    {
     "data": {
      "text/plain": [
       "torch.Size([20])"
      ]
     },
     "execution_count": 111,
     "metadata": {},
     "output_type": "execute_result"
    }
   ],
   "source": [
    "layer0_brca_attr[torch.argsort(layer0_brca_attr.cpu(), descending=True)][:20].cpu().flip(0).shape"
   ]
  },
  {
   "cell_type": "code",
   "execution_count": 112,
   "metadata": {},
   "outputs": [
    {
     "data": {
      "text/plain": [
       "torch.Size([332])"
      ]
     },
     "execution_count": 112,
     "metadata": {},
     "output_type": "execute_result"
    }
   ],
   "source": [
    "labels_brca.shape"
   ]
  },
  {
   "cell_type": "code",
   "execution_count": 113,
   "metadata": {},
   "outputs": [
    {
     "data": {
      "application/vnd.plotly.v1+json": {
       "config": {
        "plotlyServerURL": "https://plot.ly"
       },
       "data": [
        {
         "customdata": [
          "mammary gland alveolus development",
          "positive regulation of epidermal growth factor receptor signaling pathway",
          "regulation of smooth muscle cell differentiation",
          "guanosine-containing compound metabolic process",
          "modulation by host of symbiont process",
          "positive regulation of chromatin organization",
          "mRNA splicing, via spliceosome",
          "protein catabolic process",
          "adaptation of signaling pathway",
          "proteoglycan metabolic process",
          "negative regulation of reactive oxygen species biosynthetic process",
          "regulation of respiratory gaseous exchange",
          "positive regulation of macrophage activation",
          "positive regulation of interferon-beta production",
          "regulation of type II interferon-mediated signaling pathway",
          "localization of cell",
          "replicative senescence",
          "regulation of amyloid-beta formation",
          "somatic diversification of immunoglobulins",
          "negative regulation of lipid storage"
         ],
         "hovertemplate": "%{y}: %{customdata}<extra></extra>",
         "orientation": "h",
         "type": "bar",
         "x": [
          0.001994236074288868,
          0.0020226919522672976,
          0.0020290975026159264,
          0.0020554150258999967,
          0.002131252375190428,
          0.002213555469585614,
          0.0022480166197312843,
          0.0022959969955569297,
          0.0023300953991061087,
          0.0024660542495128497,
          0.002609992234624769,
          0.002624681389111907,
          0.00262597518847445,
          0.0026333624278387455,
          0.0026476189135941487,
          0.0026643529114930282,
          0.0026717973706377293,
          0.0029076679152550545,
          0.003341616237606585,
          0.0033938909049917466
         ],
         "y": [
          "GO:0060749",
          "GO:0045742",
          "GO:0051150",
          "GO:1901068",
          "GO:0051851",
          "GO:1905269",
          "GO:0000398",
          "GO:0044257",
          "GO:0023058",
          "GO:0006029",
          "GO:1903427",
          "GO:0043576",
          "GO:0043032",
          "GO:0032728",
          "GO:0060334",
          "GO:0051674",
          "GO:0090399",
          "GO:1902003",
          "GO:0016445",
          "GO:0010888"
         ]
        }
       ],
       "layout": {
        "template": {
         "data": {
          "bar": [
           {
            "error_x": {
             "color": "#2a3f5f"
            },
            "error_y": {
             "color": "#2a3f5f"
            },
            "marker": {
             "line": {
              "color": "#E5ECF6",
              "width": 0.5
             },
             "pattern": {
              "fillmode": "overlay",
              "size": 10,
              "solidity": 0.2
             }
            },
            "type": "bar"
           }
          ],
          "barpolar": [
           {
            "marker": {
             "line": {
              "color": "#E5ECF6",
              "width": 0.5
             },
             "pattern": {
              "fillmode": "overlay",
              "size": 10,
              "solidity": 0.2
             }
            },
            "type": "barpolar"
           }
          ],
          "carpet": [
           {
            "aaxis": {
             "endlinecolor": "#2a3f5f",
             "gridcolor": "white",
             "linecolor": "white",
             "minorgridcolor": "white",
             "startlinecolor": "#2a3f5f"
            },
            "baxis": {
             "endlinecolor": "#2a3f5f",
             "gridcolor": "white",
             "linecolor": "white",
             "minorgridcolor": "white",
             "startlinecolor": "#2a3f5f"
            },
            "type": "carpet"
           }
          ],
          "choropleth": [
           {
            "colorbar": {
             "outlinewidth": 0,
             "ticks": ""
            },
            "type": "choropleth"
           }
          ],
          "contour": [
           {
            "colorbar": {
             "outlinewidth": 0,
             "ticks": ""
            },
            "colorscale": [
             [
              0,
              "#0d0887"
             ],
             [
              0.1111111111111111,
              "#46039f"
             ],
             [
              0.2222222222222222,
              "#7201a8"
             ],
             [
              0.3333333333333333,
              "#9c179e"
             ],
             [
              0.4444444444444444,
              "#bd3786"
             ],
             [
              0.5555555555555556,
              "#d8576b"
             ],
             [
              0.6666666666666666,
              "#ed7953"
             ],
             [
              0.7777777777777778,
              "#fb9f3a"
             ],
             [
              0.8888888888888888,
              "#fdca26"
             ],
             [
              1,
              "#f0f921"
             ]
            ],
            "type": "contour"
           }
          ],
          "contourcarpet": [
           {
            "colorbar": {
             "outlinewidth": 0,
             "ticks": ""
            },
            "type": "contourcarpet"
           }
          ],
          "heatmap": [
           {
            "colorbar": {
             "outlinewidth": 0,
             "ticks": ""
            },
            "colorscale": [
             [
              0,
              "#0d0887"
             ],
             [
              0.1111111111111111,
              "#46039f"
             ],
             [
              0.2222222222222222,
              "#7201a8"
             ],
             [
              0.3333333333333333,
              "#9c179e"
             ],
             [
              0.4444444444444444,
              "#bd3786"
             ],
             [
              0.5555555555555556,
              "#d8576b"
             ],
             [
              0.6666666666666666,
              "#ed7953"
             ],
             [
              0.7777777777777778,
              "#fb9f3a"
             ],
             [
              0.8888888888888888,
              "#fdca26"
             ],
             [
              1,
              "#f0f921"
             ]
            ],
            "type": "heatmap"
           }
          ],
          "heatmapgl": [
           {
            "colorbar": {
             "outlinewidth": 0,
             "ticks": ""
            },
            "colorscale": [
             [
              0,
              "#0d0887"
             ],
             [
              0.1111111111111111,
              "#46039f"
             ],
             [
              0.2222222222222222,
              "#7201a8"
             ],
             [
              0.3333333333333333,
              "#9c179e"
             ],
             [
              0.4444444444444444,
              "#bd3786"
             ],
             [
              0.5555555555555556,
              "#d8576b"
             ],
             [
              0.6666666666666666,
              "#ed7953"
             ],
             [
              0.7777777777777778,
              "#fb9f3a"
             ],
             [
              0.8888888888888888,
              "#fdca26"
             ],
             [
              1,
              "#f0f921"
             ]
            ],
            "type": "heatmapgl"
           }
          ],
          "histogram": [
           {
            "marker": {
             "pattern": {
              "fillmode": "overlay",
              "size": 10,
              "solidity": 0.2
             }
            },
            "type": "histogram"
           }
          ],
          "histogram2d": [
           {
            "colorbar": {
             "outlinewidth": 0,
             "ticks": ""
            },
            "colorscale": [
             [
              0,
              "#0d0887"
             ],
             [
              0.1111111111111111,
              "#46039f"
             ],
             [
              0.2222222222222222,
              "#7201a8"
             ],
             [
              0.3333333333333333,
              "#9c179e"
             ],
             [
              0.4444444444444444,
              "#bd3786"
             ],
             [
              0.5555555555555556,
              "#d8576b"
             ],
             [
              0.6666666666666666,
              "#ed7953"
             ],
             [
              0.7777777777777778,
              "#fb9f3a"
             ],
             [
              0.8888888888888888,
              "#fdca26"
             ],
             [
              1,
              "#f0f921"
             ]
            ],
            "type": "histogram2d"
           }
          ],
          "histogram2dcontour": [
           {
            "colorbar": {
             "outlinewidth": 0,
             "ticks": ""
            },
            "colorscale": [
             [
              0,
              "#0d0887"
             ],
             [
              0.1111111111111111,
              "#46039f"
             ],
             [
              0.2222222222222222,
              "#7201a8"
             ],
             [
              0.3333333333333333,
              "#9c179e"
             ],
             [
              0.4444444444444444,
              "#bd3786"
             ],
             [
              0.5555555555555556,
              "#d8576b"
             ],
             [
              0.6666666666666666,
              "#ed7953"
             ],
             [
              0.7777777777777778,
              "#fb9f3a"
             ],
             [
              0.8888888888888888,
              "#fdca26"
             ],
             [
              1,
              "#f0f921"
             ]
            ],
            "type": "histogram2dcontour"
           }
          ],
          "mesh3d": [
           {
            "colorbar": {
             "outlinewidth": 0,
             "ticks": ""
            },
            "type": "mesh3d"
           }
          ],
          "parcoords": [
           {
            "line": {
             "colorbar": {
              "outlinewidth": 0,
              "ticks": ""
             }
            },
            "type": "parcoords"
           }
          ],
          "pie": [
           {
            "automargin": true,
            "type": "pie"
           }
          ],
          "scatter": [
           {
            "fillpattern": {
             "fillmode": "overlay",
             "size": 10,
             "solidity": 0.2
            },
            "type": "scatter"
           }
          ],
          "scatter3d": [
           {
            "line": {
             "colorbar": {
              "outlinewidth": 0,
              "ticks": ""
             }
            },
            "marker": {
             "colorbar": {
              "outlinewidth": 0,
              "ticks": ""
             }
            },
            "type": "scatter3d"
           }
          ],
          "scattercarpet": [
           {
            "marker": {
             "colorbar": {
              "outlinewidth": 0,
              "ticks": ""
             }
            },
            "type": "scattercarpet"
           }
          ],
          "scattergeo": [
           {
            "marker": {
             "colorbar": {
              "outlinewidth": 0,
              "ticks": ""
             }
            },
            "type": "scattergeo"
           }
          ],
          "scattergl": [
           {
            "marker": {
             "colorbar": {
              "outlinewidth": 0,
              "ticks": ""
             }
            },
            "type": "scattergl"
           }
          ],
          "scattermapbox": [
           {
            "marker": {
             "colorbar": {
              "outlinewidth": 0,
              "ticks": ""
             }
            },
            "type": "scattermapbox"
           }
          ],
          "scatterpolar": [
           {
            "marker": {
             "colorbar": {
              "outlinewidth": 0,
              "ticks": ""
             }
            },
            "type": "scatterpolar"
           }
          ],
          "scatterpolargl": [
           {
            "marker": {
             "colorbar": {
              "outlinewidth": 0,
              "ticks": ""
             }
            },
            "type": "scatterpolargl"
           }
          ],
          "scatterternary": [
           {
            "marker": {
             "colorbar": {
              "outlinewidth": 0,
              "ticks": ""
             }
            },
            "type": "scatterternary"
           }
          ],
          "surface": [
           {
            "colorbar": {
             "outlinewidth": 0,
             "ticks": ""
            },
            "colorscale": [
             [
              0,
              "#0d0887"
             ],
             [
              0.1111111111111111,
              "#46039f"
             ],
             [
              0.2222222222222222,
              "#7201a8"
             ],
             [
              0.3333333333333333,
              "#9c179e"
             ],
             [
              0.4444444444444444,
              "#bd3786"
             ],
             [
              0.5555555555555556,
              "#d8576b"
             ],
             [
              0.6666666666666666,
              "#ed7953"
             ],
             [
              0.7777777777777778,
              "#fb9f3a"
             ],
             [
              0.8888888888888888,
              "#fdca26"
             ],
             [
              1,
              "#f0f921"
             ]
            ],
            "type": "surface"
           }
          ],
          "table": [
           {
            "cells": {
             "fill": {
              "color": "#EBF0F8"
             },
             "line": {
              "color": "white"
             }
            },
            "header": {
             "fill": {
              "color": "#C8D4E3"
             },
             "line": {
              "color": "white"
             }
            },
            "type": "table"
           }
          ]
         },
         "layout": {
          "annotationdefaults": {
           "arrowcolor": "#2a3f5f",
           "arrowhead": 0,
           "arrowwidth": 1
          },
          "autotypenumbers": "strict",
          "coloraxis": {
           "colorbar": {
            "outlinewidth": 0,
            "ticks": ""
           }
          },
          "colorscale": {
           "diverging": [
            [
             0,
             "#8e0152"
            ],
            [
             0.1,
             "#c51b7d"
            ],
            [
             0.2,
             "#de77ae"
            ],
            [
             0.3,
             "#f1b6da"
            ],
            [
             0.4,
             "#fde0ef"
            ],
            [
             0.5,
             "#f7f7f7"
            ],
            [
             0.6,
             "#e6f5d0"
            ],
            [
             0.7,
             "#b8e186"
            ],
            [
             0.8,
             "#7fbc41"
            ],
            [
             0.9,
             "#4d9221"
            ],
            [
             1,
             "#276419"
            ]
           ],
           "sequential": [
            [
             0,
             "#0d0887"
            ],
            [
             0.1111111111111111,
             "#46039f"
            ],
            [
             0.2222222222222222,
             "#7201a8"
            ],
            [
             0.3333333333333333,
             "#9c179e"
            ],
            [
             0.4444444444444444,
             "#bd3786"
            ],
            [
             0.5555555555555556,
             "#d8576b"
            ],
            [
             0.6666666666666666,
             "#ed7953"
            ],
            [
             0.7777777777777778,
             "#fb9f3a"
            ],
            [
             0.8888888888888888,
             "#fdca26"
            ],
            [
             1,
             "#f0f921"
            ]
           ],
           "sequentialminus": [
            [
             0,
             "#0d0887"
            ],
            [
             0.1111111111111111,
             "#46039f"
            ],
            [
             0.2222222222222222,
             "#7201a8"
            ],
            [
             0.3333333333333333,
             "#9c179e"
            ],
            [
             0.4444444444444444,
             "#bd3786"
            ],
            [
             0.5555555555555556,
             "#d8576b"
            ],
            [
             0.6666666666666666,
             "#ed7953"
            ],
            [
             0.7777777777777778,
             "#fb9f3a"
            ],
            [
             0.8888888888888888,
             "#fdca26"
            ],
            [
             1,
             "#f0f921"
            ]
           ]
          },
          "colorway": [
           "#636efa",
           "#EF553B",
           "#00cc96",
           "#ab63fa",
           "#FFA15A",
           "#19d3f3",
           "#FF6692",
           "#B6E880",
           "#FF97FF",
           "#FECB52"
          ],
          "font": {
           "color": "#2a3f5f"
          },
          "geo": {
           "bgcolor": "white",
           "lakecolor": "white",
           "landcolor": "#E5ECF6",
           "showlakes": true,
           "showland": true,
           "subunitcolor": "white"
          },
          "hoverlabel": {
           "align": "left"
          },
          "hovermode": "closest",
          "mapbox": {
           "style": "light"
          },
          "paper_bgcolor": "white",
          "plot_bgcolor": "#E5ECF6",
          "polar": {
           "angularaxis": {
            "gridcolor": "white",
            "linecolor": "white",
            "ticks": ""
           },
           "bgcolor": "#E5ECF6",
           "radialaxis": {
            "gridcolor": "white",
            "linecolor": "white",
            "ticks": ""
           }
          },
          "scene": {
           "xaxis": {
            "backgroundcolor": "#E5ECF6",
            "gridcolor": "white",
            "gridwidth": 2,
            "linecolor": "white",
            "showbackground": true,
            "ticks": "",
            "zerolinecolor": "white"
           },
           "yaxis": {
            "backgroundcolor": "#E5ECF6",
            "gridcolor": "white",
            "gridwidth": 2,
            "linecolor": "white",
            "showbackground": true,
            "ticks": "",
            "zerolinecolor": "white"
           },
           "zaxis": {
            "backgroundcolor": "#E5ECF6",
            "gridcolor": "white",
            "gridwidth": 2,
            "linecolor": "white",
            "showbackground": true,
            "ticks": "",
            "zerolinecolor": "white"
           }
          },
          "shapedefaults": {
           "line": {
            "color": "#2a3f5f"
           }
          },
          "ternary": {
           "aaxis": {
            "gridcolor": "white",
            "linecolor": "white",
            "ticks": ""
           },
           "baxis": {
            "gridcolor": "white",
            "linecolor": "white",
            "ticks": ""
           },
           "bgcolor": "#E5ECF6",
           "caxis": {
            "gridcolor": "white",
            "linecolor": "white",
            "ticks": ""
           }
          },
          "title": {
           "x": 0.05
          },
          "xaxis": {
           "automargin": true,
           "gridcolor": "white",
           "linecolor": "white",
           "ticks": "",
           "title": {
            "standoff": 15
           },
           "zerolinecolor": "white",
           "zerolinewidth": 2
          },
          "yaxis": {
           "automargin": true,
           "gridcolor": "white",
           "linecolor": "white",
           "ticks": "",
           "title": {
            "standoff": 15
           },
           "zerolinecolor": "white",
           "zerolinewidth": 2
          }
         }
        }
       }
      }
     },
     "metadata": {},
     "output_type": "display_data"
    }
   ],
   "source": [
    "labels_brca = np.flip(np.array(leaves)[torch.argsort(layer0_brca_attr.cpu(), descending=True)][:20])\n",
    "\n",
    "sankey_node_fullname_brca = go_name_converter(labels_brca, go_dag)\n",
    "\n",
    "fig = go.Figure(go.Bar(\n",
    "            x=layer0_brca_attr[torch.argsort(layer0_brca_attr.cpu(), descending=True)][:20].cpu().flip(0),\n",
    "            y=labels_brca,\n",
    "            customdata=sankey_node_fullname_brca,\n",
    "            hovertemplate = \"%{y}: %{customdata}<extra></extra>\",\n",
    "            orientation='h'))\n",
    "\n",
    "fig.write_html(\"BRCA_barplot_level0.html\")\n",
    "fig.show()"
   ]
  },
  {
   "cell_type": "markdown",
   "metadata": {},
   "source": [
    "### Pair ranking"
   ]
  },
  {
   "cell_type": "code",
   "execution_count": 139,
   "metadata": {},
   "outputs": [
    {
     "data": {
      "text/plain": [
       "['mitochondrial membrane organization',\n",
       " 'apoptotic mitochondrial changes',\n",
       " 'base-excision repair',\n",
       " 'transcription-coupled nucleotide-excision repair',\n",
       " 'translesion synthesis',\n",
       " 'double-strand break repair via homologous recombination',\n",
       " 'double-strand break repair via nonhomologous end joining',\n",
       " 'positive regulation of DNA repair',\n",
       " 'long-chain fatty acid biosynthetic process',\n",
       " 'linoleic acid metabolic process',\n",
       " 'cyclooxygenase pathway',\n",
       " 'epoxygenase P450 pathway',\n",
       " 'iron ion transport',\n",
       " 'ciliary basal body-plasma membrane docking',\n",
       " 'mitotic spindle assembly',\n",
       " 'phosphatidylcholine biosynthetic process',\n",
       " 'amine biosynthetic process',\n",
       " 'tetrapyrrole biosynthetic process',\n",
       " 'cellular modified amino acid biosynthetic process',\n",
       " 'catecholamine biosynthetic process',\n",
       " 'peptide biosynthetic process',\n",
       " 'nucleobase biosynthetic process',\n",
       " 'pyridine-containing compound biosynthetic process',\n",
       " 'glutathione derivative biosynthetic process',\n",
       " 'ceramide biosynthetic process',\n",
       " 'protein lipidation',\n",
       " 'peptide biosynthetic process',\n",
       " 'ceramide biosynthetic process',\n",
       " 'aspartate family amino acid metabolic process',\n",
       " 'alpha-amino acid biosynthetic process',\n",
       " 'glutamine family amino acid catabolic process',\n",
       " 'glutamate metabolic process',\n",
       " 'glutamine metabolic process',\n",
       " 'phosphatidylserine metabolic process',\n",
       " 'glutathione metabolic process',\n",
       " 'folic acid-containing compound metabolic process',\n",
       " 'mast cell degranulation',\n",
       " 'establishment of chromosome localization',\n",
       " 'vesicle transport along microtubule',\n",
       " 'mitotic G1 DNA damage checkpoint signaling',\n",
       " 'mitotic DNA damage checkpoint signaling',\n",
       " 'mitotic G1 DNA damage checkpoint signaling',\n",
       " 'mitotic DNA damage checkpoint signaling',\n",
       " 'mitotic DNA damage checkpoint signaling',\n",
       " 'GO:0000083',\n",
       " 'negative regulation of transcription by RNA polymerase II',\n",
       " 'heterochromatin formation',\n",
       " 'thioester biosynthetic process',\n",
       " 'thioester biosynthetic process',\n",
       " 'glutathione derivative biosynthetic process',\n",
       " 'aromatic amino acid family catabolic process',\n",
       " 'GO:0036003',\n",
       " 'positive regulation of miRNA transcription',\n",
       " 'plasma membrane bounded cell projection assembly',\n",
       " 'intrinsic apoptotic signaling pathway in response to endoplasmic reticulum stress',\n",
       " 'intrinsic apoptotic signaling pathway in response to DNA damage by p53 class mediator',\n",
       " 'Rho protein signal transduction',\n",
       " 'GO:0007257',\n",
       " 'GO:0007257',\n",
       " 'protein polyubiquitination',\n",
       " 'spindle organization',\n",
       " 'centrosome cycle',\n",
       " 'mitotic spindle assembly',\n",
       " 'actin filament organization',\n",
       " 'actomyosin structure organization',\n",
       " 'GO:0031532',\n",
       " 'hydrogen peroxide metabolic process',\n",
       " 'ethanol catabolic process',\n",
       " 'ethanol catabolic process',\n",
       " 'glutathione metabolic process',\n",
       " 'peptide biosynthetic process',\n",
       " 'amyloid-beta metabolic process',\n",
       " 'protein catabolic process',\n",
       " 'RNA catabolic process',\n",
       " 'nucleobase-containing small molecule catabolic process',\n",
       " 'cyclic nucleotide catabolic process',\n",
       " 'monosaccharide biosynthetic process',\n",
       " 'cellular response to hydrogen peroxide',\n",
       " 'response to vitamin A',\n",
       " 'response to vitamin D',\n",
       " 'cellular response to vitamin',\n",
       " 'cellular response to hydrogen peroxide',\n",
       " 'cellular response to ATP',\n",
       " 'cellular response to ethanol',\n",
       " 'cellular response to dexamethasone stimulus',\n",
       " 'cellular response to dopamine',\n",
       " 'G protein-coupled acetylcholine receptor signaling pathway',\n",
       " 'cellular response to ethanol',\n",
       " 'cellular response to dexamethasone stimulus',\n",
       " 'tRNA processing',\n",
       " 'mRNA splicing, via spliceosome',\n",
       " 'transcription initiation at RNA polymerase II promoter',\n",
       " 'histone H3-K9 modification',\n",
       " 'GO:0035404',\n",
       " 'histone H3 acetylation',\n",
       " 'histone H4 acetylation',\n",
       " 'histone H3 deacetylation',\n",
       " 'histone lysine demethylation',\n",
       " 'histone H3-K4 methylation',\n",
       " 'retina homeostasis',\n",
       " 'bone resorption',\n",
       " 'homeostasis of number of cells within a tissue',\n",
       " 'embryo implantation',\n",
       " 'maternal process involved in female pregnancy',\n",
       " 'hormone secretion',\n",
       " 'columnar/cuboidal epithelial cell development',\n",
       " 'establishment of endothelial barrier',\n",
       " 'dendrite morphogenesis',\n",
       " 'axon guidance',\n",
       " 'central nervous system neuron axonogenesis',\n",
       " 'mitotic cytokinesis',\n",
       " 'protein-RNA complex assembly',\n",
       " 'protein polymerization',\n",
       " 'nucleosome assembly',\n",
       " 'diol biosynthetic process',\n",
       " 'monocarboxylic acid biosynthetic process',\n",
       " 'alpha-amino acid biosynthetic process',\n",
       " 'prostanoid biosynthetic process',\n",
       " 'regulation of RNA splicing',\n",
       " 'regulation of miRNA processing',\n",
       " 'regulation of mRNA processing',\n",
       " 'negative regulation of mRNA metabolic process',\n",
       " 'positive regulation of mRNA metabolic process',\n",
       " 'negative regulation of autophagy',\n",
       " 'regulation of autophagy of mitochondrion',\n",
       " 'positive regulation of macroautophagy',\n",
       " 'negative regulation of autophagy',\n",
       " 'negative regulation of protein catabolic process',\n",
       " 'mRNA stabilization',\n",
       " 'positive regulation of glycolytic process',\n",
       " 'positive regulation of protein catabolic process',\n",
       " 'negative regulation of protein catabolic process',\n",
       " 'positive regulation of protein catabolic process',\n",
       " 'cellular response to fatty acid',\n",
       " 'cellular response to amino acid stimulus',\n",
       " 'cellular response to retinoic acid',\n",
       " 'cellular response to fatty acid',\n",
       " 'regulation of cell shape',\n",
       " 'GO:0010769',\n",
       " 'positive regulation of synapse assembly',\n",
       " 'regulation of dendritic spine morphogenesis',\n",
       " 'regulation of actin polymerization or depolymerization',\n",
       " 'positive regulation of actin filament polymerization',\n",
       " 'positive regulation of microtubule polymerization',\n",
       " 'protein demethylation',\n",
       " 'protein deacetylation',\n",
       " 'protein import into nucleus',\n",
       " 'establishment of protein localization to mitochondrion',\n",
       " 'protein targeting to peroxisome',\n",
       " 'nucleotide-binding oligomerization domain containing signaling pathway',\n",
       " 'androgen receptor signaling pathway',\n",
       " 'carboxylic acid transmembrane transport',\n",
       " 'skeletal system morphogenesis',\n",
       " 'embryonic skeletal system development',\n",
       " 'bone development',\n",
       " 'chondrocyte differentiation',\n",
       " 'osteoblast differentiation',\n",
       " 'bone mineralization',\n",
       " 'endochondral ossification',\n",
       " 'neurotransmitter uptake',\n",
       " 'neurotransmitter secretion',\n",
       " 'neurotransmitter uptake',\n",
       " 'neurotransmitter secretion',\n",
       " 'regulation of membrane repolarization',\n",
       " 'regulation of action potential',\n",
       " 'neuronal action potential',\n",
       " 'cardiac muscle cell action potential involved in contraction',\n",
       " 'membrane depolarization during cardiac muscle cell action potential',\n",
       " 'membrane repolarization during cardiac muscle cell action potential',\n",
       " 'regulation of mitochondrial depolarization',\n",
       " 'excitatory postsynaptic potential',\n",
       " 'branching involved in blood vessel morphogenesis',\n",
       " 'sprouting angiogenesis',\n",
       " 'embryonic placenta morphogenesis',\n",
       " 'labyrinthine layer development',\n",
       " 'multicellular organism growth',\n",
       " 'cardiac muscle tissue growth',\n",
       " 'skeletal muscle tissue regeneration',\n",
       " 'axis elongation',\n",
       " 'neuron projection extension',\n",
       " 'bone growth',\n",
       " 'positive regulation of axon extension',\n",
       " 'negative regulation of cell growth',\n",
       " 'negative regulation of organ growth',\n",
       " 'defense response to virus',\n",
       " 'cellular response to virus',\n",
       " 'lymph vessel development',\n",
       " 'renal system vasculature development',\n",
       " 'branching involved in blood vessel morphogenesis',\n",
       " 'branching involved in ureteric bud morphogenesis',\n",
       " 'branching involved in mammary gland duct morphogenesis',\n",
       " 'long-chain fatty acid transport',\n",
       " 'eye photoreceptor cell differentiation',\n",
       " 'lens development in camera-type eye',\n",
       " 'retina morphogenesis in camera-type eye',\n",
       " 'neural retina development',\n",
       " 'mesonephric epithelium development',\n",
       " 'mesonephric epithelium development',\n",
       " 'GO:0061418',\n",
       " 'dendritic cell chemotaxis',\n",
       " 'monocyte chemotaxis',\n",
       " 'neutrophil chemotaxis',\n",
       " 'dopamine metabolic process',\n",
       " 'cholesterol biosynthetic process',\n",
       " 'purine-containing compound salvage',\n",
       " 'DNA biosynthetic process',\n",
       " 'blastocyst development',\n",
       " 'formation of primary germ layer',\n",
       " 'cell fate specification',\n",
       " 'neuron fate commitment',\n",
       " 'embryonic cranial skeleton morphogenesis',\n",
       " 'inner ear morphogenesis',\n",
       " 'limb morphogenesis',\n",
       " 'T cell differentiation involved in immune response',\n",
       " 'thymic T cell selection',\n",
       " 'neutrophil activation',\n",
       " 'homeostasis of number of cells within a tissue',\n",
       " 'cytokine production involved in immune response',\n",
       " 'cytokine production',\n",
       " 'negative regulation of cytokine production involved in immune response',\n",
       " 'negative regulation of chemokine production',\n",
       " 'negative regulation of type II interferon production',\n",
       " 'negative regulation of interleukin-1 production',\n",
       " 'negative regulation of interleukin-6 production',\n",
       " 'negative regulation of cytokine production',\n",
       " 'negative regulation of cytokine production',\n",
       " 'negative regulation of tumor necrosis factor production',\n",
       " 'negative regulation of interleukin-6 production',\n",
       " 'regulation of interleukin-6 production',\n",
       " 'positive regulation of interleukin-6 production',\n",
       " 'negative regulation of cytokine production',\n",
       " 'regulation of tumor necrosis factor production',\n",
       " 'regulation of interleukin-6 production',\n",
       " 'positive regulation of interleukin-6 production',\n",
       " 'hormone secretion',\n",
       " 'platelet degranulation',\n",
       " 'calcium-ion regulated exocytosis',\n",
       " 'mast cell degranulation',\n",
       " 'neutrophil degranulation',\n",
       " 'lung alveolus development',\n",
       " 'lung morphogenesis',\n",
       " 'hair follicle development',\n",
       " 'cornification',\n",
       " 'neural precursor cell proliferation',\n",
       " 'stem cell proliferation',\n",
       " 'endothelial cell proliferation',\n",
       " 'T cell proliferation',\n",
       " 'B cell proliferation',\n",
       " 'extrinsic apoptotic signaling pathway via death domain receptors',\n",
       " 'extrinsic apoptotic signaling pathway in absence of ligand',\n",
       " 'endothelial cell differentiation',\n",
       " 'apoptotic cell clearance',\n",
       " 'type II interferon-mediated signaling pathway',\n",
       " 'type I interferon-mediated signaling pathway',\n",
       " 'negative regulation of innate immune response',\n",
       " 'regulation of type I interferon-mediated signaling pathway',\n",
       " 'regulation of type II interferon-mediated signaling pathway',\n",
       " 'male genitalia development',\n",
       " 'liver regeneration',\n",
       " 'lactation',\n",
       " 'mammary gland morphogenesis',\n",
       " 'branching involved in mammary gland duct morphogenesis',\n",
       " 'positive regulation of protein oligomerization',\n",
       " 'positive regulation of exocytosis',\n",
       " 'regulation of synaptic vesicle exocytosis',\n",
       " 'positive regulation of leukocyte degranulation',\n",
       " 'negative regulation of cyclin-dependent protein serine/threonine kinase activity',\n",
       " 'negative regulation of MAP kinase activity',\n",
       " 'negative regulation of MAP kinase activity',\n",
       " 'negative regulation of ERK1 and ERK2 cascade',\n",
       " 'positive regulation of vascular endothelial cell proliferation',\n",
       " 'nuclear envelope organization',\n",
       " 'mitochondrial membrane organization',\n",
       " 'plasma membrane organization',\n",
       " 'membrane fusion',\n",
       " 'plasma membrane invagination',\n",
       " 'negative regulation of cell-matrix adhesion',\n",
       " 'positive regulation of substrate adhesion-dependent cell spreading',\n",
       " 'positive regulation of focal adhesion assembly',\n",
       " 'positive regulation of insulin secretion involved in cellular response to glucose stimulus',\n",
       " 'positive regulation of synaptic transmission, glutamatergic',\n",
       " 'long-term synaptic potentiation',\n",
       " 'positive regulation of long-term synaptic potentiation',\n",
       " 'positive regulation of excitatory postsynaptic potential',\n",
       " 'negative regulation of cytokine-mediated signaling pathway',\n",
       " 'positive regulation of cytokine-mediated signaling pathway',\n",
       " 'regulation of tumor necrosis factor-mediated signaling pathway',\n",
       " 'regulation of type II interferon-mediated signaling pathway',\n",
       " 'regulation of type I interferon-mediated signaling pathway',\n",
       " 'negative regulation of extrinsic apoptotic signaling pathway via death domain receptors',\n",
       " 'negative regulation of extrinsic apoptotic signaling pathway in absence of ligand',\n",
       " 'negative regulation of intrinsic apoptotic signaling pathway in response to DNA damage',\n",
       " 'negative regulation of intrinsic apoptotic signaling pathway by p53 class mediator',\n",
       " 'neurotransmitter secretion',\n",
       " 'synaptic transmission, cholinergic',\n",
       " 'neuromuscular synaptic transmission',\n",
       " 'excitatory postsynaptic potential',\n",
       " 'blood vessel remodeling',\n",
       " 'bone resorption',\n",
       " 'cellular response to hydrogen peroxide',\n",
       " 'cellular response to ethanol',\n",
       " 'cellular oxidant detoxification',\n",
       " 'xenobiotic metabolic process',\n",
       " 'cellular response to dexamethasone stimulus',\n",
       " 'nephron tubule morphogenesis',\n",
       " 'regulation of the force of heart contraction',\n",
       " 'negative regulation of heart contraction',\n",
       " 'regulation of cardiac conduction',\n",
       " 'regulation of heart rate by cardiac conduction',\n",
       " 'positive regulation of heart rate',\n",
       " 'GO:0035404',\n",
       " 'peptidyl-tyrosine autophosphorylation',\n",
       " 'peptidyl-tyrosine autophosphorylation',\n",
       " 'vasodilation',\n",
       " 'vasoconstriction',\n",
       " 'positive regulation of cell-cell adhesion',\n",
       " 'negative regulation of leukocyte cell-cell adhesion',\n",
       " 'purine ribonucleotide biosynthetic process',\n",
       " 'positive regulation of dendritic spine development',\n",
       " 'positive regulation of axon extension',\n",
       " 'positive regulation of vascular associated smooth muscle cell proliferation',\n",
       " 'regulation of cellular respiration',\n",
       " 'positive regulation of glycolytic process',\n",
       " 'positive regulation of morphogenesis of an epithelium',\n",
       " 'regulation of animal organ formation',\n",
       " 'positive regulation of animal organ morphogenesis',\n",
       " 'negative regulation of animal organ morphogenesis',\n",
       " 'regulation of heart morphogenesis',\n",
       " 'Wnt signaling pathway, planar cell polarity pathway',\n",
       " 'calcium ion transport into cytosol',\n",
       " 'release of sequestered calcium ion into cytosol',\n",
       " 'protein import into nucleus',\n",
       " 'protein targeting to peroxisome',\n",
       " 'receptor clustering',\n",
       " 'protein localization to plasma membrane',\n",
       " 'establishment of protein localization to membrane',\n",
       " 'inflammatory response to antigenic stimulus',\n",
       " 'production of molecular mediator involved in inflammatory response',\n",
       " 'acute-phase response',\n",
       " 'microglial cell activation',\n",
       " 'astrocyte activation',\n",
       " 'adult walking behavior',\n",
       " 'adult walking behavior',\n",
       " 'defense response to Gram-negative bacterium',\n",
       " 'defense response to Gram-positive bacterium',\n",
       " 'MyD88-dependent toll-like receptor signaling pathway',\n",
       " 'toll-like receptor 4 signaling pathway',\n",
       " 'toll-like receptor 9 signaling pathway',\n",
       " 'TRIF-dependent toll-like receptor signaling pathway',\n",
       " 'Fc-gamma receptor signaling pathway involved in phagocytosis',\n",
       " 'T cell receptor signaling pathway',\n",
       " 'B cell receptor signaling pathway',\n",
       " 'positive regulation of isotype switching',\n",
       " 'cellular response to unfolded protein',\n",
       " 'T cell mediated immunity',\n",
       " 'T-helper 1 type immune response',\n",
       " 'immunoglobulin mediated immune response',\n",
       " 'B cell activation involved in immune response',\n",
       " 'neutrophil degranulation',\n",
       " 'mast cell degranulation',\n",
       " 'T cell mediated immunity',\n",
       " 'neutrophil degranulation',\n",
       " 'mast cell degranulation',\n",
       " 'GO:0006349',\n",
       " 'transcription initiation-coupled chromatin remodeling',\n",
       " 'heterochromatin formation',\n",
       " 'mRNA stabilization',\n",
       " 'lipopolysaccharide-mediated signaling pathway',\n",
       " 'macrophage differentiation',\n",
       " 'osteoclast differentiation',\n",
       " 'protein autoprocessing',\n",
       " 'zymogen activation',\n",
       " 'negative regulation of cytokine production involved in immune response',\n",
       " 'negative regulation of innate immune response',\n",
       " 'regulation of immunoglobulin mediated immune response',\n",
       " 'positive regulation of multicellular organism growth',\n",
       " 'positive regulation of axon extension',\n",
       " 'positive regulation of organ growth',\n",
       " 'positive regulation of erythrocyte differentiation',\n",
       " 'positive regulation of osteoclast differentiation',\n",
       " 'positive regulation of cardiac muscle tissue development',\n",
       " 'positive regulation of cell migration involved in sprouting angiogenesis',\n",
       " 'positive regulation of acute inflammatory response',\n",
       " 'positive regulation of neuroinflammatory response',\n",
       " 'negative regulation of leukocyte migration',\n",
       " 'negative regulation of smooth muscle cell migration',\n",
       " 'positive regulation of macrophage chemotaxis',\n",
       " 'positive regulation of monocyte chemotaxis',\n",
       " 'positive regulation of lymphocyte chemotaxis',\n",
       " 'positive regulation of endothelial cell chemotaxis',\n",
       " 'positive regulation of cell migration involved in sprouting angiogenesis',\n",
       " 'negative regulation of leukocyte activation',\n",
       " 'negative regulation of innate immune response',\n",
       " 'negative regulation of inflammatory response',\n",
       " 'negative regulation of chemotaxis',\n",
       " 'prepulse inhibition',\n",
       " 'negative regulation of blood coagulation',\n",
       " 'negative regulation of innate immune response',\n",
       " 'negative regulation of viral genome replication',\n",
       " 'positive regulation of viral genome replication',\n",
       " 'modulation by host of viral transcription',\n",
       " 'positive regulation of viral genome replication',\n",
       " 'negative regulation of viral genome replication',\n",
       " 'negative regulation of myeloid leukocyte differentiation',\n",
       " 'regulation of macrophage differentiation',\n",
       " 'positive regulation of osteoclast differentiation',\n",
       " 'tumor necrosis factor-mediated signaling pathway',\n",
       " 'interleukin-12-mediated signaling pathway',\n",
       " 'interleukin-15-mediated signaling pathway',\n",
       " 'interleukin-2-mediated signaling pathway',\n",
       " 'type II interferon-mediated signaling pathway',\n",
       " 'type I interferon-mediated signaling pathway',\n",
       " 'chemokine-mediated signaling pathway',\n",
       " 'interleukin-1-mediated signaling pathway',\n",
       " 'negative regulation of peptide secretion',\n",
       " 'negative regulation of catecholamine secretion',\n",
       " 'negative regulation of hormone secretion',\n",
       " 'positive regulation of nitric oxide biosynthetic process',\n",
       " 'positive regulation of gluconeogenesis',\n",
       " 'positive regulation of translation',\n",
       " 'positive regulation of DNA replication',\n",
       " 'positive regulation of hormone biosynthetic process',\n",
       " 'positive regulation of inositol phosphate biosynthetic process',\n",
       " 'cellular response to amino acid starvation',\n",
       " 'cellular response to glucose starvation',\n",
       " 'intrinsic apoptotic signaling pathway in response to endoplasmic reticulum stress',\n",
       " 'cellular response to unfolded protein',\n",
       " 'skeletal muscle tissue development',\n",
       " 'lipid oxidation',\n",
       " 'endocardial cushion morphogenesis',\n",
       " 'cardiac epithelial to mesenchymal transition',\n",
       " 'muscle tissue morphogenesis',\n",
       " 'renal system process involved in regulation of systemic arterial blood pressure',\n",
       " 'renal water homeostasis',\n",
       " 'regulation of urine volume',\n",
       " 'smooth muscle contraction',\n",
       " 'skeletal muscle contraction',\n",
       " 'cardiac muscle contraction',\n",
       " 'circadian regulation of gene expression',\n",
       " 'circadian behavior',\n",
       " 'negative regulation of blood pressure',\n",
       " 'positive regulation of blood pressure',\n",
       " 'regulation of systemic arterial blood pressure mediated by a chemical signal',\n",
       " 'renal system process involved in regulation of systemic arterial blood pressure',\n",
       " 'Wnt signaling pathway, calcium modulating pathway',\n",
       " 'Wnt signaling pathway, planar cell polarity pathway',\n",
       " 'beta-catenin destruction complex disassembly',\n",
       " 'nephron tubule morphogenesis',\n",
       " 'microtubule-based transport',\n",
       " 'GO:0051482',\n",
       " 'adenylate cyclase-activating G protein-coupled receptor signaling pathway',\n",
       " 'adenylate cyclase-inhibiting G protein-coupled receptor signaling pathway',\n",
       " 'dendrite morphogenesis',\n",
       " 'neuron projection extension',\n",
       " 'axon regeneration',\n",
       " 'heterotypic cell-cell adhesion',\n",
       " 'platelet aggregation',\n",
       " 'heterophilic cell-cell adhesion via plasma membrane cell adhesion molecules',\n",
       " 'leukocyte tethering or rolling',\n",
       " 'oligodendrocyte development',\n",
       " 'astrocyte activation',\n",
       " 'myelination in peripheral nervous system',\n",
       " 'negative regulation of mitochondrion organization',\n",
       " 'negative regulation of telomere maintenance',\n",
       " 'positive regulation of chromatin organization',\n",
       " 'GO:0031057',\n",
       " 'regulation of histone deacetylation',\n",
       " 'positive regulation of histone methylation',\n",
       " 'regulation of histone H3-K9 methylation',\n",
       " 'positive regulation of release of cytochrome c from mitochondria',\n",
       " 'positive regulation of protein targeting to mitochondrion',\n",
       " 'negative regulation of mitotic nuclear division',\n",
       " 'positive regulation of mitotic nuclear division',\n",
       " 'regulation of mitotic metaphase/anaphase transition',\n",
       " 'negative regulation of endothelial cell proliferation',\n",
       " 'negative regulation of mononuclear cell proliferation',\n",
       " 'positive regulation of activated T cell proliferation',\n",
       " 'positive regulation of alpha-beta T cell proliferation',\n",
       " 'positive regulation of cytokinesis',\n",
       " 'positive regulation of actin filament polymerization',\n",
       " 'positive regulation of stress fiber assembly',\n",
       " 'positive regulation of microtubule polymerization',\n",
       " 'regulation of centrosome cycle',\n",
       " 'negative regulation of microtubule polymerization or depolymerization',\n",
       " 'regulation of actin polymerization or depolymerization',\n",
       " 'alditol metabolic process',\n",
       " 'carbohydrate phosphorylation',\n",
       " 'GO:0033692',\n",
       " 'GO:0044247',\n",
       " 'glycogen metabolic process',\n",
       " 'gluconeogenesis',\n",
       " 'canonical glycolysis',\n",
       " 'purine ribonucleotide biosynthetic process',\n",
       " 'purine ribonucleotide catabolic process',\n",
       " 'cAMP metabolic process',\n",
       " \"3'-phosphoadenosine 5'-phosphosulfate metabolic process\",\n",
       " 'GO:0006757',\n",
       " 'purine ribonucleotide biosynthetic process',\n",
       " 'purine ribonucleoside diphosphate metabolic process',\n",
       " 'purine ribonucleoside diphosphate metabolic process',\n",
       " 'glycolipid catabolic process',\n",
       " 'glycosyl compound catabolic process',\n",
       " 'purine ribonucleotide catabolic process',\n",
       " 'glycosyl compound biosynthetic process',\n",
       " 'protein N-linked glycosylation',\n",
       " 'O-glycan processing',\n",
       " 'peptidyl-tyrosine dephosphorylation',\n",
       " 'peptidyl-threonine dephosphorylation',\n",
       " 'cholesterol biosynthetic process',\n",
       " 'catechol-containing compound metabolic process',\n",
       " 'alcohol catabolic process',\n",
       " 'aerobic respiration',\n",
       " 'respiratory electron transport chain',\n",
       " 'glycogen metabolic process',\n",
       " 'respiratory electron transport chain',\n",
       " 'GO:0006733',\n",
       " 'folic acid-containing compound metabolic process',\n",
       " 'nicotinamide nucleotide biosynthetic process',\n",
       " 'fatty-acyl-CoA biosynthetic process',\n",
       " 'positive regulation of glycolytic process',\n",
       " 'positive regulation of inositol phosphate biosynthetic process',\n",
       " 'positive regulation of gluconeogenesis',\n",
       " 'positive regulation of glycogen metabolic process',\n",
       " 'negative regulation of telomere maintenance',\n",
       " 'negative regulation of DNA biosynthetic process',\n",
       " 'negative regulation of mRNA metabolic process',\n",
       " 'regulation of cellular amino acid metabolic process',\n",
       " 'regulation of fatty acid biosynthetic process',\n",
       " 'positive regulation of fatty acid metabolic process',\n",
       " 'regulation of fatty acid beta-oxidation',\n",
       " 'positive regulation of fatty acid metabolic process',\n",
       " 'pyrimidine nucleobase metabolic process',\n",
       " 'GO:0033692',\n",
       " 'DNA biosynthetic process',\n",
       " 'DNA-templated DNA replication',\n",
       " 'regulation of translational initiation',\n",
       " 'negative regulation of translation',\n",
       " 'positive regulation of translation',\n",
       " 'regulation of DNA damage response, signal transduction by p53 class mediator',\n",
       " 'ubiquitin-dependent protein catabolic process',\n",
       " 'chaperone-mediated protein folding',\n",
       " 'internal peptidyl-lysine acetylation',\n",
       " 'internal peptidyl-lysine acetylation',\n",
       " 'protein demethylation',\n",
       " 'membrane lipid biosynthetic process',\n",
       " 'glycosphingolipid metabolic process',\n",
       " 'glycolipid catabolic process',\n",
       " 'neutral lipid catabolic process',\n",
       " 'glycerophospholipid catabolic process',\n",
       " 'retinol metabolic process',\n",
       " 'retinoic acid metabolic process',\n",
       " 'phosphatidic acid biosynthetic process',\n",
       " 'phosphatidylcholine biosynthetic process',\n",
       " 'phosphatidylinositol biosynthetic process',\n",
       " 'C21-steroid hormone metabolic process',\n",
       " 'androgen metabolic process',\n",
       " 'estrogen metabolic process',\n",
       " 'retinol metabolic process',\n",
       " 'retinoic acid metabolic process',\n",
       " 'proton transmembrane transport',\n",
       " 'sodium ion transmembrane transport',\n",
       " 'potassium ion transmembrane transport',\n",
       " 'bile acid and bile salt transport',\n",
       " 'catecholamine transport',\n",
       " 'cholesterol transport',\n",
       " 'carboxylic acid transmembrane transport',\n",
       " 'GO:0051482',\n",
       " 'calcium ion transport into cytosol',\n",
       " 'regulation of extent of cell growth',\n",
       " 'receptor internalization',\n",
       " 'extracellular matrix disassembly',\n",
       " 'organelle disassembly',\n",
       " 'positive chemotaxis',\n",
       " 'positive regulation of smooth muscle contraction',\n",
       " 'regulation of cardiac muscle contraction by calcium ion signaling',\n",
       " 'regulation of cardiac muscle cell contraction',\n",
       " 'response to cold',\n",
       " 'detection of temperature stimulus involved in sensory perception of pain',\n",
       " 'response to muscle stretch',\n",
       " 'cellular response to mechanical stimulus',\n",
       " 'detection of mechanical stimulus involved in sensory perception of pain',\n",
       " 'cellular response to mechanical stimulus',\n",
       " 'cellular response to osmotic stress',\n",
       " 'cellular response to UV',\n",
       " 'protein localization to peroxisome',\n",
       " 'nuclear envelope organization',\n",
       " 'plasma membrane organization',\n",
       " 'Golgi organization',\n",
       " 'actin filament organization',\n",
       " 'nuclear chromosome segregation',\n",
       " 'positive regulation of mitotic nuclear division',\n",
       " 'regulation of mitotic metaphase/anaphase transition',\n",
       " 'positive regulation of G2/M transition of mitotic cell cycle',\n",
       " 'negative regulation of G2/M transition of mitotic cell cycle',\n",
       " 'positive regulation of G1/S transition of mitotic cell cycle',\n",
       " 'positive regulation of cytokinesis',\n",
       " 'positive regulation of mitotic nuclear division',\n",
       " 'DNA damage response, signal transduction by p53 class mediator resulting in cell cycle arrest',\n",
       " 'positive regulation of G2/M transition of mitotic cell cycle',\n",
       " 'positive regulation of G1/S transition of mitotic cell cycle',\n",
       " 'mitotic G1 DNA damage checkpoint signaling',\n",
       " 'insulin receptor signaling pathway',\n",
       " 'fibroblast growth factor receptor signaling pathway',\n",
       " 'vascular endothelial growth factor signaling pathway',\n",
       " 'platelet-derived growth factor receptor signaling pathway',\n",
       " 'vascular endothelial growth factor receptor signaling pathway',\n",
       " 'neurotrophin TRK receptor signaling pathway',\n",
       " 'ephrin receptor signaling pathway',\n",
       " 'growth hormone receptor signaling pathway',\n",
       " 'epidermal growth factor receptor signaling pathway',\n",
       " 'ERBB2 signaling pathway',\n",
       " 'negative regulation of signaling receptor activity',\n",
       " 'positive regulation of signaling receptor activity',\n",
       " 'regulation of NMDA receptor activity',\n",
       " 'positive regulation of CREB transcription factor activity',\n",
       " 'positive regulation of NF-kappaB transcription factor activity',\n",
       " 'regulation of cardiac muscle contraction by calcium ion signaling',\n",
       " 'calcium-mediated signaling using intracellular calcium source',\n",
       " 'spermatid development',\n",
       " 'determination of left/right symmetry',\n",
       " 'synapse assembly',\n",
       " 'neuromuscular junction development',\n",
       " 'telencephalon development',\n",
       " 'forebrain generation of neurons',\n",
       " 'cerebral cortex cell migration',\n",
       " 'nephron tubule morphogenesis',\n",
       " 'regulation of fatty acid biosynthetic process',\n",
       " 'negative regulation of lipid biosynthetic process',\n",
       " 'regulation of phospholipid biosynthetic process',\n",
       " 'positive regulation of steroid biosynthetic process',\n",
       " 'regulation of cholesterol biosynthetic process',\n",
       " 'GO:0010259',\n",
       " 'platelet aggregation',\n",
       " 'detection of temperature stimulus involved in sensory perception of pain',\n",
       " 'detection of mechanical stimulus involved in sensory perception of pain',\n",
       " 'visual learning',\n",
       " 'long-term memory',\n",
       " 'detection of light stimulus',\n",
       " 'cellular response to UV',\n",
       " 'regulation of rhodopsin mediated signaling pathway',\n",
       " 'positive regulation of G protein-coupled receptor signaling pathway',\n",
       " 'insulin receptor signaling pathway',\n",
       " 'response to X-ray',\n",
       " 'cellular response to gamma radiation',\n",
       " 'detection of stimulus involved in sensory perception',\n",
       " 'detection of light stimulus',\n",
       " 'detection of chemical stimulus involved in sensory perception of taste',\n",
       " 'regulation of circadian sleep/wake cycle, sleep',\n",
       " 'cellular response to estradiol stimulus',\n",
       " 'cellular response to glucose stimulus',\n",
       " 'cellular response to ethanol',\n",
       " 'cellular response to prostaglandin E stimulus',\n",
       " 'response to caffeine',\n",
       " 'cellular response to purine-containing compound',\n",
       " 'cellular response to cAMP',\n",
       " 'cellular response to ATP',\n",
       " 'cellular response to cAMP',\n",
       " 'cellular response to estradiol stimulus',\n",
       " 'cellular response to purine-containing compound',\n",
       " 'negative regulation of protein catabolic process',\n",
       " 'cellular response to cadmium ion',\n",
       " 'cellular response to calcium ion',\n",
       " 'negative regulation of calcium ion transmembrane transporter activity',\n",
       " 'positive regulation of calcium ion transmembrane transporter activity',\n",
       " 'regulation of voltage-gated calcium channel activity',\n",
       " 'positive regulation of potassium ion transmembrane transport',\n",
       " 'positive regulation of cation channel activity',\n",
       " 'regulation of voltage-gated calcium channel activity',\n",
       " 'regulation of NMDA receptor activity',\n",
       " 'negative regulation of cation channel activity',\n",
       " 'positive regulation of cation channel activity',\n",
       " 'extracellular matrix disassembly',\n",
       " 'positive regulation of superoxide anion generation',\n",
       " 'positive regulation of p38MAPK cascade',\n",
       " 'negative regulation of JNK cascade',\n",
       " 'regulation of JUN kinase activity',\n",
       " 'positive regulation of JNK cascade',\n",
       " 'negative regulation of cysteine-type endopeptidase activity involved in apoptotic process',\n",
       " 'activation of cysteine-type endopeptidase activity involved in apoptotic process',\n",
       " 'negative regulation of GTPase activity',\n",
       " 'regulation of phospholipase C activity',\n",
       " 'negative regulation of intracellular transport',\n",
       " 'regulation of mast cell degranulation',\n",
       " 'positive regulation of protein import into nucleus',\n",
       " 'positive regulation of protein export from nucleus',\n",
       " 'positive regulation of calcium ion import',\n",
       " 'positive regulation of release of sequestered calcium ion into cytosol',\n",
       " 'positive regulation of calcium ion transmembrane transporter activity',\n",
       " 'positive regulation of tyrosine phosphorylation of STAT protein',\n",
       " 'positive regulation of protein tyrosine kinase activity',\n",
       " 'negative regulation of neuron apoptotic process',\n",
       " 'positive regulation of neuron apoptotic process',\n",
       " 'positive regulation of release of cytochrome c from mitochondria',\n",
       " 'positive regulation of extrinsic apoptotic signaling pathway',\n",
       " 'positive regulation of intrinsic apoptotic signaling pathway',\n",
       " 'negative regulation of axonogenesis',\n",
       " 'negative regulation of dendrite development',\n",
       " 'activation of GTPase activity',\n",
       " 'GO:0010862',\n",
       " 'negative regulation of transforming growth factor beta receptor signaling pathway',\n",
       " 'positive regulation of BMP signaling pathway',\n",
       " 'negative regulation of BMP signaling pathway',\n",
       " 'negative regulation of glial cell differentiation',\n",
       " 'regulation of astrocyte differentiation',\n",
       " 'positive regulation of oligodendrocyte differentiation',\n",
       " 'positive regulation of amino acid transport',\n",
       " 'regulation of dopamine secretion',\n",
       " 'regulation of norepinephrine secretion',\n",
       " 'negative regulation of catecholamine secretion',\n",
       " 'regulation of glutamate secretion',\n",
       " 'response to caffeine',\n",
       " 'response to cocaine',\n",
       " 'cellular response to alkaloid',\n",
       " 'myotube differentiation',\n",
       " 'modulation by virus of host process',\n",
       " 'viral genome replication',\n",
       " 'viral entry into host cell',\n",
       " 'positive regulation of fatty acid metabolic process',\n",
       " 'positive regulation of lipid catabolic process',\n",
       " 'positive regulation of steroid biosynthetic process',\n",
       " 'GO:0043552',\n",
       " 'tumor necrosis factor-mediated signaling pathway',\n",
       " 'negative regulation of transforming growth factor beta receptor signaling pathway',\n",
       " 'negative regulation of epithelial cell differentiation',\n",
       " 'regulation of endothelial cell differentiation',\n",
       " 'positive regulation of epidermal cell differentiation',\n",
       " 'liver regeneration',\n",
       " 'positive regulation of protein import into nucleus',\n",
       " 'positive regulation of protein export from nucleus',\n",
       " 'positive regulation of protein targeting to membrane',\n",
       " 'positive regulation of protein targeting to mitochondrion',\n",
       " 'negative regulation of protein ubiquitination',\n",
       " 'positive regulation of protein ubiquitination',\n",
       " 'regulation of ubiquitin-protein transferase activity',\n",
       " 'negative regulation of nervous system process',\n",
       " 'regulation of transmission of nerve impulse',\n",
       " 'regulation of sensory perception of pain',\n",
       " 'protein destabilization',\n",
       " 'protein stabilization',\n",
       " 'cellular response to mechanical stimulus',\n",
       " 'long-term synaptic potentiation',\n",
       " 'positive regulation of long-term synaptic potentiation',\n",
       " 'regulation of long-term neuronal synaptic plasticity',\n",
       " 'negative regulation of insulin secretion',\n",
       " 'negative regulation of protein binding',\n",
       " 'positive regulation of protein binding',\n",
       " 'regulation of receptor binding',\n",
       " 'positive regulation of protein binding',\n",
       " 'positive regulation of transcription regulatory region DNA binding',\n",
       " 'cellular response to prostaglandin E stimulus',\n",
       " 'cellular response to dexamethasone stimulus',\n",
       " 'negative regulation of ERK1 and ERK2 cascade',\n",
       " 'positive regulation of ERK1 and ERK2 cascade',\n",
       " 'positive regulation of protein targeting to membrane',\n",
       " 'cellular response to ATP',\n",
       " 'limb morphogenesis',\n",
       " 'negative regulation of DNA binding',\n",
       " 'positive regulation of transcription regulatory region DNA binding',\n",
       " 'glucose homeostasis',\n",
       " 'interleukin-1-mediated signaling pathway',\n",
       " 'protein homotetramerization',\n",
       " 'protein homotrimerization',\n",
       " 'cell-cell junction assembly',\n",
       " 'adherens junction assembly',\n",
       " 'response to cocaine',\n",
       " 'response to morphine',\n",
       " 'cellular response to dopamine',\n",
       " 'signal transduction involved in cellular response to ammonium ion',\n",
       " 'positive regulation of dephosphorylation',\n",
       " 'positive regulation of inositol phosphate biosynthetic process',\n",
       " 'cellular response to hepatocyte growth factor stimulus',\n",
       " 'cellular response to epidermal growth factor stimulus',\n",
       " 'cellular response to nerve growth factor stimulus',\n",
       " 'vascular endothelial growth factor signaling pathway',\n",
       " 'positive regulation of protein catabolic process',\n",
       " 'regulation of DNA damage response, signal transduction by p53 class mediator',\n",
       " 'negative regulation of intrinsic apoptotic signaling pathway by p53 class mediator',\n",
       " 'negative regulation of Ras protein signal transduction',\n",
       " 'regulation of Rho protein signal transduction',\n",
       " 'positive regulation of Ras protein signal transduction',\n",
       " 'visual system development',\n",
       " 'negative regulation of protein transport',\n",
       " 'release of sequestered calcium ion into cytosol',\n",
       " 'regulation of release of sequestered calcium ion into cytosol by sarcoplasmic reticulum',\n",
       " 'positive regulation of release of sequestered calcium ion into cytosol',\n",
       " 'positive regulation of cardiac muscle tissue development',\n",
       " 'negative regulation of canonical Wnt signaling pathway',\n",
       " 'positive regulation of canonical Wnt signaling pathway',\n",
       " 'positive regulation of extrinsic apoptotic signaling pathway',\n",
       " 'negative regulation of extrinsic apoptotic signaling pathway via death domain receptors',\n",
       " 'negative regulation of extrinsic apoptotic signaling pathway in absence of ligand',\n",
       " 'regulation of oxidative stress-induced intrinsic apoptotic signaling pathway',\n",
       " 'regulation of endoplasmic reticulum stress-induced intrinsic apoptotic signaling pathway',\n",
       " 'positive regulation of intrinsic apoptotic signaling pathway',\n",
       " 'negative regulation of intrinsic apoptotic signaling pathway in response to DNA damage',\n",
       " 'regulation of DNA methylation',\n",
       " 'positive regulation of DNA metabolic process',\n",
       " 'regulation of double-strand break repair via homologous recombination',\n",
       " 'positive regulation of isotype switching',\n",
       " 'positive regulation of DNA repair',\n",
       " 'negative regulation of DNA biosynthetic process',\n",
       " 'positive regulation of telomere maintenance via telomerase',\n",
       " 'positive regulation of telomerase activity',\n",
       " 'G1/S transition of mitotic cell cycle',\n",
       " 'G2/M transition of mitotic cell cycle',\n",
       " 'very long-chain fatty acid metabolic process',\n",
       " 'long-chain fatty acid metabolic process',\n",
       " 'lipoxygenase pathway',\n",
       " 'fatty acid beta-oxidation',\n",
       " 'linoleic acid metabolic process',\n",
       " 'long-chain fatty acid biosynthetic process',\n",
       " 'prostanoid biosynthetic process',\n",
       " 'negative regulation of mitotic nuclear division',\n",
       " 'negative regulation of G2/M transition of mitotic cell cycle',\n",
       " 'mitotic G1/S transition checkpoint signaling',\n",
       " 'mitotic DNA damage checkpoint signaling',\n",
       " 'mitotic DNA integrity checkpoint signaling',\n",
       " 'DNA repair',\n",
       " 'GO:0000186',\n",
       " 'GO:0000187',\n",
       " 'GO:0007257',\n",
       " 'negative regulation of transcription by RNA polymerase II',\n",
       " 'BMP signaling pathway',\n",
       " 'positive regulation of transcription by RNA polymerase II',\n",
       " 'positive regulation of miRNA transcription',\n",
       " 'GO:0036003',\n",
       " 'GO:0061418',\n",
       " 'positive regulation of transcription by RNA polymerase II',\n",
       " 'positive regulation of DNA-binding transcription factor activity',\n",
       " 'sulfur amino acid metabolic process',\n",
       " 'glutathione metabolic process',\n",
       " 'thioester metabolic process',\n",
       " 'sulfur compound biosynthetic process',\n",
       " 'sulfur compound catabolic process',\n",
       " \"3'-phosphoadenosine 5'-phosphosulfate metabolic process\",\n",
       " 'stress-activated MAPK cascade',\n",
       " 'ERK1 and ERK2 cascade',\n",
       " 'calcium-mediated signaling',\n",
       " 'adenylate cyclase-activating G protein-coupled receptor signaling pathway',\n",
       " 'GO:0000186',\n",
       " 'GO:0000187',\n",
       " 'activation of protein kinase B activity',\n",
       " 'microtubule cytoskeleton organization',\n",
       " 'actin cytoskeleton organization',\n",
       " 'cortical cytoskeleton organization',\n",
       " 'antibiotic metabolic process',\n",
       " 'dopamine metabolic process',\n",
       " 'xenobiotic catabolic process',\n",
       " 'nitric oxide metabolic process',\n",
       " 'peptide metabolic process',\n",
       " 'folic acid-containing compound metabolic process',\n",
       " 'amide biosynthetic process',\n",
       " 'ceramide biosynthetic process',\n",
       " 'ceramide catabolic process',\n",
       " 'amino acid catabolic process',\n",
       " 'protein catabolic process',\n",
       " 'pyrimidine nucleoside catabolic process',\n",
       " 'ceramide catabolic process',\n",
       " 'cellular biogenic amine catabolic process',\n",
       " 'purine ribonucleotide catabolic process',\n",
       " 'steroid catabolic process',\n",
       " 'aromatic amino acid family catabolic process',\n",
       " 'nucleobase-containing compound catabolic process',\n",
       " 'RNA catabolic process',\n",
       " 'protein catabolic process',\n",
       " 'modification-dependent protein catabolic process',\n",
       " 'cellular response to reactive oxygen species',\n",
       " 'response to nitric oxide',\n",
       " 'cellular response to hydrogen peroxide',\n",
       " 'cellular response to reactive oxygen species',\n",
       " 'GO:0036473',\n",
       " 'response to vitamin',\n",
       " 'cellular response to vitamin',\n",
       " 'cellular response to ATP',\n",
       " 'response to muramyl dipeptide',\n",
       " 'response to progesterone',\n",
       " 'response to nicotine',\n",
       " 'cellular response to xenobiotic stimulus',\n",
       " 'response to ethanol',\n",
       " 'response to antineoplastic agent',\n",
       " 'response to cocaine',\n",
       " 'response to morphine',\n",
       " 'response to caffeine',\n",
       " 'response to amphetamine',\n",
       " 'response to nitric oxide',\n",
       " 'response to iron ion',\n",
       " 'response to manganese ion',\n",
       " 'response to zinc ion',\n",
       " 'response to lithium ion',\n",
       " 'response to lead ion',\n",
       " 'response to magnesium ion',\n",
       " 'response to potassium ion',\n",
       " 'response to copper ion',\n",
       " 'cellular response to metal ion',\n",
       " 'cellular response to cadmium ion',\n",
       " 'cellular response to calcium ion',\n",
       " 'RNA processing',\n",
       " 'RNA catabolic process',\n",
       " 'RNA modification',\n",
       " 'GO:0090501',\n",
       " 'mRNA transcription',\n",
       " 'transcription initiation at RNA polymerase II promoter',\n",
       " 'transcription by RNA polymerase II',\n",
       " 'ncRNA transcription',\n",
       " 'tRNA processing',\n",
       " 'tRNA aminoacylation for protein translation',\n",
       " 'chromatin organization',\n",
       " 'GO:0034401',\n",
       " 'chromatin remodeling',\n",
       " 'nucleosome assembly',\n",
       " 'histone modification',\n",
       " 'telomere maintenance',\n",
       " 'DNA repair',\n",
       " 'DNA biosynthetic process',\n",
       " 'DNA methylation',\n",
       " 'somatic diversification of immune receptors via germline recombination within a single locus',\n",
       " 'telomere maintenance',\n",
       " 'tissue homeostasis',\n",
       " 'neuron cellular homeostasis',\n",
       " 'spermatid development',\n",
       " 'oocyte development',\n",
       " 'ovulation',\n",
       " 'spermatogenesis',\n",
       " 'male sex differentiation',\n",
       " 'ovarian follicle development',\n",
       " 'placenta development',\n",
       " 'prostate gland development',\n",
       " 'labyrinthine layer development',\n",
       " 'male genitalia development',\n",
       " 'substrate adhesion-dependent cell spreading',\n",
       " 'cell morphogenesis involved in neuron differentiation',\n",
       " 'regulation of autophagy',\n",
       " 'negative regulation of cellular catabolic process',\n",
       " 'positive regulation of cellular catabolic process',\n",
       " 'regulation of fatty acid beta-oxidation',\n",
       " 'regulation of membrane protein ectodomain proteolysis',\n",
       " 'regulation of protein catabolic process',\n",
       " 'response to fatty acid',\n",
       " 'cellular response to acid chemical',\n",
       " 'positive regulation of cell growth',\n",
       " 'negative regulation of cell growth',\n",
       " 'regulation of cell growth involved in cardiac muscle cell development',\n",
       " 'regulation of extent of cell growth',\n",
       " 'positive regulation of protein-containing complex assembly',\n",
       " 'negative regulation of protein oligomerization',\n",
       " 'positive regulation of protein oligomerization',\n",
       " 'regulation of protein homooligomerization',\n",
       " 'positive regulation of actin filament polymerization',\n",
       " 'positive regulation of microtubule polymerization',\n",
       " 'negative regulation of organelle organization',\n",
       " 'negative regulation of cell projection organization',\n",
       " 'negative regulation of endocytosis',\n",
       " 'negative regulation of cell junction assembly',\n",
       " 'negative regulation of supramolecular fiber organization',\n",
       " 'peptidyl-serine phosphorylation',\n",
       " 'peptidyl-threonine phosphorylation',\n",
       " 'peptidyl-tyrosine phosphorylation',\n",
       " 'protein autophosphorylation',\n",
       " 'protein ubiquitination',\n",
       " 'protein sumoylation',\n",
       " 'protein deubiquitination',\n",
       " 'intracellular protein transport',\n",
       " 'protein import into nucleus',\n",
       " 'phospholipase C-activating G protein-coupled receptor signaling pathway',\n",
       " 'protein kinase C-activating G protein-coupled receptor signaling pathway',\n",
       " 'dopamine receptor signaling pathway',\n",
       " 'G protein-coupled acetylcholine receptor signaling pathway',\n",
       " 'neuropeptide signaling pathway',\n",
       " 'G protein-coupled serotonin receptor signaling pathway',\n",
       " 'adenylate cyclase-modulating G protein-coupled receptor signaling pathway',\n",
       " 'extrinsic apoptotic signaling pathway',\n",
       " 'intrinsic apoptotic signaling pathway',\n",
       " 'dicarboxylic acid transport',\n",
       " 'carboxylic acid transmembrane transport',\n",
       " 'bile acid and bile salt transport',\n",
       " 'fatty acid transport',\n",
       " 'arachidonic acid secretion',\n",
       " 'receptor-mediated endocytosis',\n",
       " 'angiogenesis',\n",
       " 'formation of primary germ layer',\n",
       " 'somitogenesis',\n",
       " 'cellular component assembly involved in morphogenesis',\n",
       " 'animal organ formation',\n",
       " 'neural tube closure',\n",
       " 'epithelial cell development',\n",
       " 'epidermal cell differentiation',\n",
       " 'endothelial cell differentiation',\n",
       " 'columnar/cuboidal epithelial cell development',\n",
       " 'glandular epithelial cell differentiation',\n",
       " 'positive regulation of cell growth',\n",
       " 'positive regulation of developmental growth',\n",
       " 'positive regulation of developmental growth',\n",
       " 'defense response to bacterium',\n",
       " 'defense response to protozoan',\n",
       " 'innate immune response',\n",
       " 'defense response to virus',\n",
       " 'ear development',\n",
       " 'sensory organ morphogenesis',\n",
       " 'camera-type eye development',\n",
       " 'metanephros development',\n",
       " ...]"
      ]
     },
     "execution_count": 139,
     "metadata": {},
     "output_type": "execute_result"
    }
   ],
   "source": [
    "full_name_source"
   ]
  },
  {
   "cell_type": "code",
   "execution_count": 132,
   "metadata": {},
   "outputs": [],
   "source": [
    "import itertools\n",
    "\n",
    "full_name_source = go_name_converter(np.array(node_label)[sankey_source], go_dag)\n",
    "full_name_target = go_name_converter(np.array(node_label)[sankey_target], go_dag)\n",
    "                                                           \n",
    "list_pairs = np.array([a+'_'+b for a, b in zip(np.array(node_label)[sankey_source], \n",
    "                                            np.array(node_label)[sankey_target])])"
   ]
  },
  {
   "cell_type": "code",
   "execution_count": 134,
   "metadata": {},
   "outputs": [
    {
     "data": {
      "text/plain": [
       "array(['GO:1901796_GO:0008150', 'GO:0044703_GO:0008150',\n",
       "       'GO:0019637_GO:0008150', 'GO:0010468_GO:0008150',\n",
       "       'GO:0022412_GO:0008150', 'GO:0006811_GO:0008150',\n",
       "       'GO:0016192_GO:0008150', 'GO:0016032_GO:0008150',\n",
       "       'GO:0002252_GO:0008150', 'GO:0007165_GO:0008150',\n",
       "       'GO:0009607_GO:0008150', 'GO:0042127_GO:0008150',\n",
       "       'GO:0009725_GO:0008150', 'GO:1901576_GO:0008150',\n",
       "       'GO:0009653_GO:0008150', 'GO:0044249_GO:0008150',\n",
       "       'GO:0034097_GO:0008150', 'GO:0006139_GO:0008150',\n",
       "       'GO:0006796_GO:0008150', 'GO:0006464_GO:0008150'], dtype='<U21')"
      ]
     },
     "execution_count": 134,
     "metadata": {},
     "output_type": "execute_result"
    }
   ],
   "source": [
    "np.flip(list_pairs[pair_indices[:20]])"
   ]
  },
  {
   "cell_type": "code",
   "execution_count": 144,
   "metadata": {},
   "outputs": [
    {
     "data": {
      "text/plain": [
       "array(['regulation of signal transduction by p53 class mediator',\n",
       "       'multi-organism reproductive process',\n",
       "       'organophosphate metabolic process',\n",
       "       'regulation of gene expression',\n",
       "       'cellular process involved in reproduction in multicellular organism',\n",
       "       'monoatomic ion transport', 'vesicle-mediated transport',\n",
       "       'viral process', 'immune effector process', 'signal transduction',\n",
       "       'response to biotic stimulus',\n",
       "       'regulation of cell population proliferation',\n",
       "       'response to hormone', 'organic substance biosynthetic process',\n",
       "       'anatomical structure morphogenesis',\n",
       "       'cellular biosynthetic process', 'response to cytokine',\n",
       "       'nucleobase-containing compound metabolic process',\n",
       "       'phosphate-containing compound metabolic process',\n",
       "       'protein modification process'], dtype='<U144')"
      ]
     },
     "execution_count": 144,
     "metadata": {},
     "output_type": "execute_result"
    }
   ],
   "source": [
    "([np.flip(np.array(full_name_source)[pair_indices[:20]]), \n",
    "                        np.flip(np.array(full_name_target)[pair_indices[:20]])][0])"
   ]
  },
  {
   "cell_type": "code",
   "execution_count": 146,
   "metadata": {},
   "outputs": [
    {
     "data": {
      "text/plain": [
       "array([[['regulation of signal transduction by p53 class mediator',\n",
       "         'biological_process'],\n",
       "        ['multi-organism reproductive process', 'biological_process'],\n",
       "        ['organophosphate metabolic process', 'biological_process'],\n",
       "        ['regulation of gene expression', 'biological_process'],\n",
       "        ['cellular process involved in reproduction in multicellular organism',\n",
       "         'biological_process'],\n",
       "        ['monoatomic ion transport', 'biological_process'],\n",
       "        ['vesicle-mediated transport', 'biological_process'],\n",
       "        ['viral process', 'biological_process'],\n",
       "        ['immune effector process', 'biological_process'],\n",
       "        ['signal transduction', 'biological_process'],\n",
       "        ['response to biotic stimulus', 'biological_process'],\n",
       "        ['regulation of cell population proliferation',\n",
       "         'biological_process'],\n",
       "        ['response to hormone', 'biological_process'],\n",
       "        ['organic substance biosynthetic process', 'biological_process'],\n",
       "        ['anatomical structure morphogenesis', 'biological_process'],\n",
       "        ['cellular biosynthetic process', 'biological_process'],\n",
       "        ['response to cytokine', 'biological_process'],\n",
       "        ['nucleobase-containing compound metabolic process',\n",
       "         'biological_process'],\n",
       "        ['phosphate-containing compound metabolic process',\n",
       "         'biological_process'],\n",
       "        ['protein modification process', 'biological_process']]],\n",
       "      dtype='<U144')"
      ]
     },
     "execution_count": 146,
     "metadata": {},
     "output_type": "execute_result"
    }
   ],
   "source": [
    "np.dstack((np.flip(np.array(full_name_source)[pair_indices[:20]]), \n",
    "                                  np.flip(np.array(full_name_target)[pair_indices[:20]])))"
   ]
  },
  {
   "cell_type": "code",
   "execution_count": 147,
   "metadata": {},
   "outputs": [
    {
     "data": {
      "application/vnd.plotly.v1+json": {
       "config": {
        "plotlyServerURL": "https://plot.ly"
       },
       "data": [
        {
         "customdata": [
          [
           "regulation of signal transduction by p53 class mediator",
           "biological_process"
          ],
          [
           "multi-organism reproductive process",
           "biological_process"
          ],
          [
           "organophosphate metabolic process",
           "biological_process"
          ],
          [
           "regulation of gene expression",
           "biological_process"
          ],
          [
           "cellular process involved in reproduction in multicellular organism",
           "biological_process"
          ],
          [
           "monoatomic ion transport",
           "biological_process"
          ],
          [
           "vesicle-mediated transport",
           "biological_process"
          ],
          [
           "viral process",
           "biological_process"
          ],
          [
           "immune effector process",
           "biological_process"
          ],
          [
           "signal transduction",
           "biological_process"
          ],
          [
           "response to biotic stimulus",
           "biological_process"
          ],
          [
           "regulation of cell population proliferation",
           "biological_process"
          ],
          [
           "response to hormone",
           "biological_process"
          ],
          [
           "organic substance biosynthetic process",
           "biological_process"
          ],
          [
           "anatomical structure morphogenesis",
           "biological_process"
          ],
          [
           "cellular biosynthetic process",
           "biological_process"
          ],
          [
           "response to cytokine",
           "biological_process"
          ],
          [
           "nucleobase-containing compound metabolic process",
           "biological_process"
          ],
          [
           "phosphate-containing compound metabolic process",
           "biological_process"
          ],
          [
           "protein modification process",
           "biological_process"
          ]
         ],
         "hovertemplate": "From %{customdata[0]} <br>To %{customdata[1]}",
         "orientation": "h",
         "type": "bar",
         "x": [
          0.016225781011943396,
          0.016711604524774964,
          0.016924603590289217,
          0.01718262463454998,
          0.017431328591284084,
          0.017786838420614348,
          0.01864714505017159,
          0.02059117109839804,
          0.02068658139023472,
          0.02306036505164692,
          0.023317365789718617,
          0.026853278052054386,
          0.027099176244107265,
          0.03028881521027578,
          0.033067014237201556,
          0.037465604316239895,
          0.04019512945222712,
          0.040205340717127315,
          0.041698025631252814,
          0.06439443979132381
         ],
         "y": [
          "GO:1901796_GO:0008150",
          "GO:0044703_GO:0008150",
          "GO:0019637_GO:0008150",
          "GO:0010468_GO:0008150",
          "GO:0022412_GO:0008150",
          "GO:0006811_GO:0008150",
          "GO:0016192_GO:0008150",
          "GO:0016032_GO:0008150",
          "GO:0002252_GO:0008150",
          "GO:0007165_GO:0008150",
          "GO:0009607_GO:0008150",
          "GO:0042127_GO:0008150",
          "GO:0009725_GO:0008150",
          "GO:1901576_GO:0008150",
          "GO:0009653_GO:0008150",
          "GO:0044249_GO:0008150",
          "GO:0034097_GO:0008150",
          "GO:0006139_GO:0008150",
          "GO:0006796_GO:0008150",
          "GO:0006464_GO:0008150"
         ]
        }
       ],
       "layout": {
        "template": {
         "data": {
          "bar": [
           {
            "error_x": {
             "color": "#2a3f5f"
            },
            "error_y": {
             "color": "#2a3f5f"
            },
            "marker": {
             "line": {
              "color": "#E5ECF6",
              "width": 0.5
             },
             "pattern": {
              "fillmode": "overlay",
              "size": 10,
              "solidity": 0.2
             }
            },
            "type": "bar"
           }
          ],
          "barpolar": [
           {
            "marker": {
             "line": {
              "color": "#E5ECF6",
              "width": 0.5
             },
             "pattern": {
              "fillmode": "overlay",
              "size": 10,
              "solidity": 0.2
             }
            },
            "type": "barpolar"
           }
          ],
          "carpet": [
           {
            "aaxis": {
             "endlinecolor": "#2a3f5f",
             "gridcolor": "white",
             "linecolor": "white",
             "minorgridcolor": "white",
             "startlinecolor": "#2a3f5f"
            },
            "baxis": {
             "endlinecolor": "#2a3f5f",
             "gridcolor": "white",
             "linecolor": "white",
             "minorgridcolor": "white",
             "startlinecolor": "#2a3f5f"
            },
            "type": "carpet"
           }
          ],
          "choropleth": [
           {
            "colorbar": {
             "outlinewidth": 0,
             "ticks": ""
            },
            "type": "choropleth"
           }
          ],
          "contour": [
           {
            "colorbar": {
             "outlinewidth": 0,
             "ticks": ""
            },
            "colorscale": [
             [
              0,
              "#0d0887"
             ],
             [
              0.1111111111111111,
              "#46039f"
             ],
             [
              0.2222222222222222,
              "#7201a8"
             ],
             [
              0.3333333333333333,
              "#9c179e"
             ],
             [
              0.4444444444444444,
              "#bd3786"
             ],
             [
              0.5555555555555556,
              "#d8576b"
             ],
             [
              0.6666666666666666,
              "#ed7953"
             ],
             [
              0.7777777777777778,
              "#fb9f3a"
             ],
             [
              0.8888888888888888,
              "#fdca26"
             ],
             [
              1,
              "#f0f921"
             ]
            ],
            "type": "contour"
           }
          ],
          "contourcarpet": [
           {
            "colorbar": {
             "outlinewidth": 0,
             "ticks": ""
            },
            "type": "contourcarpet"
           }
          ],
          "heatmap": [
           {
            "colorbar": {
             "outlinewidth": 0,
             "ticks": ""
            },
            "colorscale": [
             [
              0,
              "#0d0887"
             ],
             [
              0.1111111111111111,
              "#46039f"
             ],
             [
              0.2222222222222222,
              "#7201a8"
             ],
             [
              0.3333333333333333,
              "#9c179e"
             ],
             [
              0.4444444444444444,
              "#bd3786"
             ],
             [
              0.5555555555555556,
              "#d8576b"
             ],
             [
              0.6666666666666666,
              "#ed7953"
             ],
             [
              0.7777777777777778,
              "#fb9f3a"
             ],
             [
              0.8888888888888888,
              "#fdca26"
             ],
             [
              1,
              "#f0f921"
             ]
            ],
            "type": "heatmap"
           }
          ],
          "heatmapgl": [
           {
            "colorbar": {
             "outlinewidth": 0,
             "ticks": ""
            },
            "colorscale": [
             [
              0,
              "#0d0887"
             ],
             [
              0.1111111111111111,
              "#46039f"
             ],
             [
              0.2222222222222222,
              "#7201a8"
             ],
             [
              0.3333333333333333,
              "#9c179e"
             ],
             [
              0.4444444444444444,
              "#bd3786"
             ],
             [
              0.5555555555555556,
              "#d8576b"
             ],
             [
              0.6666666666666666,
              "#ed7953"
             ],
             [
              0.7777777777777778,
              "#fb9f3a"
             ],
             [
              0.8888888888888888,
              "#fdca26"
             ],
             [
              1,
              "#f0f921"
             ]
            ],
            "type": "heatmapgl"
           }
          ],
          "histogram": [
           {
            "marker": {
             "pattern": {
              "fillmode": "overlay",
              "size": 10,
              "solidity": 0.2
             }
            },
            "type": "histogram"
           }
          ],
          "histogram2d": [
           {
            "colorbar": {
             "outlinewidth": 0,
             "ticks": ""
            },
            "colorscale": [
             [
              0,
              "#0d0887"
             ],
             [
              0.1111111111111111,
              "#46039f"
             ],
             [
              0.2222222222222222,
              "#7201a8"
             ],
             [
              0.3333333333333333,
              "#9c179e"
             ],
             [
              0.4444444444444444,
              "#bd3786"
             ],
             [
              0.5555555555555556,
              "#d8576b"
             ],
             [
              0.6666666666666666,
              "#ed7953"
             ],
             [
              0.7777777777777778,
              "#fb9f3a"
             ],
             [
              0.8888888888888888,
              "#fdca26"
             ],
             [
              1,
              "#f0f921"
             ]
            ],
            "type": "histogram2d"
           }
          ],
          "histogram2dcontour": [
           {
            "colorbar": {
             "outlinewidth": 0,
             "ticks": ""
            },
            "colorscale": [
             [
              0,
              "#0d0887"
             ],
             [
              0.1111111111111111,
              "#46039f"
             ],
             [
              0.2222222222222222,
              "#7201a8"
             ],
             [
              0.3333333333333333,
              "#9c179e"
             ],
             [
              0.4444444444444444,
              "#bd3786"
             ],
             [
              0.5555555555555556,
              "#d8576b"
             ],
             [
              0.6666666666666666,
              "#ed7953"
             ],
             [
              0.7777777777777778,
              "#fb9f3a"
             ],
             [
              0.8888888888888888,
              "#fdca26"
             ],
             [
              1,
              "#f0f921"
             ]
            ],
            "type": "histogram2dcontour"
           }
          ],
          "mesh3d": [
           {
            "colorbar": {
             "outlinewidth": 0,
             "ticks": ""
            },
            "type": "mesh3d"
           }
          ],
          "parcoords": [
           {
            "line": {
             "colorbar": {
              "outlinewidth": 0,
              "ticks": ""
             }
            },
            "type": "parcoords"
           }
          ],
          "pie": [
           {
            "automargin": true,
            "type": "pie"
           }
          ],
          "scatter": [
           {
            "fillpattern": {
             "fillmode": "overlay",
             "size": 10,
             "solidity": 0.2
            },
            "type": "scatter"
           }
          ],
          "scatter3d": [
           {
            "line": {
             "colorbar": {
              "outlinewidth": 0,
              "ticks": ""
             }
            },
            "marker": {
             "colorbar": {
              "outlinewidth": 0,
              "ticks": ""
             }
            },
            "type": "scatter3d"
           }
          ],
          "scattercarpet": [
           {
            "marker": {
             "colorbar": {
              "outlinewidth": 0,
              "ticks": ""
             }
            },
            "type": "scattercarpet"
           }
          ],
          "scattergeo": [
           {
            "marker": {
             "colorbar": {
              "outlinewidth": 0,
              "ticks": ""
             }
            },
            "type": "scattergeo"
           }
          ],
          "scattergl": [
           {
            "marker": {
             "colorbar": {
              "outlinewidth": 0,
              "ticks": ""
             }
            },
            "type": "scattergl"
           }
          ],
          "scattermapbox": [
           {
            "marker": {
             "colorbar": {
              "outlinewidth": 0,
              "ticks": ""
             }
            },
            "type": "scattermapbox"
           }
          ],
          "scatterpolar": [
           {
            "marker": {
             "colorbar": {
              "outlinewidth": 0,
              "ticks": ""
             }
            },
            "type": "scatterpolar"
           }
          ],
          "scatterpolargl": [
           {
            "marker": {
             "colorbar": {
              "outlinewidth": 0,
              "ticks": ""
             }
            },
            "type": "scatterpolargl"
           }
          ],
          "scatterternary": [
           {
            "marker": {
             "colorbar": {
              "outlinewidth": 0,
              "ticks": ""
             }
            },
            "type": "scatterternary"
           }
          ],
          "surface": [
           {
            "colorbar": {
             "outlinewidth": 0,
             "ticks": ""
            },
            "colorscale": [
             [
              0,
              "#0d0887"
             ],
             [
              0.1111111111111111,
              "#46039f"
             ],
             [
              0.2222222222222222,
              "#7201a8"
             ],
             [
              0.3333333333333333,
              "#9c179e"
             ],
             [
              0.4444444444444444,
              "#bd3786"
             ],
             [
              0.5555555555555556,
              "#d8576b"
             ],
             [
              0.6666666666666666,
              "#ed7953"
             ],
             [
              0.7777777777777778,
              "#fb9f3a"
             ],
             [
              0.8888888888888888,
              "#fdca26"
             ],
             [
              1,
              "#f0f921"
             ]
            ],
            "type": "surface"
           }
          ],
          "table": [
           {
            "cells": {
             "fill": {
              "color": "#EBF0F8"
             },
             "line": {
              "color": "white"
             }
            },
            "header": {
             "fill": {
              "color": "#C8D4E3"
             },
             "line": {
              "color": "white"
             }
            },
            "type": "table"
           }
          ]
         },
         "layout": {
          "annotationdefaults": {
           "arrowcolor": "#2a3f5f",
           "arrowhead": 0,
           "arrowwidth": 1
          },
          "autotypenumbers": "strict",
          "coloraxis": {
           "colorbar": {
            "outlinewidth": 0,
            "ticks": ""
           }
          },
          "colorscale": {
           "diverging": [
            [
             0,
             "#8e0152"
            ],
            [
             0.1,
             "#c51b7d"
            ],
            [
             0.2,
             "#de77ae"
            ],
            [
             0.3,
             "#f1b6da"
            ],
            [
             0.4,
             "#fde0ef"
            ],
            [
             0.5,
             "#f7f7f7"
            ],
            [
             0.6,
             "#e6f5d0"
            ],
            [
             0.7,
             "#b8e186"
            ],
            [
             0.8,
             "#7fbc41"
            ],
            [
             0.9,
             "#4d9221"
            ],
            [
             1,
             "#276419"
            ]
           ],
           "sequential": [
            [
             0,
             "#0d0887"
            ],
            [
             0.1111111111111111,
             "#46039f"
            ],
            [
             0.2222222222222222,
             "#7201a8"
            ],
            [
             0.3333333333333333,
             "#9c179e"
            ],
            [
             0.4444444444444444,
             "#bd3786"
            ],
            [
             0.5555555555555556,
             "#d8576b"
            ],
            [
             0.6666666666666666,
             "#ed7953"
            ],
            [
             0.7777777777777778,
             "#fb9f3a"
            ],
            [
             0.8888888888888888,
             "#fdca26"
            ],
            [
             1,
             "#f0f921"
            ]
           ],
           "sequentialminus": [
            [
             0,
             "#0d0887"
            ],
            [
             0.1111111111111111,
             "#46039f"
            ],
            [
             0.2222222222222222,
             "#7201a8"
            ],
            [
             0.3333333333333333,
             "#9c179e"
            ],
            [
             0.4444444444444444,
             "#bd3786"
            ],
            [
             0.5555555555555556,
             "#d8576b"
            ],
            [
             0.6666666666666666,
             "#ed7953"
            ],
            [
             0.7777777777777778,
             "#fb9f3a"
            ],
            [
             0.8888888888888888,
             "#fdca26"
            ],
            [
             1,
             "#f0f921"
            ]
           ]
          },
          "colorway": [
           "#636efa",
           "#EF553B",
           "#00cc96",
           "#ab63fa",
           "#FFA15A",
           "#19d3f3",
           "#FF6692",
           "#B6E880",
           "#FF97FF",
           "#FECB52"
          ],
          "font": {
           "color": "#2a3f5f"
          },
          "geo": {
           "bgcolor": "white",
           "lakecolor": "white",
           "landcolor": "#E5ECF6",
           "showlakes": true,
           "showland": true,
           "subunitcolor": "white"
          },
          "hoverlabel": {
           "align": "left"
          },
          "hovermode": "closest",
          "mapbox": {
           "style": "light"
          },
          "paper_bgcolor": "white",
          "plot_bgcolor": "#E5ECF6",
          "polar": {
           "angularaxis": {
            "gridcolor": "white",
            "linecolor": "white",
            "ticks": ""
           },
           "bgcolor": "#E5ECF6",
           "radialaxis": {
            "gridcolor": "white",
            "linecolor": "white",
            "ticks": ""
           }
          },
          "scene": {
           "xaxis": {
            "backgroundcolor": "#E5ECF6",
            "gridcolor": "white",
            "gridwidth": 2,
            "linecolor": "white",
            "showbackground": true,
            "ticks": "",
            "zerolinecolor": "white"
           },
           "yaxis": {
            "backgroundcolor": "#E5ECF6",
            "gridcolor": "white",
            "gridwidth": 2,
            "linecolor": "white",
            "showbackground": true,
            "ticks": "",
            "zerolinecolor": "white"
           },
           "zaxis": {
            "backgroundcolor": "#E5ECF6",
            "gridcolor": "white",
            "gridwidth": 2,
            "linecolor": "white",
            "showbackground": true,
            "ticks": "",
            "zerolinecolor": "white"
           }
          },
          "shapedefaults": {
           "line": {
            "color": "#2a3f5f"
           }
          },
          "ternary": {
           "aaxis": {
            "gridcolor": "white",
            "linecolor": "white",
            "ticks": ""
           },
           "baxis": {
            "gridcolor": "white",
            "linecolor": "white",
            "ticks": ""
           },
           "bgcolor": "#E5ECF6",
           "caxis": {
            "gridcolor": "white",
            "linecolor": "white",
            "ticks": ""
           }
          },
          "title": {
           "x": 0.05
          },
          "xaxis": {
           "automargin": true,
           "gridcolor": "white",
           "linecolor": "white",
           "ticks": "",
           "title": {
            "standoff": 15
           },
           "zerolinecolor": "white",
           "zerolinewidth": 2
          },
          "yaxis": {
           "automargin": true,
           "gridcolor": "white",
           "linecolor": "white",
           "ticks": "",
           "title": {
            "standoff": 15
           },
           "zerolinecolor": "white",
           "zerolinewidth": 2
          }
         }
        }
       }
      }
     },
     "metadata": {},
     "output_type": "display_data"
    }
   ],
   "source": [
    "avg_ov_values = sankey_value[:, labels == cancer_2_idx['OV']].mean(axis=1)\n",
    "pair_indices = np.argsort(-avg_ov_values)\n",
    "\n",
    "fig = go.Figure(go.Bar(\n",
    "            x=np.flip(avg_ov_values[pair_indices[:20]]),\n",
    "            y=np.flip(list_pairs[pair_indices[:20]]),\n",
    "            customdata=np.dstack((np.flip(np.array(full_name_source)[pair_indices[:20]]), \n",
    "                                  np.flip(np.array(full_name_target)[pair_indices[:20]])))[0],\n",
    "            hovertemplate = \"From %{customdata[0]} <br>\" + \"To %{customdata[1]}\",\n",
    "            orientation='h'))\n",
    "fig.show()"
   ]
  },
  {
   "cell_type": "code",
   "execution_count": 116,
   "metadata": {},
   "outputs": [
    {
     "data": {
      "text/plain": [
       "array(['GO:0007006_GO:0008150', 'GO:0007006_GO:0008150',\n",
       "       'GO:0007006_GO:0008150', 'GO:0007006_GO:0008150',\n",
       "       'GO:0007006_GO:0008150', 'GO:0007006_GO:0008150',\n",
       "       'GO:0007006_GO:0008150', 'GO:0007006_GO:0008150',\n",
       "       'GO:0007006_GO:0008150', 'GO:0007006_GO:0008150',\n",
       "       'GO:0007006_GO:0008150', 'GO:0007006_GO:0008150',\n",
       "       'GO:0007006_GO:0008150', 'GO:0007006_GO:0008150',\n",
       "       'GO:0007006_GO:0008150', 'GO:0007006_GO:0008150',\n",
       "       'GO:0007006_GO:0008150', 'GO:0007006_GO:0008150',\n",
       "       'GO:0007006_GO:0008150', 'GO:0007006_GO:0008150'], dtype='<U21')"
      ]
     },
     "execution_count": 116,
     "metadata": {},
     "output_type": "execute_result"
    }
   ],
   "source": [
    "list_pairs[pair_indices[:20]]"
   ]
  },
  {
   "cell_type": "code",
   "execution_count": 219,
   "metadata": {},
   "outputs": [
    {
     "data": {
      "text/plain": [
       "array(['GO:0000398', 'GO:1901068', 'GO:0021545', 'GO:0031345',\n",
       "       'GO:1905269', 'GO:0043576', 'GO:0060334', 'GO:0051150',\n",
       "       'GO:0045742', 'GO:0032728', 'GO:0043032', 'GO:0023058',\n",
       "       'GO:0051674', 'GO:0006029', 'GO:0090399', 'GO:1902003',\n",
       "       'GO:1903427', 'GO:0044257', 'GO:0016445', 'GO:0010888'],\n",
       "      dtype='<U10')"
      ]
     },
     "execution_count": 219,
     "metadata": {},
     "output_type": "execute_result"
    }
   ],
   "source": [
    "labels_brca"
   ]
  },
  {
   "cell_type": "code",
   "execution_count": null,
   "metadata": {},
   "outputs": [],
   "source": []
  }
 ],
 "metadata": {
  "kernelspec": {
   "display_name": "general",
   "language": "python",
   "name": "python3"
  },
  "language_info": {
   "codemirror_mode": {
    "name": "ipython",
    "version": 3
   },
   "file_extension": ".py",
   "mimetype": "text/x-python",
   "name": "python",
   "nbconvert_exporter": "python",
   "pygments_lexer": "ipython3",
   "version": "3.9.13"
  }
 },
 "nbformat": 4,
 "nbformat_minor": 2
}
