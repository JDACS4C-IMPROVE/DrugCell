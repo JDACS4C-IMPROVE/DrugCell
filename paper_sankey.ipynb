{
 "cells": [
  {
   "cell_type": "code",
   "execution_count": 2,
   "metadata": {},
   "outputs": [
    {
     "data": {
      "text/plain": [
       "'/lambda_stor/homes/ac.tfeng/git/DrugCell'"
      ]
     },
     "execution_count": 2,
     "metadata": {},
     "output_type": "execute_result"
    }
   ],
   "source": [
    "import plotly.graph_objects as go\n",
    "import urllib, json\n",
    "import os\n",
    "os.getcwd()"
   ]
  },
  {
   "cell_type": "code",
   "execution_count": 3,
   "metadata": {},
   "outputs": [
    {
     "name": "stderr",
     "output_type": "stream",
     "text": [
      "/homes/ac.tfeng/miniconda3/envs/general/lib/python3.9/site-packages/tqdm/auto.py:21: TqdmWarning: IProgress not found. Please update jupyter and ipywidgets. See https://ipywidgets.readthedocs.io/en/stable/user_install.html\n",
      "  from .autonotebook import tqdm as notebook_tqdm\n"
     ]
    }
   ],
   "source": [
    "# import anndata\n",
    "import numpy as np\n",
    "import pandas as pd\n",
    "\n",
    "import torch\n",
    "import torch.nn as nn\n",
    "import torch.nn.functional as F\n",
    "from torch.utils.data import Dataset, DataLoader, random_split\n",
    "from torch.distributions import MultivariateNormal\n",
    "\n",
    "import os\n",
    "# os.environ[\"CUDA_VISIBLE_DEVICES\"]=\"4\"\n",
    "\n",
    "import copy\n",
    "\n",
    "import tqdm\n",
    "\n",
    "from codes.utils.util import *\n",
    "from codes.drugcell_NN import *\n",
    "\n",
    "if torch.cuda.is_available():\n",
    "  DEVICE = 'cuda'\n",
    "else:\n",
    "  DEVICE = 'cpu'"
   ]
  },
  {
   "cell_type": "code",
   "execution_count": 4,
   "metadata": {},
   "outputs": [],
   "source": [
    "import plotly\n",
    "import plotly.express as px\n",
    "import plotly.io as pio\n",
    "\n",
    "from captum.attr import LayerIntegratedGradients\n",
    "from collections import defaultdict\n"
   ]
  },
  {
   "cell_type": "code",
   "execution_count": 5,
   "metadata": {},
   "outputs": [
    {
     "name": "stdout",
     "output_type": "stream",
     "text": [
      "Fri Nov 24 18:33:39 2023       \n",
      "+---------------------------------------------------------------------------------------+\n",
      "| NVIDIA-SMI 535.104.12             Driver Version: 535.104.12   CUDA Version: 12.2     |\n",
      "|-----------------------------------------+----------------------+----------------------+\n",
      "| GPU  Name                 Persistence-M | Bus-Id        Disp.A | Volatile Uncorr. ECC |\n",
      "| Fan  Temp   Perf          Pwr:Usage/Cap |         Memory-Usage | GPU-Util  Compute M. |\n",
      "|                                         |                      |               MIG M. |\n",
      "|=========================================+======================+======================|\n",
      "|   0  Tesla V100-SXM2-32GB           On  | 00000000:1A:00.0 Off |                    0 |\n",
      "| N/A   26C    P0              40W / 300W |      3MiB / 32768MiB |      0%      Default |\n",
      "|                                         |                      |                  N/A |\n",
      "+-----------------------------------------+----------------------+----------------------+\n",
      "|   1  Tesla V100-SXM2-32GB           On  | 00000000:1B:00.0 Off |                    0 |\n",
      "| N/A   52C    P0             221W / 300W |    643MiB / 32768MiB |     97%      Default |\n",
      "|                                         |                      |                  N/A |\n",
      "+-----------------------------------------+----------------------+----------------------+\n",
      "|   2  Tesla V100-SXM2-32GB           On  | 00000000:3D:00.0 Off |                    0 |\n",
      "| N/A   30C    P0              40W / 300W |      3MiB / 32768MiB |      0%      Default |\n",
      "|                                         |                      |                  N/A |\n",
      "+-----------------------------------------+----------------------+----------------------+\n",
      "|   3  Tesla V100-SXM2-32GB           On  | 00000000:3E:00.0 Off |                    0 |\n",
      "| N/A   25C    P0              40W / 300W |      3MiB / 32768MiB |      0%      Default |\n",
      "|                                         |                      |                  N/A |\n",
      "+-----------------------------------------+----------------------+----------------------+\n",
      "|   4  Tesla V100-SXM2-32GB           On  | 00000000:88:00.0 Off |                    0 |\n",
      "| N/A   24C    P0              40W / 300W |      3MiB / 32768MiB |      0%      Default |\n",
      "|                                         |                      |                  N/A |\n",
      "+-----------------------------------------+----------------------+----------------------+\n",
      "|   5  Tesla V100-SXM2-32GB           On  | 00000000:89:00.0 Off |                    0 |\n",
      "| N/A   54C    P0             232W / 300W |    553MiB / 32768MiB |     83%      Default |\n",
      "|                                         |                      |                  N/A |\n",
      "+-----------------------------------------+----------------------+----------------------+\n",
      "|   6  Tesla V100-SXM2-32GB           On  | 00000000:B2:00.0 Off |                    0 |\n",
      "| N/A   29C    P0              55W / 300W |   9685MiB / 32768MiB |      0%      Default |\n",
      "|                                         |                      |                  N/A |\n",
      "+-----------------------------------------+----------------------+----------------------+\n",
      "|   7  Tesla V100-SXM2-32GB           On  | 00000000:B3:00.0 Off |                    0 |\n",
      "| N/A   24C    P0              40W / 300W |      3MiB / 32768MiB |      0%      Default |\n",
      "|                                         |                      |                  N/A |\n",
      "+-----------------------------------------+----------------------+----------------------+\n",
      "                                                                                         \n",
      "+---------------------------------------------------------------------------------------+\n",
      "| Processes:                                                                            |\n",
      "|  GPU   GI   CI        PID   Type   Process name                            GPU Memory |\n",
      "|        ID   ID                                                             Usage      |\n",
      "|=======================================================================================|\n",
      "|    1   N/A  N/A   3560290      C   .../miniconda3/envs/ddmd/bin/python3.9      640MiB |\n",
      "|    5   N/A  N/A   3575328      C   .../miniconda3/envs/ddmd/bin/python3.9      550MiB |\n",
      "|    6   N/A  N/A   1967907      C   .../miniconda3/envs/general/bin/python     9682MiB |\n",
      "+---------------------------------------------------------------------------------------+\n"
     ]
    }
   ],
   "source": [
    "!nvidia-smi"
   ]
  },
  {
   "cell_type": "code",
   "execution_count": 6,
   "metadata": {},
   "outputs": [],
   "source": [
    "DEVICE = 'cuda:7'"
   ]
  },
  {
   "cell_type": "markdown",
   "metadata": {},
   "source": [
    "# TCGA"
   ]
  },
  {
   "cell_type": "markdown",
   "metadata": {},
   "source": [
    "### Data loading"
   ]
  },
  {
   "cell_type": "code",
   "execution_count": 6,
   "metadata": {},
   "outputs": [
    {
     "name": "stdout",
     "output_type": "stream",
     "text": [
      "Total number of cell lines = 1225\n",
      "Total number of drugs = 684\n",
      "There are 3008 genes\n",
      "There are 1 roots: GO:0008150\n",
      "There are 2086 terms\n",
      "There are 1 connected componenets\n"
     ]
    }
   ],
   "source": [
    "training_file = \"data/drugcell_train.txt\"\n",
    "testing_file = \"data/drugcell_test.txt\"\n",
    "val_file = \"data/drugcell_val.txt\"\n",
    "cell2id_file = \"data/cell2ind.txt\"\n",
    "drug2id_file = \"data/drug2ind.txt\"\n",
    "genotype_file = \"data/cell2mutation.txt\"\n",
    "fingerprint_file = \"data/drug2fingerprint.txt\"\n",
    "onto_file = \"data/drugcell_ont.txt\"\n",
    "gene2id_file = \"data/gene2ind.txt\"\n",
    "\n",
    "train_data, feature_dict, cell2id_mapping, drug2id_mapping = prepare_train_data(training_file, \n",
    "                                                                  testing_file, cell2id_file, \n",
    "                                                                  drug2id_file)\n",
    "\n",
    "gene2id_mapping = load_mapping(gene2id_file)\n",
    "\n",
    "# load cell/drug features\n",
    "cell_features = np.genfromtxt(genotype_file, delimiter=',')\n",
    "drug_features = np.genfromtxt(fingerprint_file, delimiter=',')\n",
    "\n",
    "num_cells = len(cell2id_mapping)\n",
    "num_drugs = len(drug2id_mapping)\n",
    "num_genes = len(gene2id_mapping)\n",
    "drug_dim = len(drug_features[0,:])\n",
    "\n",
    "# load ontology\n",
    "dG, root, term_size_map, \\\n",
    "    term_direct_gene_map = load_ontology(onto_file, \n",
    "                                         gene2id_mapping)"
   ]
  },
  {
   "cell_type": "code",
   "execution_count": 7,
   "metadata": {},
   "outputs": [],
   "source": [
    "class RNASeqData(Dataset):\n",
    "    \n",
    "    def __init__(self, X, c=None, y=None, transform=None):\n",
    "        self.X = X\n",
    "        self.y = y\n",
    "        self.c = c\n",
    "        self.transform = transform\n",
    "        \n",
    "    def __len__(self):\n",
    "        return self.X.shape[0]\n",
    "    \n",
    "    def __getitem__(self, index):\n",
    "        sample = self.X[index,:]\n",
    "        \n",
    "        if self.transform is not None:\n",
    "            sample = self.transform(sample)\n",
    "        \n",
    "        if self.y is not None and self.c is None:\n",
    "            return sample, self.y[index]\n",
    "        elif self.y is not None and self.c is not None:\n",
    "            return sample, self.y[index], self.c[index]\n",
    "        elif self.y is None and self.c is not None:\n",
    "            return sample, self.c[index]\n",
    "        else:\n",
    "            return sample"
   ]
  },
  {
   "cell_type": "code",
   "execution_count": 8,
   "metadata": {},
   "outputs": [],
   "source": [
    "## expression and IHC data\n",
    "\n",
    "rna_seq = pd.read_csv('data/tcga/train_tcga_expression_matrix_processed.tsv',sep='\\t',index_col=0)\n",
    "tcga_mad_genes = pd.read_csv('data/tcga/tcga_mad_genes.tsv', sep='\\t')\n",
    "tcga_sample_counts = pd.read_csv('data/tcga/tcga_sample_counts.tsv', sep='\\t')\n",
    "tcga_sample_identifiers = pd.read_csv('data/tcga/tcga_sample_identifiers.tsv', sep='\\t',index_col=0)\n",
    "\n",
    "# rna_seq = rna_seq.loc[:,tcga_mad_genes.gene_id[:3000].apply(str)]\n",
    "rna_seq = rna_seq / rna_seq.std()\n",
    "rna_seq = np.log(rna_seq + 1)"
   ]
  },
  {
   "cell_type": "code",
   "execution_count": 9,
   "metadata": {},
   "outputs": [],
   "source": [
    "tcga_df = rna_seq\n",
    "gene_id_dict = pd.read_csv('data/tcga/gene_dict.csv')\n",
    "\n",
    "new_column = []\n",
    "for col_name in tcga_df.columns:\n",
    "    col_loc = (gene_id_dict.entrezgene_id == int(col_name))\n",
    "    if np.sum(col_loc) == 0:\n",
    "        tcga_df = tcga_df.drop(columns = col_name)\n",
    "    else:\n",
    "        new_column.append(gene_id_dict.hgnc_symbol[gene_id_dict.entrezgene_id == int(col_name)].iloc[0])\n",
    "        \n",
    "\n",
    "tcga_df.columns = new_column"
   ]
  },
  {
   "cell_type": "code",
   "execution_count": 10,
   "metadata": {},
   "outputs": [],
   "source": [
    "tcga_df.columns = new_column"
   ]
  },
  {
   "cell_type": "markdown",
   "metadata": {},
   "source": [
    "#### Create gene2ID for tcga"
   ]
  },
  {
   "cell_type": "code",
   "execution_count": 11,
   "metadata": {},
   "outputs": [],
   "source": [
    "tcga_gene2id = {}\n",
    "for idx, gene in enumerate(tcga_df.columns):\n",
    "    tcga_gene2id[gene] = idx"
   ]
  },
  {
   "cell_type": "markdown",
   "metadata": {},
   "source": [
    "#### Align gene id with tcga"
   ]
  },
  {
   "cell_type": "code",
   "execution_count": 12,
   "metadata": {},
   "outputs": [],
   "source": [
    "gene_intersect_list = list(set(gene2id_mapping.keys()) & set(tcga_df.columns))\n",
    "tcga_tensor = torch.zeros(tcga_df.shape[0], num_genes)\n",
    "\n",
    "for gene in gene_intersect_list:\n",
    "    idx = gene2id_mapping[gene]\n",
    "    tcga_tensor[:,idx] = torch.tensor(tcga_df[gene])"
   ]
  },
  {
   "cell_type": "code",
   "execution_count": 13,
   "metadata": {},
   "outputs": [],
   "source": [
    "cancer_2_idx = {}\n",
    "idx_2_cancer = {}\n",
    "cancer_type_idx = []\n",
    "cancer_type = tcga_sample_identifiers.loc[tcga_df.index, 'cancer_type']\n",
    "\n",
    "i = 0\n",
    "for cancer in cancer_type:\n",
    "    if cancer not in cancer_2_idx:\n",
    "        cancer_2_idx[cancer] = i\n",
    "        idx_2_cancer[i] = cancer\n",
    "        cancer_type_idx.append(i)\n",
    "        \n",
    "        i += 1\n",
    "    else:\n",
    "        cancer_type_idx.append(cancer_2_idx[cancer])\n",
    "\n",
    "y = torch.tensor(cancer_type_idx)"
   ]
  },
  {
   "cell_type": "code",
   "execution_count": 14,
   "metadata": {},
   "outputs": [],
   "source": [
    "tcga_dataset = RNASeqData(X = tcga_tensor, y = y)\n",
    "training_set, testing_set = random_split(tcga_dataset, [0.7, 0.3])"
   ]
  },
  {
   "cell_type": "code",
   "execution_count": 15,
   "metadata": {},
   "outputs": [],
   "source": [
    "class dcell_vae(nn.Module):\n",
    "\n",
    "    def __init__(self, term_size_map, term_direct_gene_map, dG, ngene, root, \n",
    "                 num_hiddens_genotype, num_hiddens_final, n_class, inter_loss_penalty = 0.2):\n",
    "\n",
    "        super(dcell_vae, self).__init__()\n",
    "\n",
    "        self.root = root\n",
    "        self.num_hiddens_genotype = num_hiddens_genotype\n",
    "        self.num_hiddens_final = num_hiddens_final\n",
    "        self.n_class = n_class\n",
    "        self.inter_loss_penalty = inter_loss_penalty\n",
    "        self.dG = copy.deepcopy(dG)\n",
    "\n",
    "        # dictionary from terms to genes directly annotated with the term\n",
    "        self.term_direct_gene_map = term_direct_gene_map\n",
    "\n",
    "        self.term_visit_count = {}\n",
    "        self.init_term_visits(term_size_map)\n",
    "        \n",
    "        # calculate the number of values in a state (term): term_size_map is the number of all genes annotated with the term\n",
    "        self.term_dim_map = {}\n",
    "        self.cal_term_dim(term_size_map)\n",
    "\n",
    "        # ngenes, gene_dim are the number of all genes\n",
    "        self.gene_dim = ngene\n",
    "\n",
    "        # add modules for neural networks to process genotypes\n",
    "        self.contruct_direct_gene_layer()\n",
    "        self.construct_NN_graph(self.dG)\n",
    "\n",
    "        # add modules for final layer TODO: modify it into VAE\n",
    "        final_input_size = num_hiddens_genotype # + num_hiddens_drug[-1]\n",
    "        self.add_module('final_linear_layer', nn.Linear(final_input_size, num_hiddens_final * 2))\n",
    "        self.add_module('final_batchnorm_layer', nn.BatchNorm1d(num_hiddens_final * 2))\n",
    "        self.add_module('final_aux_linear_layer', nn.Linear(num_hiddens_final * 2, 1))\n",
    "        self.add_module('final_linear_layer_output', nn.Linear(1, 1))\n",
    "        \n",
    "        self.decoder_affine = nn.Linear(num_hiddens_final, n_class)\n",
    "\n",
    "    def init_term_visits(self, term_size_map):\n",
    "        \n",
    "        for term in term_size_map:\n",
    "            self.term_visit_count[term] = 0\n",
    "    \n",
    "    # calculate the number of values in a state (term)\n",
    "    def cal_term_dim(self, term_size_map):\n",
    "\n",
    "        for term, term_size in term_size_map.items():\n",
    "            num_output = self.num_hiddens_genotype\n",
    "\n",
    "            # log the number of hidden variables per each term\n",
    "            num_output = int(num_output)\n",
    "#            print(\"term\\t%s\\tterm_size\\t%d\\tnum_hiddens\\t%d\" % (term, term_size, num_output))\n",
    "            self.term_dim_map[term] = num_output\n",
    "\n",
    "\n",
    "    # build a layer for forwarding gene that are directly annotated with the term\n",
    "    def contruct_direct_gene_layer(self):\n",
    "\n",
    "        for term, gene_set in self.term_direct_gene_map.items():\n",
    "            if len(gene_set) == 0:\n",
    "                print('There are no directed asscoiated genes for', term)\n",
    "                sys.exit(1)\n",
    "\n",
    "            # if there are some genes directly annotated with the term, add a layer taking in all genes and forwarding out only those genes\n",
    "            self.add_module(term+'_direct_gene_layer', nn.Linear(self.gene_dim, len(gene_set)))\n",
    "\n",
    "    # start from bottom (leaves), and start building a neural network using the given ontology\n",
    "    # adding modules --- the modules are not connected yet\n",
    "    def construct_NN_graph(self, dG):\n",
    "\n",
    "        self.term_layer_list = []   # term_layer_list stores the built neural network\n",
    "        self.term_neighbor_map = {}\n",
    "\n",
    "        # term_neighbor_map records all children of each term\n",
    "        for term in dG.nodes():\n",
    "            self.term_neighbor_map[term] = []\n",
    "            for child in dG.neighbors(term):\n",
    "                self.term_neighbor_map[term].append(child)\n",
    "\n",
    "        while True:\n",
    "            leaves = [n for n in dG.nodes() if dG.out_degree(n) == 0]\n",
    "            #leaves = [n for n,d in dG.out_degree().items() if d==0]\n",
    "            #leaves = [n for n,d in dG.out_degree() if d==0]\n",
    "\n",
    "            if len(leaves) == 0:\n",
    "                break\n",
    "\n",
    "            self.term_layer_list.append(leaves)\n",
    "\n",
    "            for term in leaves:\n",
    "\n",
    "                # input size will be #chilren + #genes directly annotated by the term\n",
    "                input_size = 0\n",
    "\n",
    "                for child in self.term_neighbor_map[term]:\n",
    "                    input_size += self.term_dim_map[child]\n",
    "\n",
    "                if term in self.term_direct_gene_map:\n",
    "                    input_size += len(self.term_direct_gene_map[term])\n",
    "\n",
    "                # term_hidden is the number of the hidden variables in each state\n",
    "                term_hidden = self.term_dim_map[term]\n",
    "\n",
    "                self.add_module(term+'_linear_layer', nn.Linear(input_size, term_hidden))\n",
    "                self.add_module(term+'_batchnorm_layer', nn.BatchNorm1d(term_hidden))\n",
    "                self.add_module(term+'_aux_linear_layer1', nn.Linear(term_hidden, self.n_class))\n",
    "                self.add_module(term+'_aux_linear_layer2', nn.Linear(self.n_class, self.n_class))\n",
    "\n",
    "            dG.remove_nodes_from(leaves)\n",
    "\n",
    "\n",
    "    # definition of encoder\n",
    "    def encoder(self, x):\n",
    "        gene_input = x.narrow(1, 0, self.gene_dim)\n",
    "\n",
    "        # define forward function for genotype dcell #############################################\n",
    "        term_gene_out_map = {}\n",
    "\n",
    "        for term, _ in self.term_direct_gene_map.items():\n",
    "            term_gene_out_map[term] = self._modules[term + '_direct_gene_layer'](gene_input)\n",
    "\n",
    "        term_NN_out_map = {}\n",
    "        aux_out_map = {}\n",
    "\n",
    "        for i, layer in enumerate(self.term_layer_list):\n",
    "\n",
    "            for term in layer:\n",
    "\n",
    "                child_input_list = []\n",
    "\n",
    "                self.term_visit_count[term] += 1\n",
    "                \n",
    "                for child in self.term_neighbor_map[term]:\n",
    "                    child_input_list.append(term_NN_out_map[child])\n",
    "\n",
    "                if term in self.term_direct_gene_map:\n",
    "                    child_input_list.append(term_gene_out_map[term])\n",
    "\n",
    "                child_input = torch.cat(child_input_list,1)\n",
    "\n",
    "                term_NN_out = self._modules[term+'_linear_layer'](child_input)\n",
    "\n",
    "                Tanh_out = torch.tanh(term_NN_out)\n",
    "                term_NN_out_map[term] = self._modules[term+'_batchnorm_layer'](Tanh_out)\n",
    "                aux_layer1_out = torch.tanh(self._modules[term+'_aux_linear_layer1'](term_NN_out_map[term]))\n",
    "                aux_out_map[term] = self._modules[term+'_aux_linear_layer2'](aux_layer1_out)\n",
    "\n",
    "        # connect two neural networks at the top #################################################\n",
    "        final_input = term_NN_out_map[self.root] # torch.cat((term_NN_out_map[self.root], drug_out), 1)\n",
    "\n",
    "        out = self._modules['final_batchnorm_layer'](torch.tanh(self._modules['final_linear_layer'](final_input)))\n",
    "        term_NN_out_map['final'] = out\n",
    "\n",
    "        aux_layer_out = torch.tanh(self._modules['final_aux_linear_layer'](out))\n",
    "        aux_out_map['final'] = self._modules['final_linear_layer_output'](aux_layer_out)\n",
    "\n",
    "        return aux_out_map, term_NN_out_map\n",
    "    \n",
    "    def forward(self, x):\n",
    "        \n",
    "        aux_out_map, term_NN_out_map = self.encoder(x)\n",
    "        \n",
    "        mu = term_NN_out_map['final'][..., :self.num_hiddens_final]\n",
    "        log_var = term_NN_out_map['final'][..., :self.num_hiddens_final]  # T X batch X z_dim\n",
    "        std_dec = log_var.mul(0.5).exp_()\n",
    "        # std_dec = 1\n",
    "        \n",
    "        latent = MultivariateNormal(loc = mu, \n",
    "                                    scale_tril=torch.diag_embed(std_dec))\n",
    "        z = latent.rsample()\n",
    "        \n",
    "        recon_mean = self.decoder_affine(z)\n",
    "        logits = F.softmax(recon_mean, -1)\n",
    "\n",
    "        return logits #, mu, log_var, aux_out_map, term_NN_out_map\n",
    "    \n",
    "    def loss_log_vae(self, logits, y, mu, log_var, beta = 0.001):\n",
    "        # y: true labels\n",
    "        ori_y_shape = y.shape\n",
    "        \n",
    "        class_loss = F.cross_entropy(logits.view(-1, logits.shape[-1]), \n",
    "                                     y.reshape(-1), reduction = 'none').div(np.log(2)).view(*ori_y_shape)\n",
    "        \n",
    "        KLD = -0.5 * torch.sum(1 + log_var - mu.pow(2) - log_var.exp(), \n",
    "                              dim = -1)\n",
    "        \n",
    "        log_loss = class_loss + beta * KLD\n",
    "        log_loss = torch.mean(torch.logsumexp(log_loss, 0))\n",
    "        \n",
    "        return log_loss\n",
    "    \n",
    "    def intermediate_loss(self, aux_out_map, y):\n",
    "        \n",
    "        inter_loss = 0\n",
    "        for name, output in aux_out_map.items():\n",
    "            if name == 'final':\n",
    "                inter_loss += 0\n",
    "            else: # change 0.2 to smaller one for big terms\n",
    "                ori_y_shape = y.shape\n",
    "        \n",
    "                term_loss = F.cross_entropy(output.view(-1, logits.shape[-1]), \n",
    "                                             y.reshape(-1), \n",
    "                                             reduction = 'none').div(np.log(2)).view(*ori_y_shape)\n",
    "                inter_loss += term_loss\n",
    "\n",
    "        return inter_loss"
   ]
  },
  {
   "cell_type": "code",
   "execution_count": 16,
   "metadata": {},
   "outputs": [],
   "source": [
    "model = torch.load(\"model_200.pt\", map_location=DEVICE)"
   ]
  },
  {
   "cell_type": "code",
   "execution_count": 17,
   "metadata": {},
   "outputs": [],
   "source": [
    "def prepare_node_edge(model, data, sample_id, \n",
    "                      percent_keep = [0.01, 0.02, 0.02, 0.02, 0.1],\n",
    "                      target = 0):\n",
    "    \n",
    "    ## Generate node list\n",
    "    layer_ig_dict = {}\n",
    "    node_label = []\n",
    "    node_col = []\n",
    "    node_level = []\n",
    "    node_x = []\n",
    "    node_y = []\n",
    "\n",
    "    for idx, leaves in enumerate(model.term_layer_list):\n",
    "        term_list = []\n",
    "        node_label.extend(leaves)\n",
    "        node_col.extend([px.colors.qualitative.Plotly[idx]] * (len(leaves) + 1))\n",
    "        node_level.extend([idx] * (len(leaves) + 1))\n",
    "        node_x.extend([(idx )/len(model.term_layer_list)] * (len(leaves) + 1))\n",
    "        \n",
    "        for idx_leaf, term in enumerate(leaves):\n",
    "            term_list.append(model._modules[term+'_linear_layer'])\n",
    "            node_y.append((idx_leaf)/(len(leaves) + 1))\n",
    "        \n",
    "        layer_ig_dict[idx] = LayerIntegratedGradients(model, term_list)\n",
    "\n",
    "        node_label.append('L' + str(idx) + '_other')\n",
    "        node_y.append((idx_leaf+1)/(len(leaves) + 1))\n",
    "    \n",
    "    node_id_label = {i: l for i, l in enumerate(node_label)}\n",
    "    node_label_id = {l: i for i, l in enumerate(node_label)}\n",
    "    \n",
    "    ## Generate edges\n",
    "    \n",
    "    line_col = np.array(['#eb675e', '#d6d6d6', '#3db1ff'])\n",
    "    \n",
    "    torch.manual_seed(0)\n",
    "    np.random.seed(0)\n",
    "\n",
    "    sankey_source = []\n",
    "    sankey_target = []\n",
    "    sankey_value = []\n",
    "    sankey_color = []\n",
    "    gene_attr_dict = {}\n",
    "\n",
    "    for idx, leaves in enumerate(model.term_layer_list[1:]):\n",
    "        layer_attr_list = layer_ig_dict[idx+1].attribute(data.to(DEVICE), target=target, \n",
    "                                    attribute_to_layer_input=True)\n",
    "        for idx_term, term in tqdm.tqdm(enumerate(leaves), desc=\"Level\"+str(idx+1)):\n",
    "            child_list_tmp = model.term_neighbor_map[term]\n",
    "            term_attr = layer_attr_list[idx_term].detach().cpu()\n",
    "            loc = 0\n",
    "            \n",
    "            for child_tmp in child_list_tmp:\n",
    "                attr_child = term_attr[:, loc:(loc + model.term_dim_map[child_tmp])]\n",
    "                loc += model.term_dim_map[child_tmp]\n",
    "                \n",
    "                weight_child = attr_child.sum(dim=1).cpu().numpy()\n",
    "                \n",
    "                sankey_source.append(node_label_id[child_tmp])\n",
    "                sankey_target.append(node_label_id[term])\n",
    "                sankey_value.append(weight_child)\n",
    "                sankey_color.append(line_col[(np.sign(weight_child) + 1).astype('int')])\n",
    "\n",
    "            gene_attr_dict[term] = term_attr[:,loc:]\n",
    "\n",
    "    sankey_source = np.array(sankey_source)\n",
    "    sankey_target = np.array(sankey_target)\n",
    "    sankey_value = np.array(sankey_value)\n",
    "    sankey_color = np.array(sankey_color) \n",
    "    \n",
    "    ## Simplify the plot\n",
    "    \n",
    "    sankey_value_id = np.copy(sankey_value[:,sample_id])\n",
    "    sankey_source_id = np.copy(sankey_source)\n",
    "    sankey_target_id = np.copy(sankey_target)\n",
    "    \n",
    "    level_argsort = []\n",
    "    for idx, leaves in enumerate(model.term_layer_list[:-1]):\n",
    "        tmp_leaves_total_attr = []\n",
    "        for term in leaves:\n",
    "            tmp_leaves_total_attr.append(np.sum(np.abs(sankey_value_id[sankey_source_id == node_label_id[term]])))\n",
    "        level_argsort.append(np.argsort(np.abs(tmp_leaves_total_attr)))  # index from smallest to largest\n",
    "\n",
    "    for idx, pruned_leaves in enumerate(level_argsort):\n",
    "        for pruned_leaf_idx in pruned_leaves[:int((1-percent_keep[idx])*len(pruned_leaves))]:\n",
    "            term = model.term_layer_list[idx][pruned_leaf_idx]\n",
    "            sankey_source_id[sankey_source_id == node_label_id[term]] = node_label_id['L' + str(idx) + '_other']\n",
    "            sankey_target_id[sankey_target_id == node_label_id[term]] = node_label_id['L' + str(idx) + '_other']\n",
    "    \n",
    "    def list_duplicates(seq):\n",
    "        tally = defaultdict(list)\n",
    "        for i,item in enumerate(seq):\n",
    "            tally[item].append(i)\n",
    "        return ((key,locs) for key,locs in tally.items() \n",
    "                                if len(locs)>1)\n",
    "\n",
    "    loc_delete_list = []\n",
    "    for pair, loc in list_duplicates(zip(sankey_source_id, sankey_target_id)):\n",
    "        total_attr = np.sum(sankey_value_id[loc])\n",
    "        sankey_value_id[loc] = total_attr\n",
    "        loc_delete_list.extend(loc[1:])\n",
    "\n",
    "    sankey_source_id = np.delete(sankey_source_id, loc_delete_list)\n",
    "    sankey_target_id = np.delete(sankey_target_id, loc_delete_list)\n",
    "    sankey_value_id = np.delete(sankey_value_id, loc_delete_list)\n",
    "\n",
    "    sankey_color = [line_col[int(term_sign + 1)] for term_sign in np.sign(sankey_value_id)]\n",
    "    \n",
    "    return sankey_target_id, sankey_source_id, sankey_value_id,\\\n",
    "        node_label, node_col, node_level"
   ]
  },
  {
   "cell_type": "code",
   "execution_count": 21,
   "metadata": {},
   "outputs": [],
   "source": [
    "def plot_sankey(sankey_target_id, sankey_source_id, sankey_value_id,\n",
    "                node_label, node_col, node_level,\n",
    "                filename:str = 'test',\n",
    "                renderers_default = \"vscode\", positive_flow = True):\n",
    "    \n",
    "    pio.renderers.default = renderers_default\n",
    "    \n",
    "    if positive_flow:\n",
    "        selected_edge_list = sankey_value_id >0\n",
    "    else:\n",
    "        selected_edge_list = sankey_value_id <0\n",
    "\n",
    "    node_tmp_list = np.concatenate((sankey_source_id[selected_edge_list], \n",
    "                                    sankey_target_id[selected_edge_list]))\n",
    "    sankey_plot_source = np.copy(sankey_source_id[selected_edge_list])\n",
    "    sankey_plot_target = np.copy(sankey_target_id[selected_edge_list])\n",
    "    sankey_plot_value_id = np.copy(sankey_value_id[selected_edge_list])\n",
    "\n",
    "\n",
    "    level_counter = {idx:0 for idx in range(6)}\n",
    "    sankey_node_label = []\n",
    "    sankey_node_id = []\n",
    "    sankey_node_origin_id = []\n",
    "    sankey_node_col = []\n",
    "    sankey_node_x = []\n",
    "    sankey_node_y = []\n",
    "    sankey_node_level = []\n",
    "\n",
    "    id_current = 0\n",
    "    for node_index in node_tmp_list:\n",
    "        if node_index not in sankey_node_origin_id:\n",
    "            sankey_node_label.append(node_label[node_index])\n",
    "            sankey_node_id.append(id_current)\n",
    "            sankey_node_origin_id.append(node_index)\n",
    "            sankey_node_col.append(node_col[node_index])\n",
    "            sankey_node_level.append(node_level[node_index])\n",
    "            \n",
    "            sankey_plot_source[sankey_source_id[selected_edge_list] == node_index] = id_current\n",
    "            sankey_plot_target[sankey_target_id[selected_edge_list] == node_index] = id_current\n",
    "            \n",
    "            level_counter[node_level[node_index]] += 1\n",
    "            sankey_node_x.append(node_level[node_index]/(max(node_level) + 1))\n",
    "            sankey_node_y.append(level_counter[node_level[node_index]])\n",
    "            \n",
    "            id_current += 1\n",
    "\n",
    "    sankey_node_x = np.array(sankey_node_x).astype('float')\n",
    "    sankey_node_y = np.array(sankey_node_y).astype('float')\n",
    "    sankey_node_level = np.array(sankey_node_level).astype('float')\n",
    "    \n",
    "    for level in range(6):\n",
    "        sankey_node_y[sankey_node_level == level] = sankey_node_y[sankey_node_level == level]/np.max(sankey_node_y[sankey_node_level == level] )\n",
    "    sankey_node_y[-1] = 0.5\n",
    "    \n",
    "    fig = go.Figure(data=[go.Sankey(\n",
    "        arrangement = \"snap\",\n",
    "        node = dict(\n",
    "            pad = 15,\n",
    "            thickness = 20,\n",
    "            # line = dict(color = \"black\", width = 0.5),\n",
    "            label = sankey_node_label, #node_label,\n",
    "            color = sankey_node_col, #node_col,\n",
    "            # groups = node_groups,\n",
    "            x = sankey_node_x + 0.01,  #(np.array(node_x)+0.0001),\n",
    "            y = sankey_node_y - 0.01 # [0.2] * len(sankey_node_x.tolist())   # ,  #(np.array(node_y)+0.0001)\n",
    "            ),\n",
    "            link = dict(\n",
    "            source = sankey_plot_source, #, # np.array(sankey_source_id), # indices correspond to labels, eg A1, A2, A1, B1, ...\n",
    "            target = sankey_plot_target, # sankey_target_id,\n",
    "            value = sankey_plot_value_id,\n",
    "            # color = sankey_color\n",
    "            )\n",
    "        )])\n",
    "\n",
    "    # fig.update_layout(title_text=\"Basic Sankey Diagram\", font_size=10)\n",
    "    fig.write_html(filename + \".html\")\n",
    "    fig.show()\n",
    "    \n",
    "    return fig"
   ]
  },
  {
   "cell_type": "markdown",
   "metadata": {},
   "source": [
    "## Draw the plot"
   ]
  },
  {
   "cell_type": "code",
   "execution_count": 7,
   "metadata": {},
   "outputs": [
    {
     "ename": "NameError",
     "evalue": "name 'training_set' is not defined",
     "output_type": "error",
     "traceback": [
      "\u001b[0;31m---------------------------------------------------------------------------\u001b[0m",
      "\u001b[0;31mNameError\u001b[0m                                 Traceback (most recent call last)",
      "\u001b[1;32m/homes/ac.tfeng/git/DrugCell/paper_sankey.ipynb Cell 24\u001b[0m line \u001b[0;36m1\n\u001b[0;32m----> <a href='vscode-notebook-cell://ssh-remote%2Blambda0/homes/ac.tfeng/git/DrugCell/paper_sankey.ipynb#X32sdnNjb2RlLXJlbW90ZQ%3D%3D?line=0'>1</a>\u001b[0m train_loader \u001b[39m=\u001b[39m DataLoader(training_set, batch_size\u001b[39m=\u001b[39m\u001b[39m64\u001b[39m, shuffle\u001b[39m=\u001b[39m\u001b[39mTrue\u001b[39;00m)\n\u001b[1;32m      <a href='vscode-notebook-cell://ssh-remote%2Blambda0/homes/ac.tfeng/git/DrugCell/paper_sankey.ipynb#X32sdnNjb2RlLXJlbW90ZQ%3D%3D?line=1'>2</a>\u001b[0m test_loader \u001b[39m=\u001b[39m DataLoader(testing_set, batch_size\u001b[39m=\u001b[39m\u001b[39m1024\u001b[39m, shuffle\u001b[39m=\u001b[39m\u001b[39mFalse\u001b[39;00m)\n\u001b[1;32m      <a href='vscode-notebook-cell://ssh-remote%2Blambda0/homes/ac.tfeng/git/DrugCell/paper_sankey.ipynb#X32sdnNjb2RlLXJlbW90ZQ%3D%3D?line=2'>3</a>\u001b[0m data, labels \u001b[39m=\u001b[39m \u001b[39mnext\u001b[39m(\u001b[39miter\u001b[39m(train_loader))\n",
      "\u001b[0;31mNameError\u001b[0m: name 'training_set' is not defined"
     ]
    }
   ],
   "source": [
    "train_loader = DataLoader(training_set, batch_size=64, shuffle=True)\n",
    "test_loader = DataLoader(testing_set, batch_size=1024, shuffle=False)\n",
    "data, labels = next(iter(train_loader))"
   ]
  },
  {
   "cell_type": "code",
   "execution_count": null,
   "metadata": {},
   "outputs": [
    {
     "ename": "NameError",
     "evalue": "name 'data' is not defined",
     "output_type": "error",
     "traceback": [
      "\u001b[0;31m---------------------------------------------------------------------------\u001b[0m",
      "\u001b[0;31mNameError\u001b[0m                                 Traceback (most recent call last)",
      "\u001b[1;32m/homes/ac.tfeng/git/DrugCell/paper_sankey.ipynb Cell 25\u001b[0m line \u001b[0;36m1\n\u001b[0;32m----> <a href='vscode-notebook-cell://ssh-remote%2Blambda0/homes/ac.tfeng/git/DrugCell/paper_sankey.ipynb#X40sdnNjb2RlLXJlbW90ZQ%3D%3D?line=0'>1</a>\u001b[0m data\n",
      "\u001b[0;31mNameError\u001b[0m: name 'data' is not defined"
     ]
    }
   ],
   "source": [
    "data"
   ]
  },
  {
   "cell_type": "code",
   "execution_count": 20,
   "metadata": {},
   "outputs": [
    {
     "name": "stderr",
     "output_type": "stream",
     "text": [
      "/homes/ac.tfeng/miniconda3/envs/general/lib/python3.9/site-packages/captum/attr/_core/layer/layer_integrated_gradients.py:101: UserWarning: Multiple layers provided. Please ensure that each layer is**not** solely dependent on the outputs ofanother layer. Please refer to the documentation for moredetail.\n",
      "  warnings.warn(\n",
      "Level1: 357it [00:00, 10383.24it/s]\n",
      "Level2: 183it [00:00, 6009.88it/s]\n",
      "Level3: 115it [00:00, 5693.74it/s]\n",
      "Level4: 66it [00:00, 5120.02it/s]\n",
      "Level5: 1it [00:00, 123.18it/s]\n"
     ]
    }
   ],
   "source": [
    "sankey_target_id, sankey_source_id, sankey_value_id,\\\n",
    "        node_label, node_col, node_level = prepare_node_edge(model, data, sample_id = 0)"
   ]
  },
  {
   "cell_type": "code",
   "execution_count": 25,
   "metadata": {},
   "outputs": [
    {
     "data": {
      "application/vnd.plotly.v1+json": {
       "config": {
        "plotlyServerURL": "https://plot.ly"
       },
       "data": [
        {
         "arrangement": "snap",
         "link": {
          "source": [
           0,
           0,
           1,
           2,
           2,
           0,
           0,
           3,
           4,
           5,
           3,
           0,
           6,
           0,
           3,
           7,
           3,
           8,
           9,
           10,
           11,
           0,
           12,
           7,
           3,
           0,
           13,
           14,
           15,
           16,
           17,
           18,
           7,
           12,
           3,
           7,
           7,
           3,
           0,
           18,
           0,
           18,
           7,
           0,
           19,
           6,
           18,
           3,
           7,
           18,
           3,
           15,
           20,
           21,
           7,
           18,
           22,
           23,
           24,
           25
          ],
          "target": [
           14,
           13,
           3,
           3,
           26,
           26,
           7,
           7,
           7,
           7,
           12,
           12,
           7,
           15,
           15,
           18,
           18,
           18,
           18,
           18,
           18,
           19,
           19,
           25,
           25,
           25,
           25,
           18,
           18,
           18,
           18,
           21,
           21,
           22,
           22,
           22,
           23,
           23,
           24,
           27,
           27,
           28,
           28,
           28,
           21,
           21,
           29,
           29,
           29,
           30,
           30,
           21,
           21,
           31,
           31,
           31,
           31,
           31,
           31,
           31
          ],
          "value": [
           0.00007355654160609158,
           0.00251421605458338,
           0.004867886187952506,
           0.0019566928870564885,
           0.0017344181019232352,
           0.0019307225883004923,
           0.0065947547411894965,
           0.019969826526654407,
           0.00031032822960212964,
           0.001015881250779422,
           0.00398543362135238,
           0.0017270049738759236,
           0.0018145185139907237,
           0.0007842387610293081,
           0.0010045096257590264,
           0.07927774289067288,
           0.0310114372156836,
           0.004432085391167908,
           0.007289940354495372,
           0.005098239578344683,
           0.006138069115052805,
           0.0010875918572879548,
           0.019881507773027593,
           0.007112352811004035,
           0.0022317384224685172,
           0.000049593607749832025,
           0.010699321359437807,
           0.008363959660149977,
           0.019526753348590834,
           0.006576755278777397,
           0.0011178147809189623,
           0.013909160658270303,
           0.0037164278734147997,
           0.007188806614456246,
           0.0006195009756257803,
           0.0005309426685703761,
           0.00043168510095233624,
           0.00008528804074688404,
           5.576882950366564e-7,
           0.0007752849373428743,
           0.00002173504814561306,
           0.0012398855152126334,
           0.0010192962968709465,
           0.00009943889316336815,
           0.005743301209521481,
           0.0008734857175946708,
           0.00047751195051827473,
           0.00008376497477927731,
           0.00004689234947571143,
           0.00010773340898358628,
           0.0001521758308213321,
           0.00033183951300988626,
           0.00021339606440731618,
           0.03243686697664516,
           0.009519768492588654,
           0.009612617688452669,
           0.007652705841213552,
           0.006596254450196374,
           0.005442044467370578,
           0.009017999539522766
          ]
         },
         "node": {
          "color": [
           "#636EFA",
           "#636EFA",
           "#636EFA",
           "#EF553B",
           "#EF553B",
           "#636EFA",
           "#EF553B",
           "#00CC96",
           "#636EFA",
           "#636EFA",
           "#636EFA",
           "#636EFA",
           "#00CC96",
           "#EF553B",
           "#EF553B",
           "#00CC96",
           "#636EFA",
           "#636EFA",
           "#AB63FA",
           "#AB63FA",
           "#636EFA",
           "#FFA15A",
           "#FFA15A",
           "#FFA15A",
           "#FFA15A",
           "#AB63FA",
           "#EF553B",
           "#FFA15A",
           "#FFA15A",
           "#FFA15A",
           "#FFA15A",
           "#19D3F3"
          ],
          "label": [
           "L0_other",
           "GO:0043312",
           "GO:0033692",
           "L1_other",
           "GO:0045944",
           "GO:0007286",
           "GO:0034654",
           "L2_other",
           "GO:0072659",
           "GO:0032682",
           "GO:0030512",
           "GO:0050927",
           "GO:0006468",
           "GO:1901566",
           "GO:0030001",
           "GO:0043065",
           "GO:0070374",
           "GO:0043524",
           "L3_other",
           "GO:0016310",
           "GO:1903959",
           "L4_other",
           "GO:0006464",
           "GO:0007165",
           "GO:0055082",
           "GO:1901576",
           "GO:0034645",
           "GO:0009611",
           "GO:0010468",
           "GO:2000112",
           "GO:0071702",
           "GO:0008150"
          ],
          "pad": 15,
          "thickness": 20,
          "x": [
           0.01,
           0.01,
           0.01,
           0.17666666666666667,
           0.17666666666666667,
           0.01,
           0.17666666666666667,
           0.3433333333333333,
           0.01,
           0.01,
           0.01,
           0.01,
           0.3433333333333333,
           0.17666666666666667,
           0.17666666666666667,
           0.3433333333333333,
           0.01,
           0.01,
           0.51,
           0.51,
           0.01,
           0.6766666666666666,
           0.6766666666666666,
           0.6766666666666666,
           0.6766666666666666,
           0.51,
           0.17666666666666667,
           0.6766666666666666,
           0.6766666666666666,
           0.6766666666666666,
           0.6766666666666666,
           0.8433333333333334
          ],
          "y": [
           0.08090909090909092,
           0.17181818181818181,
           0.2627272727272727,
           0.15666666666666665,
           0.3233333333333333,
           0.35363636363636364,
           0.49,
           0.3233333333333333,
           0.4445454545454545,
           0.5354545454545454,
           0.6263636363636363,
           0.7172727272727273,
           0.6566666666666666,
           0.6566666666666666,
           0.8233333333333334,
           0.99,
           0.8081818181818182,
           0.899090909090909,
           0.3233333333333333,
           0.6566666666666666,
           0.99,
           0.115,
           0.24,
           0.365,
           0.49,
           0.99,
           0.99,
           0.615,
           0.74,
           0.865,
           0.99,
           0.49
          ]
         },
         "type": "sankey"
        }
       ],
       "layout": {
        "template": {
         "data": {
          "bar": [
           {
            "error_x": {
             "color": "#2a3f5f"
            },
            "error_y": {
             "color": "#2a3f5f"
            },
            "marker": {
             "line": {
              "color": "#E5ECF6",
              "width": 0.5
             },
             "pattern": {
              "fillmode": "overlay",
              "size": 10,
              "solidity": 0.2
             }
            },
            "type": "bar"
           }
          ],
          "barpolar": [
           {
            "marker": {
             "line": {
              "color": "#E5ECF6",
              "width": 0.5
             },
             "pattern": {
              "fillmode": "overlay",
              "size": 10,
              "solidity": 0.2
             }
            },
            "type": "barpolar"
           }
          ],
          "carpet": [
           {
            "aaxis": {
             "endlinecolor": "#2a3f5f",
             "gridcolor": "white",
             "linecolor": "white",
             "minorgridcolor": "white",
             "startlinecolor": "#2a3f5f"
            },
            "baxis": {
             "endlinecolor": "#2a3f5f",
             "gridcolor": "white",
             "linecolor": "white",
             "minorgridcolor": "white",
             "startlinecolor": "#2a3f5f"
            },
            "type": "carpet"
           }
          ],
          "choropleth": [
           {
            "colorbar": {
             "outlinewidth": 0,
             "ticks": ""
            },
            "type": "choropleth"
           }
          ],
          "contour": [
           {
            "colorbar": {
             "outlinewidth": 0,
             "ticks": ""
            },
            "colorscale": [
             [
              0,
              "#0d0887"
             ],
             [
              0.1111111111111111,
              "#46039f"
             ],
             [
              0.2222222222222222,
              "#7201a8"
             ],
             [
              0.3333333333333333,
              "#9c179e"
             ],
             [
              0.4444444444444444,
              "#bd3786"
             ],
             [
              0.5555555555555556,
              "#d8576b"
             ],
             [
              0.6666666666666666,
              "#ed7953"
             ],
             [
              0.7777777777777778,
              "#fb9f3a"
             ],
             [
              0.8888888888888888,
              "#fdca26"
             ],
             [
              1,
              "#f0f921"
             ]
            ],
            "type": "contour"
           }
          ],
          "contourcarpet": [
           {
            "colorbar": {
             "outlinewidth": 0,
             "ticks": ""
            },
            "type": "contourcarpet"
           }
          ],
          "heatmap": [
           {
            "colorbar": {
             "outlinewidth": 0,
             "ticks": ""
            },
            "colorscale": [
             [
              0,
              "#0d0887"
             ],
             [
              0.1111111111111111,
              "#46039f"
             ],
             [
              0.2222222222222222,
              "#7201a8"
             ],
             [
              0.3333333333333333,
              "#9c179e"
             ],
             [
              0.4444444444444444,
              "#bd3786"
             ],
             [
              0.5555555555555556,
              "#d8576b"
             ],
             [
              0.6666666666666666,
              "#ed7953"
             ],
             [
              0.7777777777777778,
              "#fb9f3a"
             ],
             [
              0.8888888888888888,
              "#fdca26"
             ],
             [
              1,
              "#f0f921"
             ]
            ],
            "type": "heatmap"
           }
          ],
          "heatmapgl": [
           {
            "colorbar": {
             "outlinewidth": 0,
             "ticks": ""
            },
            "colorscale": [
             [
              0,
              "#0d0887"
             ],
             [
              0.1111111111111111,
              "#46039f"
             ],
             [
              0.2222222222222222,
              "#7201a8"
             ],
             [
              0.3333333333333333,
              "#9c179e"
             ],
             [
              0.4444444444444444,
              "#bd3786"
             ],
             [
              0.5555555555555556,
              "#d8576b"
             ],
             [
              0.6666666666666666,
              "#ed7953"
             ],
             [
              0.7777777777777778,
              "#fb9f3a"
             ],
             [
              0.8888888888888888,
              "#fdca26"
             ],
             [
              1,
              "#f0f921"
             ]
            ],
            "type": "heatmapgl"
           }
          ],
          "histogram": [
           {
            "marker": {
             "pattern": {
              "fillmode": "overlay",
              "size": 10,
              "solidity": 0.2
             }
            },
            "type": "histogram"
           }
          ],
          "histogram2d": [
           {
            "colorbar": {
             "outlinewidth": 0,
             "ticks": ""
            },
            "colorscale": [
             [
              0,
              "#0d0887"
             ],
             [
              0.1111111111111111,
              "#46039f"
             ],
             [
              0.2222222222222222,
              "#7201a8"
             ],
             [
              0.3333333333333333,
              "#9c179e"
             ],
             [
              0.4444444444444444,
              "#bd3786"
             ],
             [
              0.5555555555555556,
              "#d8576b"
             ],
             [
              0.6666666666666666,
              "#ed7953"
             ],
             [
              0.7777777777777778,
              "#fb9f3a"
             ],
             [
              0.8888888888888888,
              "#fdca26"
             ],
             [
              1,
              "#f0f921"
             ]
            ],
            "type": "histogram2d"
           }
          ],
          "histogram2dcontour": [
           {
            "colorbar": {
             "outlinewidth": 0,
             "ticks": ""
            },
            "colorscale": [
             [
              0,
              "#0d0887"
             ],
             [
              0.1111111111111111,
              "#46039f"
             ],
             [
              0.2222222222222222,
              "#7201a8"
             ],
             [
              0.3333333333333333,
              "#9c179e"
             ],
             [
              0.4444444444444444,
              "#bd3786"
             ],
             [
              0.5555555555555556,
              "#d8576b"
             ],
             [
              0.6666666666666666,
              "#ed7953"
             ],
             [
              0.7777777777777778,
              "#fb9f3a"
             ],
             [
              0.8888888888888888,
              "#fdca26"
             ],
             [
              1,
              "#f0f921"
             ]
            ],
            "type": "histogram2dcontour"
           }
          ],
          "mesh3d": [
           {
            "colorbar": {
             "outlinewidth": 0,
             "ticks": ""
            },
            "type": "mesh3d"
           }
          ],
          "parcoords": [
           {
            "line": {
             "colorbar": {
              "outlinewidth": 0,
              "ticks": ""
             }
            },
            "type": "parcoords"
           }
          ],
          "pie": [
           {
            "automargin": true,
            "type": "pie"
           }
          ],
          "scatter": [
           {
            "fillpattern": {
             "fillmode": "overlay",
             "size": 10,
             "solidity": 0.2
            },
            "type": "scatter"
           }
          ],
          "scatter3d": [
           {
            "line": {
             "colorbar": {
              "outlinewidth": 0,
              "ticks": ""
             }
            },
            "marker": {
             "colorbar": {
              "outlinewidth": 0,
              "ticks": ""
             }
            },
            "type": "scatter3d"
           }
          ],
          "scattercarpet": [
           {
            "marker": {
             "colorbar": {
              "outlinewidth": 0,
              "ticks": ""
             }
            },
            "type": "scattercarpet"
           }
          ],
          "scattergeo": [
           {
            "marker": {
             "colorbar": {
              "outlinewidth": 0,
              "ticks": ""
             }
            },
            "type": "scattergeo"
           }
          ],
          "scattergl": [
           {
            "marker": {
             "colorbar": {
              "outlinewidth": 0,
              "ticks": ""
             }
            },
            "type": "scattergl"
           }
          ],
          "scattermapbox": [
           {
            "marker": {
             "colorbar": {
              "outlinewidth": 0,
              "ticks": ""
             }
            },
            "type": "scattermapbox"
           }
          ],
          "scatterpolar": [
           {
            "marker": {
             "colorbar": {
              "outlinewidth": 0,
              "ticks": ""
             }
            },
            "type": "scatterpolar"
           }
          ],
          "scatterpolargl": [
           {
            "marker": {
             "colorbar": {
              "outlinewidth": 0,
              "ticks": ""
             }
            },
            "type": "scatterpolargl"
           }
          ],
          "scatterternary": [
           {
            "marker": {
             "colorbar": {
              "outlinewidth": 0,
              "ticks": ""
             }
            },
            "type": "scatterternary"
           }
          ],
          "surface": [
           {
            "colorbar": {
             "outlinewidth": 0,
             "ticks": ""
            },
            "colorscale": [
             [
              0,
              "#0d0887"
             ],
             [
              0.1111111111111111,
              "#46039f"
             ],
             [
              0.2222222222222222,
              "#7201a8"
             ],
             [
              0.3333333333333333,
              "#9c179e"
             ],
             [
              0.4444444444444444,
              "#bd3786"
             ],
             [
              0.5555555555555556,
              "#d8576b"
             ],
             [
              0.6666666666666666,
              "#ed7953"
             ],
             [
              0.7777777777777778,
              "#fb9f3a"
             ],
             [
              0.8888888888888888,
              "#fdca26"
             ],
             [
              1,
              "#f0f921"
             ]
            ],
            "type": "surface"
           }
          ],
          "table": [
           {
            "cells": {
             "fill": {
              "color": "#EBF0F8"
             },
             "line": {
              "color": "white"
             }
            },
            "header": {
             "fill": {
              "color": "#C8D4E3"
             },
             "line": {
              "color": "white"
             }
            },
            "type": "table"
           }
          ]
         },
         "layout": {
          "annotationdefaults": {
           "arrowcolor": "#2a3f5f",
           "arrowhead": 0,
           "arrowwidth": 1
          },
          "autotypenumbers": "strict",
          "coloraxis": {
           "colorbar": {
            "outlinewidth": 0,
            "ticks": ""
           }
          },
          "colorscale": {
           "diverging": [
            [
             0,
             "#8e0152"
            ],
            [
             0.1,
             "#c51b7d"
            ],
            [
             0.2,
             "#de77ae"
            ],
            [
             0.3,
             "#f1b6da"
            ],
            [
             0.4,
             "#fde0ef"
            ],
            [
             0.5,
             "#f7f7f7"
            ],
            [
             0.6,
             "#e6f5d0"
            ],
            [
             0.7,
             "#b8e186"
            ],
            [
             0.8,
             "#7fbc41"
            ],
            [
             0.9,
             "#4d9221"
            ],
            [
             1,
             "#276419"
            ]
           ],
           "sequential": [
            [
             0,
             "#0d0887"
            ],
            [
             0.1111111111111111,
             "#46039f"
            ],
            [
             0.2222222222222222,
             "#7201a8"
            ],
            [
             0.3333333333333333,
             "#9c179e"
            ],
            [
             0.4444444444444444,
             "#bd3786"
            ],
            [
             0.5555555555555556,
             "#d8576b"
            ],
            [
             0.6666666666666666,
             "#ed7953"
            ],
            [
             0.7777777777777778,
             "#fb9f3a"
            ],
            [
             0.8888888888888888,
             "#fdca26"
            ],
            [
             1,
             "#f0f921"
            ]
           ],
           "sequentialminus": [
            [
             0,
             "#0d0887"
            ],
            [
             0.1111111111111111,
             "#46039f"
            ],
            [
             0.2222222222222222,
             "#7201a8"
            ],
            [
             0.3333333333333333,
             "#9c179e"
            ],
            [
             0.4444444444444444,
             "#bd3786"
            ],
            [
             0.5555555555555556,
             "#d8576b"
            ],
            [
             0.6666666666666666,
             "#ed7953"
            ],
            [
             0.7777777777777778,
             "#fb9f3a"
            ],
            [
             0.8888888888888888,
             "#fdca26"
            ],
            [
             1,
             "#f0f921"
            ]
           ]
          },
          "colorway": [
           "#636efa",
           "#EF553B",
           "#00cc96",
           "#ab63fa",
           "#FFA15A",
           "#19d3f3",
           "#FF6692",
           "#B6E880",
           "#FF97FF",
           "#FECB52"
          ],
          "font": {
           "color": "#2a3f5f"
          },
          "geo": {
           "bgcolor": "white",
           "lakecolor": "white",
           "landcolor": "#E5ECF6",
           "showlakes": true,
           "showland": true,
           "subunitcolor": "white"
          },
          "hoverlabel": {
           "align": "left"
          },
          "hovermode": "closest",
          "mapbox": {
           "style": "light"
          },
          "paper_bgcolor": "white",
          "plot_bgcolor": "#E5ECF6",
          "polar": {
           "angularaxis": {
            "gridcolor": "white",
            "linecolor": "white",
            "ticks": ""
           },
           "bgcolor": "#E5ECF6",
           "radialaxis": {
            "gridcolor": "white",
            "linecolor": "white",
            "ticks": ""
           }
          },
          "scene": {
           "xaxis": {
            "backgroundcolor": "#E5ECF6",
            "gridcolor": "white",
            "gridwidth": 2,
            "linecolor": "white",
            "showbackground": true,
            "ticks": "",
            "zerolinecolor": "white"
           },
           "yaxis": {
            "backgroundcolor": "#E5ECF6",
            "gridcolor": "white",
            "gridwidth": 2,
            "linecolor": "white",
            "showbackground": true,
            "ticks": "",
            "zerolinecolor": "white"
           },
           "zaxis": {
            "backgroundcolor": "#E5ECF6",
            "gridcolor": "white",
            "gridwidth": 2,
            "linecolor": "white",
            "showbackground": true,
            "ticks": "",
            "zerolinecolor": "white"
           }
          },
          "shapedefaults": {
           "line": {
            "color": "#2a3f5f"
           }
          },
          "ternary": {
           "aaxis": {
            "gridcolor": "white",
            "linecolor": "white",
            "ticks": ""
           },
           "baxis": {
            "gridcolor": "white",
            "linecolor": "white",
            "ticks": ""
           },
           "bgcolor": "#E5ECF6",
           "caxis": {
            "gridcolor": "white",
            "linecolor": "white",
            "ticks": ""
           }
          },
          "title": {
           "x": 0.05
          },
          "xaxis": {
           "automargin": true,
           "gridcolor": "white",
           "linecolor": "white",
           "ticks": "",
           "title": {
            "standoff": 15
           },
           "zerolinecolor": "white",
           "zerolinewidth": 2
          },
          "yaxis": {
           "automargin": true,
           "gridcolor": "white",
           "linecolor": "white",
           "ticks": "",
           "title": {
            "standoff": 15
           },
           "zerolinecolor": "white",
           "zerolinewidth": 2
          }
         }
        }
       }
      }
     },
     "metadata": {},
     "output_type": "display_data"
    }
   ],
   "source": [
    "tmp = plot_sankey(sankey_target_id, sankey_source_id, sankey_value_id,\n",
    "                node_label, node_col, node_level)"
   ]
  },
  {
   "cell_type": "code",
   "execution_count": 26,
   "metadata": {},
   "outputs": [
    {
     "name": "stdout",
     "output_type": "stream",
     "text": [
      "candle_glue.sh\t\tgdsc_50_top5_data_5.pt\t   loss_accu_top5_new_2.pkl\n",
      "codes\t\t\tgdsc_50_top5_data_6.pt\t   loss_accu_top5_new_3.pkl\n",
      "data\t\t\tgdsc_50_top5_data_7.pt\t   loss_accu_top5_new_4.pkl\n",
      "default_ont.txt\t\tgdsc_50_top5_data_8.pt\t   loss_accu_top5_new_5.pkl\n",
      "DrugCell.def\t\tgdsc_50_top5_data_9.pt\t   loss_accu_top5_new_6.pkl\n",
      "DrugCell_GDSC.ipynb\tgdsc_50_top5.pt\t\t   loss_accu_top5_new_7.pkl\n",
      "drugcell_NN.py\t\tGDSC_classic_ml.py\t   loss_accu_top5_new_8.pkl\n",
      "DrugCell_params.txt\tgdsc_drug_12_epoch.pt\t   loss_accu_top5_new_9.pkl\n",
      "Drugcell.rst\t\tgdsc_drug_epoch_new.pt\t   loss_accu_top5_new.pkl\n",
      "environment_setup\tgdsc_drug_names.csv\t   loss_accu_top5.pkl\n",
      "environment.yml\t\timprove_utils.py\t   misc\n",
      "ftp.mcs.anl.gov\t\tinfer.py\t\t   model_200.pt\n",
      "gdsc_50.pt\t\tinfer.sh\t\t   NOTEBOOK\n",
      "gdsc_50_top5_0.pt\t__init__.py\t\t   paper_sankey.ipynb\n",
      "gdsc_50_top5_1.pt\tLICENSE\t\t\t   preprocessing_new.py\n",
      "gdsc_50_top5_2.pt\tloss_accu.pkl\t\t   preprocessing.py\n",
      "gdsc_50_top5_3.pt\tloss_accu_top5_data_0.pkl  preprocess.sh\n",
      "gdsc_50_top5_4.pt\tloss_accu_top5_data_1.pkl  pretrained_model\n",
      "gdsc_50_top5_5.pt\tloss_accu_top5_data_2.pkl  README.md\n",
      "gdsc_50_top5_6.pt\tloss_accu_top5_data_3.pkl  sample\n",
      "gdsc_50_top5_7.pt\tloss_accu_top5_data_4.pkl  sankey_test.ipynb\n",
      "gdsc_50_top5_8.pt\tloss_accu_top5_data_5.pkl  setup_conda.sh\n",
      "gdsc_50_top5_9.pt\tloss_accu_top5_data_6.pkl  test.html\n",
      "gdsc_50_top5_data_0.pt\tloss_accu_top5_data_7.pkl  tf_test.ipynb\n",
      "gdsc_50_top5_data_1.pt\tloss_accu_top5_data_8.pkl  train_drugcell2.py\n",
      "gdsc_50_top5_data_2.pt\tloss_accu_top5_data_9.pkl  train.py\n",
      "gdsc_50_top5_data_3.pt\tloss_accu_top5_new_0.pkl   train.sh\n",
      "gdsc_50_top5_data_4.pt\tloss_accu_top5_new_1.pkl\n"
     ]
    }
   ],
   "source": [
    "aux_out_map, term_NN_out_map = model.encoder(x)"
   ]
  },
  {
   "cell_type": "code",
   "execution_count": null,
   "metadata": {},
   "outputs": [],
   "source": []
  }
 ],
 "metadata": {
  "kernelspec": {
   "display_name": "general",
   "language": "python",
   "name": "python3"
  },
  "language_info": {
   "codemirror_mode": {
    "name": "ipython",
    "version": 3
   },
   "file_extension": ".py",
   "mimetype": "text/x-python",
   "name": "python",
   "nbconvert_exporter": "python",
   "pygments_lexer": "ipython3",
   "version": "3.9.13"
  }
 },
 "nbformat": 4,
 "nbformat_minor": 2
}
