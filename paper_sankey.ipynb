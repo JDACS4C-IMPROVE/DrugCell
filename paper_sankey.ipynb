{
 "cells": [
  {
   "cell_type": "code",
   "execution_count": 1,
   "metadata": {},
   "outputs": [
    {
     "data": {
      "text/plain": [
       "'/lambda_stor/homes/ac.tfeng/git/DrugCell'"
      ]
     },
     "execution_count": 1,
     "metadata": {},
     "output_type": "execute_result"
    }
   ],
   "source": [
    "import plotly.graph_objects as go\n",
    "import urllib, json\n",
    "import os\n",
    "os.getcwd()"
   ]
  },
  {
   "cell_type": "code",
   "execution_count": 2,
   "metadata": {},
   "outputs": [
    {
     "name": "stderr",
     "output_type": "stream",
     "text": [
      "/homes/ac.tfeng/miniconda3/envs/general/lib/python3.9/site-packages/tqdm/auto.py:21: TqdmWarning: IProgress not found. Please update jupyter and ipywidgets. See https://ipywidgets.readthedocs.io/en/stable/user_install.html\n",
      "  from .autonotebook import tqdm as notebook_tqdm\n"
     ]
    }
   ],
   "source": [
    "# import anndata\n",
    "import numpy as np\n",
    "import pandas as pd\n",
    "\n",
    "import torch\n",
    "import torch.nn as nn\n",
    "import torch.nn.functional as F\n",
    "from torch.utils.data import Dataset, DataLoader, random_split\n",
    "from torch.distributions import MultivariateNormal\n",
    "\n",
    "import os\n",
    "# os.environ[\"CUDA_VISIBLE_DEVICES\"]=\"4\"\n",
    "\n",
    "import copy\n",
    "\n",
    "import tqdm\n",
    "\n",
    "from codes.utils.util import *\n",
    "from codes.drugcell_NN import *\n",
    "\n",
    "if torch.cuda.is_available():\n",
    "  DEVICE = 'cuda'\n",
    "else:\n",
    "  DEVICE = 'cpu'"
   ]
  },
  {
   "cell_type": "code",
   "execution_count": 3,
   "metadata": {},
   "outputs": [],
   "source": [
    "import plotly\n",
    "import plotly.express as px\n",
    "import plotly.io as pio\n",
    "\n",
    "from captum.attr import LayerIntegratedGradients\n",
    "from collections import defaultdict\n"
   ]
  },
  {
   "cell_type": "code",
   "execution_count": 4,
   "metadata": {},
   "outputs": [
    {
     "name": "stdout",
     "output_type": "stream",
     "text": [
      "Mon Nov 27 10:33:03 2023       \n",
      "+---------------------------------------------------------------------------------------+\n",
      "| NVIDIA-SMI 535.104.12             Driver Version: 535.104.12   CUDA Version: 12.2     |\n",
      "|-----------------------------------------+----------------------+----------------------+\n",
      "| GPU  Name                 Persistence-M | Bus-Id        Disp.A | Volatile Uncorr. ECC |\n",
      "| Fan  Temp   Perf          Pwr:Usage/Cap |         Memory-Usage | GPU-Util  Compute M. |\n",
      "|                                         |                      |               MIG M. |\n",
      "|=========================================+======================+======================|\n",
      "|   0  Tesla V100-SXM2-32GB           On  | 00000000:1A:00.0 Off |                    0 |\n",
      "| N/A   28C    P0              41W / 300W |      3MiB / 32768MiB |      0%      Default |\n",
      "|                                         |                      |                  N/A |\n",
      "+-----------------------------------------+----------------------+----------------------+\n",
      "|   1  Tesla V100-SXM2-32GB           On  | 00000000:1B:00.0 Off |                    0 |\n",
      "| N/A   30C    P0              42W / 300W |      3MiB / 32768MiB |      0%      Default |\n",
      "|                                         |                      |                  N/A |\n",
      "+-----------------------------------------+----------------------+----------------------+\n",
      "|   2  Tesla V100-SXM2-32GB           On  | 00000000:3D:00.0 Off |                    0 |\n",
      "| N/A   31C    P0              41W / 300W |      3MiB / 32768MiB |      0%      Default |\n",
      "|                                         |                      |                  N/A |\n",
      "+-----------------------------------------+----------------------+----------------------+\n",
      "|   3  Tesla V100-SXM2-32GB           On  | 00000000:3E:00.0 Off |                    0 |\n",
      "| N/A   26C    P0              41W / 300W |      3MiB / 32768MiB |      0%      Default |\n",
      "|                                         |                      |                  N/A |\n",
      "+-----------------------------------------+----------------------+----------------------+\n",
      "|   4  Tesla V100-SXM2-32GB           On  | 00000000:88:00.0 Off |                    0 |\n",
      "| N/A   26C    P0              41W / 300W |      3MiB / 32768MiB |      0%      Default |\n",
      "|                                         |                      |                  N/A |\n",
      "+-----------------------------------------+----------------------+----------------------+\n",
      "|   5  Tesla V100-SXM2-32GB           On  | 00000000:89:00.0 Off |                    0 |\n",
      "| N/A   31C    P0              42W / 300W |      3MiB / 32768MiB |      0%      Default |\n",
      "|                                         |                      |                  N/A |\n",
      "+-----------------------------------------+----------------------+----------------------+\n",
      "|   6  Tesla V100-SXM2-32GB           On  | 00000000:B2:00.0 Off |                    0 |\n",
      "| N/A   32C    P0              42W / 300W |      3MiB / 32768MiB |      0%      Default |\n",
      "|                                         |                      |                  N/A |\n",
      "+-----------------------------------------+----------------------+----------------------+\n",
      "|   7  Tesla V100-SXM2-32GB           On  | 00000000:B3:00.0 Off |                    0 |\n",
      "| N/A   28C    P0              41W / 300W |      3MiB / 32768MiB |      0%      Default |\n",
      "|                                         |                      |                  N/A |\n",
      "+-----------------------------------------+----------------------+----------------------+\n",
      "                                                                                         \n",
      "+---------------------------------------------------------------------------------------+\n",
      "| Processes:                                                                            |\n",
      "|  GPU   GI   CI        PID   Type   Process name                            GPU Memory |\n",
      "|        ID   ID                                                             Usage      |\n",
      "|=======================================================================================|\n",
      "|  No running processes found                                                           |\n",
      "+---------------------------------------------------------------------------------------+\n"
     ]
    }
   ],
   "source": [
    "!nvidia-smi"
   ]
  },
  {
   "cell_type": "code",
   "execution_count": 5,
   "metadata": {},
   "outputs": [],
   "source": [
    "DEVICE = 'cuda:7'"
   ]
  },
  {
   "cell_type": "markdown",
   "metadata": {},
   "source": [
    "# GO Term"
   ]
  },
  {
   "cell_type": "code",
   "execution_count": null,
   "metadata": {},
   "outputs": [],
   "source": []
  },
  {
   "cell_type": "markdown",
   "metadata": {},
   "source": [
    "# TCGA"
   ]
  },
  {
   "cell_type": "markdown",
   "metadata": {},
   "source": [
    "### Data loading"
   ]
  },
  {
   "cell_type": "code",
   "execution_count": 6,
   "metadata": {},
   "outputs": [
    {
     "name": "stdout",
     "output_type": "stream",
     "text": [
      "Total number of cell lines = 1225\n",
      "Total number of drugs = 684\n",
      "There are 3008 genes\n",
      "There are 1 roots: GO:0008150\n",
      "There are 2086 terms\n",
      "There are 1 connected componenets\n"
     ]
    }
   ],
   "source": [
    "training_file = \"data/drugcell_train.txt\"\n",
    "testing_file = \"data/drugcell_test.txt\"\n",
    "val_file = \"data/drugcell_val.txt\"\n",
    "cell2id_file = \"data/cell2ind.txt\"\n",
    "drug2id_file = \"data/drug2ind.txt\"\n",
    "genotype_file = \"data/cell2mutation.txt\"\n",
    "fingerprint_file = \"data/drug2fingerprint.txt\"\n",
    "onto_file = \"data/drugcell_ont.txt\"\n",
    "gene2id_file = \"data/gene2ind.txt\"\n",
    "\n",
    "train_data, feature_dict, cell2id_mapping, drug2id_mapping = prepare_train_data(training_file, \n",
    "                                                                  testing_file, cell2id_file, \n",
    "                                                                  drug2id_file)\n",
    "\n",
    "gene2id_mapping = load_mapping(gene2id_file)\n",
    "\n",
    "# load cell/drug features\n",
    "cell_features = np.genfromtxt(genotype_file, delimiter=',')\n",
    "drug_features = np.genfromtxt(fingerprint_file, delimiter=',')\n",
    "\n",
    "num_cells = len(cell2id_mapping)\n",
    "num_drugs = len(drug2id_mapping)\n",
    "num_genes = len(gene2id_mapping)\n",
    "drug_dim = len(drug_features[0,:])\n",
    "\n",
    "# load ontology\n",
    "dG, root, term_size_map, \\\n",
    "    term_direct_gene_map = load_ontology(onto_file, \n",
    "                                         gene2id_mapping)"
   ]
  },
  {
   "cell_type": "code",
   "execution_count": 7,
   "metadata": {},
   "outputs": [],
   "source": [
    "class RNASeqData(Dataset):\n",
    "    \n",
    "    def __init__(self, X, c=None, y=None, transform=None):\n",
    "        self.X = X\n",
    "        self.y = y\n",
    "        self.c = c\n",
    "        self.transform = transform\n",
    "        \n",
    "    def __len__(self):\n",
    "        return self.X.shape[0]\n",
    "    \n",
    "    def __getitem__(self, index):\n",
    "        sample = self.X[index,:]\n",
    "        \n",
    "        if self.transform is not None:\n",
    "            sample = self.transform(sample)\n",
    "        \n",
    "        if self.y is not None and self.c is None:\n",
    "            return sample, self.y[index]\n",
    "        elif self.y is not None and self.c is not None:\n",
    "            return sample, self.y[index], self.c[index]\n",
    "        elif self.y is None and self.c is not None:\n",
    "            return sample, self.c[index]\n",
    "        else:\n",
    "            return sample"
   ]
  },
  {
   "cell_type": "code",
   "execution_count": 8,
   "metadata": {},
   "outputs": [],
   "source": [
    "## expression and IHC data\n",
    "\n",
    "rna_seq = pd.read_csv('data/tcga/train_tcga_expression_matrix_processed.tsv',sep='\\t',index_col=0)\n",
    "tcga_mad_genes = pd.read_csv('data/tcga/tcga_mad_genes.tsv', sep='\\t')\n",
    "tcga_sample_counts = pd.read_csv('data/tcga/tcga_sample_counts.tsv', sep='\\t')\n",
    "tcga_sample_identifiers = pd.read_csv('data/tcga/tcga_sample_identifiers.tsv', sep='\\t',index_col=0)\n",
    "\n",
    "# rna_seq = rna_seq.loc[:,tcga_mad_genes.gene_id[:3000].apply(str)]\n",
    "rna_seq = rna_seq / rna_seq.std()\n",
    "rna_seq = np.log(rna_seq + 1)"
   ]
  },
  {
   "cell_type": "code",
   "execution_count": 9,
   "metadata": {},
   "outputs": [],
   "source": [
    "tcga_df = rna_seq\n",
    "gene_id_dict = pd.read_csv('data/tcga/gene_dict.csv')\n",
    "\n",
    "new_column = []\n",
    "for col_name in tcga_df.columns:\n",
    "    col_loc = (gene_id_dict.entrezgene_id == int(col_name))\n",
    "    if np.sum(col_loc) == 0:\n",
    "        tcga_df = tcga_df.drop(columns = col_name)\n",
    "    else:\n",
    "        new_column.append(gene_id_dict.hgnc_symbol[gene_id_dict.entrezgene_id == int(col_name)].iloc[0])\n",
    "        \n",
    "\n",
    "tcga_df.columns = new_column"
   ]
  },
  {
   "cell_type": "code",
   "execution_count": 10,
   "metadata": {},
   "outputs": [],
   "source": [
    "tcga_df.columns = new_column"
   ]
  },
  {
   "cell_type": "markdown",
   "metadata": {},
   "source": [
    "#### Create gene2ID for tcga"
   ]
  },
  {
   "cell_type": "code",
   "execution_count": 11,
   "metadata": {},
   "outputs": [],
   "source": [
    "tcga_gene2id = {}\n",
    "for idx, gene in enumerate(tcga_df.columns):\n",
    "    tcga_gene2id[gene] = idx"
   ]
  },
  {
   "cell_type": "markdown",
   "metadata": {},
   "source": [
    "#### Align gene id with tcga"
   ]
  },
  {
   "cell_type": "code",
   "execution_count": 12,
   "metadata": {},
   "outputs": [],
   "source": [
    "gene_intersect_list = list(set(gene2id_mapping.keys()) & set(tcga_df.columns))\n",
    "tcga_tensor = torch.zeros(tcga_df.shape[0], num_genes)\n",
    "\n",
    "for gene in gene_intersect_list:\n",
    "    idx = gene2id_mapping[gene]\n",
    "    tcga_tensor[:,idx] = torch.tensor(tcga_df[gene])"
   ]
  },
  {
   "cell_type": "code",
   "execution_count": 13,
   "metadata": {},
   "outputs": [],
   "source": [
    "cancer_2_idx = {}\n",
    "idx_2_cancer = {}\n",
    "cancer_type_idx = []\n",
    "cancer_type = tcga_sample_identifiers.loc[tcga_df.index, 'cancer_type']\n",
    "\n",
    "i = 0\n",
    "for cancer in cancer_type:\n",
    "    if cancer not in cancer_2_idx:\n",
    "        cancer_2_idx[cancer] = i\n",
    "        idx_2_cancer[i] = cancer\n",
    "        cancer_type_idx.append(i)\n",
    "        \n",
    "        i += 1\n",
    "    else:\n",
    "        cancer_type_idx.append(cancer_2_idx[cancer])\n",
    "\n",
    "y = torch.tensor(cancer_type_idx)"
   ]
  },
  {
   "cell_type": "code",
   "execution_count": 30,
   "metadata": {},
   "outputs": [],
   "source": [
    "torch.manual_seed(0)\n",
    "\n",
    "tcga_dataset = RNASeqData(X = tcga_tensor, y = y)\n",
    "training_set, testing_set = random_split(tcga_dataset, [0.7, 0.3])"
   ]
  },
  {
   "cell_type": "code",
   "execution_count": 15,
   "metadata": {},
   "outputs": [],
   "source": [
    "class dcell_vae(nn.Module):\n",
    "\n",
    "    def __init__(self, term_size_map, term_direct_gene_map, dG, ngene, root, \n",
    "                 num_hiddens_genotype, num_hiddens_final, n_class, inter_loss_penalty = 0.2):\n",
    "\n",
    "        super(dcell_vae, self).__init__()\n",
    "\n",
    "        self.root = root\n",
    "        self.num_hiddens_genotype = num_hiddens_genotype\n",
    "        self.num_hiddens_final = num_hiddens_final\n",
    "        self.n_class = n_class\n",
    "        self.inter_loss_penalty = inter_loss_penalty\n",
    "        self.dG = copy.deepcopy(dG)\n",
    "\n",
    "        # dictionary from terms to genes directly annotated with the term\n",
    "        self.term_direct_gene_map = term_direct_gene_map\n",
    "\n",
    "        self.term_visit_count = {}\n",
    "        self.init_term_visits(term_size_map)\n",
    "        \n",
    "        # calculate the number of values in a state (term): term_size_map is the number of all genes annotated with the term\n",
    "        self.term_dim_map = {}\n",
    "        self.cal_term_dim(term_size_map)\n",
    "\n",
    "        # ngenes, gene_dim are the number of all genes\n",
    "        self.gene_dim = ngene\n",
    "\n",
    "        # add modules for neural networks to process genotypes\n",
    "        self.contruct_direct_gene_layer()\n",
    "        self.construct_NN_graph(self.dG)\n",
    "\n",
    "        # add modules for final layer TODO: modify it into VAE\n",
    "        final_input_size = num_hiddens_genotype # + num_hiddens_drug[-1]\n",
    "        self.add_module('final_linear_layer', nn.Linear(final_input_size, num_hiddens_final * 2))\n",
    "        self.add_module('final_batchnorm_layer', nn.BatchNorm1d(num_hiddens_final * 2))\n",
    "        self.add_module('final_aux_linear_layer', nn.Linear(num_hiddens_final * 2, 1))\n",
    "        self.add_module('final_linear_layer_output', nn.Linear(1, 1))\n",
    "        \n",
    "        self.decoder_affine = nn.Linear(num_hiddens_final, n_class)\n",
    "\n",
    "    def init_term_visits(self, term_size_map):\n",
    "        \n",
    "        for term in term_size_map:\n",
    "            self.term_visit_count[term] = 0\n",
    "    \n",
    "    # calculate the number of values in a state (term)\n",
    "    def cal_term_dim(self, term_size_map):\n",
    "\n",
    "        for term, term_size in term_size_map.items():\n",
    "            num_output = self.num_hiddens_genotype\n",
    "\n",
    "            # log the number of hidden variables per each term\n",
    "            num_output = int(num_output)\n",
    "#            print(\"term\\t%s\\tterm_size\\t%d\\tnum_hiddens\\t%d\" % (term, term_size, num_output))\n",
    "            self.term_dim_map[term] = num_output\n",
    "\n",
    "\n",
    "    # build a layer for forwarding gene that are directly annotated with the term\n",
    "    def contruct_direct_gene_layer(self):\n",
    "\n",
    "        for term, gene_set in self.term_direct_gene_map.items():\n",
    "            if len(gene_set) == 0:\n",
    "                print('There are no directed asscoiated genes for', term)\n",
    "                sys.exit(1)\n",
    "\n",
    "            # if there are some genes directly annotated with the term, add a layer taking in all genes and forwarding out only those genes\n",
    "            self.add_module(term+'_direct_gene_layer', nn.Linear(self.gene_dim, len(gene_set)))\n",
    "\n",
    "    # start from bottom (leaves), and start building a neural network using the given ontology\n",
    "    # adding modules --- the modules are not connected yet\n",
    "    def construct_NN_graph(self, dG):\n",
    "\n",
    "        self.term_layer_list = []   # term_layer_list stores the built neural network\n",
    "        self.term_neighbor_map = {}\n",
    "\n",
    "        # term_neighbor_map records all children of each term\n",
    "        for term in dG.nodes():\n",
    "            self.term_neighbor_map[term] = []\n",
    "            for child in dG.neighbors(term):\n",
    "                self.term_neighbor_map[term].append(child)\n",
    "\n",
    "        while True:\n",
    "            leaves = [n for n in dG.nodes() if dG.out_degree(n) == 0]\n",
    "            #leaves = [n for n,d in dG.out_degree().items() if d==0]\n",
    "            #leaves = [n for n,d in dG.out_degree() if d==0]\n",
    "\n",
    "            if len(leaves) == 0:\n",
    "                break\n",
    "\n",
    "            self.term_layer_list.append(leaves)\n",
    "\n",
    "            for term in leaves:\n",
    "\n",
    "                # input size will be #chilren + #genes directly annotated by the term\n",
    "                input_size = 0\n",
    "\n",
    "                for child in self.term_neighbor_map[term]:\n",
    "                    input_size += self.term_dim_map[child]\n",
    "\n",
    "                if term in self.term_direct_gene_map:\n",
    "                    input_size += len(self.term_direct_gene_map[term])\n",
    "\n",
    "                # term_hidden is the number of the hidden variables in each state\n",
    "                term_hidden = self.term_dim_map[term]\n",
    "\n",
    "                self.add_module(term+'_linear_layer', nn.Linear(input_size, term_hidden))\n",
    "                self.add_module(term+'_batchnorm_layer', nn.BatchNorm1d(term_hidden))\n",
    "                self.add_module(term+'_aux_linear_layer1', nn.Linear(term_hidden, self.n_class))\n",
    "                self.add_module(term+'_aux_linear_layer2', nn.Linear(self.n_class, self.n_class))\n",
    "\n",
    "            dG.remove_nodes_from(leaves)\n",
    "\n",
    "\n",
    "    # definition of encoder\n",
    "    def encoder(self, x):\n",
    "        gene_input = x.narrow(1, 0, self.gene_dim)\n",
    "\n",
    "        # define forward function for genotype dcell #############################################\n",
    "        term_gene_out_map = {}\n",
    "\n",
    "        for term, _ in self.term_direct_gene_map.items():\n",
    "            term_gene_out_map[term] = self._modules[term + '_direct_gene_layer'](gene_input)\n",
    "\n",
    "        term_NN_out_map = {}\n",
    "        aux_out_map = {}\n",
    "\n",
    "        for i, layer in enumerate(self.term_layer_list):\n",
    "\n",
    "            for term in layer:\n",
    "\n",
    "                child_input_list = []\n",
    "\n",
    "                self.term_visit_count[term] += 1\n",
    "                \n",
    "                for child in self.term_neighbor_map[term]:\n",
    "                    child_input_list.append(term_NN_out_map[child])\n",
    "\n",
    "                if term in self.term_direct_gene_map:\n",
    "                    child_input_list.append(term_gene_out_map[term])\n",
    "\n",
    "                child_input = torch.cat(child_input_list,1)\n",
    "\n",
    "                term_NN_out = self._modules[term+'_linear_layer'](child_input)\n",
    "\n",
    "                Tanh_out = torch.tanh(term_NN_out)\n",
    "                term_NN_out_map[term] = self._modules[term+'_batchnorm_layer'](Tanh_out)\n",
    "                aux_layer1_out = torch.tanh(self._modules[term+'_aux_linear_layer1'](term_NN_out_map[term]))\n",
    "                aux_out_map[term] = self._modules[term+'_aux_linear_layer2'](aux_layer1_out)\n",
    "\n",
    "        # connect two neural networks at the top #################################################\n",
    "        final_input = term_NN_out_map[self.root] # torch.cat((term_NN_out_map[self.root], drug_out), 1)\n",
    "\n",
    "        out = self._modules['final_batchnorm_layer'](torch.tanh(self._modules['final_linear_layer'](final_input)))\n",
    "        term_NN_out_map['final'] = out\n",
    "\n",
    "        aux_layer_out = torch.tanh(self._modules['final_aux_linear_layer'](out))\n",
    "        aux_out_map['final'] = self._modules['final_linear_layer_output'](aux_layer_out)\n",
    "\n",
    "        return aux_out_map, term_NN_out_map\n",
    "    \n",
    "    def forward(self, x):\n",
    "        \n",
    "        aux_out_map, term_NN_out_map = self.encoder(x)\n",
    "        \n",
    "        mu = term_NN_out_map['final'][..., :self.num_hiddens_final]\n",
    "        log_var = term_NN_out_map['final'][..., :self.num_hiddens_final]  # T X batch X z_dim\n",
    "        std_dec = log_var.mul(0.5).exp_()\n",
    "        # std_dec = 1\n",
    "        \n",
    "        latent = MultivariateNormal(loc = mu, \n",
    "                                    scale_tril=torch.diag_embed(std_dec))\n",
    "        z = latent.rsample()\n",
    "        \n",
    "        recon_mean = self.decoder_affine(z)\n",
    "        logits = F.softmax(recon_mean, -1)\n",
    "\n",
    "        return logits #, mu, log_var, aux_out_map, term_NN_out_map\n",
    "    \n",
    "    def loss_log_vae(self, logits, y, mu, log_var, beta = 0.001):\n",
    "        # y: true labels\n",
    "        ori_y_shape = y.shape\n",
    "        \n",
    "        class_loss = F.cross_entropy(logits.view(-1, logits.shape[-1]), \n",
    "                                     y.reshape(-1), reduction = 'none').div(np.log(2)).view(*ori_y_shape)\n",
    "        \n",
    "        KLD = -0.5 * torch.sum(1 + log_var - mu.pow(2) - log_var.exp(), \n",
    "                              dim = -1)\n",
    "        \n",
    "        log_loss = class_loss + beta * KLD\n",
    "        log_loss = torch.mean(torch.logsumexp(log_loss, 0))\n",
    "        \n",
    "        return log_loss\n",
    "    \n",
    "    def intermediate_loss(self, aux_out_map, y):\n",
    "        \n",
    "        inter_loss = 0\n",
    "        for name, output in aux_out_map.items():\n",
    "            if name == 'final':\n",
    "                inter_loss += 0\n",
    "            else: # change 0.2 to smaller one for big terms\n",
    "                ori_y_shape = y.shape\n",
    "        \n",
    "                term_loss = F.cross_entropy(output.view(-1, output.shape[-1]), \n",
    "                                             y.reshape(-1), \n",
    "                                             reduction = 'none').div(np.log(2)).view(*ori_y_shape)\n",
    "                inter_loss += term_loss\n",
    "\n",
    "        return inter_loss"
   ]
  },
  {
   "cell_type": "code",
   "execution_count": 16,
   "metadata": {},
   "outputs": [],
   "source": [
    "model = torch.load(\"model_200.pt\", map_location=DEVICE)"
   ]
  },
  {
   "cell_type": "code",
   "execution_count": 101,
   "metadata": {},
   "outputs": [],
   "source": [
    "def prepare_node_edge(model, data, target = 0):\n",
    "    \n",
    "    ## Generate node list\n",
    "    layer_ig_dict = {}\n",
    "    node_label = []\n",
    "    node_col = []\n",
    "    node_level = []\n",
    "    node_x = []\n",
    "    node_y = []\n",
    "    \n",
    "    # Loop through each layer\n",
    "    for idx, leaves in enumerate(model.term_layer_list):\n",
    "        term_list = []\n",
    "        # add leaves in the layer to node list, with color, level and x axis for plot\n",
    "        node_label.extend(leaves)\n",
    "        node_col.extend([px.colors.qualitative.Plotly[idx]] * (len(leaves) + 1))\n",
    "        node_level.extend([idx] * (len(leaves) + 1))\n",
    "        node_x.extend([(idx )/len(model.term_layer_list)] * (len(leaves) + 1))\n",
    "        \n",
    "        # Prepare module list for LayerIG to explain the whole level at once\n",
    "        for idx_leaf, term in enumerate(leaves):\n",
    "            term_list.append(model._modules[term+'_linear_layer'])\n",
    "            node_y.append((idx_leaf)/(len(leaves) + 1))\n",
    "        \n",
    "        layer_ig_dict[idx] = LayerIntegratedGradients(model, term_list)\n",
    "\n",
    "        node_label.append('L' + str(idx) + '_other')\n",
    "        node_y.append((idx_leaf+1)/(len(leaves) + 1))\n",
    "    \n",
    "    node_id_label = {i: l for i, l in enumerate(node_label)}\n",
    "    node_label_id = {l: i for i, l in enumerate(node_label)}\n",
    "    \n",
    "    ## Generate edges\n",
    "    \n",
    "    line_col = np.array(['#eb675e', '#d6d6d6', '#3db1ff'])\n",
    "    \n",
    "    torch.manual_seed(0)\n",
    "    np.random.seed(0)\n",
    "\n",
    "    sankey_source = []\n",
    "    sankey_target = []\n",
    "    sankey_value = []\n",
    "    sankey_color = []\n",
    "    gene_attr_dict = {}\n",
    "\n",
    "    for idx, leaves in enumerate(model.term_layer_list[1:]):\n",
    "        # Explain the layer idx+1\n",
    "        layer_attr_list = layer_ig_dict[idx+1].attribute(data.to(DEVICE), target=target, \n",
    "                                    attribute_to_layer_input=True)\n",
    "        \n",
    "        for idx_term, term in tqdm.tqdm(enumerate(leaves), desc=\"Level\"+str(idx+1)):\n",
    "            # For each leaf at the layer, get its explanation and list of children\n",
    "            child_list_tmp = model.term_neighbor_map[term]\n",
    "            term_attr = layer_attr_list[idx_term].detach().cpu()\n",
    "            loc = 0\n",
    "            \n",
    "            # Loop through the list of children, for each child, find the location of the explanation\n",
    "            # Here, the child is sorted, and the length of vector for the child is defined in model.term_dim_map[child_tmp]\n",
    "            for child_tmp in child_list_tmp:\n",
    "                attr_child = term_attr[:, loc:(loc + model.term_dim_map[child_tmp])]\n",
    "                loc += model.term_dim_map[child_tmp]\n",
    "                \n",
    "                weight_child = attr_child.sum(dim=1).cpu().numpy()\n",
    "                \n",
    "                sankey_source.append(node_label_id[child_tmp])\n",
    "                sankey_target.append(node_label_id[term])\n",
    "                sankey_value.append(weight_child)\n",
    "                sankey_color.append(line_col[(np.sign(weight_child) + 1).astype('int')])\n",
    "\n",
    "            gene_attr_dict[term] = term_attr[:,loc:]\n",
    "\n",
    "    sankey_source = np.array(sankey_source)\n",
    "    sankey_target = np.array(sankey_target)\n",
    "    sankey_value = np.array(sankey_value)\n",
    "    sankey_color = np.array(sankey_color) \n",
    "    \n",
    "    ## Simplify the plot\n",
    "    \n",
    "    # sankey_value_id = np.copy(sankey_value[:,sample_id])\n",
    "    # sankey_source_id = np.copy(sankey_source)\n",
    "    # sankey_target_id = np.copy(sankey_target)\n",
    "    \n",
    "    # level_argsort = []\n",
    "    # for idx, leaves in enumerate(model.term_layer_list[:-1]):\n",
    "    #     tmp_leaves_total_attr = []\n",
    "    #     for term in leaves:\n",
    "    #         tmp_leaves_total_attr.append(np.sum(np.abs(sankey_value_id[sankey_source_id == node_label_id[term]])))\n",
    "    #     level_argsort.append(np.argsort(np.abs(tmp_leaves_total_attr)))  # index from smallest to largest\n",
    "\n",
    "    # for idx, pruned_leaves in enumerate(level_argsort):\n",
    "    #     for pruned_leaf_idx in pruned_leaves[:int((1-percent_keep[idx])*len(pruned_leaves))]:\n",
    "    #         term = model.term_layer_list[idx][pruned_leaf_idx]\n",
    "    #         sankey_source_id[sankey_source_id == node_label_id[term]] = node_label_id['L' + str(idx) + '_other']\n",
    "    #         sankey_target_id[sankey_target_id == node_label_id[term]] = node_label_id['L' + str(idx) + '_other']\n",
    "    \n",
    "    # def list_duplicates(seq):\n",
    "    #     tally = defaultdict(list)\n",
    "    #     for i,item in enumerate(seq):\n",
    "    #         tally[item].append(i)\n",
    "    #     return ((key,locs) for key,locs in tally.items() \n",
    "    #                             if len(locs)>1)\n",
    "\n",
    "    # loc_delete_list = []\n",
    "    # for pair, loc in list_duplicates(zip(sankey_source_id, sankey_target_id)):\n",
    "    #     total_attr = np.sum(sankey_value_id[loc])\n",
    "    #     sankey_value_id[loc] = total_attr\n",
    "    #     loc_delete_list.extend(loc[1:])\n",
    "\n",
    "    # sankey_source_id = np.delete(sankey_source_id, loc_delete_list)\n",
    "    # sankey_target_id = np.delete(sankey_target_id, loc_delete_list)\n",
    "    # sankey_value_id = np.delete(sankey_value_id, loc_delete_list)\n",
    "\n",
    "    # sankey_color = [line_col[int(term_sign + 1)] for term_sign in np.sign(sankey_value_id)]\n",
    "    \n",
    "    return sankey_value, sankey_source, sankey_target,\\\n",
    "        node_label_id, node_label, node_col, node_level"
   ]
  },
  {
   "cell_type": "code",
   "execution_count": 102,
   "metadata": {},
   "outputs": [],
   "source": [
    "def sankey_trimming(sankey_value, sankey_source, sankey_target, \n",
    "                    node_label_id,\n",
    "                    sample_id, \n",
    "                    percent_keep = [0.01, 0.02, 0.02, 0.02, 0.1]):\n",
    "    ## Simplify the plot\n",
    "        \n",
    "    line_col = np.array(['#eb675e', '#d6d6d6', '#3db1ff'])    \n",
    "\n",
    "    sankey_value_id = np.copy(sankey_value[:,sample_id])\n",
    "    sankey_source_id = np.copy(sankey_source)\n",
    "    sankey_target_id = np.copy(sankey_target)\n",
    "    \n",
    "    level_argsort = []\n",
    "    for idx, leaves in enumerate(model.term_layer_list[:-1]):\n",
    "        # For leaves in the layer, go through its edge values\n",
    "        # The iteration starts with the lowest level (finest), and we look at edges start with the leaf\n",
    "        # Then, the edges are ordered based on the absolute values of the edge values.\n",
    "        # sort is from smallest to the largest\n",
    "        tmp_leaves_total_attr = []\n",
    "        for term in leaves:\n",
    "            tmp_leaves_total_attr.append(np.sum(np.abs(sankey_value_id[sankey_source_id == node_label_id[term]])))\n",
    "        level_argsort.append(np.argsort(np.abs(tmp_leaves_total_attr)))  # index from smallest to largest\n",
    "\n",
    "    for idx, pruned_leaves in enumerate(level_argsort):\n",
    "        # Here, we rename the edges with the smallest values to other, level_argsort includes the index of source \n",
    "        # nodes ordered based on the value of edges.\n",
    "        # Both source and target will be renamed to other, then merged in the following steps.\n",
    "        for pruned_leaf_idx in pruned_leaves[:int((1-percent_keep[idx])*len(pruned_leaves))]:\n",
    "            term = model.term_layer_list[idx][pruned_leaf_idx]\n",
    "            sankey_source_id[sankey_source_id == node_label_id[term]] = node_label_id['L' + str(idx) + '_other']\n",
    "            sankey_target_id[sankey_target_id == node_label_id[term]] = node_label_id['L' + str(idx) + '_other']\n",
    "    \n",
    "    def list_duplicates(seq):\n",
    "        # Use this function to list duplicate pairs of source-target\n",
    "        tally = defaultdict(list)\n",
    "        for i,item in enumerate(seq):\n",
    "            tally[item].append(i)\n",
    "        return ((key,locs) for key,locs in tally.items() \n",
    "                                if len(locs)>1)\n",
    "\n",
    "    loc_delete_list = []\n",
    "    for pair, loc in list_duplicates(zip(sankey_source_id, sankey_target_id)):\n",
    "        # For each of the duplicated pair, assign the sum of edge value to all of them based on location, \n",
    "        # then remove all but the first duplicate pair\n",
    "        total_attr = np.sum(sankey_value_id[loc])\n",
    "        sankey_value_id[loc] = total_attr\n",
    "        loc_delete_list.extend(loc[1:])\n",
    "\n",
    "    sankey_source_id = np.delete(sankey_source_id, loc_delete_list)\n",
    "    sankey_target_id = np.delete(sankey_target_id, loc_delete_list)\n",
    "    sankey_value_id = np.delete(sankey_value_id, loc_delete_list)\n",
    "\n",
    "    sankey_color = [line_col[int(term_sign + 1)] for term_sign in np.sign(sankey_value_id)]\n",
    "    \n",
    "    return sankey_value_id, sankey_source_id, sankey_target_id"
   ]
  },
  {
   "cell_type": "code",
   "execution_count": 116,
   "metadata": {},
   "outputs": [],
   "source": [
    "def plot_sankey(sankey_value_id, sankey_source_id, sankey_target_id,\n",
    "                node_label, node_col, node_level,\n",
    "                filename:str = 'test',\n",
    "                renderers_default = \"vscode\", positive_flow = True,\n",
    "                font_size = 15):\n",
    "    \n",
    "    pio.renderers.default = renderers_default\n",
    "    \n",
    "    if positive_flow:\n",
    "        selected_edge_list = sankey_value_id >0\n",
    "        sankey_plot_value_id = np.copy(sankey_value_id[selected_edge_list])\n",
    "    else:\n",
    "        selected_edge_list = sankey_value_id <0\n",
    "        sankey_plot_value_id = -np.copy(sankey_value_id[selected_edge_list])\n",
    "\n",
    "    node_tmp_list = np.concatenate((sankey_source_id[selected_edge_list], \n",
    "                                    sankey_target_id[selected_edge_list]))\n",
    "    sankey_plot_source_id = np.copy(sankey_source_id[selected_edge_list])\n",
    "    sankey_plot_target_id = np.copy(sankey_target_id[selected_edge_list])\n",
    "    \n",
    "\n",
    "\n",
    "    level_counter = {idx:0 for idx in range(6)}\n",
    "    sankey_node_label = []\n",
    "    sankey_node_id = []\n",
    "    sankey_node_origin_id = []\n",
    "    sankey_node_col = []\n",
    "    sankey_node_x = []\n",
    "    sankey_node_y = []\n",
    "    sankey_node_level = []\n",
    "\n",
    "    id_current = 0\n",
    "    for node_index in node_tmp_list:\n",
    "        if node_index not in sankey_node_origin_id:\n",
    "            sankey_node_label.append(node_label[node_index])\n",
    "            sankey_node_id.append(id_current)\n",
    "            sankey_node_origin_id.append(node_index)\n",
    "            sankey_node_col.append(node_col[node_index])\n",
    "            sankey_node_level.append(node_level[node_index])\n",
    "            \n",
    "            sankey_plot_source_id[sankey_source_id[selected_edge_list] == node_index] = id_current\n",
    "            sankey_plot_target_id[sankey_target_id[selected_edge_list] == node_index] = id_current\n",
    "            \n",
    "            level_counter[node_level[node_index]] += 1\n",
    "            sankey_node_x.append(node_level[node_index]/(max(node_level) + 1))\n",
    "            sankey_node_y.append(level_counter[node_level[node_index]])\n",
    "            \n",
    "            id_current += 1\n",
    "\n",
    "    sankey_node_x = np.array(sankey_node_x).astype('float')\n",
    "    sankey_node_y = np.array(sankey_node_y).astype('float')\n",
    "    sankey_node_level = np.array(sankey_node_level).astype('float')\n",
    "    \n",
    "    for level in range(6):\n",
    "        sankey_node_y[sankey_node_level == level] = sankey_node_y[sankey_node_level == level]/np.max(sankey_node_y[sankey_node_level == level] )\n",
    "    sankey_node_y[-1] = 0.5\n",
    "    \n",
    "    fig = go.Figure(data=[go.Sankey(\n",
    "        arrangement = \"snap\",\n",
    "        node = dict(\n",
    "            pad = 15,\n",
    "            thickness = 20,\n",
    "            # line = dict(color = \"black\", width = 0.5),\n",
    "            label = sankey_node_label, #node_label,\n",
    "            color = sankey_node_col, #node_col,\n",
    "            # groups = node_groups,\n",
    "            x = sankey_node_x + 0.01,  #(np.array(node_x)+0.0001),\n",
    "            y = sankey_node_y - 0.01 # [0.2] * len(sankey_node_x.tolist())   # ,  #(np.array(node_y)+0.0001)\n",
    "            ),\n",
    "            link = dict(\n",
    "            source = sankey_plot_source_id, #, # np.array(sankey_source_id), # indices correspond to labels, eg A1, A2, A1, B1, ...\n",
    "            target = sankey_plot_target_id, # sankey_target_id,\n",
    "            value = sankey_plot_value_id,\n",
    "            # color = sankey_color\n",
    "            )\n",
    "        )])\n",
    "\n",
    "    fig.update_layout(font_size=font_size)\n",
    "    fig.write_html(filename + \".html\")\n",
    "    fig.show()\n",
    "    \n",
    "    return fig"
   ]
  },
  {
   "cell_type": "markdown",
   "metadata": {},
   "source": [
    "## Draw the plot"
   ]
  },
  {
   "cell_type": "code",
   "execution_count": 126,
   "metadata": {},
   "outputs": [],
   "source": [
    "torch.manual_seed(0)\n",
    "\n",
    "train_loader = DataLoader(training_set, batch_size=64, shuffle=True)\n",
    "test_loader = DataLoader(testing_set, batch_size=256, shuffle=False)\n",
    "data, labels = testing_set[0:]  # 256"
   ]
  },
  {
   "cell_type": "code",
   "execution_count": 127,
   "metadata": {},
   "outputs": [
    {
     "data": {
      "text/plain": [
       "torch.Size([2986])"
      ]
     },
     "execution_count": 127,
     "metadata": {},
     "output_type": "execute_result"
    }
   ],
   "source": [
    "labels.shape"
   ]
  },
  {
   "cell_type": "code",
   "execution_count": 128,
   "metadata": {},
   "outputs": [
    {
     "data": {
      "text/plain": [
       "[('ACC', 23),\n",
       " ('BLCA', 115),\n",
       " ('BRCA', 332),\n",
       " ('CESC', 90),\n",
       " ('CHOL', 11),\n",
       " ('COAD', 127),\n",
       " ('DLBC', 19),\n",
       " ('ESCA', 50),\n",
       " ('GBM', 39),\n",
       " ('HNSC', 155),\n",
       " ('KICH', 28),\n",
       " ('KIRC', 148),\n",
       " ('KIRP', 86),\n",
       " ('LAML', 44),\n",
       " ('LGG', 148),\n",
       " ('LIHC', 101),\n",
       " ('LUAD', 171),\n",
       " ('LUSC', 140),\n",
       " ('MESO', 28),\n",
       " ('OV', 83),\n",
       " ('PAAD', 58),\n",
       " ('PCPG', 55),\n",
       " ('PRAD', 138),\n",
       " ('READ', 49),\n",
       " ('SARC', 72),\n",
       " ('SKCM', 139),\n",
       " ('STAD', 112),\n",
       " ('TGCT', 48),\n",
       " ('THCA', 152),\n",
       " ('THYM', 36),\n",
       " ('UCEC', 160),\n",
       " ('UCS', 14),\n",
       " ('UVM', 15)]"
      ]
     },
     "execution_count": 128,
     "metadata": {},
     "output_type": "execute_result"
    }
   ],
   "source": [
    "labels_str = [idx_2_cancer[idx.item()] for idx in labels]\n",
    "(list(zip(*np.unique(labels_str, return_counts=True))))"
   ]
  },
  {
   "cell_type": "code",
   "execution_count": 22,
   "metadata": {},
   "outputs": [
    {
     "name": "stderr",
     "output_type": "stream",
     "text": [
      "/homes/ac.tfeng/miniconda3/envs/general/lib/python3.9/site-packages/captum/attr/_core/layer/layer_integrated_gradients.py:101: UserWarning: Multiple layers provided. Please ensure that each layer is**not** solely dependent on the outputs ofanother layer. Please refer to the documentation for moredetail.\n",
      "  warnings.warn(\n",
      "Level1: 357it [00:00, 3888.29it/s]\n",
      "Level2: 183it [00:00, 3721.94it/s]\n",
      "Level3: 115it [00:00, 3057.85it/s]\n",
      "Level4: 66it [00:00, 2991.04it/s]\n",
      "Level5: 1it [00:00, 76.81it/s]\n"
     ]
    }
   ],
   "source": [
    "sankey_value, sankey_source, sankey_target,\\\n",
    "        node_label_id, node_label, node_col, node_level\\\n",
    "                = prepare_node_edge(model, data, target=labels.to(DEVICE))"
   ]
  },
  {
   "cell_type": "code",
   "execution_count": 40,
   "metadata": {},
   "outputs": [],
   "source": [
    "sankey_value_id, sankey_source_id, sankey_target_id \\\n",
    "    = sankey_trimming(sankey_value, sankey_source, sankey_target, \n",
    "                    node_label_id,\n",
    "                    sample_id = 38, \n",
    "                    percent_keep = [0.02, 0.04, 0.04, 0.06, 0.1])"
   ]
  },
  {
   "cell_type": "code",
   "execution_count": 41,
   "metadata": {},
   "outputs": [
    {
     "data": {
      "application/vnd.plotly.v1+json": {
       "config": {
        "plotlyServerURL": "https://plot.ly"
       },
       "data": [
        {
         "arrangement": "snap",
         "link": {
          "source": [
           0,
           0,
           0,
           0,
           0,
           0,
           0,
           1,
           1,
           0,
           0,
           1,
           1,
           0,
           1,
           0,
           2,
           1,
           2,
           0,
           0,
           2,
           2,
           1,
           1,
           1,
           0,
           2,
           1,
           1,
           0,
           1,
           3,
           1,
           0,
           3,
           0,
           0,
           3,
           0,
           4,
           5,
           6,
           2,
           0,
           3,
           1,
           7,
           8,
           9,
           10,
           11,
           12,
           13,
           14,
           15,
           16,
           17,
           18,
           19,
           20,
           21,
           22,
           23,
           24,
           25,
           26,
           27,
           28,
           29,
           30,
           31,
           32,
           33,
           34,
           35,
           36,
           37,
           38,
           39,
           40,
           41,
           42,
           43,
           44,
           45,
           46,
           47
          ],
          "target": [
           1,
           4,
           11,
           28,
           29,
           30,
           32,
           2,
           6,
           48,
           15,
           16,
           49,
           49,
           50,
           3,
           3,
           10,
           10,
           10,
           13,
           13,
           14,
           24,
           26,
           40,
           40,
           40,
           5,
           7,
           9,
           9,
           9,
           19,
           19,
           21,
           31,
           51,
           51,
           52,
           53,
           53,
           53,
           53,
           53,
           53,
           53,
           53,
           53,
           53,
           53,
           53,
           53,
           53,
           53,
           53,
           53,
           53,
           53,
           53,
           53,
           53,
           53,
           53,
           53,
           53,
           53,
           53,
           53,
           53,
           53,
           53,
           53,
           53,
           53,
           53,
           53,
           53,
           53,
           53,
           53,
           53,
           53,
           53,
           53,
           53,
           53,
           53
          ],
          "value": [
           0.00979843743159584,
           0.0006597587640397959,
           0.0000747804844647595,
           0.001304718934087923,
           0.0005291781383684072,
           0.00024128174982982273,
           0.0018593336896075149,
           0.008639470516963727,
           0.0006046360108145183,
           0.0005217198787144447,
           0.00002824859965212138,
           0.001544812619942833,
           0.001074725462342876,
           0.0003406523584152379,
           0.0037855885536924126,
           0.0056848243969337625,
           0.0031845290361287026,
           0.00010948349295289981,
           0.0028062413875166495,
           0.0012795709176016252,
           0.00014138573942329088,
           0.001278457293664515,
           0.0008511748775820036,
           0.001684296992682971,
           0.001706828671682967,
           0.00013464211565582598,
           0.0008178676986123402,
           0.0014575826685871319,
           0.0018121975065772506,
           0.0013071739888277738,
           0.00132426561833268,
           0.00018764655446525886,
           0.000861138848791871,
           0.00014947866367474058,
           0.00012516372404471147,
           0.0010462256237504428,
           0.0005479326761041243,
           0.0003680976620723324,
           0.0006251771894354507,
           0.00025651352811281204,
           0.04239522934839168,
           0.04667661617197591,
           0.039853429278399646,
           0.07679779579181495,
           0.11072448402341983,
           0.3315586882650359,
           0.28473832294921003,
           0.11373349572904935,
           0.048081537443025645,
           0.1166642928695638,
           0.05952621509007207,
           0.03721989388585821,
           0.0432966570206684,
           0.050442200575565074,
           0.045704440210463194,
           0.050158470748258493,
           0.04442341633278397,
           0.028487524583424188,
           0.045693456876020166,
           0.06508841587172531,
           0.04449978973394356,
           0.1196447077601869,
           0.0370117193961816,
           0.02536968573422768,
           0.07907801675533971,
           0.03514331166480911,
           0.05125229013185316,
           0.04459150202231154,
           0.038128087087314425,
           0.0439302576541578,
           0.04272393845823075,
           0.08090340062320744,
           0.04278840767986886,
           0.030097662579588597,
           0.02434219307261487,
           0.043273106732335094,
           0.039278131104258575,
           0.058660399574228,
           0.027730135557849624,
           0.04338863688528427,
           0.04949329000304335,
           0.023874264545725953,
           0.13815329086791625,
           0.03845757867454018,
           0.03660438134570557,
           0.02525056414584106,
           0.024392913083008463,
           0.04189448778924444
          ]
         },
         "node": {
          "color": [
           "#636EFA",
           "#EF553B",
           "#00CC96",
           "#AB63FA",
           "#EF553B",
           "#FFA15A",
           "#00CC96",
           "#FFA15A",
           "#636EFA",
           "#FFA15A",
           "#AB63FA",
           "#EF553B",
           "#EF553B",
           "#AB63FA",
           "#AB63FA",
           "#00CC96",
           "#00CC96",
           "#636EFA",
           "#636EFA",
           "#FFA15A",
           "#636EFA",
           "#FFA15A",
           "#EF553B",
           "#636EFA",
           "#AB63FA",
           "#636EFA",
           "#AB63FA",
           "#00CC96",
           "#EF553B",
           "#EF553B",
           "#EF553B",
           "#FFA15A",
           "#EF553B",
           "#636EFA",
           "#636EFA",
           "#EF553B",
           "#00CC96",
           "#636EFA",
           "#636EFA",
           "#EF553B",
           "#AB63FA",
           "#636EFA",
           "#AB63FA",
           "#EF553B",
           "#636EFA",
           "#636EFA",
           "#636EFA",
           "#636EFA",
           "#00CC96",
           "#00CC96",
           "#00CC96",
           "#FFA15A",
           "#FFA15A",
           "#19D3F3"
          ],
          "label": [
           "L0_other",
           "L1_other",
           "L2_other",
           "L3_other",
           "GO:1901605",
           "L4_other",
           "GO:0006790",
           "GO:0006464",
           "GO:0022412",
           "GO:0009653",
           "GO:0001817",
           "GO:0008283",
           "GO:0001959",
           "GO:0031667",
           "GO:0007610",
           "GO:0002252",
           "GO:0009607",
           "GO:0050867",
           "GO:0051272",
           "GO:0006796",
           "GO:0006029",
           "GO:0006139",
           "GO:0006457",
           "GO:1901568",
           "GO:0044249",
           "GO:0006767",
           "GO:0016192",
           "GO:0035966",
           "GO:0007059",
           "GO:0050808",
           "GO:0051606",
           "GO:0009725",
           "GO:0050731",
           "GO:0010712",
           "GO:0010738",
           "GO:0016032",
           "GO:0060627",
           "GO:0030949",
           "GO:0090312",
           "GO:0031099",
           "GO:0044057",
           "GO:0032970",
           "GO:0034097",
           "GO:0071363",
           "GO:0043032",
           "GO:0043038",
           "GO:0045124",
           "GO:1902003",
           "GO:0017144",
           "GO:0048511",
           "GO:0090066",
           "GO:1902533",
           "GO:0044093",
           "GO:0008150"
          ],
          "pad": 15,
          "thickness": 20,
          "x": [
           0.01,
           0.17666666666666667,
           0.3433333333333333,
           0.51,
           0.17666666666666667,
           0.6766666666666666,
           0.3433333333333333,
           0.6766666666666666,
           0.01,
           0.6766666666666666,
           0.51,
           0.17666666666666667,
           0.17666666666666667,
           0.51,
           0.51,
           0.3433333333333333,
           0.3433333333333333,
           0.01,
           0.01,
           0.6766666666666666,
           0.01,
           0.6766666666666666,
           0.17666666666666667,
           0.01,
           0.51,
           0.01,
           0.51,
           0.3433333333333333,
           0.17666666666666667,
           0.17666666666666667,
           0.17666666666666667,
           0.6766666666666666,
           0.17666666666666667,
           0.01,
           0.01,
           0.17666666666666667,
           0.3433333333333333,
           0.01,
           0.01,
           0.17666666666666667,
           0.51,
           0.01,
           0.51,
           0.17666666666666667,
           0.01,
           0.01,
           0.01,
           0.01,
           0.3433333333333333,
           0.3433333333333333,
           0.3433333333333333,
           0.6766666666666666,
           0.6766666666666666,
           0.8433333333333334
          ],
          "y": [
           0.0525,
           0.07333333333333333,
           0.10111111111111111,
           0.115,
           0.15666666666666665,
           0.115,
           0.2122222222222222,
           0.24,
           0.115,
           0.365,
           0.24,
           0.24,
           0.3233333333333333,
           0.365,
           0.49,
           0.3233333333333333,
           0.4344444444444444,
           0.1775,
           0.24,
           0.49,
           0.3025,
           0.615,
           0.4066666666666667,
           0.365,
           0.615,
           0.4275,
           0.74,
           0.5455555555555556,
           0.49,
           0.5733333333333334,
           0.6566666666666666,
           0.74,
           0.74,
           0.49,
           0.5525,
           0.8233333333333334,
           0.6566666666666666,
           0.615,
           0.6775,
           0.9066666666666666,
           0.865,
           0.74,
           0.99,
           0.99,
           0.8025,
           0.865,
           0.9275,
           0.99,
           0.7677777777777778,
           0.8788888888888888,
           0.99,
           0.865,
           0.99,
           0.49
          ]
         },
         "type": "sankey"
        }
       ],
       "layout": {
        "font": {
         "size": 15
        },
        "template": {
         "data": {
          "bar": [
           {
            "error_x": {
             "color": "#2a3f5f"
            },
            "error_y": {
             "color": "#2a3f5f"
            },
            "marker": {
             "line": {
              "color": "#E5ECF6",
              "width": 0.5
             },
             "pattern": {
              "fillmode": "overlay",
              "size": 10,
              "solidity": 0.2
             }
            },
            "type": "bar"
           }
          ],
          "barpolar": [
           {
            "marker": {
             "line": {
              "color": "#E5ECF6",
              "width": 0.5
             },
             "pattern": {
              "fillmode": "overlay",
              "size": 10,
              "solidity": 0.2
             }
            },
            "type": "barpolar"
           }
          ],
          "carpet": [
           {
            "aaxis": {
             "endlinecolor": "#2a3f5f",
             "gridcolor": "white",
             "linecolor": "white",
             "minorgridcolor": "white",
             "startlinecolor": "#2a3f5f"
            },
            "baxis": {
             "endlinecolor": "#2a3f5f",
             "gridcolor": "white",
             "linecolor": "white",
             "minorgridcolor": "white",
             "startlinecolor": "#2a3f5f"
            },
            "type": "carpet"
           }
          ],
          "choropleth": [
           {
            "colorbar": {
             "outlinewidth": 0,
             "ticks": ""
            },
            "type": "choropleth"
           }
          ],
          "contour": [
           {
            "colorbar": {
             "outlinewidth": 0,
             "ticks": ""
            },
            "colorscale": [
             [
              0,
              "#0d0887"
             ],
             [
              0.1111111111111111,
              "#46039f"
             ],
             [
              0.2222222222222222,
              "#7201a8"
             ],
             [
              0.3333333333333333,
              "#9c179e"
             ],
             [
              0.4444444444444444,
              "#bd3786"
             ],
             [
              0.5555555555555556,
              "#d8576b"
             ],
             [
              0.6666666666666666,
              "#ed7953"
             ],
             [
              0.7777777777777778,
              "#fb9f3a"
             ],
             [
              0.8888888888888888,
              "#fdca26"
             ],
             [
              1,
              "#f0f921"
             ]
            ],
            "type": "contour"
           }
          ],
          "contourcarpet": [
           {
            "colorbar": {
             "outlinewidth": 0,
             "ticks": ""
            },
            "type": "contourcarpet"
           }
          ],
          "heatmap": [
           {
            "colorbar": {
             "outlinewidth": 0,
             "ticks": ""
            },
            "colorscale": [
             [
              0,
              "#0d0887"
             ],
             [
              0.1111111111111111,
              "#46039f"
             ],
             [
              0.2222222222222222,
              "#7201a8"
             ],
             [
              0.3333333333333333,
              "#9c179e"
             ],
             [
              0.4444444444444444,
              "#bd3786"
             ],
             [
              0.5555555555555556,
              "#d8576b"
             ],
             [
              0.6666666666666666,
              "#ed7953"
             ],
             [
              0.7777777777777778,
              "#fb9f3a"
             ],
             [
              0.8888888888888888,
              "#fdca26"
             ],
             [
              1,
              "#f0f921"
             ]
            ],
            "type": "heatmap"
           }
          ],
          "heatmapgl": [
           {
            "colorbar": {
             "outlinewidth": 0,
             "ticks": ""
            },
            "colorscale": [
             [
              0,
              "#0d0887"
             ],
             [
              0.1111111111111111,
              "#46039f"
             ],
             [
              0.2222222222222222,
              "#7201a8"
             ],
             [
              0.3333333333333333,
              "#9c179e"
             ],
             [
              0.4444444444444444,
              "#bd3786"
             ],
             [
              0.5555555555555556,
              "#d8576b"
             ],
             [
              0.6666666666666666,
              "#ed7953"
             ],
             [
              0.7777777777777778,
              "#fb9f3a"
             ],
             [
              0.8888888888888888,
              "#fdca26"
             ],
             [
              1,
              "#f0f921"
             ]
            ],
            "type": "heatmapgl"
           }
          ],
          "histogram": [
           {
            "marker": {
             "pattern": {
              "fillmode": "overlay",
              "size": 10,
              "solidity": 0.2
             }
            },
            "type": "histogram"
           }
          ],
          "histogram2d": [
           {
            "colorbar": {
             "outlinewidth": 0,
             "ticks": ""
            },
            "colorscale": [
             [
              0,
              "#0d0887"
             ],
             [
              0.1111111111111111,
              "#46039f"
             ],
             [
              0.2222222222222222,
              "#7201a8"
             ],
             [
              0.3333333333333333,
              "#9c179e"
             ],
             [
              0.4444444444444444,
              "#bd3786"
             ],
             [
              0.5555555555555556,
              "#d8576b"
             ],
             [
              0.6666666666666666,
              "#ed7953"
             ],
             [
              0.7777777777777778,
              "#fb9f3a"
             ],
             [
              0.8888888888888888,
              "#fdca26"
             ],
             [
              1,
              "#f0f921"
             ]
            ],
            "type": "histogram2d"
           }
          ],
          "histogram2dcontour": [
           {
            "colorbar": {
             "outlinewidth": 0,
             "ticks": ""
            },
            "colorscale": [
             [
              0,
              "#0d0887"
             ],
             [
              0.1111111111111111,
              "#46039f"
             ],
             [
              0.2222222222222222,
              "#7201a8"
             ],
             [
              0.3333333333333333,
              "#9c179e"
             ],
             [
              0.4444444444444444,
              "#bd3786"
             ],
             [
              0.5555555555555556,
              "#d8576b"
             ],
             [
              0.6666666666666666,
              "#ed7953"
             ],
             [
              0.7777777777777778,
              "#fb9f3a"
             ],
             [
              0.8888888888888888,
              "#fdca26"
             ],
             [
              1,
              "#f0f921"
             ]
            ],
            "type": "histogram2dcontour"
           }
          ],
          "mesh3d": [
           {
            "colorbar": {
             "outlinewidth": 0,
             "ticks": ""
            },
            "type": "mesh3d"
           }
          ],
          "parcoords": [
           {
            "line": {
             "colorbar": {
              "outlinewidth": 0,
              "ticks": ""
             }
            },
            "type": "parcoords"
           }
          ],
          "pie": [
           {
            "automargin": true,
            "type": "pie"
           }
          ],
          "scatter": [
           {
            "fillpattern": {
             "fillmode": "overlay",
             "size": 10,
             "solidity": 0.2
            },
            "type": "scatter"
           }
          ],
          "scatter3d": [
           {
            "line": {
             "colorbar": {
              "outlinewidth": 0,
              "ticks": ""
             }
            },
            "marker": {
             "colorbar": {
              "outlinewidth": 0,
              "ticks": ""
             }
            },
            "type": "scatter3d"
           }
          ],
          "scattercarpet": [
           {
            "marker": {
             "colorbar": {
              "outlinewidth": 0,
              "ticks": ""
             }
            },
            "type": "scattercarpet"
           }
          ],
          "scattergeo": [
           {
            "marker": {
             "colorbar": {
              "outlinewidth": 0,
              "ticks": ""
             }
            },
            "type": "scattergeo"
           }
          ],
          "scattergl": [
           {
            "marker": {
             "colorbar": {
              "outlinewidth": 0,
              "ticks": ""
             }
            },
            "type": "scattergl"
           }
          ],
          "scattermapbox": [
           {
            "marker": {
             "colorbar": {
              "outlinewidth": 0,
              "ticks": ""
             }
            },
            "type": "scattermapbox"
           }
          ],
          "scatterpolar": [
           {
            "marker": {
             "colorbar": {
              "outlinewidth": 0,
              "ticks": ""
             }
            },
            "type": "scatterpolar"
           }
          ],
          "scatterpolargl": [
           {
            "marker": {
             "colorbar": {
              "outlinewidth": 0,
              "ticks": ""
             }
            },
            "type": "scatterpolargl"
           }
          ],
          "scatterternary": [
           {
            "marker": {
             "colorbar": {
              "outlinewidth": 0,
              "ticks": ""
             }
            },
            "type": "scatterternary"
           }
          ],
          "surface": [
           {
            "colorbar": {
             "outlinewidth": 0,
             "ticks": ""
            },
            "colorscale": [
             [
              0,
              "#0d0887"
             ],
             [
              0.1111111111111111,
              "#46039f"
             ],
             [
              0.2222222222222222,
              "#7201a8"
             ],
             [
              0.3333333333333333,
              "#9c179e"
             ],
             [
              0.4444444444444444,
              "#bd3786"
             ],
             [
              0.5555555555555556,
              "#d8576b"
             ],
             [
              0.6666666666666666,
              "#ed7953"
             ],
             [
              0.7777777777777778,
              "#fb9f3a"
             ],
             [
              0.8888888888888888,
              "#fdca26"
             ],
             [
              1,
              "#f0f921"
             ]
            ],
            "type": "surface"
           }
          ],
          "table": [
           {
            "cells": {
             "fill": {
              "color": "#EBF0F8"
             },
             "line": {
              "color": "white"
             }
            },
            "header": {
             "fill": {
              "color": "#C8D4E3"
             },
             "line": {
              "color": "white"
             }
            },
            "type": "table"
           }
          ]
         },
         "layout": {
          "annotationdefaults": {
           "arrowcolor": "#2a3f5f",
           "arrowhead": 0,
           "arrowwidth": 1
          },
          "autotypenumbers": "strict",
          "coloraxis": {
           "colorbar": {
            "outlinewidth": 0,
            "ticks": ""
           }
          },
          "colorscale": {
           "diverging": [
            [
             0,
             "#8e0152"
            ],
            [
             0.1,
             "#c51b7d"
            ],
            [
             0.2,
             "#de77ae"
            ],
            [
             0.3,
             "#f1b6da"
            ],
            [
             0.4,
             "#fde0ef"
            ],
            [
             0.5,
             "#f7f7f7"
            ],
            [
             0.6,
             "#e6f5d0"
            ],
            [
             0.7,
             "#b8e186"
            ],
            [
             0.8,
             "#7fbc41"
            ],
            [
             0.9,
             "#4d9221"
            ],
            [
             1,
             "#276419"
            ]
           ],
           "sequential": [
            [
             0,
             "#0d0887"
            ],
            [
             0.1111111111111111,
             "#46039f"
            ],
            [
             0.2222222222222222,
             "#7201a8"
            ],
            [
             0.3333333333333333,
             "#9c179e"
            ],
            [
             0.4444444444444444,
             "#bd3786"
            ],
            [
             0.5555555555555556,
             "#d8576b"
            ],
            [
             0.6666666666666666,
             "#ed7953"
            ],
            [
             0.7777777777777778,
             "#fb9f3a"
            ],
            [
             0.8888888888888888,
             "#fdca26"
            ],
            [
             1,
             "#f0f921"
            ]
           ],
           "sequentialminus": [
            [
             0,
             "#0d0887"
            ],
            [
             0.1111111111111111,
             "#46039f"
            ],
            [
             0.2222222222222222,
             "#7201a8"
            ],
            [
             0.3333333333333333,
             "#9c179e"
            ],
            [
             0.4444444444444444,
             "#bd3786"
            ],
            [
             0.5555555555555556,
             "#d8576b"
            ],
            [
             0.6666666666666666,
             "#ed7953"
            ],
            [
             0.7777777777777778,
             "#fb9f3a"
            ],
            [
             0.8888888888888888,
             "#fdca26"
            ],
            [
             1,
             "#f0f921"
            ]
           ]
          },
          "colorway": [
           "#636efa",
           "#EF553B",
           "#00cc96",
           "#ab63fa",
           "#FFA15A",
           "#19d3f3",
           "#FF6692",
           "#B6E880",
           "#FF97FF",
           "#FECB52"
          ],
          "font": {
           "color": "#2a3f5f"
          },
          "geo": {
           "bgcolor": "white",
           "lakecolor": "white",
           "landcolor": "#E5ECF6",
           "showlakes": true,
           "showland": true,
           "subunitcolor": "white"
          },
          "hoverlabel": {
           "align": "left"
          },
          "hovermode": "closest",
          "mapbox": {
           "style": "light"
          },
          "paper_bgcolor": "white",
          "plot_bgcolor": "#E5ECF6",
          "polar": {
           "angularaxis": {
            "gridcolor": "white",
            "linecolor": "white",
            "ticks": ""
           },
           "bgcolor": "#E5ECF6",
           "radialaxis": {
            "gridcolor": "white",
            "linecolor": "white",
            "ticks": ""
           }
          },
          "scene": {
           "xaxis": {
            "backgroundcolor": "#E5ECF6",
            "gridcolor": "white",
            "gridwidth": 2,
            "linecolor": "white",
            "showbackground": true,
            "ticks": "",
            "zerolinecolor": "white"
           },
           "yaxis": {
            "backgroundcolor": "#E5ECF6",
            "gridcolor": "white",
            "gridwidth": 2,
            "linecolor": "white",
            "showbackground": true,
            "ticks": "",
            "zerolinecolor": "white"
           },
           "zaxis": {
            "backgroundcolor": "#E5ECF6",
            "gridcolor": "white",
            "gridwidth": 2,
            "linecolor": "white",
            "showbackground": true,
            "ticks": "",
            "zerolinecolor": "white"
           }
          },
          "shapedefaults": {
           "line": {
            "color": "#2a3f5f"
           }
          },
          "ternary": {
           "aaxis": {
            "gridcolor": "white",
            "linecolor": "white",
            "ticks": ""
           },
           "baxis": {
            "gridcolor": "white",
            "linecolor": "white",
            "ticks": ""
           },
           "bgcolor": "#E5ECF6",
           "caxis": {
            "gridcolor": "white",
            "linecolor": "white",
            "ticks": ""
           }
          },
          "title": {
           "x": 0.05
          },
          "xaxis": {
           "automargin": true,
           "gridcolor": "white",
           "linecolor": "white",
           "ticks": "",
           "title": {
            "standoff": 15
           },
           "zerolinecolor": "white",
           "zerolinewidth": 2
          },
          "yaxis": {
           "automargin": true,
           "gridcolor": "white",
           "linecolor": "white",
           "ticks": "",
           "title": {
            "standoff": 15
           },
           "zerolinecolor": "white",
           "zerolinewidth": 2
          }
         }
        }
       }
      }
     },
     "metadata": {},
     "output_type": "display_data"
    }
   ],
   "source": [
    "tmp = plot_sankey(sankey_value_id, sankey_source_id, sankey_target_id,\n",
    "                node_label, node_col, node_level)"
   ]
  },
  {
   "cell_type": "code",
   "execution_count": 48,
   "metadata": {},
   "outputs": [
    {
     "data": {
      "text/plain": [
       "['GO:0014068',\n",
       " 'GO:0043123',\n",
       " 'GO:0043410',\n",
       " 'GO:0043950',\n",
       " 'GO:0050850',\n",
       " 'GO:0051897',\n",
       " 'GO:0070304',\n",
       " 'GO:1901224',\n",
       " 'GO:2001244',\n",
       " 'GO:0046579']"
      ]
     },
     "execution_count": 48,
     "metadata": {},
     "output_type": "execute_result"
    }
   ],
   "source": [
    "model.term_neighbor_map['GO:1902533']"
   ]
  },
  {
   "cell_type": "markdown",
   "metadata": {},
   "source": [
    "### At disease level"
   ]
  },
  {
   "cell_type": "code",
   "execution_count": 150,
   "metadata": {},
   "outputs": [
    {
     "data": {
      "text/plain": [
       "torch.Size([83, 3008])"
      ]
     },
     "execution_count": 150,
     "metadata": {},
     "output_type": "execute_result"
    }
   ],
   "source": [
    "test_data, test_labels = testing_set[0:]\n",
    "labels_str = [idx_2_cancer[idx.item()] for idx in test_labels]\n",
    "data_ov, labels_ov = testing_set[np.nonzero(np.array(labels_str) == 'OV')[0].tolist()]\n",
    "\n",
    "data_brca, labels_brca = testing_set[np.nonzero(np.array(labels_str) == 'BRCA')[0].tolist()]\n",
    "\n"
   ]
  },
  {
   "cell_type": "code",
   "execution_count": 232,
   "metadata": {},
   "outputs": [
    {
     "data": {
      "text/plain": [
       "[('ACC', 2),\n",
       " ('BLCA', 16),\n",
       " ('BRCA', 27),\n",
       " ('CESC', 10),\n",
       " ('CHOL', 1),\n",
       " ('COAD', 18),\n",
       " ('DLBC', 1),\n",
       " ('ESCA', 2),\n",
       " ('GBM', 3),\n",
       " ('HNSC', 12),\n",
       " ('KICH', 1),\n",
       " ('KIRC', 15),\n",
       " ('KIRP', 7),\n",
       " ('LAML', 3),\n",
       " ('LGG', 16),\n",
       " ('LIHC', 4),\n",
       " ('LUAD', 20),\n",
       " ('LUSC', 7),\n",
       " ('MESO', 5),\n",
       " ('OV', 90),\n",
       " ('PAAD', 5),\n",
       " ('PCPG', 5),\n",
       " ('PRAD', 11),\n",
       " ('READ', 4),\n",
       " ('SARC', 12),\n",
       " ('SKCM', 11),\n",
       " ('STAD', 10),\n",
       " ('TGCT', 4),\n",
       " ('THCA', 11),\n",
       " ('THYM', 4),\n",
       " ('UCEC', 22),\n",
       " ('UVM', 4)]"
      ]
     },
     "execution_count": 232,
     "metadata": {},
     "output_type": "execute_result"
    }
   ],
   "source": [
    "(inputdata, labels) = testing_set[:280]\n",
    "inputdata = torch.cat((inputdata, data_ov))\n",
    "labels = torch.cat((labels, labels_ov))\n",
    "\n",
    "labels_str = [idx_2_cancer[idx.item()] for idx in labels]\n",
    "list(zip(*np.unique(labels_str, return_counts=True)))"
   ]
  },
  {
   "cell_type": "code",
   "execution_count": 233,
   "metadata": {},
   "outputs": [],
   "source": [
    "torch.manual_seed(0)\n",
    "logits = model(inputdata.to(DEVICE))"
   ]
  },
  {
   "cell_type": "code",
   "execution_count": 235,
   "metadata": {},
   "outputs": [
    {
     "data": {
      "text/plain": [
       "tensor(0.8843)"
      ]
     },
     "execution_count": 235,
     "metadata": {},
     "output_type": "execute_result"
    }
   ],
   "source": [
    "pred_res = torch.argmax(logits, 1).cpu() == labels\n",
    "torch.sum(pred_res)/len(labels)"
   ]
  },
  {
   "cell_type": "code",
   "execution_count": 236,
   "metadata": {},
   "outputs": [],
   "source": [
    "accu_per_type = {}\n",
    "\n",
    "for cancer_type in range(33):\n",
    "    accu_per_type[idx_2_cancer[cancer_type]] = (pred_res[labels == cancer_type]).float().mean().item()"
   ]
  },
  {
   "cell_type": "code",
   "execution_count": 237,
   "metadata": {},
   "outputs": [
    {
     "data": {
      "text/plain": [
       "{'BRCA': 1.0,\n",
       " 'LUAD': 0.75,\n",
       " 'DLBC': 0.0,\n",
       " 'UCEC': 0.8636363744735718,\n",
       " 'SKCM': 1.0,\n",
       " 'PRAD': 1.0,\n",
       " 'HNSC': 1.0,\n",
       " 'KIRP': 0.7142857313156128,\n",
       " 'CESC': 0.0,\n",
       " 'THCA': 1.0,\n",
       " 'KIRC': 1.0,\n",
       " 'STAD': 1.0,\n",
       " 'COAD': 0.9444444179534912,\n",
       " 'READ': 0.0,\n",
       " 'LGG': 1.0,\n",
       " 'MESO': 0.0,\n",
       " 'LAML': 1.0,\n",
       " 'BLCA': 0.9375,\n",
       " 'OV': 0.9888888597488403,\n",
       " 'LUSC': 1.0,\n",
       " 'ACC': 0.0,\n",
       " 'THYM': 1.0,\n",
       " 'ESCA': 1.0,\n",
       " 'PAAD': 0.800000011920929,\n",
       " 'LIHC': 1.0,\n",
       " 'SARC': 1.0,\n",
       " 'GBM': 1.0,\n",
       " 'TGCT': 1.0,\n",
       " 'KICH': 0.0,\n",
       " 'PCPG': 1.0,\n",
       " 'UCS': nan,\n",
       " 'UVM': 0.0,\n",
       " 'CHOL': 0.0}"
      ]
     },
     "execution_count": 237,
     "metadata": {},
     "output_type": "execute_result"
    }
   ],
   "source": [
    "accu_per_type"
   ]
  },
  {
   "cell_type": "code",
   "execution_count": 238,
   "metadata": {},
   "outputs": [
    {
     "name": "stderr",
     "output_type": "stream",
     "text": [
      "/homes/ac.tfeng/miniconda3/envs/general/lib/python3.9/site-packages/captum/attr/_core/layer/layer_integrated_gradients.py:101: UserWarning:\n",
      "\n",
      "Multiple layers provided. Please ensure that each layer is**not** solely dependent on the outputs ofanother layer. Please refer to the documentation for moredetail.\n",
      "\n",
      "Level1: 357it [00:00, 4890.51it/s]\n",
      "Level2: 183it [00:00, 3067.79it/s]\n",
      "Level3: 115it [00:00, 2604.65it/s]\n",
      "Level4: 66it [00:00, 2048.64it/s]\n",
      "Level5: 1it [00:00, 52.78it/s]\n"
     ]
    }
   ],
   "source": [
    "sankey_value, sankey_source, sankey_target, \\\n",
    "        node_label_id, node_label, node_col, node_level\\\n",
    "                = prepare_node_edge(model, inputdata, target=labels.to(DEVICE))"
   ]
  },
  {
   "cell_type": "code",
   "execution_count": 239,
   "metadata": {},
   "outputs": [
    {
     "data": {
      "text/plain": [
       "(3167, 90)"
      ]
     },
     "execution_count": 239,
     "metadata": {},
     "output_type": "execute_result"
    }
   ],
   "source": [
    "sankey_value[:, labels == 18].shape"
   ]
  },
  {
   "cell_type": "code",
   "execution_count": 240,
   "metadata": {},
   "outputs": [
    {
     "data": {
      "text/plain": [
       "'GO:0009725'"
      ]
     },
     "execution_count": 240,
     "metadata": {},
     "output_type": "execute_result"
    }
   ],
   "source": [
    "node_label[2068]"
   ]
  },
  {
   "cell_type": "code",
   "execution_count": 241,
   "metadata": {},
   "outputs": [
    {
     "data": {
      "text/plain": [
       "2068"
      ]
     },
     "execution_count": 241,
     "metadata": {},
     "output_type": "execute_result"
    }
   ],
   "source": [
    "sankey_source[2984]"
   ]
  },
  {
   "cell_type": "code",
   "execution_count": 242,
   "metadata": {},
   "outputs": [
    {
     "data": {
      "text/plain": [
       "2090"
      ]
     },
     "execution_count": 242,
     "metadata": {},
     "output_type": "execute_result"
    }
   ],
   "source": [
    "sankey_target[2984]"
   ]
  },
  {
   "cell_type": "code",
   "execution_count": 243,
   "metadata": {},
   "outputs": [
    {
     "data": {
      "text/plain": [
       "'GO:0008150'"
      ]
     },
     "execution_count": 243,
     "metadata": {},
     "output_type": "execute_result"
    }
   ],
   "source": [
    "node_label[2090]"
   ]
  },
  {
   "cell_type": "code",
   "execution_count": 244,
   "metadata": {},
   "outputs": [
    {
     "data": {
      "text/plain": [
       "0.012110865949486897"
      ]
     },
     "execution_count": 244,
     "metadata": {},
     "output_type": "execute_result"
    }
   ],
   "source": [
    "sankey_value[2984,:].mean()"
   ]
  },
  {
   "cell_type": "code",
   "execution_count": 245,
   "metadata": {},
   "outputs": [
    {
     "data": {
      "text/plain": [
       "18"
      ]
     },
     "execution_count": 245,
     "metadata": {},
     "output_type": "execute_result"
    }
   ],
   "source": [
    "cancer_2_idx['OV']"
   ]
  },
  {
   "cell_type": "code",
   "execution_count": 246,
   "metadata": {},
   "outputs": [],
   "source": [
    "sankey_value_id_ov, sankey_source_id_ov, sankey_target_id_ov\\\n",
    "    = sankey_trimming(sankey_value[:, labels == cancer_2_idx['OV']].mean(axis=1, keepdims=True), \n",
    "                      sankey_source, sankey_target, \n",
    "                    node_label_id, \n",
    "                    sample_id = 0, \n",
    "                    percent_keep = [0.015, 0.03, 0.07, 0.1, 0.2])"
   ]
  },
  {
   "cell_type": "code",
   "execution_count": 247,
   "metadata": {},
   "outputs": [
    {
     "data": {
      "application/vnd.plotly.v1+json": {
       "config": {
        "plotlyServerURL": "https://plot.ly"
       },
       "data": [
        {
         "arrangement": "snap",
         "link": {
          "source": [
           0,
           1,
           0,
           0,
           0,
           2,
           0,
           0,
           2,
           2,
           0,
           0,
           2,
           0,
           2,
           2,
           0,
           2,
           0,
           3,
           0,
           0,
           2,
           0,
           3,
           2,
           2,
           0,
           0,
           3,
           0,
           0,
           3,
           2,
           3,
           3,
           0,
           2,
           2,
           2,
           4,
           0,
           2,
           0,
           0,
           2,
           2,
           0,
           4,
           2,
           0,
           4,
           3,
           2,
           5,
           3,
           0,
           4,
           6,
           7,
           8,
           9,
           10,
           11,
           12,
           13,
           14,
           15,
           16,
           17,
           18,
           19,
           20,
           21,
           22,
           23,
           24,
           25,
           26,
           27,
           28,
           29,
           30,
           31,
           32,
           33,
           34,
           35,
           36,
           37,
           38,
           39,
           40,
           41,
           42,
           43,
           44,
           45,
           46,
           47,
           48,
           49,
           50,
           51,
           52,
           53,
           54,
           55
          ],
          "target": [
           56,
           2,
           57,
           42,
           43,
           58,
           58,
           14,
           16,
           17,
           26,
           59,
           60,
           60,
           44,
           61,
           48,
           49,
           4,
           4,
           62,
           11,
           13,
           13,
           19,
           19,
           27,
           27,
           30,
           34,
           34,
           40,
           40,
           50,
           50,
           51,
           5,
           5,
           6,
           7,
           7,
           9,
           9,
           15,
           22,
           23,
           25,
           25,
           32,
           32,
           63,
           39,
           39,
           64,
           64,
           64,
           64,
           64,
           64,
           64,
           64,
           64,
           64,
           64,
           64,
           64,
           64,
           64,
           64,
           64,
           64,
           64,
           64,
           64,
           64,
           64,
           64,
           64,
           64,
           64,
           64,
           64,
           64,
           64,
           64,
           64,
           64,
           64,
           64,
           64,
           64,
           64,
           64,
           64,
           64,
           64,
           64,
           64,
           64,
           64,
           64,
           64,
           64,
           64,
           64,
           64,
           64,
           64
          ],
          "value": [
           0.0014792665968221543,
           0.011076813737126654,
           0.0004496288311234559,
           0.0035533339721200265,
           0.0004839486032086102,
           0.000616528725866472,
           0.00036387202777509635,
           0.000021864634747063307,
           0.0008953763678332934,
           0.0013970713740499492,
           0.0006623907825361802,
           0.0006805919405712493,
           0.0004106083805677893,
           0.0005974524180970308,
           0.00009112022178962441,
           0.0010232797412637067,
           0.001036595828300494,
           0.000616527743321399,
           0.002371350334516421,
           0.019387948172172584,
           0.0000760263935705682,
           0.0003225432724280429,
           0.0002825383977899962,
           0.000088506587962331,
           0.002717148290429814,
           0.0005134531811617206,
           0.0001565004159812815,
           0.0002950059067465239,
           0.0004979524988919681,
           0.0019317401883752654,
           0.0010319179901563632,
           0.0005630500412277901,
           0.002525631504099433,
           0.0003132377664182467,
           0.004104795177157517,
           0.0009282378135595706,
           0.005616554053645131,
           0.0033978804332229504,
           0.00013797976164161709,
           0.0015644690994382955,
           0.002476407206888419,
           0.0003034249806190877,
           0.0011767596294247407,
           0.0005397675910013767,
           0.0017997391254193345,
           0.0011810686656276365,
           0.003575024853281379,
           0.002346753485455917,
           0.004127002128314031,
           0.00004371574815371882,
           0.0028790258105445554,
           0.0022705365961795993,
           0.00010028750285245885,
           0.14214252393058108,
           0.005105860562891857,
           0.027017819296223034,
           0.08912788594591914,
           0.1277510213113374,
           0.01784186283396857,
           0.06529637691377843,
           0.020444745716333527,
           0.0387134086407137,
           0.021291969875003387,
           0.02229474016609133,
           0.012986863451689569,
           0.018546543182026948,
           0.02778615108828341,
           0.019311857577087928,
           0.013992593051905653,
           0.025545218137294066,
           0.018649675770597042,
           0.014239000187634646,
           0.011454282225401574,
           0.01429457320526964,
           0.03152287619740083,
           0.030984363157227877,
           0.013876580416573575,
           0.04804960418482904,
           0.010142598629098961,
           0.02256139811428691,
           0.013000872231347283,
           0.011311148116475671,
           0.03559095723079625,
           0.016444724848054437,
           0.0236777040192319,
           0.019425698312259383,
           0.016950770637194818,
           0.01012948785560787,
           0.020342657808806477,
           0.020977551497028707,
           0.017704726234162502,
           0.03692314390954117,
           0.01641938374286562,
           0.012206334689209002,
           0.012995050616099747,
           0.03043258321122106,
           0.017438217570804476,
           0.01035181778663635,
           0.015500264841755892,
           0.016077934693454626,
           0.012439752198147021,
           0.013455063570729979,
           0.051944081617508873,
           0.015287861258816824,
           0.015451777879777024,
           0.014432517680031988,
           0.013742526038283633,
           0.010231409092944486
          ]
         },
         "node": {
          "color": [
           "#636EFA",
           "#636EFA",
           "#EF553B",
           "#00CC96",
           "#AB63FA",
           "#FFA15A",
           "#FFA15A",
           "#FFA15A",
           "#636EFA",
           "#FFA15A",
           "#EF553B",
           "#AB63FA",
           "#636EFA",
           "#AB63FA",
           "#00CC96",
           "#FFA15A",
           "#00CC96",
           "#00CC96",
           "#636EFA",
           "#AB63FA",
           "#636EFA",
           "#636EFA",
           "#FFA15A",
           "#FFA15A",
           "#636EFA",
           "#FFA15A",
           "#00CC96",
           "#AB63FA",
           "#636EFA",
           "#636EFA",
           "#AB63FA",
           "#636EFA",
           "#FFA15A",
           "#AB63FA",
           "#AB63FA",
           "#636EFA",
           "#FFA15A",
           "#EF553B",
           "#EF553B",
           "#FFA15A",
           "#AB63FA",
           "#636EFA",
           "#EF553B",
           "#EF553B",
           "#00CC96",
           "#636EFA",
           "#636EFA",
           "#EF553B",
           "#00CC96",
           "#00CC96",
           "#AB63FA",
           "#AB63FA",
           "#EF553B",
           "#EF553B",
           "#636EFA",
           "#636EFA",
           "#EF553B",
           "#EF553B",
           "#00CC96",
           "#00CC96",
           "#00CC96",
           "#00CC96",
           "#AB63FA",
           "#FFA15A",
           "#19D3F3"
          ],
          "label": [
           "L0_other",
           "GO:0000122",
           "L1_other",
           "L2_other",
           "L3_other",
           "L4_other",
           "GO:0044703",
           "GO:0006464",
           "GO:0022412",
           "GO:0009653",
           "GO:0008283",
           "GO:0031667",
           "GO:0016445",
           "GO:0007610",
           "GO:0002252",
           "GO:0050778",
           "GO:0010467",
           "GO:0009607",
           "GO:0002474",
           "GO:0002697",
           "GO:0050867",
           "GO:0051272",
           "GO:0042127",
           "GO:0006796",
           "GO:0006029",
           "GO:0006139",
           "GO:0062012",
           "GO:1901576",
           "GO:0007041",
           "GO:1901568",
           "GO:0044249",
           "GO:0006767",
           "GO:0006811",
           "GO:0016192",
           "GO:0048609",
           "GO:0007586",
           "GO:0008219",
           "GO:0051606",
           "GO:0042752",
           "GO:0009725",
           "GO:0014070",
           "GO:0010738",
           "GO:0043279",
           "GO:0016032",
           "GO:0060627",
           "GO:0050818",
           "GO:0030949",
           "GO:1903320",
           "GO:1901654",
           "GO:0051098",
           "GO:0034097",
           "GO:1903706",
           "GO:0071363",
           "GO:1901796",
           "GO:0045124",
           "GO:0097242",
           "GO:0006575",
           "GO:0051301",
           "GO:0017144",
           "GO:0006508",
           "GO:0048511",
           "GO:0090066",
           "GO:0010817",
           "GO:0007399",
           "GO:0008150"
          ],
          "pad": 15,
          "thickness": 20,
          "x": [
           0.01,
           0.01,
           0.17666666666666667,
           0.3433333333333333,
           0.51,
           0.6766666666666666,
           0.6766666666666666,
           0.6766666666666666,
           0.01,
           0.6766666666666666,
           0.17666666666666667,
           0.51,
           0.01,
           0.51,
           0.3433333333333333,
           0.6766666666666666,
           0.3433333333333333,
           0.3433333333333333,
           0.01,
           0.51,
           0.01,
           0.01,
           0.6766666666666666,
           0.6766666666666666,
           0.01,
           0.6766666666666666,
           0.3433333333333333,
           0.51,
           0.01,
           0.01,
           0.51,
           0.01,
           0.6766666666666666,
           0.51,
           0.51,
           0.01,
           0.6766666666666666,
           0.17666666666666667,
           0.17666666666666667,
           0.6766666666666666,
           0.51,
           0.01,
           0.17666666666666667,
           0.17666666666666667,
           0.3433333333333333,
           0.01,
           0.01,
           0.17666666666666667,
           0.3433333333333333,
           0.3433333333333333,
           0.51,
           0.51,
           0.17666666666666667,
           0.17666666666666667,
           0.01,
           0.01,
           0.17666666666666667,
           0.17666666666666667,
           0.3433333333333333,
           0.3433333333333333,
           0.3433333333333333,
           0.3433333333333333,
           0.51,
           0.6766666666666666,
           0.8433333333333334
          ],
          "y": [
           0.0488235294117647,
           0.10764705882352942,
           0.08090909090909092,
           0.07333333333333333,
           0.07333333333333333,
           0.07333333333333333,
           0.15666666666666665,
           0.24,
           0.16647058823529412,
           0.3233333333333333,
           0.17181818181818181,
           0.15666666666666665,
           0.2252941176470588,
           0.24,
           0.15666666666666665,
           0.4066666666666667,
           0.24,
           0.3233333333333333,
           0.28411764705882353,
           0.3233333333333333,
           0.34294117647058825,
           0.4017647058823529,
           0.49,
           0.5733333333333334,
           0.46058823529411763,
           0.6566666666666666,
           0.4066666666666667,
           0.4066666666666667,
           0.5194117647058824,
           0.5782352941176471,
           0.49,
           0.6370588235294118,
           0.74,
           0.5733333333333334,
           0.6566666666666666,
           0.6958823529411765,
           0.8233333333333334,
           0.2627272727272727,
           0.35363636363636364,
           0.9066666666666666,
           0.74,
           0.7547058823529411,
           0.4445454545454545,
           0.5354545454545454,
           0.49,
           0.8135294117647058,
           0.8723529411764706,
           0.6263636363636363,
           0.5733333333333334,
           0.6566666666666666,
           0.8233333333333334,
           0.9066666666666666,
           0.7172727272727273,
           0.8081818181818182,
           0.9311764705882353,
           0.99,
           0.899090909090909,
           0.99,
           0.74,
           0.8233333333333334,
           0.9066666666666666,
           0.99,
           0.99,
           0.99,
           0.49
          ]
         },
         "type": "sankey"
        }
       ],
       "layout": {
        "font": {
         "size": 15
        },
        "template": {
         "data": {
          "bar": [
           {
            "error_x": {
             "color": "#2a3f5f"
            },
            "error_y": {
             "color": "#2a3f5f"
            },
            "marker": {
             "line": {
              "color": "#E5ECF6",
              "width": 0.5
             },
             "pattern": {
              "fillmode": "overlay",
              "size": 10,
              "solidity": 0.2
             }
            },
            "type": "bar"
           }
          ],
          "barpolar": [
           {
            "marker": {
             "line": {
              "color": "#E5ECF6",
              "width": 0.5
             },
             "pattern": {
              "fillmode": "overlay",
              "size": 10,
              "solidity": 0.2
             }
            },
            "type": "barpolar"
           }
          ],
          "carpet": [
           {
            "aaxis": {
             "endlinecolor": "#2a3f5f",
             "gridcolor": "white",
             "linecolor": "white",
             "minorgridcolor": "white",
             "startlinecolor": "#2a3f5f"
            },
            "baxis": {
             "endlinecolor": "#2a3f5f",
             "gridcolor": "white",
             "linecolor": "white",
             "minorgridcolor": "white",
             "startlinecolor": "#2a3f5f"
            },
            "type": "carpet"
           }
          ],
          "choropleth": [
           {
            "colorbar": {
             "outlinewidth": 0,
             "ticks": ""
            },
            "type": "choropleth"
           }
          ],
          "contour": [
           {
            "colorbar": {
             "outlinewidth": 0,
             "ticks": ""
            },
            "colorscale": [
             [
              0,
              "#0d0887"
             ],
             [
              0.1111111111111111,
              "#46039f"
             ],
             [
              0.2222222222222222,
              "#7201a8"
             ],
             [
              0.3333333333333333,
              "#9c179e"
             ],
             [
              0.4444444444444444,
              "#bd3786"
             ],
             [
              0.5555555555555556,
              "#d8576b"
             ],
             [
              0.6666666666666666,
              "#ed7953"
             ],
             [
              0.7777777777777778,
              "#fb9f3a"
             ],
             [
              0.8888888888888888,
              "#fdca26"
             ],
             [
              1,
              "#f0f921"
             ]
            ],
            "type": "contour"
           }
          ],
          "contourcarpet": [
           {
            "colorbar": {
             "outlinewidth": 0,
             "ticks": ""
            },
            "type": "contourcarpet"
           }
          ],
          "heatmap": [
           {
            "colorbar": {
             "outlinewidth": 0,
             "ticks": ""
            },
            "colorscale": [
             [
              0,
              "#0d0887"
             ],
             [
              0.1111111111111111,
              "#46039f"
             ],
             [
              0.2222222222222222,
              "#7201a8"
             ],
             [
              0.3333333333333333,
              "#9c179e"
             ],
             [
              0.4444444444444444,
              "#bd3786"
             ],
             [
              0.5555555555555556,
              "#d8576b"
             ],
             [
              0.6666666666666666,
              "#ed7953"
             ],
             [
              0.7777777777777778,
              "#fb9f3a"
             ],
             [
              0.8888888888888888,
              "#fdca26"
             ],
             [
              1,
              "#f0f921"
             ]
            ],
            "type": "heatmap"
           }
          ],
          "heatmapgl": [
           {
            "colorbar": {
             "outlinewidth": 0,
             "ticks": ""
            },
            "colorscale": [
             [
              0,
              "#0d0887"
             ],
             [
              0.1111111111111111,
              "#46039f"
             ],
             [
              0.2222222222222222,
              "#7201a8"
             ],
             [
              0.3333333333333333,
              "#9c179e"
             ],
             [
              0.4444444444444444,
              "#bd3786"
             ],
             [
              0.5555555555555556,
              "#d8576b"
             ],
             [
              0.6666666666666666,
              "#ed7953"
             ],
             [
              0.7777777777777778,
              "#fb9f3a"
             ],
             [
              0.8888888888888888,
              "#fdca26"
             ],
             [
              1,
              "#f0f921"
             ]
            ],
            "type": "heatmapgl"
           }
          ],
          "histogram": [
           {
            "marker": {
             "pattern": {
              "fillmode": "overlay",
              "size": 10,
              "solidity": 0.2
             }
            },
            "type": "histogram"
           }
          ],
          "histogram2d": [
           {
            "colorbar": {
             "outlinewidth": 0,
             "ticks": ""
            },
            "colorscale": [
             [
              0,
              "#0d0887"
             ],
             [
              0.1111111111111111,
              "#46039f"
             ],
             [
              0.2222222222222222,
              "#7201a8"
             ],
             [
              0.3333333333333333,
              "#9c179e"
             ],
             [
              0.4444444444444444,
              "#bd3786"
             ],
             [
              0.5555555555555556,
              "#d8576b"
             ],
             [
              0.6666666666666666,
              "#ed7953"
             ],
             [
              0.7777777777777778,
              "#fb9f3a"
             ],
             [
              0.8888888888888888,
              "#fdca26"
             ],
             [
              1,
              "#f0f921"
             ]
            ],
            "type": "histogram2d"
           }
          ],
          "histogram2dcontour": [
           {
            "colorbar": {
             "outlinewidth": 0,
             "ticks": ""
            },
            "colorscale": [
             [
              0,
              "#0d0887"
             ],
             [
              0.1111111111111111,
              "#46039f"
             ],
             [
              0.2222222222222222,
              "#7201a8"
             ],
             [
              0.3333333333333333,
              "#9c179e"
             ],
             [
              0.4444444444444444,
              "#bd3786"
             ],
             [
              0.5555555555555556,
              "#d8576b"
             ],
             [
              0.6666666666666666,
              "#ed7953"
             ],
             [
              0.7777777777777778,
              "#fb9f3a"
             ],
             [
              0.8888888888888888,
              "#fdca26"
             ],
             [
              1,
              "#f0f921"
             ]
            ],
            "type": "histogram2dcontour"
           }
          ],
          "mesh3d": [
           {
            "colorbar": {
             "outlinewidth": 0,
             "ticks": ""
            },
            "type": "mesh3d"
           }
          ],
          "parcoords": [
           {
            "line": {
             "colorbar": {
              "outlinewidth": 0,
              "ticks": ""
             }
            },
            "type": "parcoords"
           }
          ],
          "pie": [
           {
            "automargin": true,
            "type": "pie"
           }
          ],
          "scatter": [
           {
            "fillpattern": {
             "fillmode": "overlay",
             "size": 10,
             "solidity": 0.2
            },
            "type": "scatter"
           }
          ],
          "scatter3d": [
           {
            "line": {
             "colorbar": {
              "outlinewidth": 0,
              "ticks": ""
             }
            },
            "marker": {
             "colorbar": {
              "outlinewidth": 0,
              "ticks": ""
             }
            },
            "type": "scatter3d"
           }
          ],
          "scattercarpet": [
           {
            "marker": {
             "colorbar": {
              "outlinewidth": 0,
              "ticks": ""
             }
            },
            "type": "scattercarpet"
           }
          ],
          "scattergeo": [
           {
            "marker": {
             "colorbar": {
              "outlinewidth": 0,
              "ticks": ""
             }
            },
            "type": "scattergeo"
           }
          ],
          "scattergl": [
           {
            "marker": {
             "colorbar": {
              "outlinewidth": 0,
              "ticks": ""
             }
            },
            "type": "scattergl"
           }
          ],
          "scattermapbox": [
           {
            "marker": {
             "colorbar": {
              "outlinewidth": 0,
              "ticks": ""
             }
            },
            "type": "scattermapbox"
           }
          ],
          "scatterpolar": [
           {
            "marker": {
             "colorbar": {
              "outlinewidth": 0,
              "ticks": ""
             }
            },
            "type": "scatterpolar"
           }
          ],
          "scatterpolargl": [
           {
            "marker": {
             "colorbar": {
              "outlinewidth": 0,
              "ticks": ""
             }
            },
            "type": "scatterpolargl"
           }
          ],
          "scatterternary": [
           {
            "marker": {
             "colorbar": {
              "outlinewidth": 0,
              "ticks": ""
             }
            },
            "type": "scatterternary"
           }
          ],
          "surface": [
           {
            "colorbar": {
             "outlinewidth": 0,
             "ticks": ""
            },
            "colorscale": [
             [
              0,
              "#0d0887"
             ],
             [
              0.1111111111111111,
              "#46039f"
             ],
             [
              0.2222222222222222,
              "#7201a8"
             ],
             [
              0.3333333333333333,
              "#9c179e"
             ],
             [
              0.4444444444444444,
              "#bd3786"
             ],
             [
              0.5555555555555556,
              "#d8576b"
             ],
             [
              0.6666666666666666,
              "#ed7953"
             ],
             [
              0.7777777777777778,
              "#fb9f3a"
             ],
             [
              0.8888888888888888,
              "#fdca26"
             ],
             [
              1,
              "#f0f921"
             ]
            ],
            "type": "surface"
           }
          ],
          "table": [
           {
            "cells": {
             "fill": {
              "color": "#EBF0F8"
             },
             "line": {
              "color": "white"
             }
            },
            "header": {
             "fill": {
              "color": "#C8D4E3"
             },
             "line": {
              "color": "white"
             }
            },
            "type": "table"
           }
          ]
         },
         "layout": {
          "annotationdefaults": {
           "arrowcolor": "#2a3f5f",
           "arrowhead": 0,
           "arrowwidth": 1
          },
          "autotypenumbers": "strict",
          "coloraxis": {
           "colorbar": {
            "outlinewidth": 0,
            "ticks": ""
           }
          },
          "colorscale": {
           "diverging": [
            [
             0,
             "#8e0152"
            ],
            [
             0.1,
             "#c51b7d"
            ],
            [
             0.2,
             "#de77ae"
            ],
            [
             0.3,
             "#f1b6da"
            ],
            [
             0.4,
             "#fde0ef"
            ],
            [
             0.5,
             "#f7f7f7"
            ],
            [
             0.6,
             "#e6f5d0"
            ],
            [
             0.7,
             "#b8e186"
            ],
            [
             0.8,
             "#7fbc41"
            ],
            [
             0.9,
             "#4d9221"
            ],
            [
             1,
             "#276419"
            ]
           ],
           "sequential": [
            [
             0,
             "#0d0887"
            ],
            [
             0.1111111111111111,
             "#46039f"
            ],
            [
             0.2222222222222222,
             "#7201a8"
            ],
            [
             0.3333333333333333,
             "#9c179e"
            ],
            [
             0.4444444444444444,
             "#bd3786"
            ],
            [
             0.5555555555555556,
             "#d8576b"
            ],
            [
             0.6666666666666666,
             "#ed7953"
            ],
            [
             0.7777777777777778,
             "#fb9f3a"
            ],
            [
             0.8888888888888888,
             "#fdca26"
            ],
            [
             1,
             "#f0f921"
            ]
           ],
           "sequentialminus": [
            [
             0,
             "#0d0887"
            ],
            [
             0.1111111111111111,
             "#46039f"
            ],
            [
             0.2222222222222222,
             "#7201a8"
            ],
            [
             0.3333333333333333,
             "#9c179e"
            ],
            [
             0.4444444444444444,
             "#bd3786"
            ],
            [
             0.5555555555555556,
             "#d8576b"
            ],
            [
             0.6666666666666666,
             "#ed7953"
            ],
            [
             0.7777777777777778,
             "#fb9f3a"
            ],
            [
             0.8888888888888888,
             "#fdca26"
            ],
            [
             1,
             "#f0f921"
            ]
           ]
          },
          "colorway": [
           "#636efa",
           "#EF553B",
           "#00cc96",
           "#ab63fa",
           "#FFA15A",
           "#19d3f3",
           "#FF6692",
           "#B6E880",
           "#FF97FF",
           "#FECB52"
          ],
          "font": {
           "color": "#2a3f5f"
          },
          "geo": {
           "bgcolor": "white",
           "lakecolor": "white",
           "landcolor": "#E5ECF6",
           "showlakes": true,
           "showland": true,
           "subunitcolor": "white"
          },
          "hoverlabel": {
           "align": "left"
          },
          "hovermode": "closest",
          "mapbox": {
           "style": "light"
          },
          "paper_bgcolor": "white",
          "plot_bgcolor": "#E5ECF6",
          "polar": {
           "angularaxis": {
            "gridcolor": "white",
            "linecolor": "white",
            "ticks": ""
           },
           "bgcolor": "#E5ECF6",
           "radialaxis": {
            "gridcolor": "white",
            "linecolor": "white",
            "ticks": ""
           }
          },
          "scene": {
           "xaxis": {
            "backgroundcolor": "#E5ECF6",
            "gridcolor": "white",
            "gridwidth": 2,
            "linecolor": "white",
            "showbackground": true,
            "ticks": "",
            "zerolinecolor": "white"
           },
           "yaxis": {
            "backgroundcolor": "#E5ECF6",
            "gridcolor": "white",
            "gridwidth": 2,
            "linecolor": "white",
            "showbackground": true,
            "ticks": "",
            "zerolinecolor": "white"
           },
           "zaxis": {
            "backgroundcolor": "#E5ECF6",
            "gridcolor": "white",
            "gridwidth": 2,
            "linecolor": "white",
            "showbackground": true,
            "ticks": "",
            "zerolinecolor": "white"
           }
          },
          "shapedefaults": {
           "line": {
            "color": "#2a3f5f"
           }
          },
          "ternary": {
           "aaxis": {
            "gridcolor": "white",
            "linecolor": "white",
            "ticks": ""
           },
           "baxis": {
            "gridcolor": "white",
            "linecolor": "white",
            "ticks": ""
           },
           "bgcolor": "#E5ECF6",
           "caxis": {
            "gridcolor": "white",
            "linecolor": "white",
            "ticks": ""
           }
          },
          "title": {
           "x": 0.05
          },
          "xaxis": {
           "automargin": true,
           "gridcolor": "white",
           "linecolor": "white",
           "ticks": "",
           "title": {
            "standoff": 15
           },
           "zerolinecolor": "white",
           "zerolinewidth": 2
          },
          "yaxis": {
           "automargin": true,
           "gridcolor": "white",
           "linecolor": "white",
           "ticks": "",
           "title": {
            "standoff": 15
           },
           "zerolinecolor": "white",
           "zerolinewidth": 2
          }
         }
        }
       }
      }
     },
     "metadata": {},
     "output_type": "display_data"
    }
   ],
   "source": [
    "ov_sankey = plot_sankey(sankey_value_id_ov, sankey_source_id_ov, sankey_target_id_ov,\n",
    "                node_label, node_col, node_level, positive_flow=True)"
   ]
  },
  {
   "cell_type": "code",
   "execution_count": null,
   "metadata": {},
   "outputs": [],
   "source": []
  },
  {
   "cell_type": "code",
   "execution_count": 250,
   "metadata": {},
   "outputs": [],
   "source": [
    "sankey_value_id_brca, sankey_source_id_brca, sankey_target_id_brca\\\n",
    "    = sankey_trimming(sankey_value[:, labels == cancer_2_idx['BRCA']].mean(axis=1, keepdims=True), \n",
    "                      sankey_source, sankey_target, \n",
    "                    node_label_id, \n",
    "                    sample_id = 0, \n",
    "                    percent_keep = [0.03, 0.05, 0.06, 0.06, 0.15])"
   ]
  },
  {
   "cell_type": "code",
   "execution_count": 251,
   "metadata": {},
   "outputs": [
    {
     "data": {
      "application/vnd.plotly.v1+json": {
       "config": {
        "plotlyServerURL": "https://plot.ly"
       },
       "data": [
        {
         "arrangement": "snap",
         "link": {
          "source": [
           0,
           0,
           0,
           0,
           1,
           0,
           0,
           0,
           0,
           0,
           2,
           0,
           0,
           0,
           0,
           0,
           3,
           4,
           4,
           0,
           5,
           3,
           6,
           7,
           8,
           3,
           0,
           3,
           0,
           3,
           0,
           3,
           0,
           3,
           3,
           0,
           9,
           3,
           8,
           10,
           5,
           3,
           9,
           0,
           9,
           0,
           9,
           0,
           10,
           11,
           3,
           9,
           9,
           3,
           0,
           9,
           12,
           9,
           3,
           11,
           12,
           9,
           3,
           12,
           12,
           9,
           9,
           12,
           0,
           7,
           0,
           0,
           12,
           3,
           0,
           12,
           12,
           9,
           3,
           13,
           0,
           14,
           15,
           9,
           16,
           12,
           17,
           18,
           19,
           20,
           21,
           22,
           23,
           24,
           25,
           26,
           27,
           28,
           29,
           30,
           31,
           32,
           33,
           34,
           35,
           36,
           37,
           38,
           39,
           40,
           41,
           42,
           43,
           44,
           45,
           46,
           47,
           48,
           49,
           50,
           51,
           52,
           53,
           54,
           55,
           56,
           57,
           58,
           59
          ],
          "target": [
           3,
           13,
           8,
           4,
           3,
           7,
           5,
           6,
           30,
           31,
           3,
           60,
           44,
           61,
           51,
           9,
           9,
           9,
           10,
           15,
           11,
           11,
           11,
           9,
           9,
           22,
           22,
           23,
           23,
           33,
           33,
           46,
           52,
           52,
           54,
           12,
           12,
           12,
           12,
           12,
           12,
           18,
           18,
           18,
           19,
           19,
           20,
           28,
           28,
           12,
           35,
           35,
           39,
           39,
           45,
           45,
           14,
           14,
           62,
           14,
           17,
           17,
           24,
           24,
           26,
           26,
           32,
           32,
           32,
           34,
           34,
           38,
           38,
           40,
           41,
           41,
           49,
           49,
           63,
           63,
           63,
           63,
           63,
           63,
           63,
           63,
           63,
           63,
           63,
           63,
           63,
           63,
           63,
           63,
           63,
           63,
           63,
           63,
           63,
           63,
           63,
           63,
           63,
           63,
           63,
           63,
           63,
           63,
           63,
           63,
           63,
           63,
           63,
           63,
           63,
           63,
           63,
           63,
           63,
           63,
           63,
           63,
           63,
           63,
           63,
           63,
           63,
           63,
           63
          ],
          "value": [
           0.0937577197187082,
           0.00010255363895869874,
           0.0014065204128561875,
           0.004722921067418405,
           0.010432960731512668,
           0.0037415147392733878,
           0.0003966117960510579,
           0.0014939684736150257,
           0.0028124273388535504,
           0.000019003928624305426,
           0.00444798292088742,
           0.0009375213590506191,
           0.0009017176775488917,
           0.0013859184650534457,
           0.0003506500635385773,
           0.05994900345034615,
           0.13945718492569614,
           0.004196535129980983,
           0.04680946332107208,
           0.00034688305946533433,
           0.018296318515196388,
           0.003206155434791183,
           0.019967694153628555,
           0.0130789134941116,
           0.007346682199824461,
           0.002534723287323983,
           0.00020139792264763364,
           0.0024239704512994554,
           0.0016233966197709499,
           0.0010688733408934807,
           0.0007980237967995538,
           0.0021952748242763474,
           0.0007404032902888539,
           0.0032912053476246935,
           0.004985461649464306,
           0.014123630558310996,
           0.09830891301577455,
           0.022712927240069552,
           0.0008809987694103076,
           0.01765629991301844,
           0.0011292884690047122,
           0.0025354578249821955,
           0.008446606681047023,
           0.000900101394105094,
           0.002130203887121121,
           0.0029395186267181196,
           0.004929494543327783,
           0.000554571691489218,
           0.021006766769732094,
           0.026462351622823413,
           0.010643923821334653,
           0.0016208433290637136,
           0.00046447210450376524,
           0.0010309235815440694,
           0.00009949000051221916,
           0.005605713045974124,
           0.028837762442085954,
           0.01160168046705187,
           0.0005446621396297489,
           0.005180409074181305,
           0.00398084688796268,
           0.0006494864356498923,
           0.0005686414347504467,
           0.0009347628034320735,
           0.00597051822284354,
           0.0020300957026996814,
           0.00023367943206651463,
           0.014533622698856365,
           0.00025867389323815614,
           0.00035117146070309753,
           0.0015795902095488003,
           0.0034414306626069594,
           0.005231830148471052,
           0.0035056128321735063,
           0.0018769924027404524,
           0.0010192812794025492,
           0.009337054668300959,
           0.0014624981548235065,
           0.010019815477495071,
           0.011366267635810735,
           0.055308811564628566,
           0.3105244451075856,
           0.014226819849301265,
           0.13939477025754995,
           0.009144391384265333,
           0.17011948471231386,
           0.043958656786595544,
           0.04271319141868958,
           0.030493806922613276,
           0.03398523529466374,
           0.016829260017208577,
           0.026318653151921233,
           0.01439718938169302,
           0.032971882316210295,
           0.017750505534151025,
           0.03788878541223659,
           0.015933559355439362,
           0.07645712745948474,
           0.015348061383071617,
           0.015982493320811957,
           0.0161551684391906,
           0.03859267996629986,
           0.03073888102863566,
           0.03810529690054067,
           0.0254695188093185,
           0.01151031492385937,
           0.012626815226199116,
           0.028143963885035126,
           0.03903656707816242,
           0.03864552089189993,
           0.03105351825440741,
           0.01025353691478146,
           0.009262273205007143,
           0.011043091092787208,
           0.027801585293149272,
           0.018099336106968913,
           0.0164037227295059,
           0.013405113037588793,
           0.042539114329676955,
           0.024035121637346644,
           0.010537583889048742,
           0.015752018592024745,
           0.009651593158696466,
           0.02279443218073223,
           0.010813035225303531,
           0.010017312588261553,
           0.01730244315636093,
           0.010248214521533084,
           0.012178232506462062
          ]
         },
         "node": {
          "color": [
           "#636EFA",
           "#636EFA",
           "#636EFA",
           "#EF553B",
           "#EF553B",
           "#EF553B",
           "#EF553B",
           "#EF553B",
           "#EF553B",
           "#00CC96",
           "#00CC96",
           "#00CC96",
           "#AB63FA",
           "#EF553B",
           "#FFA15A",
           "#00CC96",
           "#636EFA",
           "#FFA15A",
           "#AB63FA",
           "#AB63FA",
           "#AB63FA",
           "#EF553B",
           "#00CC96",
           "#00CC96",
           "#FFA15A",
           "#00CC96",
           "#FFA15A",
           "#00CC96",
           "#AB63FA",
           "#636EFA",
           "#EF553B",
           "#EF553B",
           "#FFA15A",
           "#00CC96",
           "#FFA15A",
           "#AB63FA",
           "#636EFA",
           "#636EFA",
           "#FFA15A",
           "#AB63FA",
           "#FFA15A",
           "#FFA15A",
           "#EF553B",
           "#636EFA",
           "#EF553B",
           "#AB63FA",
           "#00CC96",
           "#636EFA",
           "#636EFA",
           "#FFA15A",
           "#636EFA",
           "#EF553B",
           "#00CC96",
           "#636EFA",
           "#00CC96",
           "#636EFA",
           "#636EFA",
           "#636EFA",
           "#636EFA",
           "#636EFA",
           "#EF553B",
           "#EF553B",
           "#FFA15A",
           "#19D3F3"
          ],
          "label": [
           "L0_other",
           "GO:0006482",
           "GO:0098813",
           "L1_other",
           "GO:0045944",
           "GO:0018105",
           "GO:0046777",
           "GO:0034654",
           "GO:0045892",
           "L2_other",
           "GO:0045893",
           "GO:0006468",
           "L3_other",
           "GO:0006575",
           "L4_other",
           "GO:0006790",
           "GO:0030010",
           "GO:0007165",
           "GO:0001817",
           "GO:0051240",
           "GO:0010605",
           "GO:0001959",
           "GO:0006955",
           "GO:0002252",
           "GO:0045321",
           "GO:0010467",
           "GO:0010468",
           "GO:0009607",
           "GO:0010557",
           "GO:0002833",
           "GO:0031328",
           "GO:0051302",
           "GO:0006796",
           "GO:0055114",
           "GO:0006139",
           "GO:0019219",
           "GO:0006767",
           "GO:0051181",
           "GO:0055085",
           "GO:0016192",
           "GO:0006996",
           "GO:0007399",
           "GO:0050808",
           "GO:0008584",
           "GO:0051606",
           "GO:0009790",
           "GO:2000377",
           "GO:0042762",
           "GO:0010885",
           "GO:0010941",
           "GO:0051180",
           "GO:0090287",
           "GO:0051051",
           "GO:0031954",
           "GO:0040011",
           "GO:0070328",
           "GO:0043032",
           "GO:1900076",
           "GO:0060021",
           "GO:0071872",
           "GO:0007283",
           "GO:0030198",
           "GO:0044703",
           "GO:0008150"
          ],
          "pad": 15,
          "thickness": 20,
          "x": [
           0.01,
           0.01,
           0.01,
           0.17666666666666667,
           0.17666666666666667,
           0.17666666666666667,
           0.17666666666666667,
           0.17666666666666667,
           0.17666666666666667,
           0.3433333333333333,
           0.3433333333333333,
           0.3433333333333333,
           0.51,
           0.17666666666666667,
           0.6766666666666666,
           0.3433333333333333,
           0.01,
           0.6766666666666666,
           0.51,
           0.51,
           0.51,
           0.17666666666666667,
           0.3433333333333333,
           0.3433333333333333,
           0.6766666666666666,
           0.3433333333333333,
           0.6766666666666666,
           0.3433333333333333,
           0.51,
           0.01,
           0.17666666666666667,
           0.17666666666666667,
           0.6766666666666666,
           0.3433333333333333,
           0.6766666666666666,
           0.51,
           0.01,
           0.01,
           0.6766666666666666,
           0.51,
           0.6766666666666666,
           0.6766666666666666,
           0.17666666666666667,
           0.01,
           0.17666666666666667,
           0.51,
           0.3433333333333333,
           0.01,
           0.01,
           0.6766666666666666,
           0.01,
           0.17666666666666667,
           0.3433333333333333,
           0.01,
           0.3433333333333333,
           0.01,
           0.01,
           0.01,
           0.01,
           0.01,
           0.17666666666666667,
           0.17666666666666667,
           0.6766666666666666,
           0.8433333333333334
          ],
          "y": [
           0.0488235294117647,
           0.10764705882352942,
           0.16647058823529412,
           0.056666666666666664,
           0.12333333333333334,
           0.19,
           0.25666666666666665,
           0.3233333333333333,
           0.39,
           0.07333333333333333,
           0.15666666666666665,
           0.24,
           0.115,
           0.45666666666666667,
           0.08090909090909092,
           0.3233333333333333,
           0.2252941176470588,
           0.17181818181818181,
           0.24,
           0.365,
           0.49,
           0.5233333333333333,
           0.4066666666666667,
           0.49,
           0.2627272727272727,
           0.5733333333333334,
           0.35363636363636364,
           0.6566666666666666,
           0.615,
           0.28411764705882353,
           0.59,
           0.6566666666666666,
           0.4445454545454545,
           0.74,
           0.5354545454545454,
           0.74,
           0.34294117647058825,
           0.4017647058823529,
           0.6263636363636363,
           0.865,
           0.7172727272727273,
           0.8081818181818182,
           0.7233333333333333,
           0.46058823529411763,
           0.79,
           0.99,
           0.8233333333333334,
           0.5194117647058824,
           0.5782352941176471,
           0.899090909090909,
           0.6370588235294118,
           0.8566666666666667,
           0.9066666666666666,
           0.6958823529411765,
           0.99,
           0.7547058823529411,
           0.8135294117647058,
           0.8723529411764706,
           0.9311764705882353,
           0.99,
           0.9233333333333333,
           0.99,
           0.99,
           0.49
          ]
         },
         "type": "sankey"
        }
       ],
       "layout": {
        "font": {
         "size": 15
        },
        "template": {
         "data": {
          "bar": [
           {
            "error_x": {
             "color": "#2a3f5f"
            },
            "error_y": {
             "color": "#2a3f5f"
            },
            "marker": {
             "line": {
              "color": "#E5ECF6",
              "width": 0.5
             },
             "pattern": {
              "fillmode": "overlay",
              "size": 10,
              "solidity": 0.2
             }
            },
            "type": "bar"
           }
          ],
          "barpolar": [
           {
            "marker": {
             "line": {
              "color": "#E5ECF6",
              "width": 0.5
             },
             "pattern": {
              "fillmode": "overlay",
              "size": 10,
              "solidity": 0.2
             }
            },
            "type": "barpolar"
           }
          ],
          "carpet": [
           {
            "aaxis": {
             "endlinecolor": "#2a3f5f",
             "gridcolor": "white",
             "linecolor": "white",
             "minorgridcolor": "white",
             "startlinecolor": "#2a3f5f"
            },
            "baxis": {
             "endlinecolor": "#2a3f5f",
             "gridcolor": "white",
             "linecolor": "white",
             "minorgridcolor": "white",
             "startlinecolor": "#2a3f5f"
            },
            "type": "carpet"
           }
          ],
          "choropleth": [
           {
            "colorbar": {
             "outlinewidth": 0,
             "ticks": ""
            },
            "type": "choropleth"
           }
          ],
          "contour": [
           {
            "colorbar": {
             "outlinewidth": 0,
             "ticks": ""
            },
            "colorscale": [
             [
              0,
              "#0d0887"
             ],
             [
              0.1111111111111111,
              "#46039f"
             ],
             [
              0.2222222222222222,
              "#7201a8"
             ],
             [
              0.3333333333333333,
              "#9c179e"
             ],
             [
              0.4444444444444444,
              "#bd3786"
             ],
             [
              0.5555555555555556,
              "#d8576b"
             ],
             [
              0.6666666666666666,
              "#ed7953"
             ],
             [
              0.7777777777777778,
              "#fb9f3a"
             ],
             [
              0.8888888888888888,
              "#fdca26"
             ],
             [
              1,
              "#f0f921"
             ]
            ],
            "type": "contour"
           }
          ],
          "contourcarpet": [
           {
            "colorbar": {
             "outlinewidth": 0,
             "ticks": ""
            },
            "type": "contourcarpet"
           }
          ],
          "heatmap": [
           {
            "colorbar": {
             "outlinewidth": 0,
             "ticks": ""
            },
            "colorscale": [
             [
              0,
              "#0d0887"
             ],
             [
              0.1111111111111111,
              "#46039f"
             ],
             [
              0.2222222222222222,
              "#7201a8"
             ],
             [
              0.3333333333333333,
              "#9c179e"
             ],
             [
              0.4444444444444444,
              "#bd3786"
             ],
             [
              0.5555555555555556,
              "#d8576b"
             ],
             [
              0.6666666666666666,
              "#ed7953"
             ],
             [
              0.7777777777777778,
              "#fb9f3a"
             ],
             [
              0.8888888888888888,
              "#fdca26"
             ],
             [
              1,
              "#f0f921"
             ]
            ],
            "type": "heatmap"
           }
          ],
          "heatmapgl": [
           {
            "colorbar": {
             "outlinewidth": 0,
             "ticks": ""
            },
            "colorscale": [
             [
              0,
              "#0d0887"
             ],
             [
              0.1111111111111111,
              "#46039f"
             ],
             [
              0.2222222222222222,
              "#7201a8"
             ],
             [
              0.3333333333333333,
              "#9c179e"
             ],
             [
              0.4444444444444444,
              "#bd3786"
             ],
             [
              0.5555555555555556,
              "#d8576b"
             ],
             [
              0.6666666666666666,
              "#ed7953"
             ],
             [
              0.7777777777777778,
              "#fb9f3a"
             ],
             [
              0.8888888888888888,
              "#fdca26"
             ],
             [
              1,
              "#f0f921"
             ]
            ],
            "type": "heatmapgl"
           }
          ],
          "histogram": [
           {
            "marker": {
             "pattern": {
              "fillmode": "overlay",
              "size": 10,
              "solidity": 0.2
             }
            },
            "type": "histogram"
           }
          ],
          "histogram2d": [
           {
            "colorbar": {
             "outlinewidth": 0,
             "ticks": ""
            },
            "colorscale": [
             [
              0,
              "#0d0887"
             ],
             [
              0.1111111111111111,
              "#46039f"
             ],
             [
              0.2222222222222222,
              "#7201a8"
             ],
             [
              0.3333333333333333,
              "#9c179e"
             ],
             [
              0.4444444444444444,
              "#bd3786"
             ],
             [
              0.5555555555555556,
              "#d8576b"
             ],
             [
              0.6666666666666666,
              "#ed7953"
             ],
             [
              0.7777777777777778,
              "#fb9f3a"
             ],
             [
              0.8888888888888888,
              "#fdca26"
             ],
             [
              1,
              "#f0f921"
             ]
            ],
            "type": "histogram2d"
           }
          ],
          "histogram2dcontour": [
           {
            "colorbar": {
             "outlinewidth": 0,
             "ticks": ""
            },
            "colorscale": [
             [
              0,
              "#0d0887"
             ],
             [
              0.1111111111111111,
              "#46039f"
             ],
             [
              0.2222222222222222,
              "#7201a8"
             ],
             [
              0.3333333333333333,
              "#9c179e"
             ],
             [
              0.4444444444444444,
              "#bd3786"
             ],
             [
              0.5555555555555556,
              "#d8576b"
             ],
             [
              0.6666666666666666,
              "#ed7953"
             ],
             [
              0.7777777777777778,
              "#fb9f3a"
             ],
             [
              0.8888888888888888,
              "#fdca26"
             ],
             [
              1,
              "#f0f921"
             ]
            ],
            "type": "histogram2dcontour"
           }
          ],
          "mesh3d": [
           {
            "colorbar": {
             "outlinewidth": 0,
             "ticks": ""
            },
            "type": "mesh3d"
           }
          ],
          "parcoords": [
           {
            "line": {
             "colorbar": {
              "outlinewidth": 0,
              "ticks": ""
             }
            },
            "type": "parcoords"
           }
          ],
          "pie": [
           {
            "automargin": true,
            "type": "pie"
           }
          ],
          "scatter": [
           {
            "fillpattern": {
             "fillmode": "overlay",
             "size": 10,
             "solidity": 0.2
            },
            "type": "scatter"
           }
          ],
          "scatter3d": [
           {
            "line": {
             "colorbar": {
              "outlinewidth": 0,
              "ticks": ""
             }
            },
            "marker": {
             "colorbar": {
              "outlinewidth": 0,
              "ticks": ""
             }
            },
            "type": "scatter3d"
           }
          ],
          "scattercarpet": [
           {
            "marker": {
             "colorbar": {
              "outlinewidth": 0,
              "ticks": ""
             }
            },
            "type": "scattercarpet"
           }
          ],
          "scattergeo": [
           {
            "marker": {
             "colorbar": {
              "outlinewidth": 0,
              "ticks": ""
             }
            },
            "type": "scattergeo"
           }
          ],
          "scattergl": [
           {
            "marker": {
             "colorbar": {
              "outlinewidth": 0,
              "ticks": ""
             }
            },
            "type": "scattergl"
           }
          ],
          "scattermapbox": [
           {
            "marker": {
             "colorbar": {
              "outlinewidth": 0,
              "ticks": ""
             }
            },
            "type": "scattermapbox"
           }
          ],
          "scatterpolar": [
           {
            "marker": {
             "colorbar": {
              "outlinewidth": 0,
              "ticks": ""
             }
            },
            "type": "scatterpolar"
           }
          ],
          "scatterpolargl": [
           {
            "marker": {
             "colorbar": {
              "outlinewidth": 0,
              "ticks": ""
             }
            },
            "type": "scatterpolargl"
           }
          ],
          "scatterternary": [
           {
            "marker": {
             "colorbar": {
              "outlinewidth": 0,
              "ticks": ""
             }
            },
            "type": "scatterternary"
           }
          ],
          "surface": [
           {
            "colorbar": {
             "outlinewidth": 0,
             "ticks": ""
            },
            "colorscale": [
             [
              0,
              "#0d0887"
             ],
             [
              0.1111111111111111,
              "#46039f"
             ],
             [
              0.2222222222222222,
              "#7201a8"
             ],
             [
              0.3333333333333333,
              "#9c179e"
             ],
             [
              0.4444444444444444,
              "#bd3786"
             ],
             [
              0.5555555555555556,
              "#d8576b"
             ],
             [
              0.6666666666666666,
              "#ed7953"
             ],
             [
              0.7777777777777778,
              "#fb9f3a"
             ],
             [
              0.8888888888888888,
              "#fdca26"
             ],
             [
              1,
              "#f0f921"
             ]
            ],
            "type": "surface"
           }
          ],
          "table": [
           {
            "cells": {
             "fill": {
              "color": "#EBF0F8"
             },
             "line": {
              "color": "white"
             }
            },
            "header": {
             "fill": {
              "color": "#C8D4E3"
             },
             "line": {
              "color": "white"
             }
            },
            "type": "table"
           }
          ]
         },
         "layout": {
          "annotationdefaults": {
           "arrowcolor": "#2a3f5f",
           "arrowhead": 0,
           "arrowwidth": 1
          },
          "autotypenumbers": "strict",
          "coloraxis": {
           "colorbar": {
            "outlinewidth": 0,
            "ticks": ""
           }
          },
          "colorscale": {
           "diverging": [
            [
             0,
             "#8e0152"
            ],
            [
             0.1,
             "#c51b7d"
            ],
            [
             0.2,
             "#de77ae"
            ],
            [
             0.3,
             "#f1b6da"
            ],
            [
             0.4,
             "#fde0ef"
            ],
            [
             0.5,
             "#f7f7f7"
            ],
            [
             0.6,
             "#e6f5d0"
            ],
            [
             0.7,
             "#b8e186"
            ],
            [
             0.8,
             "#7fbc41"
            ],
            [
             0.9,
             "#4d9221"
            ],
            [
             1,
             "#276419"
            ]
           ],
           "sequential": [
            [
             0,
             "#0d0887"
            ],
            [
             0.1111111111111111,
             "#46039f"
            ],
            [
             0.2222222222222222,
             "#7201a8"
            ],
            [
             0.3333333333333333,
             "#9c179e"
            ],
            [
             0.4444444444444444,
             "#bd3786"
            ],
            [
             0.5555555555555556,
             "#d8576b"
            ],
            [
             0.6666666666666666,
             "#ed7953"
            ],
            [
             0.7777777777777778,
             "#fb9f3a"
            ],
            [
             0.8888888888888888,
             "#fdca26"
            ],
            [
             1,
             "#f0f921"
            ]
           ],
           "sequentialminus": [
            [
             0,
             "#0d0887"
            ],
            [
             0.1111111111111111,
             "#46039f"
            ],
            [
             0.2222222222222222,
             "#7201a8"
            ],
            [
             0.3333333333333333,
             "#9c179e"
            ],
            [
             0.4444444444444444,
             "#bd3786"
            ],
            [
             0.5555555555555556,
             "#d8576b"
            ],
            [
             0.6666666666666666,
             "#ed7953"
            ],
            [
             0.7777777777777778,
             "#fb9f3a"
            ],
            [
             0.8888888888888888,
             "#fdca26"
            ],
            [
             1,
             "#f0f921"
            ]
           ]
          },
          "colorway": [
           "#636efa",
           "#EF553B",
           "#00cc96",
           "#ab63fa",
           "#FFA15A",
           "#19d3f3",
           "#FF6692",
           "#B6E880",
           "#FF97FF",
           "#FECB52"
          ],
          "font": {
           "color": "#2a3f5f"
          },
          "geo": {
           "bgcolor": "white",
           "lakecolor": "white",
           "landcolor": "#E5ECF6",
           "showlakes": true,
           "showland": true,
           "subunitcolor": "white"
          },
          "hoverlabel": {
           "align": "left"
          },
          "hovermode": "closest",
          "mapbox": {
           "style": "light"
          },
          "paper_bgcolor": "white",
          "plot_bgcolor": "#E5ECF6",
          "polar": {
           "angularaxis": {
            "gridcolor": "white",
            "linecolor": "white",
            "ticks": ""
           },
           "bgcolor": "#E5ECF6",
           "radialaxis": {
            "gridcolor": "white",
            "linecolor": "white",
            "ticks": ""
           }
          },
          "scene": {
           "xaxis": {
            "backgroundcolor": "#E5ECF6",
            "gridcolor": "white",
            "gridwidth": 2,
            "linecolor": "white",
            "showbackground": true,
            "ticks": "",
            "zerolinecolor": "white"
           },
           "yaxis": {
            "backgroundcolor": "#E5ECF6",
            "gridcolor": "white",
            "gridwidth": 2,
            "linecolor": "white",
            "showbackground": true,
            "ticks": "",
            "zerolinecolor": "white"
           },
           "zaxis": {
            "backgroundcolor": "#E5ECF6",
            "gridcolor": "white",
            "gridwidth": 2,
            "linecolor": "white",
            "showbackground": true,
            "ticks": "",
            "zerolinecolor": "white"
           }
          },
          "shapedefaults": {
           "line": {
            "color": "#2a3f5f"
           }
          },
          "ternary": {
           "aaxis": {
            "gridcolor": "white",
            "linecolor": "white",
            "ticks": ""
           },
           "baxis": {
            "gridcolor": "white",
            "linecolor": "white",
            "ticks": ""
           },
           "bgcolor": "#E5ECF6",
           "caxis": {
            "gridcolor": "white",
            "linecolor": "white",
            "ticks": ""
           }
          },
          "title": {
           "x": 0.05
          },
          "xaxis": {
           "automargin": true,
           "gridcolor": "white",
           "linecolor": "white",
           "ticks": "",
           "title": {
            "standoff": 15
           },
           "zerolinecolor": "white",
           "zerolinewidth": 2
          },
          "yaxis": {
           "automargin": true,
           "gridcolor": "white",
           "linecolor": "white",
           "ticks": "",
           "title": {
            "standoff": 15
           },
           "zerolinecolor": "white",
           "zerolinewidth": 2
          }
         }
        }
       }
      }
     },
     "metadata": {},
     "output_type": "display_data"
    }
   ],
   "source": [
    "brca_sankey = plot_sankey(sankey_value_id_brca, sankey_source_id_brca, sankey_target_id_brca,\n",
    "                node_label, node_col, node_level, positive_flow=True)"
   ]
  },
  {
   "cell_type": "markdown",
   "metadata": {},
   "source": [
    "### For L0 level importance"
   ]
  },
  {
   "cell_type": "code",
   "execution_count": 252,
   "metadata": {},
   "outputs": [
    {
     "data": {
      "text/plain": [
       "[['GO:0007006',\n",
       "  'GO:0008637',\n",
       "  'GO:0006284',\n",
       "  'GO:0006283',\n",
       "  'GO:0019985',\n",
       "  'GO:0000724',\n",
       "  'GO:0006303',\n",
       "  'GO:0044030',\n",
       "  'GO:0010569',\n",
       "  'GO:0045830',\n",
       "  'GO:0045739',\n",
       "  'GO:2000279',\n",
       "  'GO:0032212',\n",
       "  'GO:0051973',\n",
       "  'GO:0000070',\n",
       "  'GO:0000083',\n",
       "  'GO:0000281',\n",
       "  'GO:0000038',\n",
       "  'GO:0019372',\n",
       "  'GO:0006635',\n",
       "  'GO:0043651',\n",
       "  'GO:0042759',\n",
       "  'GO:0046457',\n",
       "  'GO:0006826',\n",
       "  'GO:0097711',\n",
       "  'GO:0090307',\n",
       "  'GO:0006656',\n",
       "  'GO:0009309',\n",
       "  'GO:0033014',\n",
       "  'GO:0042398',\n",
       "  'GO:0042423',\n",
       "  'GO:0043043',\n",
       "  'GO:0046112',\n",
       "  'GO:0072525',\n",
       "  'GO:1901687',\n",
       "  'GO:0046513',\n",
       "  'GO:0006497',\n",
       "  'GO:0009066',\n",
       "  'GO:1901607',\n",
       "  'GO:0009065',\n",
       "  'GO:0006536',\n",
       "  'GO:0006541',\n",
       "  'GO:0006658',\n",
       "  'GO:0006749',\n",
       "  'GO:0006760',\n",
       "  'GO:0043303',\n",
       "  'GO:0051303',\n",
       "  'GO:0047496',\n",
       "  'GO:0007050',\n",
       "  'GO:0045736',\n",
       "  'GO:0031572',\n",
       "  'GO:0043407',\n",
       "  'GO:0043506',\n",
       "  'GO:0045737',\n",
       "  'GO:0000086',\n",
       "  'GO:0034401',\n",
       "  'GO:0043620',\n",
       "  'GO:2000142',\n",
       "  'GO:0000096',\n",
       "  'GO:0044273',\n",
       "  'GO:0050427',\n",
       "  'GO:0035384',\n",
       "  'GO:0009074',\n",
       "  'GO:0000122',\n",
       "  'GO:0006342',\n",
       "  'GO:0030509',\n",
       "  'GO:1902895',\n",
       "  'GO:0036003',\n",
       "  'GO:0061418',\n",
       "  'GO:0007416',\n",
       "  'GO:0010927',\n",
       "  'GO:0006334',\n",
       "  'GO:0007043',\n",
       "  'GO:0007044',\n",
       "  'GO:0034333',\n",
       "  'GO:0007249',\n",
       "  'GO:0035329',\n",
       "  'GO:0038061',\n",
       "  'GO:0043491',\n",
       "  'GO:0072331',\n",
       "  'GO:0014065',\n",
       "  'GO:0006977',\n",
       "  'GO:0007257',\n",
       "  'GO:0070371',\n",
       "  'GO:0000186',\n",
       "  'GO:0032148',\n",
       "  'GO:0000209',\n",
       "  'GO:0030865',\n",
       "  'GO:0007051',\n",
       "  'GO:0007098',\n",
       "  'GO:0042417',\n",
       "  'GO:0046209',\n",
       "  'GO:0046514',\n",
       "  'GO:0006068',\n",
       "  'GO:0046135',\n",
       "  'GO:0042402',\n",
       "  'GO:0009154',\n",
       "  'GO:0006706',\n",
       "  'GO:0046364',\n",
       "  'GO:0006027',\n",
       "  'GO:0009251',\n",
       "  'GO:0044247',\n",
       "  'GO:0071731',\n",
       "  'GO:0070301',\n",
       "  'GO:0071295',\n",
       "  'GO:0071318',\n",
       "  'GO:0032495',\n",
       "  'GO:0032570',\n",
       "  'GO:0035094',\n",
       "  'GO:0042220',\n",
       "  'GO:0043278',\n",
       "  'GO:0031000',\n",
       "  'GO:0001975',\n",
       "  'GO:0098813',\n",
       "  'GO:0006401',\n",
       "  'GO:0009451',\n",
       "  'GO:0090501',\n",
       "  'GO:0009299',\n",
       "  'GO:0006367',\n",
       "  'GO:0098781',\n",
       "  'GO:0008033',\n",
       "  'GO:0006418',\n",
       "  'GO:0000398',\n",
       "  'GO:0061647',\n",
       "  'GO:0035404',\n",
       "  'GO:0043966',\n",
       "  'GO:0043967',\n",
       "  'GO:0070932',\n",
       "  'GO:0070076',\n",
       "  'GO:0051568',\n",
       "  'GO:0000723',\n",
       "  'GO:0006323',\n",
       "  'GO:0032508',\n",
       "  'GO:0071897',\n",
       "  'GO:0006306',\n",
       "  'GO:0002562',\n",
       "  'GO:0070050',\n",
       "  'GO:0007338',\n",
       "  'GO:0007617',\n",
       "  'GO:0046697',\n",
       "  'GO:0060669',\n",
       "  'GO:0046879',\n",
       "  'GO:0014031',\n",
       "  'GO:0048469',\n",
       "  'GO:0048864',\n",
       "  'GO:0061515',\n",
       "  'GO:0055013',\n",
       "  'GO:0048747',\n",
       "  'GO:0034446',\n",
       "  'GO:0022618',\n",
       "  'GO:0051258',\n",
       "  'GO:0034312',\n",
       "  'GO:0072330',\n",
       "  'GO:0043484',\n",
       "  'GO:1903798',\n",
       "  'GO:0050684',\n",
       "  'GO:1903312',\n",
       "  'GO:1903313',\n",
       "  'GO:0031998',\n",
       "  'GO:0051043',\n",
       "  'GO:0045821',\n",
       "  'GO:1903364',\n",
       "  'GO:0071824',\n",
       "  'GO:0043624',\n",
       "  'GO:1904886',\n",
       "  'GO:0034369',\n",
       "  'GO:0034377',\n",
       "  'GO:0043244',\n",
       "  'GO:0060142',\n",
       "  'GO:1903053',\n",
       "  'GO:1902904',\n",
       "  'GO:0045806',\n",
       "  'GO:0048259',\n",
       "  'GO:1901889',\n",
       "  'GO:2000810',\n",
       "  'GO:0051894',\n",
       "  'GO:0031345',\n",
       "  'GO:0006333',\n",
       "  'GO:0043044',\n",
       "  'GO:0006471',\n",
       "  'GO:0031365',\n",
       "  'GO:0043687',\n",
       "  'GO:0031503',\n",
       "  'GO:0035418',\n",
       "  'GO:0045185',\n",
       "  'GO:0090150',\n",
       "  'GO:0036473',\n",
       "  'GO:0006984',\n",
       "  'GO:0060395',\n",
       "  'GO:1903831',\n",
       "  'GO:0036498',\n",
       "  'GO:0097192',\n",
       "  'GO:0098664',\n",
       "  'GO:0015701',\n",
       "  'GO:0015914',\n",
       "  'GO:0043252',\n",
       "  'GO:1905039',\n",
       "  'GO:0048705',\n",
       "  'GO:0048706',\n",
       "  'GO:0060348',\n",
       "  'GO:0002062',\n",
       "  'GO:0001649',\n",
       "  'GO:0030282',\n",
       "  'GO:0001958',\n",
       "  'GO:0001504',\n",
       "  'GO:0007269',\n",
       "  'GO:0060306',\n",
       "  'GO:0098900',\n",
       "  'GO:0019228',\n",
       "  'GO:0086002',\n",
       "  'GO:0086012',\n",
       "  'GO:0086013',\n",
       "  'GO:0051900',\n",
       "  'GO:0060079',\n",
       "  'GO:0001704',\n",
       "  'GO:0001756',\n",
       "  'GO:0048645',\n",
       "  'GO:0001843',\n",
       "  'GO:0001569',\n",
       "  'GO:0002040',\n",
       "  'GO:0001541',\n",
       "  'GO:0030850',\n",
       "  'GO:0060711',\n",
       "  'GO:0030539',\n",
       "  'GO:0035264',\n",
       "  'GO:0055017',\n",
       "  'GO:0043403',\n",
       "  'GO:0003401',\n",
       "  'GO:1990138',\n",
       "  'GO:0098868',\n",
       "  'GO:0009913',\n",
       "  'GO:0045446',\n",
       "  'GO:0002066',\n",
       "  'GO:0002067',\n",
       "  'GO:0030308',\n",
       "  'GO:0061050',\n",
       "  'GO:0061387',\n",
       "  'GO:0009620',\n",
       "  'GO:0019730',\n",
       "  'GO:0042832',\n",
       "  'GO:0001945',\n",
       "  'GO:0061437',\n",
       "  'GO:0001658',\n",
       "  'GO:0060444',\n",
       "  'GO:0015909',\n",
       "  'GO:0043583',\n",
       "  'GO:0001656',\n",
       "  'GO:0060993',\n",
       "  'GO:0072012',\n",
       "  'GO:0001659',\n",
       "  'GO:0097009',\n",
       "  'GO:0001764',\n",
       "  'GO:0008347',\n",
       "  'GO:0001755',\n",
       "  'GO:0043534',\n",
       "  'GO:0019371',\n",
       "  'GO:0019373',\n",
       "  'GO:0071333',\n",
       "  'GO:0001824',\n",
       "  'GO:0001708',\n",
       "  'GO:0048663',\n",
       "  'GO:0016331',\n",
       "  'GO:0042472',\n",
       "  'GO:0042733',\n",
       "  'GO:0001947',\n",
       "  'GO:0010171',\n",
       "  'GO:0021587',\n",
       "  'GO:0060042',\n",
       "  'GO:0060325',\n",
       "  'GO:0003148',\n",
       "  'GO:0060412',\n",
       "  'GO:0061384',\n",
       "  'GO:0003180',\n",
       "  'GO:0003181',\n",
       "  'GO:0030101',\n",
       "  'GO:0002312',\n",
       "  'GO:0030183',\n",
       "  'GO:0042100',\n",
       "  'GO:0042098',\n",
       "  'GO:0002287',\n",
       "  'GO:0043367',\n",
       "  'GO:0042093',\n",
       "  'GO:0002292',\n",
       "  'GO:0045576',\n",
       "  'GO:0001774',\n",
       "  'GO:0048873',\n",
       "  'GO:0002367',\n",
       "  'GO:0050663',\n",
       "  'GO:0032656',\n",
       "  'GO:0032674',\n",
       "  'GO:0071634',\n",
       "  'GO:1900015',\n",
       "  'GO:0032757',\n",
       "  'GO:0032753',\n",
       "  'GO:0032735',\n",
       "  'GO:0032740',\n",
       "  'GO:0010575',\n",
       "  'GO:0002739',\n",
       "  'GO:0050710',\n",
       "  'GO:1904467',\n",
       "  'GO:0032689',\n",
       "  'GO:0032729',\n",
       "  'GO:0032733',\n",
       "  'GO:0032651',\n",
       "  'GO:0032692',\n",
       "  'GO:0032682',\n",
       "  'GO:0032722',\n",
       "  'GO:0045086',\n",
       "  'GO:0032720',\n",
       "  'GO:0032760',\n",
       "  'GO:0042534',\n",
       "  'GO:0050718',\n",
       "  'GO:0032727',\n",
       "  'GO:0032728',\n",
       "  'GO:0002719',\n",
       "  'GO:0032715',\n",
       "  'GO:0042036',\n",
       "  'GO:0031645',\n",
       "  'GO:0034104',\n",
       "  'GO:0046621',\n",
       "  'GO:0051961',\n",
       "  'GO:0070168',\n",
       "  'GO:0110111',\n",
       "  'GO:0120163',\n",
       "  'GO:1903707',\n",
       "  'GO:1905208',\n",
       "  'GO:0030195',\n",
       "  'GO:0045668',\n",
       "  'GO:0010614',\n",
       "  'GO:0016525',\n",
       "  'GO:0010718',\n",
       "  'GO:0034105',\n",
       "  'GO:0040018',\n",
       "  'GO:0040019',\n",
       "  'GO:0046622',\n",
       "  'GO:0061036',\n",
       "  'GO:0090184',\n",
       "  'GO:0110110',\n",
       "  'GO:0120162',\n",
       "  'GO:1905209',\n",
       "  'GO:2000463',\n",
       "  'GO:0030194',\n",
       "  'GO:0030501',\n",
       "  'GO:0045669',\n",
       "  'GO:0010613',\n",
       "  'GO:0140029',\n",
       "  'GO:0007595',\n",
       "  'GO:0050482',\n",
       "  'GO:0030073',\n",
       "  'GO:0021510',\n",
       "  'GO:0060485',\n",
       "  'GO:0060612',\n",
       "  'GO:0031018',\n",
       "  'GO:0072163',\n",
       "  'GO:0061351',\n",
       "  'GO:0072089',\n",
       "  'GO:0001935',\n",
       "  'GO:0035050',\n",
       "  'GO:0043277',\n",
       "  'GO:0060333',\n",
       "  'GO:0060337',\n",
       "  'GO:0045824',\n",
       "  'GO:0060338',\n",
       "  'GO:0060334',\n",
       "  'GO:0061028',\n",
       "  'GO:0021983',\n",
       "  'GO:0048538',\n",
       "  'GO:0007435',\n",
       "  'GO:0097421',\n",
       "  'GO:0035162',\n",
       "  'GO:0048566',\n",
       "  'GO:0001895',\n",
       "  'GO:0045453',\n",
       "  'GO:0046888',\n",
       "  'GO:0050805',\n",
       "  'GO:0032460',\n",
       "  'GO:0032461',\n",
       "  'GO:0032462',\n",
       "  'GO:0030838',\n",
       "  'GO:0031116',\n",
       "  'GO:0045921',\n",
       "  'GO:2000300',\n",
       "  'GO:0043302',\n",
       "  'GO:0050732',\n",
       "  'GO:0031057',\n",
       "  'GO:0032515',\n",
       "  'GO:0031397',\n",
       "  'GO:0010837',\n",
       "  'GO:0001937',\n",
       "  'GO:1905564',\n",
       "  'GO:0006998',\n",
       "  'GO:0007009',\n",
       "  'GO:0061025',\n",
       "  'GO:0099024',\n",
       "  'GO:0001953',\n",
       "  'GO:1900026',\n",
       "  'GO:0051968',\n",
       "  'GO:0060291',\n",
       "  'GO:1900273',\n",
       "  'GO:0001960',\n",
       "  'GO:0001961',\n",
       "  'GO:0010803',\n",
       "  'GO:0034122',\n",
       "  'GO:0045746',\n",
       "  'GO:0046627',\n",
       "  'GO:0050858',\n",
       "  'GO:0030512',\n",
       "  'GO:0030514',\n",
       "  'GO:0002029',\n",
       "  'GO:0090090',\n",
       "  'GO:2001240',\n",
       "  'GO:0042059',\n",
       "  'GO:0007271',\n",
       "  'GO:0007274',\n",
       "  'GO:0001974',\n",
       "  'GO:0017085',\n",
       "  'GO:0098754',\n",
       "  'GO:0050885',\n",
       "  'GO:0035809',\n",
       "  'GO:0003091',\n",
       "  'GO:0010543',\n",
       "  'GO:0032350',\n",
       "  'GO:0060415',\n",
       "  'GO:0002011',\n",
       "  'GO:0048730',\n",
       "  'GO:0048333',\n",
       "  'GO:0002021',\n",
       "  'GO:0032094',\n",
       "  'GO:0002026',\n",
       "  'GO:0045822',\n",
       "  'GO:1903779',\n",
       "  'GO:0086091',\n",
       "  'GO:0010460',\n",
       "  'GO:0010765',\n",
       "  'GO:1901381',\n",
       "  'GO:1901380',\n",
       "  'GO:1901016',\n",
       "  'GO:0018107',\n",
       "  'GO:0042311',\n",
       "  'GO:0042310',\n",
       "  'GO:0033628',\n",
       "  'GO:0022409',\n",
       "  'GO:0034110',\n",
       "  'GO:0034114',\n",
       "  'GO:0006221',\n",
       "  'GO:0046134',\n",
       "  'GO:0034033',\n",
       "  'GO:0043101',\n",
       "  'GO:0060252',\n",
       "  'GO:0048714',\n",
       "  'GO:0002053',\n",
       "  'GO:0048146',\n",
       "  'GO:0060045',\n",
       "  'GO:0070665',\n",
       "  'GO:2000179',\n",
       "  'GO:2000648',\n",
       "  'GO:0002088',\n",
       "  'GO:0003407',\n",
       "  'GO:0043457',\n",
       "  'GO:0006476',\n",
       "  'GO:0010470',\n",
       "  'GO:0060688',\n",
       "  'GO:0048813',\n",
       "  'GO:0007411',\n",
       "  'GO:0021955',\n",
       "  'GO:0070509',\n",
       "  'GO:0043174',\n",
       "  'GO:0046129',\n",
       "  'GO:0034656',\n",
       "  'GO:0046164',\n",
       "  'GO:0019320',\n",
       "  'GO:0070423',\n",
       "  'GO:0060443',\n",
       "  'GO:0072659',\n",
       "  'GO:0006968',\n",
       "  'GO:0001662',\n",
       "  'GO:0035640',\n",
       "  'GO:0042755',\n",
       "  'GO:0008542',\n",
       "  'GO:0035176',\n",
       "  'GO:0031103',\n",
       "  'GO:0051607',\n",
       "  'GO:0002223',\n",
       "  'GO:0038096',\n",
       "  'GO:0050852',\n",
       "  'GO:0050853',\n",
       "  'GO:0002755',\n",
       "  'GO:0034142',\n",
       "  'GO:0034162',\n",
       "  'GO:0035666',\n",
       "  'GO:0002407',\n",
       "  'GO:0002548',\n",
       "  'GO:0030593',\n",
       "  'GO:0034620',\n",
       "  'GO:0002244',\n",
       "  'GO:0002437',\n",
       "  'GO:0002456',\n",
       "  'GO:0042088',\n",
       "  'GO:0016064',\n",
       "  'GO:0002830',\n",
       "  'GO:0002922',\n",
       "  'GO:0045624',\n",
       "  'GO:0050857',\n",
       "  'GO:0002726',\n",
       "  'GO:0034123',\n",
       "  'GO:0002532',\n",
       "  'GO:0006953',\n",
       "  'GO:0048143',\n",
       "  'GO:0043312',\n",
       "  'GO:0045061',\n",
       "  'GO:0032922',\n",
       "  'GO:0070613',\n",
       "  'GO:0015721',\n",
       "  'GO:0032365',\n",
       "  'GO:0097028',\n",
       "  'GO:0050901',\n",
       "  'GO:0072678',\n",
       "  'GO:0016540',\n",
       "  'GO:0031638',\n",
       "  'GO:0006888',\n",
       "  'GO:0016482',\n",
       "  'GO:0048489',\n",
       "  'GO:0006625',\n",
       "  'GO:0051168',\n",
       "  'GO:0006606',\n",
       "  'GO:0098930',\n",
       "  'GO:0030225',\n",
       "  'GO:0030316',\n",
       "  'GO:0030218',\n",
       "  'GO:0002576',\n",
       "  'GO:0017156',\n",
       "  'GO:0002686',\n",
       "  'GO:0002695',\n",
       "  'GO:0002704',\n",
       "  'GO:0002889',\n",
       "  'GO:0030449',\n",
       "  'GO:0050688',\n",
       "  'GO:0002888',\n",
       "  'GO:0043304',\n",
       "  'GO:0051023',\n",
       "  'GO:0090344',\n",
       "  'GO:0055022',\n",
       "  'GO:1905332',\n",
       "  'GO:0051965',\n",
       "  'GO:0045727',\n",
       "  'GO:0045740',\n",
       "  'GO:0051770',\n",
       "  'GO:0002861',\n",
       "  'GO:0050728',\n",
       "  'GO:0150078',\n",
       "  'GO:1903978',\n",
       "  'GO:0002675',\n",
       "  'GO:0010762',\n",
       "  'GO:0014911',\n",
       "  'GO:0014912',\n",
       "  'GO:1904752',\n",
       "  'GO:0140131',\n",
       "  'GO:2000406',\n",
       "  'GO:0090026',\n",
       "  'GO:0010759',\n",
       "  'GO:2000778',\n",
       "  'GO:0045408',\n",
       "  'GO:0022400',\n",
       "  'GO:0048679',\n",
       "  'GO:0050922',\n",
       "  'GO:0050927',\n",
       "  'GO:2001028',\n",
       "  'GO:0051709',\n",
       "  'GO:0045070',\n",
       "  'GO:0045652',\n",
       "  'GO:0002762',\n",
       "  'GO:0045649',\n",
       "  'GO:0045672',\n",
       "  'GO:0045648',\n",
       "  'GO:0007219',\n",
       "  'GO:0007224',\n",
       "  'GO:0007229',\n",
       "  'GO:0031663',\n",
       "  'GO:0061311',\n",
       "  'GO:0007259',\n",
       "  'GO:0035235',\n",
       "  'GO:0048011',\n",
       "  'GO:0035589',\n",
       "  'GO:0038095',\n",
       "  'GO:0002792',\n",
       "  'GO:0033604',\n",
       "  'GO:0045429',\n",
       "  'GO:0045722',\n",
       "  'GO:0046886',\n",
       "  'GO:0060732',\n",
       "  'GO:0034605',\n",
       "  'GO:0071470',\n",
       "  'GO:0090398',\n",
       "  'GO:1903035',\n",
       "  'GO:2001024',\n",
       "  'GO:1902230',\n",
       "  'GO:0007498',\n",
       "  'GO:0035987',\n",
       "  'GO:0034440',\n",
       "  'GO:0009880',\n",
       "  'GO:0009953',\n",
       "  'GO:0009948',\n",
       "  'GO:0060425',\n",
       "  'GO:0042475',\n",
       "  'GO:0003203',\n",
       "  'GO:0060317',\n",
       "  'GO:0060976',\n",
       "  'GO:0055010',\n",
       "  'GO:0003177',\n",
       "  'GO:0003279',\n",
       "  'GO:0003209',\n",
       "  'GO:0007588',\n",
       "  'GO:0050892',\n",
       "  'GO:0043500',\n",
       "  'GO:0090075',\n",
       "  'GO:0003015',\n",
       "  'GO:0043114',\n",
       "  'GO:0003300',\n",
       "  'GO:0002003',\n",
       "  'GO:0003071',\n",
       "  'GO:0048512',\n",
       "  'GO:0045776',\n",
       "  'GO:0045777',\n",
       "  'GO:0003044',\n",
       "  'GO:0086019',\n",
       "  'GO:0048701',\n",
       "  'GO:0001841',\n",
       "  'GO:0003156',\n",
       "  'GO:2000826',\n",
       "  'GO:0060071',\n",
       "  'GO:0055080',\n",
       "  'GO:0055083',\n",
       "  'GO:0055089',\n",
       "  'GO:0007223',\n",
       "  'GO:0014048',\n",
       "  'GO:0099111',\n",
       "  'GO:0007519',\n",
       "  'GO:0021953',\n",
       "  'GO:0071542',\n",
       "  'GO:0060113',\n",
       "  'GO:0001754',\n",
       "  'GO:0042461',\n",
       "  'GO:0008038',\n",
       "  'GO:0007205',\n",
       "  'GO:0007212',\n",
       "  'GO:0007213',\n",
       "  'GO:0007218',\n",
       "  'GO:0060996',\n",
       "  'GO:0033627',\n",
       "  'GO:0007160',\n",
       "  'GO:0014003',\n",
       "  'GO:0022011',\n",
       "  'GO:0044088',\n",
       "  'GO:0010823',\n",
       "  'GO:1903146',\n",
       "  'GO:0090200',\n",
       "  'GO:1903955',\n",
       "  'GO:0040020',\n",
       "  'GO:0045839',\n",
       "  'GO:0033688',\n",
       "  'GO:1902692',\n",
       "  'GO:1904706',\n",
       "  'GO:1904707',\n",
       "  'GO:0032945',\n",
       "  'GO:0030890',\n",
       "  'GO:0032467',\n",
       "  'GO:0110020',\n",
       "  'GO:2000249',\n",
       "  'GO:0031111',\n",
       "  'GO:0009311',\n",
       "  'GO:0016052',\n",
       "  'GO:0033692',\n",
       "  'GO:0019400',\n",
       "  'GO:0046835',\n",
       "  'GO:0005977',\n",
       "  'GO:0006094',\n",
       "  'GO:0043647',\n",
       "  'GO:0090407',\n",
       "  'GO:0009394',\n",
       "  'GO:0009218',\n",
       "  'GO:0009142',\n",
       "  'GO:0009205',\n",
       "  'GO:0009126',\n",
       "  'GO:0009162',\n",
       "  'GO:0009130',\n",
       "  'GO:0009168',\n",
       "  'GO:0034030',\n",
       "  'GO:0046949',\n",
       "  'GO:0046475',\n",
       "  'GO:0006757',\n",
       "  'GO:0006040',\n",
       "  'GO:1903509',\n",
       "  'GO:0016137',\n",
       "  'GO:1901658',\n",
       "  'GO:1901659',\n",
       "  'GO:0006024',\n",
       "  'GO:0030212',\n",
       "  'GO:0061621',\n",
       "  'GO:0006119',\n",
       "  'GO:0046939',\n",
       "  'GO:0046854',\n",
       "  'GO:0006487',\n",
       "  'GO:0016266',\n",
       "  'GO:0019377',\n",
       "  'GO:0006691',\n",
       "  'GO:0042743',\n",
       "  'GO:0008206',\n",
       "  'GO:0042573',\n",
       "  'GO:0072329',\n",
       "  'GO:0052695',\n",
       "  'GO:1902644',\n",
       "  'GO:0042572',\n",
       "  'GO:0006695',\n",
       "  'GO:0042359',\n",
       "  'GO:0051187',\n",
       "  'GO:1901661',\n",
       "  'GO:0006783',\n",
       "  'GO:0043470',\n",
       "  'GO:0010677',\n",
       "  'GO:0010906',\n",
       "  'GO:0005979',\n",
       "  'GO:0070875',\n",
       "  'GO:0009060',\n",
       "  'GO:0022904',\n",
       "  'GO:0006349',\n",
       "  'GO:0015949',\n",
       "  'GO:1900371',\n",
       "  'GO:0062014',\n",
       "  'GO:0045540',\n",
       "  'GO:0009214',\n",
       "  'GO:0046058',\n",
       "  'GO:0019359',\n",
       "  'GO:0009152',\n",
       "  'GO:0006206',\n",
       "  'GO:0006261',\n",
       "  'GO:0010559',\n",
       "  'GO:0043516',\n",
       "  'GO:0044257',\n",
       "  'GO:0045815',\n",
       "  'GO:0017148',\n",
       "  'GO:0000956',\n",
       "  'GO:0031047',\n",
       "  'GO:0006446',\n",
       "  'GO:0061077',\n",
       "  'GO:0050435',\n",
       "  'GO:0035335',\n",
       "  'GO:0035970',\n",
       "  'GO:0018393',\n",
       "  'GO:0006482',\n",
       "  'GO:0046486',\n",
       "  'GO:0046461',\n",
       "  'GO:0019433',\n",
       "  'GO:0006509',\n",
       "  'GO:0031293',\n",
       "  'GO:0031145',\n",
       "  'GO:0031146',\n",
       "  'GO:0006511',\n",
       "  'GO:0006521',\n",
       "  'GO:0042304',\n",
       "  'GO:0045923',\n",
       "  'GO:0009712',\n",
       "  'GO:0072655',\n",
       "  'GO:0046467',\n",
       "  'GO:0006733',\n",
       "  'GO:0006687',\n",
       "  'GO:0006661',\n",
       "  'GO:0036148',\n",
       "  'GO:0006654',\n",
       "  'GO:0008207',\n",
       "  'GO:0008209',\n",
       "  'GO:0008210',\n",
       "  'GO:0008211',\n",
       "  'GO:0042136',\n",
       "  'GO:0042135',\n",
       "  'GO:0006805',\n",
       "  'GO:0071549',\n",
       "  'GO:1902476',\n",
       "  'GO:0015695',\n",
       "  'GO:0015696',\n",
       "  'GO:1902600',\n",
       "  'GO:0035725',\n",
       "  'GO:0071805',\n",
       "  'GO:0006835',\n",
       "  'GO:0051937',\n",
       "  'GO:0030301',\n",
       "  'GO:0051209',\n",
       "  'GO:0006855',\n",
       "  'GO:0140115',\n",
       "  'GO:0098659',\n",
       "  'GO:0015800',\n",
       "  'GO:1902475',\n",
       "  'GO:0051028',\n",
       "  'GO:1901264',\n",
       "  'GO:1901571',\n",
       "  'GO:1904659',\n",
       "  'GO:0032469',\n",
       "  'GO:0006890',\n",
       "  'GO:0048208',\n",
       "  'GO:0031623',\n",
       "  'GO:0051402',\n",
       "  'GO:0071887',\n",
       "  'GO:0097194',\n",
       "  'GO:1904019',\n",
       "  'GO:0022617',\n",
       "  'GO:1903008',\n",
       "  'GO:0050918',\n",
       "  'GO:0006939',\n",
       "  'GO:0003009',\n",
       "  'GO:0060048',\n",
       "  'GO:0014743',\n",
       "  'GO:0045987',\n",
       "  'GO:0010882',\n",
       "  'GO:0086004',\n",
       "  'GO:0051602',\n",
       "  'GO:0010447',\n",
       "  'GO:0055093',\n",
       "  'GO:0070059',\n",
       "  'GO:0034198',\n",
       "  'GO:0042149',\n",
       "  'GO:0007030',\n",
       "  'GO:0016050',\n",
       "  'GO:0044782',\n",
       "  'GO:0007040',\n",
       "  'GO:0007015',\n",
       "  'GO:0031032',\n",
       "  'GO:0031532',\n",
       "  'GO:0010591',\n",
       "  'GO:1902745',\n",
       "  'GO:0072662',\n",
       "  'GO:0045840',\n",
       "  'GO:0030071',\n",
       "  'GO:0046605',\n",
       "  'GO:1905818',\n",
       "  'GO:0071157',\n",
       "  'GO:0070317',\n",
       "  'GO:1902749',\n",
       "  'GO:0010972',\n",
       "  'GO:0031571',\n",
       "  'GO:1902402',\n",
       "  'GO:0010971',\n",
       "  'GO:1900087',\n",
       "  'GO:0034113',\n",
       "  'GO:0070527',\n",
       "  'GO:0007157',\n",
       "  'GO:0007179',\n",
       "  'GO:0032924',\n",
       "  'GO:0008286',\n",
       "  'GO:0008543',\n",
       "  'GO:0038084',\n",
       "  'GO:0048008',\n",
       "  'GO:0048010',\n",
       "  'GO:0048013',\n",
       "  'GO:0060396',\n",
       "  'GO:0007173',\n",
       "  'GO:0038128',\n",
       "  'GO:2000272',\n",
       "  'GO:2000273',\n",
       "  'GO:2000310',\n",
       "  'GO:0007189',\n",
       "  'GO:0007193',\n",
       "  'GO:0007190',\n",
       "  'GO:0051438',\n",
       "  'GO:0031281',\n",
       "  'GO:0051354',\n",
       "  'GO:0051000',\n",
       "  'GO:0007194',\n",
       "  'GO:0051482',\n",
       "  'GO:0060402',\n",
       "  'GO:0032793',\n",
       "  'GO:0051092',\n",
       "  'GO:0038083',\n",
       "  'GO:0007266',\n",
       "  'GO:0099504',\n",
       "  'GO:0007422',\n",
       "  'GO:0007286',\n",
       "  'GO:0048599',\n",
       "  'GO:0030728',\n",
       "  'GO:0060135',\n",
       "  'GO:1902117',\n",
       "  'GO:0051496',\n",
       "  'GO:0051489',\n",
       "  'GO:0120034',\n",
       "  'GO:1904029',\n",
       "  'GO:0007368',\n",
       "  'GO:0007528',\n",
       "  'GO:0048546',\n",
       "  'GO:0001570',\n",
       "  'GO:0048844',\n",
       "  'GO:0072078',\n",
       "  'GO:0001657',\n",
       "  'GO:0030857',\n",
       "  'GO:0045599',\n",
       "  'GO:0051154',\n",
       "  'GO:0045445',\n",
       "  'GO:0051055',\n",
       "  'GO:0071071',\n",
       "  'GO:0010893',\n",
       "  'GO:0007566',\n",
       "  'GO:0010259',\n",
       "  'GO:0072378',\n",
       "  'GO:0050906',\n",
       "  'GO:0050951',\n",
       "  'GO:0007605',\n",
       "  'GO:0007601',\n",
       "  'GO:0050912',\n",
       "  'GO:0050913',\n",
       "  'GO:0007616',\n",
       "  'GO:0022602',\n",
       "  'GO:0007628',\n",
       "  'GO:0009583',\n",
       "  'GO:0034644',\n",
       "  'GO:0035994',\n",
       "  'GO:0071260',\n",
       "  'GO:0050966',\n",
       "  'GO:0045907',\n",
       "  'GO:0008064',\n",
       "  'GO:0042446',\n",
       "  'GO:0042447',\n",
       "  'GO:0070268',\n",
       "  'GO:0070266',\n",
       "  'GO:0045745',\n",
       "  'GO:0060134',\n",
       "  'GO:0045071',\n",
       "  'GO:0008360',\n",
       "  'GO:0010769',\n",
       "  'GO:0016925',\n",
       "  'GO:0008625',\n",
       "  'GO:0042771',\n",
       "  'GO:0009179',\n",
       "  'GO:0009409',\n",
       "  'GO:0050965',\n",
       "  'GO:0120031',\n",
       "  'GO:0098586',\n",
       "  'GO:0045187',\n",
       "  'GO:0050829',\n",
       "  'GO:0050830',\n",
       "  'GO:0033574',\n",
       "  'GO:0097066',\n",
       "  'GO:0032354',\n",
       "  'GO:0071371',\n",
       "  'GO:0044320',\n",
       "  'GO:0071380',\n",
       "  'GO:0070723',\n",
       "  'GO:0033189',\n",
       "  'GO:0033280',\n",
       "  'GO:0030521',\n",
       "  'GO:0071392',\n",
       "  'GO:0050995',\n",
       "  'GO:0050996',\n",
       "  'GO:0010039',\n",
       "  'GO:0010042',\n",
       "  'GO:0010043',\n",
       "  'GO:0010226',\n",
       "  'GO:0010288',\n",
       "  'GO:0032026',\n",
       "  'GO:0035864',\n",
       "  'GO:0046688',\n",
       "  'GO:0071276',\n",
       "  'GO:0071277',\n",
       "  'GO:2000649',\n",
       "  'GO:0010165',\n",
       "  'GO:0071480',\n",
       "  'GO:0061041',\n",
       "  'GO:1900408',\n",
       "  'GO:1903206',\n",
       "  'GO:1904837',\n",
       "  'GO:0032930',\n",
       "  'GO:1900034',\n",
       "  'GO:2000772',\n",
       "  'GO:1900409',\n",
       "  'GO:1900101',\n",
       "  'GO:1902235',\n",
       "  'GO:1905898',\n",
       "  'GO:0070303',\n",
       "  'GO:0070304',\n",
       "  'GO:0010744',\n",
       "  'GO:0045600',\n",
       "  'GO:0051155',\n",
       "  'GO:0045621',\n",
       "  'GO:0010951',\n",
       "  'GO:2001056',\n",
       "  'GO:0043154',\n",
       "  'GO:0034260',\n",
       "  'GO:0010507',\n",
       "  'GO:0016239',\n",
       "  'GO:1903363',\n",
       "  'GO:0048255',\n",
       "  'GO:1900274',\n",
       "  'GO:0035774',\n",
       "  'GO:0090280',\n",
       "  'GO:0051281',\n",
       "  'GO:1901021',\n",
       "  'GO:0061098',\n",
       "  'GO:0042531',\n",
       "  'GO:0043537',\n",
       "  'GO:0090050',\n",
       "  'GO:0002092',\n",
       "  'GO:1905269',\n",
       "  'GO:1904355',\n",
       "  'GO:0033033',\n",
       "  ...],\n",
       " ['GO:0007005',\n",
       "  'GO:0006281',\n",
       "  'GO:0051054',\n",
       "  'GO:0001676',\n",
       "  'GO:0030001',\n",
       "  'GO:0070925',\n",
       "  'GO:1901566',\n",
       "  'GO:0043604',\n",
       "  'GO:1901605',\n",
       "  'GO:0006575',\n",
       "  'GO:0051656',\n",
       "  'GO:0044773',\n",
       "  'GO:0044783',\n",
       "  'GO:0072422',\n",
       "  'GO:1902403',\n",
       "  'GO:0000082',\n",
       "  'GO:0045892',\n",
       "  'GO:0035383',\n",
       "  'GO:0044272',\n",
       "  'GO:0009063',\n",
       "  'GO:0045944',\n",
       "  'GO:0030031',\n",
       "  'GO:0097193',\n",
       "  'GO:0007265',\n",
       "  'GO:0051403',\n",
       "  'GO:0000187',\n",
       "  'GO:0016567',\n",
       "  'GO:0000226',\n",
       "  'GO:0030036',\n",
       "  'GO:0016999',\n",
       "  'GO:0042737',\n",
       "  'GO:0006518',\n",
       "  'GO:0030163',\n",
       "  'GO:0034655',\n",
       "  'GO:0016051',\n",
       "  'GO:0034614',\n",
       "  'GO:0033273',\n",
       "  'GO:0035690',\n",
       "  'GO:0045471',\n",
       "  'GO:0097327',\n",
       "  'GO:0006396',\n",
       "  'GO:0006366',\n",
       "  'GO:0016570',\n",
       "  'GO:0001894',\n",
       "  'GO:0007565',\n",
       "  'GO:0009914',\n",
       "  'GO:0002064',\n",
       "  'GO:0048667',\n",
       "  'GO:0051301',\n",
       "  'GO:0034622',\n",
       "  'GO:0046165',\n",
       "  'GO:0046394',\n",
       "  'GO:0051252',\n",
       "  'GO:0010506',\n",
       "  'GO:0031330',\n",
       "  'GO:0031331',\n",
       "  'GO:1903362',\n",
       "  'GO:0070542',\n",
       "  'GO:0071229',\n",
       "  'GO:0022604',\n",
       "  'GO:0050807',\n",
       "  'GO:0110053',\n",
       "  'GO:1902905',\n",
       "  'GO:0008214',\n",
       "  'GO:0035601',\n",
       "  'GO:0072594',\n",
       "  'GO:0030522',\n",
       "  'GO:0043401',\n",
       "  'GO:0098656',\n",
       "  'GO:0001501',\n",
       "  'GO:0001503',\n",
       "  'GO:0006836',\n",
       "  'GO:0001505',\n",
       "  'GO:0042391',\n",
       "  'GO:0001525',\n",
       "  'GO:0001890',\n",
       "  'GO:0048589',\n",
       "  'GO:0030307',\n",
       "  'GO:0045926',\n",
       "  'GO:0009615',\n",
       "  'GO:0001944',\n",
       "  'GO:0048754',\n",
       "  'GO:0015908',\n",
       "  'GO:0090596',\n",
       "  'GO:0043010',\n",
       "  'GO:0001823',\n",
       "  'GO:0072073',\n",
       "  'GO:0071456',\n",
       "  'GO:0030595',\n",
       "  'GO:0097164',\n",
       "  'GO:0006694',\n",
       "  'GO:0034654',\n",
       "  'GO:0001701',\n",
       "  'GO:0007369',\n",
       "  'GO:0045165',\n",
       "  'GO:0048562',\n",
       "  'GO:0035107',\n",
       "  'GO:0030217',\n",
       "  'GO:0036230',\n",
       "  'GO:0048872',\n",
       "  'GO:0001816',\n",
       "  'GO:0001818',\n",
       "  'GO:0032675',\n",
       "  'GO:0042035',\n",
       "  'GO:0050715',\n",
       "  'GO:0023061',\n",
       "  'GO:0045055',\n",
       "  'GO:0030324',\n",
       "  'GO:0043588',\n",
       "  'GO:0008283',\n",
       "  'GO:0097191',\n",
       "  'GO:0003158',\n",
       "  'GO:0006909',\n",
       "  'GO:0045087',\n",
       "  'GO:0045088',\n",
       "  'GO:0046661',\n",
       "  'GO:0001889',\n",
       "  'GO:0030879',\n",
       "  'GO:0031334',\n",
       "  'GO:0017157',\n",
       "  'GO:0006469',\n",
       "  'GO:0043409',\n",
       "  'GO:0001938',\n",
       "  'GO:0061024',\n",
       "  'GO:0010810',\n",
       "  'GO:0046887',\n",
       "  'GO:0050806',\n",
       "  'GO:0001959',\n",
       "  'GO:2001234',\n",
       "  'GO:0007268',\n",
       "  'GO:0048771',\n",
       "  'GO:0097237',\n",
       "  'GO:0071466',\n",
       "  'GO:0072088',\n",
       "  'GO:0008016',\n",
       "  'GO:0018105',\n",
       "  'GO:0018108',\n",
       "  'GO:0046777',\n",
       "  'GO:0097746',\n",
       "  'GO:0045785',\n",
       "  'GO:0022408',\n",
       "  'GO:0006164',\n",
       "  'GO:0010976',\n",
       "  'GO:0048661',\n",
       "  'GO:0043467',\n",
       "  'GO:1905330',\n",
       "  'GO:2000027',\n",
       "  'GO:0060401',\n",
       "  'GO:0070588',\n",
       "  'GO:0006886',\n",
       "  'GO:0072657',\n",
       "  'GO:0006954',\n",
       "  'GO:0007626',\n",
       "  'GO:0030534',\n",
       "  'GO:0042742',\n",
       "  'GO:0002224',\n",
       "  'GO:0002429',\n",
       "  'GO:0002702',\n",
       "  'GO:0006986',\n",
       "  'GO:0002250',\n",
       "  'GO:0002366',\n",
       "  'GO:0002443',\n",
       "  'GO:0040029',\n",
       "  'GO:0043488',\n",
       "  'GO:0071222',\n",
       "  'GO:0002573',\n",
       "  'GO:0016485',\n",
       "  'GO:0050777',\n",
       "  'GO:0002712',\n",
       "  'GO:0048639',\n",
       "  'GO:0045639',\n",
       "  'GO:0045844',\n",
       "  'GO:0045766',\n",
       "  'GO:0050729',\n",
       "  'GO:0030336',\n",
       "  'GO:0002690',\n",
       "  'GO:0010595',\n",
       "  'GO:0050866',\n",
       "  'GO:0032102',\n",
       "  'GO:0043901',\n",
       "  'GO:0043902',\n",
       "  'GO:0043903',\n",
       "  'GO:0002761',\n",
       "  'GO:0019221',\n",
       "  'GO:0051048',\n",
       "  'GO:0031328',\n",
       "  'GO:0009267',\n",
       "  'GO:0034976',\n",
       "  'GO:0035967',\n",
       "  'GO:0014706',\n",
       "  'GO:0030258',\n",
       "  'GO:0003007',\n",
       "  'GO:0048644',\n",
       "  'GO:0003014',\n",
       "  'GO:0006936',\n",
       "  'GO:0007623',\n",
       "  'GO:0008217',\n",
       "  'GO:0016055',\n",
       "  'GO:0061333',\n",
       "  'GO:0007018',\n",
       "  'GO:0007200',\n",
       "  'GO:0007188',\n",
       "  'GO:0048812',\n",
       "  'GO:0061564',\n",
       "  'GO:0098609',\n",
       "  'GO:0010001',\n",
       "  'GO:0010639',\n",
       "  'GO:0033044',\n",
       "  'GO:0010822',\n",
       "  'GO:0007088',\n",
       "  'GO:0008285',\n",
       "  'GO:0042102',\n",
       "  'GO:0051302',\n",
       "  'GO:0051495',\n",
       "  'GO:0070507',\n",
       "  'GO:0030832',\n",
       "  'GO:0044262',\n",
       "  'GO:0006006',\n",
       "  'GO:0009150',\n",
       "  'GO:0009260',\n",
       "  'GO:0009135',\n",
       "  'GO:0009185',\n",
       "  'GO:1901136',\n",
       "  'GO:1901137',\n",
       "  'GO:0016311',\n",
       "  'GO:0008203',\n",
       "  'GO:0018958',\n",
       "  'GO:1901616',\n",
       "  'GO:0015980',\n",
       "  'GO:0022900',\n",
       "  'GO:0006732',\n",
       "  'GO:0051188',\n",
       "  'GO:0045913',\n",
       "  'GO:0045934',\n",
       "  'GO:0010565',\n",
       "  'GO:0062013',\n",
       "  'GO:0072527',\n",
       "  'GO:0034645',\n",
       "  'GO:0006417',\n",
       "  'GO:2001020',\n",
       "  'GO:0019941',\n",
       "  'GO:0006457',\n",
       "  'GO:0006475',\n",
       "  'GO:0018394',\n",
       "  'GO:0070988',\n",
       "  'GO:0006643',\n",
       "  'GO:0044242',\n",
       "  'GO:0006721',\n",
       "  'GO:0046474',\n",
       "  'GO:0034754',\n",
       "  'GO:0015672',\n",
       "  'GO:0015850',\n",
       "  'GO:1903825',\n",
       "  'GO:0007204',\n",
       "  'GO:0008361',\n",
       "  'GO:0006898',\n",
       "  'GO:0022411',\n",
       "  'GO:0006935',\n",
       "  'GO:0006937',\n",
       "  'GO:0009266',\n",
       "  'GO:0009612',\n",
       "  'GO:0071214',\n",
       "  'GO:0007031',\n",
       "  'GO:0010256',\n",
       "  'GO:0097435',\n",
       "  'GO:0007059',\n",
       "  'GO:0045931',\n",
       "  'GO:1901990',\n",
       "  'GO:0090068',\n",
       "  'GO:0044819',\n",
       "  'GO:0007169',\n",
       "  'GO:0010469',\n",
       "  'GO:0051091',\n",
       "  'GO:0019722',\n",
       "  'GO:0007283',\n",
       "  'GO:0009855',\n",
       "  'GO:0050808',\n",
       "  'GO:0030900',\n",
       "  'GO:0072080',\n",
       "  'GO:0046890',\n",
       "  'GO:0007568',\n",
       "  'GO:0030168',\n",
       "  'GO:0019233',\n",
       "  'GO:0007612',\n",
       "  'GO:0007613',\n",
       "  'GO:0009416',\n",
       "  'GO:0008277',\n",
       "  'GO:0032869',\n",
       "  'GO:0010212',\n",
       "  'GO:0051606',\n",
       "  'GO:0042752',\n",
       "  'GO:0032355',\n",
       "  'GO:0009746',\n",
       "  'GO:0097306',\n",
       "  'GO:0014074',\n",
       "  'GO:0071407',\n",
       "  'GO:0042177',\n",
       "  'GO:0071248',\n",
       "  'GO:1903169',\n",
       "  'GO:1904064',\n",
       "  'GO:2001257',\n",
       "  'GO:0030198',\n",
       "  'GO:2000379',\n",
       "  'GO:0032872',\n",
       "  'GO:0043281',\n",
       "  'GO:0051346',\n",
       "  'GO:0010517',\n",
       "  'GO:0032386',\n",
       "  'GO:0051928',\n",
       "  'GO:0050731',\n",
       "  'GO:0043523',\n",
       "  'GO:2001235',\n",
       "  'GO:0045665',\n",
       "  'GO:0043547',\n",
       "  'GO:0090092',\n",
       "  'GO:0014013',\n",
       "  'GO:0051952',\n",
       "  'GO:0043279',\n",
       "  'GO:0051146',\n",
       "  'GO:0016032',\n",
       "  'GO:0045834',\n",
       "  'GO:0071356',\n",
       "  'GO:0090287',\n",
       "  'GO:0030856',\n",
       "  'GO:0031099',\n",
       "  'GO:0090316',\n",
       "  'GO:1903320',\n",
       "  'GO:0031644',\n",
       "  'GO:0031647',\n",
       "  'GO:0071496',\n",
       "  'GO:0048167',\n",
       "  'GO:0050796',\n",
       "  'GO:0043393',\n",
       "  'GO:0051099',\n",
       "  'GO:1901655',\n",
       "  'GO:0070372',\n",
       "  'GO:1905475',\n",
       "  'GO:0046683',\n",
       "  'GO:0060173',\n",
       "  'GO:0051101',\n",
       "  'GO:0033500',\n",
       "  'GO:0070555',\n",
       "  'GO:0051260',\n",
       "  'GO:0034330',\n",
       "  'GO:0060359',\n",
       "  'GO:0045937',\n",
       "  'GO:0071363',\n",
       "  'GO:0045732',\n",
       "  'GO:1901796',\n",
       "  'GO:0051056',\n",
       "  'GO:0048880',\n",
       "  'GO:1904950',\n",
       "  'GO:0051282',\n",
       "  'GO:0055024',\n",
       "  'GO:0060828',\n",
       "  'GO:2001236',\n",
       "  'GO:2001242'],\n",
       " ['GO:0051052',\n",
       "  'GO:0044772',\n",
       "  'GO:0006631',\n",
       "  'GO:0045930',\n",
       "  'GO:0006974',\n",
       "  'GO:0043406',\n",
       "  'GO:0006357',\n",
       "  'GO:0045893',\n",
       "  'GO:0051090',\n",
       "  'GO:0006790',\n",
       "  'GO:0000165',\n",
       "  'GO:0019932',\n",
       "  'GO:0032147',\n",
       "  'GO:0007010',\n",
       "  'GO:0017144',\n",
       "  'GO:0043603',\n",
       "  'GO:1901565',\n",
       "  'GO:1901361',\n",
       "  'GO:0044265',\n",
       "  'GO:0000302',\n",
       "  'GO:0034599',\n",
       "  'GO:0007584',\n",
       "  'GO:0042493',\n",
       "  'GO:0010038',\n",
       "  'GO:0016070',\n",
       "  'GO:0006325',\n",
       "  'GO:0006259',\n",
       "  'GO:0060249',\n",
       "  'GO:0007276',\n",
       "  'GO:0007548',\n",
       "  'GO:0048608',\n",
       "  'GO:0000904',\n",
       "  'GO:0031329',\n",
       "  'GO:0001101',\n",
       "  'GO:0001558',\n",
       "  'GO:0043254',\n",
       "  'GO:0051129',\n",
       "  'GO:0006468',\n",
       "  'GO:0070647',\n",
       "  'GO:0015031',\n",
       "  'GO:0007186',\n",
       "  'GO:0097190',\n",
       "  'GO:0046942',\n",
       "  'GO:0006897',\n",
       "  'GO:0048646',\n",
       "  'GO:0030855',\n",
       "  'GO:0045927',\n",
       "  'GO:0048638',\n",
       "  'GO:0098542',\n",
       "  'GO:0007423',\n",
       "  'GO:0001822',\n",
       "  'GO:0048871',\n",
       "  'GO:0001666',\n",
       "  'GO:0050900',\n",
       "  'GO:1901362',\n",
       "  'GO:0019438',\n",
       "  'GO:0043009',\n",
       "  'GO:0048598',\n",
       "  'GO:0009887',\n",
       "  'GO:0030098',\n",
       "  'GO:0042110',\n",
       "  'GO:0002274',\n",
       "  'GO:0007596',\n",
       "  'GO:0001819',\n",
       "  'GO:0051241',\n",
       "  'GO:0032940',\n",
       "  'GO:0007420',\n",
       "  'GO:0007507',\n",
       "  'GO:0007517',\n",
       "  'GO:0048568',\n",
       "  'GO:0048732',\n",
       "  'GO:0010629',\n",
       "  'GO:0001933',\n",
       "  'GO:0050679',\n",
       "  'GO:0050714',\n",
       "  'GO:1902532',\n",
       "  'GO:0009636',\n",
       "  'GO:0009410',\n",
       "  'GO:0007600',\n",
       "  'GO:0007611',\n",
       "  'GO:0042445',\n",
       "  'GO:0060562',\n",
       "  'GO:0031669',\n",
       "  'GO:0051924',\n",
       "  'GO:0044271',\n",
       "  'GO:0050769',\n",
       "  'GO:0045765',\n",
       "  'GO:0006816',\n",
       "  'GO:0044283',\n",
       "  'GO:0046395',\n",
       "  'GO:0033365',\n",
       "  'GO:0002758',\n",
       "  'GO:0032496',\n",
       "  'GO:0030099',\n",
       "  'GO:0006955',\n",
       "  'GO:0002252',\n",
       "  'GO:0010467',\n",
       "  'GO:0010608',\n",
       "  'GO:0009607',\n",
       "  'GO:0006869',\n",
       "  'GO:0046907',\n",
       "  'GO:0002683',\n",
       "  'GO:0002699',\n",
       "  'GO:0050727',\n",
       "  'GO:0010632',\n",
       "  'GO:0030335',\n",
       "  'GO:0032103',\n",
       "  'GO:0043900',\n",
       "  'GO:0045637',\n",
       "  'GO:1902105',\n",
       "  'GO:0007167',\n",
       "  'GO:1905114',\n",
       "  'GO:0031349',\n",
       "  'GO:2000113',\n",
       "  'GO:0009799',\n",
       "  'GO:0008015',\n",
       "  'GO:0031175',\n",
       "  'GO:0007155',\n",
       "  'GO:0010638',\n",
       "  'GO:0051493',\n",
       "  'GO:0050670',\n",
       "  'GO:0005996',\n",
       "  'GO:0006644',\n",
       "  'GO:0009117',\n",
       "  'GO:1901135',\n",
       "  'GO:0006066',\n",
       "  'GO:1901617',\n",
       "  'GO:0055114',\n",
       "  'GO:0006091',\n",
       "  'GO:0051186',\n",
       "  'GO:0006109',\n",
       "  'GO:0045935',\n",
       "  'GO:0062012',\n",
       "  'GO:0006473',\n",
       "  'GO:0006508',\n",
       "  'GO:0008610',\n",
       "  'GO:0016042',\n",
       "  'GO:0008202',\n",
       "  'GO:0098662',\n",
       "  'GO:0006874',\n",
       "  'GO:0090257',\n",
       "  'GO:0009314',\n",
       "  'GO:0035966',\n",
       "  'GO:0010975',\n",
       "  'GO:0010564',\n",
       "  'GO:0043086',\n",
       "  'GO:0044089',\n",
       "  'GO:0045787',\n",
       "  'GO:0010721',\n",
       "  'GO:0048511',\n",
       "  'GO:1903522',\n",
       "  'GO:0018205',\n",
       "  'GO:0048545',\n",
       "  'GO:0097305',\n",
       "  'GO:0071396',\n",
       "  'GO:0046677',\n",
       "  'GO:0071375',\n",
       "  'GO:0042176',\n",
       "  'GO:1904062',\n",
       "  'GO:0080135',\n",
       "  'GO:0051259',\n",
       "  'GO:2000377',\n",
       "  'GO:0052547',\n",
       "  'GO:0043066',\n",
       "  'GO:0043065',\n",
       "  'GO:2001233',\n",
       "  'GO:0043270',\n",
       "  'GO:0022898',\n",
       "  'GO:0051345',\n",
       "  'GO:1901214',\n",
       "  'GO:0060627',\n",
       "  'GO:0019216',\n",
       "  'GO:0071345',\n",
       "  'GO:0050870',\n",
       "  'GO:0051051',\n",
       "  'GO:0040011',\n",
       "  'GO:0050804',\n",
       "  'GO:0090066',\n",
       "  'GO:1901654',\n",
       "  'GO:1903829',\n",
       "  'GO:0048736',\n",
       "  'GO:0051098',\n",
       "  'GO:0098732'],\n",
       " ['GO:1903047',\n",
       "  'GO:0045786',\n",
       "  'GO:0071902',\n",
       "  'GO:0006355',\n",
       "  'GO:0065003',\n",
       "  'GO:0035556',\n",
       "  'GO:0009057',\n",
       "  'GO:0006979',\n",
       "  'GO:0010035',\n",
       "  'GO:0051276',\n",
       "  'GO:0019953',\n",
       "  'GO:0003006',\n",
       "  'GO:0048666',\n",
       "  'GO:0033043',\n",
       "  'GO:0051130',\n",
       "  'GO:0120035',\n",
       "  'GO:0018193',\n",
       "  'GO:0043543',\n",
       "  'GO:0034613',\n",
       "  'GO:0007166',\n",
       "  'GO:0015711',\n",
       "  'GO:0098657',\n",
       "  'GO:0040008',\n",
       "  'GO:0009617',\n",
       "  'GO:0016477',\n",
       "  'GO:0006873',\n",
       "  'GO:0035239',\n",
       "  'GO:0048729',\n",
       "  'GO:0046649',\n",
       "  'GO:0042060',\n",
       "  'GO:0001817',\n",
       "  'GO:0051240',\n",
       "  'GO:0046903',\n",
       "  'GO:0048513',\n",
       "  'GO:0060429',\n",
       "  'GO:0010605',\n",
       "  'GO:0009968',\n",
       "  'GO:0031400',\n",
       "  'GO:0050678',\n",
       "  'GO:1903532',\n",
       "  'GO:0050877',\n",
       "  'GO:0050878',\n",
       "  'GO:0010817',\n",
       "  'GO:0031667',\n",
       "  'GO:0010959',\n",
       "  'GO:1903037',\n",
       "  'GO:0008284',\n",
       "  'GO:0022603',\n",
       "  'GO:0044282',\n",
       "  'GO:0006952',\n",
       "  'GO:0007610',\n",
       "  'GO:0002521',\n",
       "  'GO:0002757',\n",
       "  'GO:0010628',\n",
       "  'GO:0002697',\n",
       "  'GO:0045596',\n",
       "  'GO:0045597',\n",
       "  'GO:0010557',\n",
       "  'GO:0030334',\n",
       "  'GO:0032101',\n",
       "  'GO:0031327',\n",
       "  'GO:0033554',\n",
       "  'GO:0007389',\n",
       "  'GO:0007267',\n",
       "  'GO:0098771',\n",
       "  'GO:0050708',\n",
       "  'GO:0005975',\n",
       "  'GO:0019637',\n",
       "  'GO:0016310',\n",
       "  'GO:0032787',\n",
       "  'GO:1901615',\n",
       "  'GO:0090304',\n",
       "  'GO:0019219',\n",
       "  'GO:0044255',\n",
       "  'GO:1901576',\n",
       "  'GO:0044249',\n",
       "  'GO:0044248',\n",
       "  'GO:0006812',\n",
       "  'GO:0034220',\n",
       "  'GO:0071705',\n",
       "  'GO:0016192',\n",
       "  'GO:0006915',\n",
       "  'GO:0009628',\n",
       "  'GO:0007346',\n",
       "  'GO:0043085',\n",
       "  'GO:0051336',\n",
       "  'GO:0051649',\n",
       "  'GO:0007417',\n",
       "  'GO:0048609',\n",
       "  'GO:0044087',\n",
       "  'GO:0072359',\n",
       "  'GO:0061061',\n",
       "  'GO:0032870',\n",
       "  'GO:0043434',\n",
       "  'GO:0033993',\n",
       "  'GO:0014070',\n",
       "  'GO:0009790',\n",
       "  'GO:0009894',\n",
       "  'GO:0031347',\n",
       "  'GO:1903827',\n",
       "  'GO:0042981',\n",
       "  'GO:0043410',\n",
       "  'GO:0034765',\n",
       "  'GO:0045936',\n",
       "  'GO:0060548',\n",
       "  'GO:0045664',\n",
       "  'GO:0030162',\n",
       "  'GO:0120036',\n",
       "  'GO:0051222',\n",
       "  'GO:0044057',\n",
       "  'GO:0044092',\n",
       "  'GO:1901653',\n",
       "  'GO:0050863',\n",
       "  'GO:0034097',\n",
       "  'GO:1903706'],\n",
       " ['GO:0071900',\n",
       "  'GO:0022607',\n",
       "  'GO:0022402',\n",
       "  'GO:0044703',\n",
       "  'GO:0048468',\n",
       "  'GO:0043933',\n",
       "  'GO:0051128',\n",
       "  'GO:0006464',\n",
       "  'GO:0008104',\n",
       "  'GO:0007165',\n",
       "  'GO:0051707',\n",
       "  'GO:0055082',\n",
       "  'GO:0009653',\n",
       "  'GO:0023057',\n",
       "  'GO:0030155',\n",
       "  'GO:0009611',\n",
       "  'GO:0030097',\n",
       "  'GO:0050778',\n",
       "  'GO:0045321',\n",
       "  'GO:0010468',\n",
       "  'GO:0051093',\n",
       "  'GO:0051094',\n",
       "  'GO:0048585',\n",
       "  'GO:0009888',\n",
       "  'GO:0003008',\n",
       "  'GO:0050801',\n",
       "  'GO:1903530',\n",
       "  'GO:0030182',\n",
       "  'GO:0042127',\n",
       "  'GO:0006796',\n",
       "  'GO:0019752',\n",
       "  'GO:0006139',\n",
       "  'GO:2000112',\n",
       "  'GO:1901575',\n",
       "  'GO:0006629',\n",
       "  'GO:0006811',\n",
       "  'GO:0055085',\n",
       "  'GO:0071702',\n",
       "  'GO:0006928',\n",
       "  'GO:0006996',\n",
       "  'GO:0050790',\n",
       "  'GO:0007399',\n",
       "  'GO:0051726',\n",
       "  'GO:0035295',\n",
       "  'GO:0008219',\n",
       "  'GO:0009725',\n",
       "  'GO:0010648',\n",
       "  'GO:0080134',\n",
       "  'GO:0060341',\n",
       "  'GO:0045860',\n",
       "  'GO:1902533',\n",
       "  'GO:0034762',\n",
       "  'GO:0010941',\n",
       "  'GO:0043269',\n",
       "  'GO:0050767',\n",
       "  'GO:0032269',\n",
       "  'GO:0051050',\n",
       "  'GO:0044093',\n",
       "  'GO:1901652',\n",
       "  'GO:0051249',\n",
       "  'GO:0043408',\n",
       "  'GO:0051223',\n",
       "  'GO:1901701',\n",
       "  'GO:0071417',\n",
       "  'GO:0040012',\n",
       "  'GO:0051641'],\n",
       " ['GO:0008150']]"
      ]
     },
     "execution_count": 252,
     "metadata": {},
     "output_type": "execute_result"
    }
   ],
   "source": [
    "for idx, leaves in enumerate(model.term_layer_list):\n",
    "    term_list = []\n",
    "    \n",
    "    for idx_leaf, term in enumerate(leaves):\n",
    "        term_list.append(model._modules[term+'_linear_layer'])\n",
    "    \n",
    "    layer_ig_dict[idx] = LayerIntegratedGradients(model, term_list)\n",
    "\n",
    "layer_attr_list = layer_ig_dict[0].attribute(data.to(DEVICE), target=target, \n",
    "                                    attribute_to_layer_input=True)"
   ]
  },
  {
   "cell_type": "code",
   "execution_count": null,
   "metadata": {},
   "outputs": [],
   "source": []
  }
 ],
 "metadata": {
  "kernelspec": {
   "display_name": "general",
   "language": "python",
   "name": "python3"
  },
  "language_info": {
   "codemirror_mode": {
    "name": "ipython",
    "version": 3
   },
   "file_extension": ".py",
   "mimetype": "text/x-python",
   "name": "python",
   "nbconvert_exporter": "python",
   "pygments_lexer": "ipython3",
   "version": "3.9.13"
  }
 },
 "nbformat": 4,
 "nbformat_minor": 2
}
